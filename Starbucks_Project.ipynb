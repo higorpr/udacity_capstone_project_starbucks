{
 "cells": [
  {
   "cell_type": "markdown",
   "id": "2c20ba91",
   "metadata": {},
   "source": [
    "# Starbucks Capstone Challenge\n",
    "\n",
    "### Introduction\n",
    "\n",
    "This data set contains simulated data that mimics customer behavior on the Starbucks rewards mobile app. Once every few days, Starbucks sends out an offer to users of the mobile app. An offer can be merely an advertisement for a drink or an actual offer such as a discount or BOGO (buy one get one free). Some users might not receive any offer during certain weeks. \n",
    "\n",
    "Not all users receive the same offer, and that is the challenge to solve with this data set.\n",
    "\n",
    "Your task is to combine transaction, demographic and offer data to determine which demographic groups respond best to which offer type. This data set is a simplified version of the real Starbucks app because the underlying simulator only has one product whereas Starbucks actually sells dozens of products.\n",
    "\n",
    "Every offer has a validity period before the offer expires. As an example, a BOGO offer might be valid for only 5 days. You'll see in the data set that informational offers have a validity period even though these ads are merely providing information about a product; for example, if an informational offer has 7 days of validity, you can assume the customer is feeling the influence of the offer for 7 days after receiving the advertisement.\n",
    "\n",
    "You'll be given transactional data showing user purchases made on the app including the timestamp of purchase and the amount of money spent on a purchase. This transactional data also has a record for each offer that a user receives as well as a record for when a user actually views the offer. There are also records for when a user completes an offer. \n",
    "\n",
    "Keep in mind as well that someone using the app might make a purchase through the app without having received an offer or seen an offer.\n",
    "\n",
    "### Example\n",
    "\n",
    "To give an example, a user could receive a discount offer buy 10 dollars get 2 off on Monday. The offer is valid for 10 days from receipt. If the customer accumulates at least 10 dollars in purchases during the validity period, the customer completes the offer.\n",
    "\n",
    "However, there are a few things to watch out for in this data set. Customers do not opt into the offers that they receive; in other words, a user can receive an offer, never actually view the offer, and still complete the offer. For example, a user might receive the \"buy 10 dollars get 2 dollars off offer\", but the user never opens the offer during the 10 day validity period. The customer spends 15 dollars during those ten days. There will be an offer completion record in the data set; however, the customer was not influenced by the offer because the customer never viewed the offer.\n",
    "\n",
    "### Cleaning\n",
    "\n",
    "This makes data cleaning especially important and tricky.\n",
    "\n",
    "You'll also want to take into account that some demographic groups will make purchases even if they don't receive an offer. From a business perspective, if a customer is going to make a 10 dollar purchase without an offer anyway, you wouldn't want to send a buy 10 dollars get 2 dollars off offer. You'll want to try to assess what a certain demographic group will buy when not receiving any offers.\n",
    "\n",
    "### Final Advice\n",
    "\n",
    "Because this is a capstone project, you are free to analyze the data any way you see fit. For example, you could build a machine learning model that predicts how much someone will spend based on demographics and offer type. Or you could build a model that predicts whether or not someone will respond to an offer. Or, you don't need to build a machine learning model at all. You could develop a set of heuristics that determine what offer you should send to each customer (i.e., 75 percent of women customers who were 35 years old responded to offer A vs 40 percent from the same demographic to offer B, so send offer A)."
   ]
  },
  {
   "cell_type": "markdown",
   "id": "0919277b",
   "metadata": {},
   "source": [
    "# Data Sets\n",
    "\n",
    "The data is contained in three files:\n",
    "\n",
    "* portfolio.json - containing offer ids and meta data about each offer (duration, type, etc.)\n",
    "* profile.json - demographic data for each customer\n",
    "* transcript.json - records for transactions, offers received, offers viewed, and offers completed\n",
    "\n",
    "Here is the schema and explanation of each variable in the files:\n",
    "\n",
    "**portfolio.json**\n",
    "* id (string) - offer id\n",
    "* offer_type (string) - type of offer ie BOGO, discount, informational\n",
    "* difficulty (int) - minimum required spend to complete an offer\n",
    "* reward (int) - reward given for completing an offer\n",
    "* duration (int) - time for offer to be open, in days\n",
    "* channels (list of strings)\n",
    "\n",
    "**profile.json**\n",
    "* age (int) - age of the customer \n",
    "* became_member_on (int) - date when customer created an app account\n",
    "* gender (str) - gender of the customer (note some entries contain 'O' for other rather than M or F)\n",
    "* id (str) - customer id\n",
    "* income (float) - customer's income\n",
    "\n",
    "**transcript.json**\n",
    "* event (str) - record description (ie transaction, offer received, offer viewed, etc.)\n",
    "* person (str) - customer id\n",
    "* time (int) - time in hours since start of test. The data begins at time t=0\n",
    "* value - (dict of strings) - either an offer id or transaction amount depending on the record\n",
    "\n",
    "**Note:** If you are using the workspace, you will need to go to the terminal and run the command `conda update pandas` before reading in the files. This is because the version of pandas in the workspace cannot read in the transcript.json file correctly, but the newest version of pandas can. You can access the termnal from the orange icon in the top left of this notebook.  \n",
    "\n",
    "You can see how to access the terminal and how the install works using the two images below.  First you need to access the terminal:\n",
    "\n",
    "<img src=\"data/images/pic1.png\"/>\n",
    "\n",
    "Then you will want to run the above command:\n",
    "\n",
    "<img src=\"data/images/pic2.png\"/>\n",
    "\n",
    "Finally, when you enter back into the notebook (use the jupyter icon again), you should be able to run the below cell without any errors."
   ]
  },
  {
   "cell_type": "markdown",
   "id": "232c7458",
   "metadata": {},
   "source": [
    "# Importing libraries and reading files"
   ]
  },
  {
   "cell_type": "code",
   "execution_count": 249,
   "id": "740890e7",
   "metadata": {},
   "outputs": [],
   "source": [
    "import pandas as pd\n",
    "import numpy as np\n",
    "import math\n",
    "import json\n",
    "import matplotlib.pyplot as plt\n",
    "%matplotlib inline\n",
    "from datetime import datetime\n",
    "from sklearn.preprocessing import StandardScaler\n",
    "\n",
    "pd.options.display.max_rows = 10000 # Expanding to \"n\" the number of rows shown in the notebook using (.head(n))"
   ]
  },
  {
   "cell_type": "code",
   "execution_count": 234,
   "id": "c2011e02",
   "metadata": {},
   "outputs": [],
   "source": [
    "# read in the json files\n",
    "portfolio_ex = pd.read_json('data/portfolio.json', orient='records', lines=True)\n",
    "profile_ex = pd.read_json('data/profile.json', orient='records', lines=True)\n",
    "transcript_ex = pd.read_json('data/transcript.json', orient='records', lines=True)"
   ]
  },
  {
   "cell_type": "markdown",
   "id": "66f80450",
   "metadata": {},
   "source": [
    "# 0. Introduction to the Method"
   ]
  },
  {
   "cell_type": "markdown",
   "id": "29a9a9c8",
   "metadata": {},
   "source": [
    "The main objective of this work is to define which offers present in the portfolio dataframe better resonate with each demographic. The different demographics targeted in this study will defined during development while analyzing the information present of both profile and transactions dataframes. \n",
    "\n",
    "A supervised Machine Learning model will be used in order to define which are one's most effective offers if we provide any of the following information about this potential customer: the age, income or sex.\n",
    "\n",
    "\n",
    "As input information, we shall provide any or all of the customer's information (income, age or sex), if any information is missing, the mode of the missing paramenter will be used, filtered by a range of the other provided parameters (e.g. given sex = 'F' and age = 30, the income inputted in the model will be the mode of the income for female customers aged between 27 and 33).\n",
    "\n",
    "The output will be the the offers that would spark the customer's interest.\n",
    "\n",
    "The success/fail (1/0) criteria for the ML Model is not explicitly portrayed as a column in one of the dataframes. Therefore the \"y\" vector will be created based on conditions regarding the occurrence of transactions and interaction with sent offers.\n",
    "\n",
    "Cases considered as successes:\n",
    "1. No offer was sent but a transaction was still completed, that is, Starbucks saved money not sending the promotion and still made the sale, maximizing profit.\n",
    "2. An offer was sent and completed, resulting in a sale, before the end of the validity period (after this period, we consider that the promotional offer had no effect over the transaction.\n",
    "\n",
    "Cases considered as failures:\n",
    "1. An offer was sent but no transaction resulted from it, that is, the offer was just \"sent\" or \"viewed\" and **not** \"completed\".\n",
    "2. An offer was sent, a transaction occurred, but the customer never actually viewed the offer, meaning that the purchase would have been made despite the promotion."
   ]
  },
  {
   "cell_type": "markdown",
   "id": "d7dc5799",
   "metadata": {},
   "source": [
    "# 1. Initial Data Examination"
   ]
  },
  {
   "cell_type": "markdown",
   "id": "b725a29a",
   "metadata": {},
   "source": [
    "In this section I examine the data and understand how it is assembled."
   ]
  },
  {
   "cell_type": "markdown",
   "id": "6318e42c",
   "metadata": {},
   "source": [
    "## 1.1 Portfolio Dataframe\n",
    "\n",
    "This dataframe holds the **offers** information."
   ]
  },
  {
   "cell_type": "markdown",
   "id": "b079c85c",
   "metadata": {},
   "source": [
    "### 1.1.1 Portfolio Info:"
   ]
  },
  {
   "cell_type": "code",
   "execution_count": 34,
   "id": "68cadee8",
   "metadata": {},
   "outputs": [
    {
     "name": "stdout",
     "output_type": "stream",
     "text": [
      "(10, 6)\n"
     ]
    }
   ],
   "source": [
    "print(portfolio.shape)"
   ]
  },
  {
   "cell_type": "code",
   "execution_count": 35,
   "id": "95130f65",
   "metadata": {},
   "outputs": [
    {
     "data": {
      "text/html": [
       "<div>\n",
       "<style scoped>\n",
       "    .dataframe tbody tr th:only-of-type {\n",
       "        vertical-align: middle;\n",
       "    }\n",
       "\n",
       "    .dataframe tbody tr th {\n",
       "        vertical-align: top;\n",
       "    }\n",
       "\n",
       "    .dataframe thead th {\n",
       "        text-align: right;\n",
       "    }\n",
       "</style>\n",
       "<table border=\"1\" class=\"dataframe\">\n",
       "  <thead>\n",
       "    <tr style=\"text-align: right;\">\n",
       "      <th></th>\n",
       "      <th>reward</th>\n",
       "      <th>channels</th>\n",
       "      <th>difficulty</th>\n",
       "      <th>duration</th>\n",
       "      <th>offer_type</th>\n",
       "      <th>id</th>\n",
       "    </tr>\n",
       "  </thead>\n",
       "  <tbody>\n",
       "    <tr>\n",
       "      <th>0</th>\n",
       "      <td>10</td>\n",
       "      <td>[email, mobile, social]</td>\n",
       "      <td>10</td>\n",
       "      <td>7</td>\n",
       "      <td>bogo</td>\n",
       "      <td>ae264e3637204a6fb9bb56bc8210ddfd</td>\n",
       "    </tr>\n",
       "    <tr>\n",
       "      <th>1</th>\n",
       "      <td>10</td>\n",
       "      <td>[web, email, mobile, social]</td>\n",
       "      <td>10</td>\n",
       "      <td>5</td>\n",
       "      <td>bogo</td>\n",
       "      <td>4d5c57ea9a6940dd891ad53e9dbe8da0</td>\n",
       "    </tr>\n",
       "    <tr>\n",
       "      <th>2</th>\n",
       "      <td>0</td>\n",
       "      <td>[web, email, mobile]</td>\n",
       "      <td>0</td>\n",
       "      <td>4</td>\n",
       "      <td>informational</td>\n",
       "      <td>3f207df678b143eea3cee63160fa8bed</td>\n",
       "    </tr>\n",
       "    <tr>\n",
       "      <th>3</th>\n",
       "      <td>5</td>\n",
       "      <td>[web, email, mobile]</td>\n",
       "      <td>5</td>\n",
       "      <td>7</td>\n",
       "      <td>bogo</td>\n",
       "      <td>9b98b8c7a33c4b65b9aebfe6a799e6d9</td>\n",
       "    </tr>\n",
       "    <tr>\n",
       "      <th>4</th>\n",
       "      <td>5</td>\n",
       "      <td>[web, email]</td>\n",
       "      <td>20</td>\n",
       "      <td>10</td>\n",
       "      <td>discount</td>\n",
       "      <td>0b1e1539f2cc45b7b9fa7c272da2e1d7</td>\n",
       "    </tr>\n",
       "    <tr>\n",
       "      <th>5</th>\n",
       "      <td>3</td>\n",
       "      <td>[web, email, mobile, social]</td>\n",
       "      <td>7</td>\n",
       "      <td>7</td>\n",
       "      <td>discount</td>\n",
       "      <td>2298d6c36e964ae4a3e7e9706d1fb8c2</td>\n",
       "    </tr>\n",
       "    <tr>\n",
       "      <th>6</th>\n",
       "      <td>2</td>\n",
       "      <td>[web, email, mobile, social]</td>\n",
       "      <td>10</td>\n",
       "      <td>10</td>\n",
       "      <td>discount</td>\n",
       "      <td>fafdcd668e3743c1bb461111dcafc2a4</td>\n",
       "    </tr>\n",
       "    <tr>\n",
       "      <th>7</th>\n",
       "      <td>0</td>\n",
       "      <td>[email, mobile, social]</td>\n",
       "      <td>0</td>\n",
       "      <td>3</td>\n",
       "      <td>informational</td>\n",
       "      <td>5a8bc65990b245e5a138643cd4eb9837</td>\n",
       "    </tr>\n",
       "    <tr>\n",
       "      <th>8</th>\n",
       "      <td>5</td>\n",
       "      <td>[web, email, mobile, social]</td>\n",
       "      <td>5</td>\n",
       "      <td>5</td>\n",
       "      <td>bogo</td>\n",
       "      <td>f19421c1d4aa40978ebb69ca19b0e20d</td>\n",
       "    </tr>\n",
       "    <tr>\n",
       "      <th>9</th>\n",
       "      <td>2</td>\n",
       "      <td>[web, email, mobile]</td>\n",
       "      <td>10</td>\n",
       "      <td>7</td>\n",
       "      <td>discount</td>\n",
       "      <td>2906b810c7d4411798c6938adc9daaa5</td>\n",
       "    </tr>\n",
       "  </tbody>\n",
       "</table>\n",
       "</div>"
      ],
      "text/plain": [
       "   reward                      channels  difficulty  duration     offer_type  \\\n",
       "0      10       [email, mobile, social]          10         7           bogo   \n",
       "1      10  [web, email, mobile, social]          10         5           bogo   \n",
       "2       0          [web, email, mobile]           0         4  informational   \n",
       "3       5          [web, email, mobile]           5         7           bogo   \n",
       "4       5                  [web, email]          20        10       discount   \n",
       "5       3  [web, email, mobile, social]           7         7       discount   \n",
       "6       2  [web, email, mobile, social]          10        10       discount   \n",
       "7       0       [email, mobile, social]           0         3  informational   \n",
       "8       5  [web, email, mobile, social]           5         5           bogo   \n",
       "9       2          [web, email, mobile]          10         7       discount   \n",
       "\n",
       "                                 id  \n",
       "0  ae264e3637204a6fb9bb56bc8210ddfd  \n",
       "1  4d5c57ea9a6940dd891ad53e9dbe8da0  \n",
       "2  3f207df678b143eea3cee63160fa8bed  \n",
       "3  9b98b8c7a33c4b65b9aebfe6a799e6d9  \n",
       "4  0b1e1539f2cc45b7b9fa7c272da2e1d7  \n",
       "5  2298d6c36e964ae4a3e7e9706d1fb8c2  \n",
       "6  fafdcd668e3743c1bb461111dcafc2a4  \n",
       "7  5a8bc65990b245e5a138643cd4eb9837  \n",
       "8  f19421c1d4aa40978ebb69ca19b0e20d  \n",
       "9  2906b810c7d4411798c6938adc9daaa5  "
      ]
     },
     "execution_count": 35,
     "metadata": {},
     "output_type": "execute_result"
    }
   ],
   "source": [
    "portfolio.head(10)"
   ]
  },
  {
   "cell_type": "code",
   "execution_count": 36,
   "id": "27dde9ae",
   "metadata": {},
   "outputs": [
    {
     "name": "stdout",
     "output_type": "stream",
     "text": [
      "<class 'pandas.core.frame.DataFrame'>\n",
      "RangeIndex: 10 entries, 0 to 9\n",
      "Data columns (total 6 columns):\n",
      " #   Column      Non-Null Count  Dtype \n",
      "---  ------      --------------  ----- \n",
      " 0   reward      10 non-null     int64 \n",
      " 1   channels    10 non-null     object\n",
      " 2   difficulty  10 non-null     int64 \n",
      " 3   duration    10 non-null     int64 \n",
      " 4   offer_type  10 non-null     object\n",
      " 5   id          10 non-null     object\n",
      "dtypes: int64(3), object(3)\n",
      "memory usage: 608.0+ bytes\n"
     ]
    }
   ],
   "source": [
    "portfolio.info()"
   ]
  },
  {
   "cell_type": "code",
   "execution_count": 37,
   "id": "af0863d4",
   "metadata": {},
   "outputs": [
    {
     "data": {
      "text/html": [
       "<div>\n",
       "<style scoped>\n",
       "    .dataframe tbody tr th:only-of-type {\n",
       "        vertical-align: middle;\n",
       "    }\n",
       "\n",
       "    .dataframe tbody tr th {\n",
       "        vertical-align: top;\n",
       "    }\n",
       "\n",
       "    .dataframe thead th {\n",
       "        text-align: right;\n",
       "    }\n",
       "</style>\n",
       "<table border=\"1\" class=\"dataframe\">\n",
       "  <thead>\n",
       "    <tr style=\"text-align: right;\">\n",
       "      <th></th>\n",
       "      <th>reward</th>\n",
       "      <th>difficulty</th>\n",
       "      <th>duration</th>\n",
       "    </tr>\n",
       "  </thead>\n",
       "  <tbody>\n",
       "    <tr>\n",
       "      <th>count</th>\n",
       "      <td>10.000000</td>\n",
       "      <td>10.000000</td>\n",
       "      <td>10.000000</td>\n",
       "    </tr>\n",
       "    <tr>\n",
       "      <th>mean</th>\n",
       "      <td>4.200000</td>\n",
       "      <td>7.700000</td>\n",
       "      <td>6.500000</td>\n",
       "    </tr>\n",
       "    <tr>\n",
       "      <th>std</th>\n",
       "      <td>3.583915</td>\n",
       "      <td>5.831905</td>\n",
       "      <td>2.321398</td>\n",
       "    </tr>\n",
       "    <tr>\n",
       "      <th>min</th>\n",
       "      <td>0.000000</td>\n",
       "      <td>0.000000</td>\n",
       "      <td>3.000000</td>\n",
       "    </tr>\n",
       "    <tr>\n",
       "      <th>25%</th>\n",
       "      <td>2.000000</td>\n",
       "      <td>5.000000</td>\n",
       "      <td>5.000000</td>\n",
       "    </tr>\n",
       "    <tr>\n",
       "      <th>50%</th>\n",
       "      <td>4.000000</td>\n",
       "      <td>8.500000</td>\n",
       "      <td>7.000000</td>\n",
       "    </tr>\n",
       "    <tr>\n",
       "      <th>75%</th>\n",
       "      <td>5.000000</td>\n",
       "      <td>10.000000</td>\n",
       "      <td>7.000000</td>\n",
       "    </tr>\n",
       "    <tr>\n",
       "      <th>max</th>\n",
       "      <td>10.000000</td>\n",
       "      <td>20.000000</td>\n",
       "      <td>10.000000</td>\n",
       "    </tr>\n",
       "  </tbody>\n",
       "</table>\n",
       "</div>"
      ],
      "text/plain": [
       "          reward  difficulty   duration\n",
       "count  10.000000   10.000000  10.000000\n",
       "mean    4.200000    7.700000   6.500000\n",
       "std     3.583915    5.831905   2.321398\n",
       "min     0.000000    0.000000   3.000000\n",
       "25%     2.000000    5.000000   5.000000\n",
       "50%     4.000000    8.500000   7.000000\n",
       "75%     5.000000   10.000000   7.000000\n",
       "max    10.000000   20.000000  10.000000"
      ]
     },
     "execution_count": 37,
     "metadata": {},
     "output_type": "execute_result"
    }
   ],
   "source": [
    "portfolio.describe()"
   ]
  },
  {
   "cell_type": "markdown",
   "id": "a72a8088",
   "metadata": {},
   "source": [
    "## 1.2 Profile Dataframe\n",
    "\n",
    "This dataframe holds the **customers** information."
   ]
  },
  {
   "cell_type": "markdown",
   "id": "74b9173d",
   "metadata": {},
   "source": [
    "### 1.2.1 Profile Dataframe Info"
   ]
  },
  {
   "cell_type": "code",
   "execution_count": 38,
   "id": "0459c350",
   "metadata": {},
   "outputs": [
    {
     "data": {
      "text/plain": [
       "(17000, 5)"
      ]
     },
     "execution_count": 38,
     "metadata": {},
     "output_type": "execute_result"
    }
   ],
   "source": [
    "profile.shape"
   ]
  },
  {
   "cell_type": "code",
   "execution_count": 39,
   "id": "88ef2efc",
   "metadata": {},
   "outputs": [
    {
     "data": {
      "text/html": [
       "<div>\n",
       "<style scoped>\n",
       "    .dataframe tbody tr th:only-of-type {\n",
       "        vertical-align: middle;\n",
       "    }\n",
       "\n",
       "    .dataframe tbody tr th {\n",
       "        vertical-align: top;\n",
       "    }\n",
       "\n",
       "    .dataframe thead th {\n",
       "        text-align: right;\n",
       "    }\n",
       "</style>\n",
       "<table border=\"1\" class=\"dataframe\">\n",
       "  <thead>\n",
       "    <tr style=\"text-align: right;\">\n",
       "      <th></th>\n",
       "      <th>gender</th>\n",
       "      <th>age</th>\n",
       "      <th>id</th>\n",
       "      <th>became_member_on</th>\n",
       "      <th>income</th>\n",
       "    </tr>\n",
       "  </thead>\n",
       "  <tbody>\n",
       "    <tr>\n",
       "      <th>0</th>\n",
       "      <td>None</td>\n",
       "      <td>118</td>\n",
       "      <td>68be06ca386d4c31939f3a4f0e3dd783</td>\n",
       "      <td>20170212</td>\n",
       "      <td>NaN</td>\n",
       "    </tr>\n",
       "    <tr>\n",
       "      <th>1</th>\n",
       "      <td>F</td>\n",
       "      <td>55</td>\n",
       "      <td>0610b486422d4921ae7d2bf64640c50b</td>\n",
       "      <td>20170715</td>\n",
       "      <td>112000.0</td>\n",
       "    </tr>\n",
       "    <tr>\n",
       "      <th>2</th>\n",
       "      <td>None</td>\n",
       "      <td>118</td>\n",
       "      <td>38fe809add3b4fcf9315a9694bb96ff5</td>\n",
       "      <td>20180712</td>\n",
       "      <td>NaN</td>\n",
       "    </tr>\n",
       "    <tr>\n",
       "      <th>3</th>\n",
       "      <td>F</td>\n",
       "      <td>75</td>\n",
       "      <td>78afa995795e4d85b5d9ceeca43f5fef</td>\n",
       "      <td>20170509</td>\n",
       "      <td>100000.0</td>\n",
       "    </tr>\n",
       "    <tr>\n",
       "      <th>4</th>\n",
       "      <td>None</td>\n",
       "      <td>118</td>\n",
       "      <td>a03223e636434f42ac4c3df47e8bac43</td>\n",
       "      <td>20170804</td>\n",
       "      <td>NaN</td>\n",
       "    </tr>\n",
       "  </tbody>\n",
       "</table>\n",
       "</div>"
      ],
      "text/plain": [
       "  gender  age                                id  became_member_on    income\n",
       "0   None  118  68be06ca386d4c31939f3a4f0e3dd783          20170212       NaN\n",
       "1      F   55  0610b486422d4921ae7d2bf64640c50b          20170715  112000.0\n",
       "2   None  118  38fe809add3b4fcf9315a9694bb96ff5          20180712       NaN\n",
       "3      F   75  78afa995795e4d85b5d9ceeca43f5fef          20170509  100000.0\n",
       "4   None  118  a03223e636434f42ac4c3df47e8bac43          20170804       NaN"
      ]
     },
     "execution_count": 39,
     "metadata": {},
     "output_type": "execute_result"
    }
   ],
   "source": [
    "profile.head()"
   ]
  },
  {
   "cell_type": "code",
   "execution_count": 40,
   "id": "1a802d0b",
   "metadata": {},
   "outputs": [
    {
     "name": "stdout",
     "output_type": "stream",
     "text": [
      "<class 'pandas.core.frame.DataFrame'>\n",
      "RangeIndex: 17000 entries, 0 to 16999\n",
      "Data columns (total 5 columns):\n",
      " #   Column            Non-Null Count  Dtype  \n",
      "---  ------            --------------  -----  \n",
      " 0   gender            14825 non-null  object \n",
      " 1   age               17000 non-null  int64  \n",
      " 2   id                17000 non-null  object \n",
      " 3   became_member_on  17000 non-null  int64  \n",
      " 4   income            14825 non-null  float64\n",
      "dtypes: float64(1), int64(2), object(2)\n",
      "memory usage: 664.2+ KB\n"
     ]
    }
   ],
   "source": [
    "profile.info()"
   ]
  },
  {
   "cell_type": "code",
   "execution_count": 41,
   "id": "ed196c97",
   "metadata": {},
   "outputs": [
    {
     "data": {
      "text/html": [
       "<div>\n",
       "<style scoped>\n",
       "    .dataframe tbody tr th:only-of-type {\n",
       "        vertical-align: middle;\n",
       "    }\n",
       "\n",
       "    .dataframe tbody tr th {\n",
       "        vertical-align: top;\n",
       "    }\n",
       "\n",
       "    .dataframe thead th {\n",
       "        text-align: right;\n",
       "    }\n",
       "</style>\n",
       "<table border=\"1\" class=\"dataframe\">\n",
       "  <thead>\n",
       "    <tr style=\"text-align: right;\">\n",
       "      <th></th>\n",
       "      <th>age</th>\n",
       "      <th>became_member_on</th>\n",
       "      <th>income</th>\n",
       "    </tr>\n",
       "  </thead>\n",
       "  <tbody>\n",
       "    <tr>\n",
       "      <th>count</th>\n",
       "      <td>17000.000000</td>\n",
       "      <td>1.700000e+04</td>\n",
       "      <td>14825.000000</td>\n",
       "    </tr>\n",
       "    <tr>\n",
       "      <th>mean</th>\n",
       "      <td>62.531412</td>\n",
       "      <td>2.016703e+07</td>\n",
       "      <td>65404.991568</td>\n",
       "    </tr>\n",
       "    <tr>\n",
       "      <th>std</th>\n",
       "      <td>26.738580</td>\n",
       "      <td>1.167750e+04</td>\n",
       "      <td>21598.299410</td>\n",
       "    </tr>\n",
       "    <tr>\n",
       "      <th>min</th>\n",
       "      <td>18.000000</td>\n",
       "      <td>2.013073e+07</td>\n",
       "      <td>30000.000000</td>\n",
       "    </tr>\n",
       "    <tr>\n",
       "      <th>25%</th>\n",
       "      <td>45.000000</td>\n",
       "      <td>2.016053e+07</td>\n",
       "      <td>49000.000000</td>\n",
       "    </tr>\n",
       "    <tr>\n",
       "      <th>50%</th>\n",
       "      <td>58.000000</td>\n",
       "      <td>2.017080e+07</td>\n",
       "      <td>64000.000000</td>\n",
       "    </tr>\n",
       "    <tr>\n",
       "      <th>75%</th>\n",
       "      <td>73.000000</td>\n",
       "      <td>2.017123e+07</td>\n",
       "      <td>80000.000000</td>\n",
       "    </tr>\n",
       "    <tr>\n",
       "      <th>max</th>\n",
       "      <td>118.000000</td>\n",
       "      <td>2.018073e+07</td>\n",
       "      <td>120000.000000</td>\n",
       "    </tr>\n",
       "  </tbody>\n",
       "</table>\n",
       "</div>"
      ],
      "text/plain": [
       "                age  became_member_on         income\n",
       "count  17000.000000      1.700000e+04   14825.000000\n",
       "mean      62.531412      2.016703e+07   65404.991568\n",
       "std       26.738580      1.167750e+04   21598.299410\n",
       "min       18.000000      2.013073e+07   30000.000000\n",
       "25%       45.000000      2.016053e+07   49000.000000\n",
       "50%       58.000000      2.017080e+07   64000.000000\n",
       "75%       73.000000      2.017123e+07   80000.000000\n",
       "max      118.000000      2.018073e+07  120000.000000"
      ]
     },
     "execution_count": 41,
     "metadata": {},
     "output_type": "execute_result"
    }
   ],
   "source": [
    "profile.describe()"
   ]
  },
  {
   "cell_type": "markdown",
   "id": "31d7d1aa",
   "metadata": {},
   "source": [
    "## 1.3 Transcript Dataframe \n",
    "\n",
    "This dataframe holds the records of the **transactions**."
   ]
  },
  {
   "cell_type": "markdown",
   "id": "6f3063d8",
   "metadata": {},
   "source": [
    "### 1.3.1 Transcript Dataframe Info"
   ]
  },
  {
   "cell_type": "code",
   "execution_count": 42,
   "id": "658d21d8",
   "metadata": {
    "scrolled": true
   },
   "outputs": [
    {
     "data": {
      "text/plain": [
       "(306534, 4)"
      ]
     },
     "execution_count": 42,
     "metadata": {},
     "output_type": "execute_result"
    }
   ],
   "source": [
    "transcript.shape"
   ]
  },
  {
   "cell_type": "code",
   "execution_count": 43,
   "id": "bb47f60d",
   "metadata": {},
   "outputs": [
    {
     "data": {
      "text/html": [
       "<div>\n",
       "<style scoped>\n",
       "    .dataframe tbody tr th:only-of-type {\n",
       "        vertical-align: middle;\n",
       "    }\n",
       "\n",
       "    .dataframe tbody tr th {\n",
       "        vertical-align: top;\n",
       "    }\n",
       "\n",
       "    .dataframe thead th {\n",
       "        text-align: right;\n",
       "    }\n",
       "</style>\n",
       "<table border=\"1\" class=\"dataframe\">\n",
       "  <thead>\n",
       "    <tr style=\"text-align: right;\">\n",
       "      <th></th>\n",
       "      <th>person</th>\n",
       "      <th>event</th>\n",
       "      <th>value</th>\n",
       "      <th>time</th>\n",
       "    </tr>\n",
       "  </thead>\n",
       "  <tbody>\n",
       "    <tr>\n",
       "      <th>0</th>\n",
       "      <td>78afa995795e4d85b5d9ceeca43f5fef</td>\n",
       "      <td>offer received</td>\n",
       "      <td>{'offer id': '9b98b8c7a33c4b65b9aebfe6a799e6d9'}</td>\n",
       "      <td>0</td>\n",
       "    </tr>\n",
       "    <tr>\n",
       "      <th>1</th>\n",
       "      <td>a03223e636434f42ac4c3df47e8bac43</td>\n",
       "      <td>offer received</td>\n",
       "      <td>{'offer id': '0b1e1539f2cc45b7b9fa7c272da2e1d7'}</td>\n",
       "      <td>0</td>\n",
       "    </tr>\n",
       "    <tr>\n",
       "      <th>2</th>\n",
       "      <td>e2127556f4f64592b11af22de27a7932</td>\n",
       "      <td>offer received</td>\n",
       "      <td>{'offer id': '2906b810c7d4411798c6938adc9daaa5'}</td>\n",
       "      <td>0</td>\n",
       "    </tr>\n",
       "    <tr>\n",
       "      <th>3</th>\n",
       "      <td>8ec6ce2a7e7949b1bf142def7d0e0586</td>\n",
       "      <td>offer received</td>\n",
       "      <td>{'offer id': 'fafdcd668e3743c1bb461111dcafc2a4'}</td>\n",
       "      <td>0</td>\n",
       "    </tr>\n",
       "    <tr>\n",
       "      <th>4</th>\n",
       "      <td>68617ca6246f4fbc85e91a2a49552598</td>\n",
       "      <td>offer received</td>\n",
       "      <td>{'offer id': '4d5c57ea9a6940dd891ad53e9dbe8da0'}</td>\n",
       "      <td>0</td>\n",
       "    </tr>\n",
       "  </tbody>\n",
       "</table>\n",
       "</div>"
      ],
      "text/plain": [
       "                             person           event  \\\n",
       "0  78afa995795e4d85b5d9ceeca43f5fef  offer received   \n",
       "1  a03223e636434f42ac4c3df47e8bac43  offer received   \n",
       "2  e2127556f4f64592b11af22de27a7932  offer received   \n",
       "3  8ec6ce2a7e7949b1bf142def7d0e0586  offer received   \n",
       "4  68617ca6246f4fbc85e91a2a49552598  offer received   \n",
       "\n",
       "                                              value  time  \n",
       "0  {'offer id': '9b98b8c7a33c4b65b9aebfe6a799e6d9'}     0  \n",
       "1  {'offer id': '0b1e1539f2cc45b7b9fa7c272da2e1d7'}     0  \n",
       "2  {'offer id': '2906b810c7d4411798c6938adc9daaa5'}     0  \n",
       "3  {'offer id': 'fafdcd668e3743c1bb461111dcafc2a4'}     0  \n",
       "4  {'offer id': '4d5c57ea9a6940dd891ad53e9dbe8da0'}     0  "
      ]
     },
     "execution_count": 43,
     "metadata": {},
     "output_type": "execute_result"
    }
   ],
   "source": [
    "transcript.head()"
   ]
  },
  {
   "cell_type": "code",
   "execution_count": 45,
   "id": "9a3330b7",
   "metadata": {},
   "outputs": [
    {
     "name": "stdout",
     "output_type": "stream",
     "text": [
      "<class 'pandas.core.frame.DataFrame'>\n",
      "RangeIndex: 306534 entries, 0 to 306533\n",
      "Data columns (total 4 columns):\n",
      " #   Column  Non-Null Count   Dtype \n",
      "---  ------  --------------   ----- \n",
      " 0   person  306534 non-null  object\n",
      " 1   event   306534 non-null  object\n",
      " 2   value   306534 non-null  object\n",
      " 3   time    306534 non-null  int64 \n",
      "dtypes: int64(1), object(3)\n",
      "memory usage: 9.4+ MB\n"
     ]
    }
   ],
   "source": [
    "transcript.info()"
   ]
  },
  {
   "cell_type": "code",
   "execution_count": 46,
   "id": "07cb942c",
   "metadata": {},
   "outputs": [
    {
     "data": {
      "text/html": [
       "<div>\n",
       "<style scoped>\n",
       "    .dataframe tbody tr th:only-of-type {\n",
       "        vertical-align: middle;\n",
       "    }\n",
       "\n",
       "    .dataframe tbody tr th {\n",
       "        vertical-align: top;\n",
       "    }\n",
       "\n",
       "    .dataframe thead th {\n",
       "        text-align: right;\n",
       "    }\n",
       "</style>\n",
       "<table border=\"1\" class=\"dataframe\">\n",
       "  <thead>\n",
       "    <tr style=\"text-align: right;\">\n",
       "      <th></th>\n",
       "      <th>time</th>\n",
       "    </tr>\n",
       "  </thead>\n",
       "  <tbody>\n",
       "    <tr>\n",
       "      <th>count</th>\n",
       "      <td>306534.000000</td>\n",
       "    </tr>\n",
       "    <tr>\n",
       "      <th>mean</th>\n",
       "      <td>366.382940</td>\n",
       "    </tr>\n",
       "    <tr>\n",
       "      <th>std</th>\n",
       "      <td>200.326314</td>\n",
       "    </tr>\n",
       "    <tr>\n",
       "      <th>min</th>\n",
       "      <td>0.000000</td>\n",
       "    </tr>\n",
       "    <tr>\n",
       "      <th>25%</th>\n",
       "      <td>186.000000</td>\n",
       "    </tr>\n",
       "    <tr>\n",
       "      <th>50%</th>\n",
       "      <td>408.000000</td>\n",
       "    </tr>\n",
       "    <tr>\n",
       "      <th>75%</th>\n",
       "      <td>528.000000</td>\n",
       "    </tr>\n",
       "    <tr>\n",
       "      <th>max</th>\n",
       "      <td>714.000000</td>\n",
       "    </tr>\n",
       "  </tbody>\n",
       "</table>\n",
       "</div>"
      ],
      "text/plain": [
       "                time\n",
       "count  306534.000000\n",
       "mean      366.382940\n",
       "std       200.326314\n",
       "min         0.000000\n",
       "25%       186.000000\n",
       "50%       408.000000\n",
       "75%       528.000000\n",
       "max       714.000000"
      ]
     },
     "execution_count": 46,
     "metadata": {},
     "output_type": "execute_result"
    }
   ],
   "source": [
    "transcript.describe()"
   ]
  },
  {
   "cell_type": "markdown",
   "id": "031f60ef",
   "metadata": {},
   "source": [
    "# 2. Data Wrangling\n",
    "\n",
    "In this section, the data will be analyzed and prepared for the next steps."
   ]
  },
  {
   "cell_type": "markdown",
   "id": "90c60c01",
   "metadata": {},
   "source": [
    "## 2.1 Data Formatting"
   ]
  },
  {
   "cell_type": "markdown",
   "id": "cca663d3",
   "metadata": {},
   "source": [
    "### 2.1.1 Portfolio dataframe"
   ]
  },
  {
   "cell_type": "markdown",
   "id": "1a90768d",
   "metadata": {},
   "source": [
    "Turning the codes used for offer ids into a more convenient sequence:"
   ]
  },
  {
   "cell_type": "code",
   "execution_count": 48,
   "id": "137e42b3",
   "metadata": {},
   "outputs": [],
   "source": [
    "# Create dictionary of offer_ids:\n",
    "offer_ids = dict()\n",
    "for i, offer_id in enumerate(portfolio.id.unique()):\n",
    "    offer_ids[offer_id] = i+1"
   ]
  },
  {
   "cell_type": "code",
   "execution_count": 49,
   "id": "a2d8eb0d",
   "metadata": {},
   "outputs": [],
   "source": [
    "# Insert offer id values on portfolio dataframe:\n",
    "portfolio.id = portfolio.id.apply(lambda entry: offer_ids[entry])"
   ]
  },
  {
   "cell_type": "code",
   "execution_count": 50,
   "id": "f97938f4",
   "metadata": {},
   "outputs": [],
   "source": [
    "# Reordering and renaming the columns for easier data visualization:\n",
    "port_cols = ['id', 'offer_type', 'reward', 'difficulty', 'duration', 'channels']\n",
    "portfolio = portfolio[port_cols]\n",
    "portfolio.columns = ['offer_id', 'offer_type', 'reward', 'difficulty', 'duration', 'channels']"
   ]
  },
  {
   "cell_type": "markdown",
   "id": "6245987e",
   "metadata": {},
   "source": [
    "Since the time in the transcript dataframe is in hours, the validity period of each offer in the portfolio dataframe must be converted to hours to be compared in the next steps."
   ]
  },
  {
   "cell_type": "code",
   "execution_count": 52,
   "id": "77dd2a5b",
   "metadata": {},
   "outputs": [],
   "source": [
    "# Transforming the \"duration\" column from days to hours\n",
    "portfolio.duration = portfolio.duration.apply(lambda entry: entry*24)"
   ]
  },
  {
   "cell_type": "markdown",
   "id": "4222f97b",
   "metadata": {},
   "source": [
    "### 2.1.2 Profile dataframe"
   ]
  },
  {
   "cell_type": "markdown",
   "id": "2fee3faa",
   "metadata": {},
   "source": [
    "Turning the code used for client ids into a logical sequence: "
   ]
  },
  {
   "cell_type": "code",
   "execution_count": 54,
   "id": "9a3f591f",
   "metadata": {},
   "outputs": [],
   "source": [
    "# Create dictionary of client_ids:\n",
    "client_ids = dict()\n",
    "for i, client_id in enumerate(profile.id.unique()):\n",
    "    client_ids[client_id] = i"
   ]
  },
  {
   "cell_type": "code",
   "execution_count": 55,
   "id": "62ef19f0",
   "metadata": {},
   "outputs": [],
   "source": [
    "# Insert user id values on profile dataframe:\n",
    "profile.id = profile.id.apply(lambda entry: client_ids[entry])"
   ]
  },
  {
   "cell_type": "markdown",
   "id": "7b58dcd2",
   "metadata": {},
   "source": [
    "Formatting the dates on the \"became_member_on\" column:"
   ]
  },
  {
   "cell_type": "code",
   "execution_count": 58,
   "id": "6c45697e",
   "metadata": {},
   "outputs": [],
   "source": [
    "# Create list of formatted date values (Format dd/mm/yyyy):\n",
    "dates = list()\n",
    "for date in profile.became_member_on:\n",
    "    d = (datetime.strptime(str(date), '%Y%m%d'))\n",
    "    d = d.strftime('%d/%m/%Y')\n",
    "    dates.append(d)"
   ]
  },
  {
   "cell_type": "code",
   "execution_count": 59,
   "id": "832648de",
   "metadata": {},
   "outputs": [],
   "source": [
    "# Set dates to dataframe:\n",
    "profile.became_member_on = dates"
   ]
  },
  {
   "cell_type": "code",
   "execution_count": 60,
   "id": "be9cb0b2",
   "metadata": {
    "scrolled": true
   },
   "outputs": [
    {
     "data": {
      "text/html": [
       "<div>\n",
       "<style scoped>\n",
       "    .dataframe tbody tr th:only-of-type {\n",
       "        vertical-align: middle;\n",
       "    }\n",
       "\n",
       "    .dataframe tbody tr th {\n",
       "        vertical-align: top;\n",
       "    }\n",
       "\n",
       "    .dataframe thead th {\n",
       "        text-align: right;\n",
       "    }\n",
       "</style>\n",
       "<table border=\"1\" class=\"dataframe\">\n",
       "  <thead>\n",
       "    <tr style=\"text-align: right;\">\n",
       "      <th></th>\n",
       "      <th>customer_id</th>\n",
       "      <th>gender</th>\n",
       "      <th>age</th>\n",
       "      <th>became_member_on</th>\n",
       "      <th>income</th>\n",
       "    </tr>\n",
       "  </thead>\n",
       "  <tbody>\n",
       "    <tr>\n",
       "      <th>0</th>\n",
       "      <td>0</td>\n",
       "      <td>None</td>\n",
       "      <td>118</td>\n",
       "      <td>12/02/2017</td>\n",
       "      <td>NaN</td>\n",
       "    </tr>\n",
       "    <tr>\n",
       "      <th>1</th>\n",
       "      <td>1</td>\n",
       "      <td>F</td>\n",
       "      <td>55</td>\n",
       "      <td>15/07/2017</td>\n",
       "      <td>112000.0</td>\n",
       "    </tr>\n",
       "    <tr>\n",
       "      <th>2</th>\n",
       "      <td>2</td>\n",
       "      <td>None</td>\n",
       "      <td>118</td>\n",
       "      <td>12/07/2018</td>\n",
       "      <td>NaN</td>\n",
       "    </tr>\n",
       "    <tr>\n",
       "      <th>3</th>\n",
       "      <td>3</td>\n",
       "      <td>F</td>\n",
       "      <td>75</td>\n",
       "      <td>09/05/2017</td>\n",
       "      <td>100000.0</td>\n",
       "    </tr>\n",
       "    <tr>\n",
       "      <th>4</th>\n",
       "      <td>4</td>\n",
       "      <td>None</td>\n",
       "      <td>118</td>\n",
       "      <td>04/08/2017</td>\n",
       "      <td>NaN</td>\n",
       "    </tr>\n",
       "  </tbody>\n",
       "</table>\n",
       "</div>"
      ],
      "text/plain": [
       "   customer_id gender  age became_member_on    income\n",
       "0            0   None  118       12/02/2017       NaN\n",
       "1            1      F   55       15/07/2017  112000.0\n",
       "2            2   None  118       12/07/2018       NaN\n",
       "3            3      F   75       09/05/2017  100000.0\n",
       "4            4   None  118       04/08/2017       NaN"
      ]
     },
     "execution_count": 60,
     "metadata": {},
     "output_type": "execute_result"
    }
   ],
   "source": [
    "# Reordering columns for better visualization:\n",
    "pro_cols = ['id', 'gender', 'age', 'became_member_on', 'income']\n",
    "profile = profile[pro_cols]\n",
    "profile.columns = ['customer_id', 'gender', 'age', 'became_member_on', 'income']\n",
    "profile.head()"
   ]
  },
  {
   "cell_type": "markdown",
   "id": "36ced5e8",
   "metadata": {},
   "source": [
    "### 2.1.3 Transcript dataframe"
   ]
  },
  {
   "cell_type": "code",
   "execution_count": 61,
   "id": "d8f14df9",
   "metadata": {},
   "outputs": [],
   "source": [
    "# Insert user id values on transcript dataframes:\n",
    "transcript.person = transcript.person.apply(lambda entry: client_ids[entry])"
   ]
  },
  {
   "cell_type": "markdown",
   "id": "bd428e4e",
   "metadata": {},
   "source": [
    "Cleaning the \"value\" column on transcript dataframe:\n",
    "\n",
    "This column was comprised of dicts, which were not so easily handled and were presenting information that could be understood from other columns on the dataframe. Therefore, I decided to simply it by turning it into a column of lists, where the lists' entries are the offer sent and the amount spent by the customer targeted (in the cases where no offer was sent, but there was some kind of transaction, there will be only the amount spent; the same principle is applied for cases where an offer was sent, but there was no actual transaction)."
   ]
  },
  {
   "cell_type": "code",
   "execution_count": 64,
   "id": "825d7922",
   "metadata": {},
   "outputs": [
    {
     "data": {
      "text/plain": [
       "0         {'offer id': '9b98b8c7a33c4b65b9aebfe6a799e6d9'}\n",
       "1         {'offer id': '0b1e1539f2cc45b7b9fa7c272da2e1d7'}\n",
       "2         {'offer id': '2906b810c7d4411798c6938adc9daaa5'}\n",
       "3         {'offer id': 'fafdcd668e3743c1bb461111dcafc2a4'}\n",
       "4         {'offer id': '4d5c57ea9a6940dd891ad53e9dbe8da0'}\n",
       "                                ...                       \n",
       "306529                      {'amount': 1.5899999999999999}\n",
       "306530                                    {'amount': 9.53}\n",
       "306531                                    {'amount': 3.61}\n",
       "306532                      {'amount': 3.5300000000000002}\n",
       "306533                                    {'amount': 4.05}\n",
       "Name: value, Length: 306534, dtype: object"
      ]
     },
     "execution_count": 64,
     "metadata": {},
     "output_type": "execute_result"
    }
   ],
   "source": [
    "transcript.value"
   ]
  },
  {
   "cell_type": "code",
   "execution_count": 65,
   "id": "a17f850e",
   "metadata": {
    "scrolled": true
   },
   "outputs": [],
   "source": [
    "# Create list of dictionary values in transcript \"value\" column:\n",
    "values = list()\n",
    "for entry in transcript.value:\n",
    "    values.append(list(entry.values()))"
   ]
  },
  {
   "cell_type": "code",
   "execution_count": 70,
   "id": "b6f149f1",
   "metadata": {},
   "outputs": [],
   "source": [
    "# Replacing the entries in column values with recently created list:\n",
    "transcript.value = values"
   ]
  },
  {
   "cell_type": "code",
   "execution_count": null,
   "id": "b584c302",
   "metadata": {},
   "outputs": [],
   "source": []
  },
  {
   "cell_type": "markdown",
   "id": "e4ac9bfb",
   "metadata": {},
   "source": [
    "Splitting the \"value\" column:\n",
    "\n",
    "The column was modified and now it is formed by a list in each row. For the rows where \"event\" is \"offer completed\", the list is comprised of both the offer code and the amount spent on by the customer. Therefore, for better data handling, I chose to split the \"value\" column into two columns: \"offer_id\" and \"spent\". In the cases where no offer was sent, the value for \"offer_id\" will be 0. Alternatively, in cases where no transaction was carried, the \"spent\" column will have its value as 0."
   ]
  },
  {
   "cell_type": "code",
   "execution_count": 73,
   "id": "1d5189a7",
   "metadata": {},
   "outputs": [
    {
     "name": "stderr",
     "output_type": "stream",
     "text": [
      "c:\\users\\pc\\appdata\\local\\programs\\python\\python39\\lib\\site-packages\\pandas\\core\\indexing.py:1637: SettingWithCopyWarning: \n",
      "A value is trying to be set on a copy of a slice from a DataFrame\n",
      "\n",
      "See the caveats in the documentation: https://pandas.pydata.org/pandas-docs/stable/user_guide/indexing.html#returning-a-view-versus-a-copy\n",
      "  self._setitem_single_block(indexer, value, name)\n"
     ]
    }
   ],
   "source": [
    "# Creating columns:\n",
    "transcript['offer_id'] = 0\n",
    "transcript['spent'] = 0\n",
    "\n",
    "# Going through the values in \"value\" column and filling the new columns:\n",
    "for i, lista in enumerate(transcript.value):\n",
    "    for item in lista:\n",
    "        if type(item) == str:\n",
    "            transcript['offer_id'].iloc[i] = item\n",
    "        else:\n",
    "            transcript['spent'].iloc[i] = item"
   ]
  },
  {
   "cell_type": "markdown",
   "id": "5b4a4de1",
   "metadata": {},
   "source": [
    "Turning the offer_id code into the offer_ids in the portfolio dataframe:"
   ]
  },
  {
   "cell_type": "code",
   "execution_count": 75,
   "id": "0e4ad2c6",
   "metadata": {},
   "outputs": [],
   "source": [
    "# Adding key:value 0:0 to account for transaction rows.\n",
    "offer_ids[0] = 0 \n",
    "\n",
    "# Insert offer id values into the transcript dataframe:\n",
    "transcript.offer_id = transcript.offer_id.apply(lambda entry: offer_ids[entry])\n"
   ]
  },
  {
   "cell_type": "code",
   "execution_count": 78,
   "id": "092b36af",
   "metadata": {},
   "outputs": [],
   "source": [
    "# Dropping 'value' column, since the values on it are already separated:\n",
    "try:\n",
    "    transcript.drop(columns='value',inplace=True)\n",
    "except:\n",
    "    pass"
   ]
  },
  {
   "cell_type": "code",
   "execution_count": 80,
   "id": "23146cc9",
   "metadata": {
    "scrolled": true
   },
   "outputs": [],
   "source": [
    "# Reoredering the columns for easier data handling:\n",
    "trans_cols = ['person', 'event', 'offer_id', 'time', 'spent']\n",
    "transcript = transcript[trans_cols]\n",
    "transcript.columns = ['customer_id', 'event', 'offer_id', 'time', 'spent']"
   ]
  },
  {
   "cell_type": "markdown",
   "id": "21330daa",
   "metadata": {},
   "source": [
    "## 2.2 Treating NaNs"
   ]
  },
  {
   "cell_type": "markdown",
   "id": "50a04544",
   "metadata": {},
   "source": [
    "### 2.2.1 Profile Dataframe"
   ]
  },
  {
   "cell_type": "code",
   "execution_count": 89,
   "id": "e121eb92",
   "metadata": {},
   "outputs": [
    {
     "data": {
      "text/html": [
       "<div>\n",
       "<style scoped>\n",
       "    .dataframe tbody tr th:only-of-type {\n",
       "        vertical-align: middle;\n",
       "    }\n",
       "\n",
       "    .dataframe tbody tr th {\n",
       "        vertical-align: top;\n",
       "    }\n",
       "\n",
       "    .dataframe thead th {\n",
       "        text-align: right;\n",
       "    }\n",
       "</style>\n",
       "<table border=\"1\" class=\"dataframe\">\n",
       "  <thead>\n",
       "    <tr style=\"text-align: right;\">\n",
       "      <th></th>\n",
       "      <th>customer_id</th>\n",
       "      <th>event</th>\n",
       "      <th>offer_id</th>\n",
       "      <th>time</th>\n",
       "      <th>spent</th>\n",
       "    </tr>\n",
       "  </thead>\n",
       "  <tbody>\n",
       "    <tr>\n",
       "      <th>0</th>\n",
       "      <td>3</td>\n",
       "      <td>offer received</td>\n",
       "      <td>4</td>\n",
       "      <td>0</td>\n",
       "      <td>0.0</td>\n",
       "    </tr>\n",
       "    <tr>\n",
       "      <th>1</th>\n",
       "      <td>4</td>\n",
       "      <td>offer received</td>\n",
       "      <td>5</td>\n",
       "      <td>0</td>\n",
       "      <td>0.0</td>\n",
       "    </tr>\n",
       "    <tr>\n",
       "      <th>2</th>\n",
       "      <td>5</td>\n",
       "      <td>offer received</td>\n",
       "      <td>10</td>\n",
       "      <td>0</td>\n",
       "      <td>0.0</td>\n",
       "    </tr>\n",
       "    <tr>\n",
       "      <th>3</th>\n",
       "      <td>6</td>\n",
       "      <td>offer received</td>\n",
       "      <td>7</td>\n",
       "      <td>0</td>\n",
       "      <td>0.0</td>\n",
       "    </tr>\n",
       "    <tr>\n",
       "      <th>4</th>\n",
       "      <td>7</td>\n",
       "      <td>offer received</td>\n",
       "      <td>2</td>\n",
       "      <td>0</td>\n",
       "      <td>0.0</td>\n",
       "    </tr>\n",
       "  </tbody>\n",
       "</table>\n",
       "</div>"
      ],
      "text/plain": [
       "   customer_id           event  offer_id  time  spent\n",
       "0            3  offer received         4     0    0.0\n",
       "1            4  offer received         5     0    0.0\n",
       "2            5  offer received        10     0    0.0\n",
       "3            6  offer received         7     0    0.0\n",
       "4            7  offer received         2     0    0.0"
      ]
     },
     "execution_count": 89,
     "metadata": {},
     "output_type": "execute_result"
    }
   ],
   "source": [
    "transcript.head()"
   ]
  },
  {
   "cell_type": "code",
   "execution_count": 88,
   "id": "e8a06cab",
   "metadata": {},
   "outputs": [
    {
     "data": {
      "text/html": [
       "<div>\n",
       "<style scoped>\n",
       "    .dataframe tbody tr th:only-of-type {\n",
       "        vertical-align: middle;\n",
       "    }\n",
       "\n",
       "    .dataframe tbody tr th {\n",
       "        vertical-align: top;\n",
       "    }\n",
       "\n",
       "    .dataframe thead th {\n",
       "        text-align: right;\n",
       "    }\n",
       "</style>\n",
       "<table border=\"1\" class=\"dataframe\">\n",
       "  <thead>\n",
       "    <tr style=\"text-align: right;\">\n",
       "      <th></th>\n",
       "      <th>customer_id</th>\n",
       "      <th>gender</th>\n",
       "      <th>age</th>\n",
       "      <th>became_member_on</th>\n",
       "      <th>income</th>\n",
       "    </tr>\n",
       "  </thead>\n",
       "  <tbody>\n",
       "    <tr>\n",
       "      <th>0</th>\n",
       "      <td>0</td>\n",
       "      <td>None</td>\n",
       "      <td>118</td>\n",
       "      <td>12/02/2017</td>\n",
       "      <td>NaN</td>\n",
       "    </tr>\n",
       "    <tr>\n",
       "      <th>1</th>\n",
       "      <td>1</td>\n",
       "      <td>F</td>\n",
       "      <td>55</td>\n",
       "      <td>15/07/2017</td>\n",
       "      <td>112000.0</td>\n",
       "    </tr>\n",
       "    <tr>\n",
       "      <th>2</th>\n",
       "      <td>2</td>\n",
       "      <td>None</td>\n",
       "      <td>118</td>\n",
       "      <td>12/07/2018</td>\n",
       "      <td>NaN</td>\n",
       "    </tr>\n",
       "    <tr>\n",
       "      <th>3</th>\n",
       "      <td>3</td>\n",
       "      <td>F</td>\n",
       "      <td>75</td>\n",
       "      <td>09/05/2017</td>\n",
       "      <td>100000.0</td>\n",
       "    </tr>\n",
       "    <tr>\n",
       "      <th>4</th>\n",
       "      <td>4</td>\n",
       "      <td>None</td>\n",
       "      <td>118</td>\n",
       "      <td>04/08/2017</td>\n",
       "      <td>NaN</td>\n",
       "    </tr>\n",
       "  </tbody>\n",
       "</table>\n",
       "</div>"
      ],
      "text/plain": [
       "   customer_id gender  age became_member_on    income\n",
       "0            0   None  118       12/02/2017       NaN\n",
       "1            1      F   55       15/07/2017  112000.0\n",
       "2            2   None  118       12/07/2018       NaN\n",
       "3            3      F   75       09/05/2017  100000.0\n",
       "4            4   None  118       04/08/2017       NaN"
      ]
     },
     "execution_count": 88,
     "metadata": {},
     "output_type": "execute_result"
    }
   ],
   "source": [
    "profile.head()"
   ]
  },
  {
   "cell_type": "code",
   "execution_count": 85,
   "id": "2bf6426e",
   "metadata": {},
   "outputs": [
    {
     "name": "stdout",
     "output_type": "stream",
     "text": [
      "2175\n",
      "2175\n",
      "2175\n",
      "2175\n"
     ]
    }
   ],
   "source": [
    "print(profile[(profile['age'] == 118)]['customer_id'].count())\n",
    "print(profile.income.isna().sum())\n",
    "print(profile.gender.isna().sum())\n",
    "print(profile[(profile['age'] == 118) & (profile.income.isna()) & (profile.gender.isna())]['customer_id'].count())"
   ]
  },
  {
   "cell_type": "markdown",
   "id": "93ee7354",
   "metadata": {},
   "source": [
    "This value of 2175 customers, when compared to the totality of customers in the database, corresponds to:"
   ]
  },
  {
   "cell_type": "code",
   "execution_count": 86,
   "id": "4c0a7254",
   "metadata": {},
   "outputs": [
    {
     "name": "stdout",
     "output_type": "stream",
     "text": [
      "12.79 % of all customers in the database.\n"
     ]
    }
   ],
   "source": [
    "perc_nan = profile[(profile['age'] == 118) & (profile.income.isna()) & (profile.gender.isna())]['customer_id'].count() / profile.shape[0]\n",
    "print(round(100 * perc_nan, 2),'% of all customers in the database.')"
   ]
  },
  {
   "cell_type": "markdown",
   "id": "9f04920c",
   "metadata": {},
   "source": [
    "It is clear that the customers that did not provide age, did the same to gender and income, since the counts for the rows where these features were simultaneously null has the same value of the row counts where these features were individually null.\n",
    "\n",
    "Therefore, the only information we have about these customers is the date he/she became a member. Hence, I will check for the frequency of appearence of these customers (I'll refer to them as \"NaN customers\") on the transcript dataframe (divided by \"event\"):"
   ]
  },
  {
   "cell_type": "code",
   "execution_count": 90,
   "id": "7bb20847",
   "metadata": {},
   "outputs": [],
   "source": [
    "# Getting the customers ids:\n",
    "profile_nan_ids = np.array(profile[(profile['age'] == 118) & (profile.income.isna()) & (profile.gender.isna())]['customer_id'])\n",
    "\n",
    "# Checking the transactions done by the \"nan_ids\":\n",
    "nan_ids_df = transcript[transcript.customer_id.isin(profile_nan_ids)]"
   ]
  },
  {
   "cell_type": "code",
   "execution_count": 92,
   "id": "df60ec3c",
   "metadata": {},
   "outputs": [
    {
     "name": "stdout",
     "output_type": "stream",
     "text": [
      "The percentage of \"offerless\" transactions carried by NaN customers is 10.792 % out of all the \"offerless\" transactions.\n",
      "\n",
      "The percentage of offers received by NaN customers is 12.816 % of all offers received. \n",
      "\n",
      "The percentage of offers received and viewed by NaN Users is 13.625 % of all offers that were both received and viewed. \n",
      "\n",
      "The percentage of offers that were received, viewed and completed by NaN customers is 3.38 % of all offers that share these events. \n",
      "\n"
     ]
    }
   ],
   "source": [
    "nan_transaction = nan_ids_df[nan_ids_df['event'] == 'transaction'].shape[0]\n",
    "transcript_transaction = transcript[transcript['event'] == 'transaction'].shape[0]\n",
    "\n",
    "nan_received = nan_ids_df[nan_ids_df['event'] == 'offer received'].shape[0]\n",
    "transcript_received = transcript[transcript['event'] == 'offer received'].shape[0]\n",
    "\n",
    "nan_viewed = nan_ids_df[nan_ids_df['event'] == 'offer viewed'].shape[0]\n",
    "transcript_viewed = transcript[transcript['event'] == 'offer viewed'].shape[0]\n",
    "\n",
    "nan_completed = nan_ids_df[nan_ids_df['event'] == 'offer completed'].shape[0]\n",
    "transcript_completed = transcript[transcript['event'] == 'offer completed'].shape[0]\n",
    "\n",
    "print('The percentage of \"offerless\" transactions carried by NaN customers is', round(100 * nan_transaction / transcript_transaction,3),'% out of all the \"offerless\" transactions.\\n')\n",
    "print('The percentage of offers received by NaN customers is', round(100 * nan_received / transcript_received,3),'% of all offers received. \\n')\n",
    "print('The percentage of offers received and viewed by NaN Users is', round(100 * nan_viewed / transcript_viewed,3),'% of all offers that were both received and viewed. \\n')\n",
    "print('The percentage of offers that were received, viewed and completed by NaN customers is', round(100 * nan_completed / transcript_completed,3),'% of all offers that share these events. \\n')"
   ]
  },
  {
   "cell_type": "markdown",
   "id": "8da17e96",
   "metadata": {},
   "source": [
    "Percentages of customers divided by event:"
   ]
  },
  {
   "cell_type": "code",
   "execution_count": 93,
   "id": "0c893a1a",
   "metadata": {},
   "outputs": [
    {
     "name": "stdout",
     "output_type": "stream",
     "text": [
      "The percentage of transactions completed w/o receiving any offers is 45.33 % out of all the entries for offers and transctions.\n",
      "\n",
      "The percentage of offers received that were not viewed is 24.88 % out of all transactions and offers.\n",
      "\n",
      "The percentage of offers that were viewed is 18.83 % out of all entries for transactions or offers.\n",
      "\n",
      "The percentage of completed offers is 10.95 % out of all transactions or offers.\n",
      "\n"
     ]
    }
   ],
   "source": [
    "total = transcript.shape[0]\n",
    "perc_transaction = transcript_transaction / total\n",
    "perc_received = transcript_received / total\n",
    "perc_viewed = transcript_viewed / total\n",
    "perc_completed = transcript_completed / total\n",
    "print('The percentage of transactions completed w/o receiving any offers is',round(100 * perc_transaction, 2),'% out of all the entries for offers and transctions.\\n')\n",
    "print('The percentage of offers received that were not viewed is',round(100 * perc_received, 2),'% out of all transactions and offers.\\n')\n",
    "print('The percentage of offers that were viewed is',round(100 * perc_viewed, 2),'% out of all entries for transactions or offers.\\n')\n",
    "print('The percentage of completed offers is',round(100 * perc_completed, 2),'% out of all transactions or offers.\\n')"
   ]
  },
  {
   "cell_type": "markdown",
   "id": "1c7f3e4d",
   "metadata": {},
   "source": [
    "Finally, I'll check the percentage of transactions made by NaN customers."
   ]
  },
  {
   "cell_type": "code",
   "execution_count": 94,
   "id": "5770e9d3",
   "metadata": {},
   "outputs": [
    {
     "name": "stdout",
     "output_type": "stream",
     "text": [
      "11.017 %\n"
     ]
    }
   ],
   "source": [
    "print(round(100*(nan_transaction + nan_received + nan_viewed + nan_completed) / transcript.shape[0],3),'%')"
   ]
  },
  {
   "cell_type": "markdown",
   "id": "6eb5e0a3",
   "metadata": {},
   "source": [
    "Since the available information about NaN customers is very scarse and the percentuals for transactions, offers completed, viewed and received are also not great, I chose to drop both the customer ids from the profile database as well as the transactions done by these customers from the transcript database."
   ]
  },
  {
   "cell_type": "code",
   "execution_count": 95,
   "id": "8959ae11",
   "metadata": {},
   "outputs": [],
   "source": [
    "# Dropping NaN customers from profile dataframe:\n",
    "\n",
    "# Get index of NaN customers rows:\n",
    "profile_nan_index = profile[profile['customer_id'].isin(profile_nan_ids)].index"
   ]
  },
  {
   "cell_type": "code",
   "execution_count": 96,
   "id": "fa734582",
   "metadata": {},
   "outputs": [
    {
     "name": "stderr",
     "output_type": "stream",
     "text": [
      "c:\\users\\pc\\appdata\\local\\programs\\python\\python39\\lib\\site-packages\\pandas\\core\\frame.py:4308: SettingWithCopyWarning: \n",
      "A value is trying to be set on a copy of a slice from a DataFrame\n",
      "\n",
      "See the caveats in the documentation: https://pandas.pydata.org/pandas-docs/stable/user_guide/indexing.html#returning-a-view-versus-a-copy\n",
      "  return super().drop(\n"
     ]
    }
   ],
   "source": [
    "# Droping profile rows:\n",
    "profile.drop(index=profile_nan_index, inplace=True)"
   ]
  },
  {
   "cell_type": "code",
   "execution_count": 97,
   "id": "41d14620",
   "metadata": {},
   "outputs": [
    {
     "data": {
      "text/plain": [
       "customer_id         0\n",
       "gender              0\n",
       "age                 0\n",
       "became_member_on    0\n",
       "income              0\n",
       "dtype: int64"
      ]
     },
     "execution_count": 97,
     "metadata": {},
     "output_type": "execute_result"
    }
   ],
   "source": [
    "# NaN check:\n",
    "profile.isna().sum()"
   ]
  },
  {
   "cell_type": "markdown",
   "id": "367ba966",
   "metadata": {},
   "source": [
    "With that, I have cleaned the profile dataframe from NaN values."
   ]
  },
  {
   "cell_type": "code",
   "execution_count": 98,
   "id": "64cce7f8",
   "metadata": {},
   "outputs": [],
   "source": [
    "# Dropping NaN customers from transcript dataframe:\n",
    "\n",
    "# Get index of NaN customers rows:\n",
    "transcript_nan_index = transcript[transcript['customer_id'].isin(profile_nan_ids)].index"
   ]
  },
  {
   "cell_type": "code",
   "execution_count": 99,
   "id": "66d7e26a",
   "metadata": {
    "scrolled": true
   },
   "outputs": [],
   "source": [
    "# Droping transcript rows:\n",
    "transcript.drop(index=transcript_nan_index, inplace=True)"
   ]
  },
  {
   "cell_type": "code",
   "execution_count": 100,
   "id": "68053fd4",
   "metadata": {},
   "outputs": [
    {
     "data": {
      "text/plain": [
       "customer_id    0\n",
       "event          0\n",
       "offer_id       0\n",
       "time           0\n",
       "spent          0\n",
       "dtype: int64"
      ]
     },
     "execution_count": 100,
     "metadata": {},
     "output_type": "execute_result"
    }
   ],
   "source": [
    "# NaN check:\n",
    "transcript.isna().sum()"
   ]
  },
  {
   "cell_type": "markdown",
   "id": "0f98a379",
   "metadata": {},
   "source": [
    "With that, I have suited the transcript dataframe to the current NaN free profile dataframe.\n",
    "\n",
    "Checking the differences of the profile dataframe before and after NaN removal, we have:"
   ]
  },
  {
   "cell_type": "code",
   "execution_count": 101,
   "id": "9dc27b9f",
   "metadata": {},
   "outputs": [
    {
     "data": {
      "text/html": [
       "<div>\n",
       "<style scoped>\n",
       "    .dataframe tbody tr th:only-of-type {\n",
       "        vertical-align: middle;\n",
       "    }\n",
       "\n",
       "    .dataframe tbody tr th {\n",
       "        vertical-align: top;\n",
       "    }\n",
       "\n",
       "    .dataframe thead th {\n",
       "        text-align: right;\n",
       "    }\n",
       "</style>\n",
       "<table border=\"1\" class=\"dataframe\">\n",
       "  <thead>\n",
       "    <tr style=\"text-align: right;\">\n",
       "      <th></th>\n",
       "      <th>customer_id</th>\n",
       "      <th>age</th>\n",
       "      <th>income</th>\n",
       "    </tr>\n",
       "  </thead>\n",
       "  <tbody>\n",
       "    <tr>\n",
       "      <th>count</th>\n",
       "      <td>14825.000000</td>\n",
       "      <td>14825.000000</td>\n",
       "      <td>14825.000000</td>\n",
       "    </tr>\n",
       "    <tr>\n",
       "      <th>mean</th>\n",
       "      <td>8496.961079</td>\n",
       "      <td>54.393524</td>\n",
       "      <td>65404.991568</td>\n",
       "    </tr>\n",
       "    <tr>\n",
       "      <th>std</th>\n",
       "      <td>4896.261043</td>\n",
       "      <td>17.383705</td>\n",
       "      <td>21598.299410</td>\n",
       "    </tr>\n",
       "    <tr>\n",
       "      <th>min</th>\n",
       "      <td>1.000000</td>\n",
       "      <td>18.000000</td>\n",
       "      <td>30000.000000</td>\n",
       "    </tr>\n",
       "    <tr>\n",
       "      <th>25%</th>\n",
       "      <td>4273.000000</td>\n",
       "      <td>42.000000</td>\n",
       "      <td>49000.000000</td>\n",
       "    </tr>\n",
       "    <tr>\n",
       "      <th>50%</th>\n",
       "      <td>8490.000000</td>\n",
       "      <td>55.000000</td>\n",
       "      <td>64000.000000</td>\n",
       "    </tr>\n",
       "    <tr>\n",
       "      <th>75%</th>\n",
       "      <td>12733.000000</td>\n",
       "      <td>66.000000</td>\n",
       "      <td>80000.000000</td>\n",
       "    </tr>\n",
       "    <tr>\n",
       "      <th>max</th>\n",
       "      <td>16999.000000</td>\n",
       "      <td>101.000000</td>\n",
       "      <td>120000.000000</td>\n",
       "    </tr>\n",
       "  </tbody>\n",
       "</table>\n",
       "</div>"
      ],
      "text/plain": [
       "        customer_id           age         income\n",
       "count  14825.000000  14825.000000   14825.000000\n",
       "mean    8496.961079     54.393524   65404.991568\n",
       "std     4896.261043     17.383705   21598.299410\n",
       "min        1.000000     18.000000   30000.000000\n",
       "25%     4273.000000     42.000000   49000.000000\n",
       "50%     8490.000000     55.000000   64000.000000\n",
       "75%    12733.000000     66.000000   80000.000000\n",
       "max    16999.000000    101.000000  120000.000000"
      ]
     },
     "execution_count": 101,
     "metadata": {},
     "output_type": "execute_result"
    }
   ],
   "source": [
    "# Checking the general state of the profile dataframe after NaN removal.\n",
    "profile.describe()"
   ]
  },
  {
   "cell_type": "markdown",
   "id": "ba768407",
   "metadata": {},
   "source": [
    "Comparing the \"income\" and \"age\" columns from the 'profile.describe()' from the Initial Data Examination section:\n",
    "\n",
    "<img src=\"data/images/profile_describe_initial.png\"/>\n",
    "\n",
    "We observe that:\n",
    "1. The income values have not changed, proving that the NaN values were correctly removed and they were really not influencing the parameters in any way.\n",
    "2. The age values saw differences on the percentiles values, since the value of 118 was being used as NaN placeholder. With the NaN values gone, the parameters hold way more meaning in our analysis."
   ]
  },
  {
   "cell_type": "markdown",
   "id": "f3a71d5e",
   "metadata": {},
   "source": [
    "## 2.3 Categorical Variables Dummyfication\n",
    "\n",
    "In this subsection I will analyze and assess the categorical variables that will need undergo the process of dummyfication, performing it afterwards."
   ]
  },
  {
   "cell_type": "markdown",
   "id": "5ddb426d",
   "metadata": {},
   "source": [
    "### 2.3.1 Portfolio Dataframe:"
   ]
  },
  {
   "cell_type": "code",
   "execution_count": 102,
   "id": "1f499b59",
   "metadata": {
    "scrolled": false
   },
   "outputs": [],
   "source": [
    "# Dummyfythe channels column:\n",
    "\n",
    "# Getting the values in the lists of the column:\n",
    "media = set()\n",
    "for lista in portfolio.channels:\n",
    "    for entry in lista:\n",
    "        media.add(entry)\n",
    "\n",
    "# Creating dummy columns:\n",
    "portfolio[list(media)] = 0\n",
    "\n",
    "# Creating dummy values:\n",
    "for index, lista in enumerate(portfolio.channels):\n",
    "    for entry in lista:\n",
    "        portfolio.loc[index, entry] = 1"
   ]
  },
  {
   "cell_type": "code",
   "execution_count": 103,
   "id": "3979707e",
   "metadata": {
    "scrolled": false
   },
   "outputs": [],
   "source": [
    "# Remove channels column:\n",
    "portfolio.drop(columns='channels', inplace=True)"
   ]
  },
  {
   "cell_type": "code",
   "execution_count": 104,
   "id": "703657b8",
   "metadata": {},
   "outputs": [],
   "source": [
    "# Rename dummy columns:\n",
    "portfolio.columns = ['offer_id', 'offer_type', 'reward', 'difficulty', 'duration', 'channel_web',\n",
    "       'channel_social', 'channel_email', 'channel_mobile']"
   ]
  },
  {
   "cell_type": "code",
   "execution_count": 105,
   "id": "d61bff32",
   "metadata": {
    "scrolled": true
   },
   "outputs": [
    {
     "data": {
      "text/html": [
       "<div>\n",
       "<style scoped>\n",
       "    .dataframe tbody tr th:only-of-type {\n",
       "        vertical-align: middle;\n",
       "    }\n",
       "\n",
       "    .dataframe tbody tr th {\n",
       "        vertical-align: top;\n",
       "    }\n",
       "\n",
       "    .dataframe thead th {\n",
       "        text-align: right;\n",
       "    }\n",
       "</style>\n",
       "<table border=\"1\" class=\"dataframe\">\n",
       "  <thead>\n",
       "    <tr style=\"text-align: right;\">\n",
       "      <th></th>\n",
       "      <th>offer_id</th>\n",
       "      <th>offer_type</th>\n",
       "      <th>reward</th>\n",
       "      <th>difficulty</th>\n",
       "      <th>duration</th>\n",
       "      <th>channel_web</th>\n",
       "      <th>channel_social</th>\n",
       "      <th>channel_email</th>\n",
       "      <th>channel_mobile</th>\n",
       "    </tr>\n",
       "  </thead>\n",
       "  <tbody>\n",
       "    <tr>\n",
       "      <th>0</th>\n",
       "      <td>1</td>\n",
       "      <td>bogo</td>\n",
       "      <td>10</td>\n",
       "      <td>10</td>\n",
       "      <td>168</td>\n",
       "      <td>0</td>\n",
       "      <td>1</td>\n",
       "      <td>1</td>\n",
       "      <td>1</td>\n",
       "    </tr>\n",
       "    <tr>\n",
       "      <th>1</th>\n",
       "      <td>2</td>\n",
       "      <td>bogo</td>\n",
       "      <td>10</td>\n",
       "      <td>10</td>\n",
       "      <td>120</td>\n",
       "      <td>1</td>\n",
       "      <td>1</td>\n",
       "      <td>1</td>\n",
       "      <td>1</td>\n",
       "    </tr>\n",
       "    <tr>\n",
       "      <th>2</th>\n",
       "      <td>3</td>\n",
       "      <td>informational</td>\n",
       "      <td>0</td>\n",
       "      <td>0</td>\n",
       "      <td>96</td>\n",
       "      <td>1</td>\n",
       "      <td>0</td>\n",
       "      <td>1</td>\n",
       "      <td>1</td>\n",
       "    </tr>\n",
       "    <tr>\n",
       "      <th>3</th>\n",
       "      <td>4</td>\n",
       "      <td>bogo</td>\n",
       "      <td>5</td>\n",
       "      <td>5</td>\n",
       "      <td>168</td>\n",
       "      <td>1</td>\n",
       "      <td>0</td>\n",
       "      <td>1</td>\n",
       "      <td>1</td>\n",
       "    </tr>\n",
       "    <tr>\n",
       "      <th>4</th>\n",
       "      <td>5</td>\n",
       "      <td>discount</td>\n",
       "      <td>5</td>\n",
       "      <td>20</td>\n",
       "      <td>240</td>\n",
       "      <td>1</td>\n",
       "      <td>0</td>\n",
       "      <td>0</td>\n",
       "      <td>1</td>\n",
       "    </tr>\n",
       "  </tbody>\n",
       "</table>\n",
       "</div>"
      ],
      "text/plain": [
       "   offer_id     offer_type  reward  difficulty  duration  channel_web  \\\n",
       "0         1           bogo      10          10       168            0   \n",
       "1         2           bogo      10          10       120            1   \n",
       "2         3  informational       0           0        96            1   \n",
       "3         4           bogo       5           5       168            1   \n",
       "4         5       discount       5          20       240            1   \n",
       "\n",
       "   channel_social  channel_email  channel_mobile  \n",
       "0               1              1               1  \n",
       "1               1              1               1  \n",
       "2               0              1               1  \n",
       "3               0              1               1  \n",
       "4               0              0               1  "
      ]
     },
     "execution_count": 105,
     "metadata": {},
     "output_type": "execute_result"
    }
   ],
   "source": [
    "portfolio.head()"
   ]
  },
  {
   "cell_type": "markdown",
   "id": "db702754",
   "metadata": {},
   "source": [
    "### 2.3.2 Profile Dataframe:"
   ]
  },
  {
   "cell_type": "code",
   "execution_count": 106,
   "id": "8e43739b",
   "metadata": {
    "scrolled": true
   },
   "outputs": [
    {
     "name": "stderr",
     "output_type": "stream",
     "text": [
      "c:\\users\\pc\\appdata\\local\\programs\\python\\python39\\lib\\site-packages\\pandas\\core\\frame.py:3191: SettingWithCopyWarning: \n",
      "A value is trying to be set on a copy of a slice from a DataFrame.\n",
      "Try using .loc[row_indexer,col_indexer] = value instead\n",
      "\n",
      "See the caveats in the documentation: https://pandas.pydata.org/pandas-docs/stable/user_guide/indexing.html#returning-a-view-versus-a-copy\n",
      "  self[k1] = value[k2]\n"
     ]
    }
   ],
   "source": [
    "# Dummyfying the gender column:\n",
    "profile[['F', 'M', 'O']] = pd.get_dummies(profile['gender'], prefix='gender')"
   ]
  },
  {
   "cell_type": "code",
   "execution_count": 107,
   "id": "11b9cddd",
   "metadata": {
    "scrolled": true
   },
   "outputs": [
    {
     "name": "stderr",
     "output_type": "stream",
     "text": [
      "c:\\users\\pc\\appdata\\local\\programs\\python\\python39\\lib\\site-packages\\pandas\\core\\frame.py:4308: SettingWithCopyWarning: \n",
      "A value is trying to be set on a copy of a slice from a DataFrame\n",
      "\n",
      "See the caveats in the documentation: https://pandas.pydata.org/pandas-docs/stable/user_guide/indexing.html#returning-a-view-versus-a-copy\n",
      "  return super().drop(\n"
     ]
    }
   ],
   "source": [
    "# Dropping the column:\n",
    "profile.drop(columns='gender', inplace=True)"
   ]
  },
  {
   "cell_type": "code",
   "execution_count": 108,
   "id": "74e9836e",
   "metadata": {},
   "outputs": [
    {
     "data": {
      "text/html": [
       "<div>\n",
       "<style scoped>\n",
       "    .dataframe tbody tr th:only-of-type {\n",
       "        vertical-align: middle;\n",
       "    }\n",
       "\n",
       "    .dataframe tbody tr th {\n",
       "        vertical-align: top;\n",
       "    }\n",
       "\n",
       "    .dataframe thead th {\n",
       "        text-align: right;\n",
       "    }\n",
       "</style>\n",
       "<table border=\"1\" class=\"dataframe\">\n",
       "  <thead>\n",
       "    <tr style=\"text-align: right;\">\n",
       "      <th></th>\n",
       "      <th>customer_id</th>\n",
       "      <th>age</th>\n",
       "      <th>became_member_on</th>\n",
       "      <th>income</th>\n",
       "      <th>F</th>\n",
       "      <th>M</th>\n",
       "      <th>O</th>\n",
       "    </tr>\n",
       "  </thead>\n",
       "  <tbody>\n",
       "    <tr>\n",
       "      <th>1</th>\n",
       "      <td>1</td>\n",
       "      <td>55</td>\n",
       "      <td>15/07/2017</td>\n",
       "      <td>112000.0</td>\n",
       "      <td>1</td>\n",
       "      <td>0</td>\n",
       "      <td>0</td>\n",
       "    </tr>\n",
       "    <tr>\n",
       "      <th>3</th>\n",
       "      <td>3</td>\n",
       "      <td>75</td>\n",
       "      <td>09/05/2017</td>\n",
       "      <td>100000.0</td>\n",
       "      <td>1</td>\n",
       "      <td>0</td>\n",
       "      <td>0</td>\n",
       "    </tr>\n",
       "    <tr>\n",
       "      <th>5</th>\n",
       "      <td>5</td>\n",
       "      <td>68</td>\n",
       "      <td>26/04/2018</td>\n",
       "      <td>70000.0</td>\n",
       "      <td>0</td>\n",
       "      <td>1</td>\n",
       "      <td>0</td>\n",
       "    </tr>\n",
       "    <tr>\n",
       "      <th>8</th>\n",
       "      <td>8</td>\n",
       "      <td>65</td>\n",
       "      <td>09/02/2018</td>\n",
       "      <td>53000.0</td>\n",
       "      <td>0</td>\n",
       "      <td>1</td>\n",
       "      <td>0</td>\n",
       "    </tr>\n",
       "    <tr>\n",
       "      <th>12</th>\n",
       "      <td>12</td>\n",
       "      <td>58</td>\n",
       "      <td>11/11/2017</td>\n",
       "      <td>51000.0</td>\n",
       "      <td>0</td>\n",
       "      <td>1</td>\n",
       "      <td>0</td>\n",
       "    </tr>\n",
       "  </tbody>\n",
       "</table>\n",
       "</div>"
      ],
      "text/plain": [
       "    customer_id  age became_member_on    income  F  M  O\n",
       "1             1   55       15/07/2017  112000.0  1  0  0\n",
       "3             3   75       09/05/2017  100000.0  1  0  0\n",
       "5             5   68       26/04/2018   70000.0  0  1  0\n",
       "8             8   65       09/02/2018   53000.0  0  1  0\n",
       "12           12   58       11/11/2017   51000.0  0  1  0"
      ]
     },
     "execution_count": 108,
     "metadata": {},
     "output_type": "execute_result"
    }
   ],
   "source": [
    "profile.head()"
   ]
  },
  {
   "cell_type": "markdown",
   "id": "7a8a1a0b",
   "metadata": {},
   "source": [
    "### 2.3.3 Transcript Dataframe:"
   ]
  },
  {
   "cell_type": "markdown",
   "id": "b874747a",
   "metadata": {},
   "source": [
    "Since I intend to use the response of a customer to a type of offer as a measure of success, it is interesting to get the dummy variables of the \"event\" column.\n",
    "\n",
    "I will not drop any dummy column because they are not linearly dependent, for there can be a transaction in the event of whether a customer received an offer or not."
   ]
  },
  {
   "cell_type": "code",
   "execution_count": 109,
   "id": "db7f9853",
   "metadata": {},
   "outputs": [
    {
     "data": {
      "text/html": [
       "<div>\n",
       "<style scoped>\n",
       "    .dataframe tbody tr th:only-of-type {\n",
       "        vertical-align: middle;\n",
       "    }\n",
       "\n",
       "    .dataframe tbody tr th {\n",
       "        vertical-align: top;\n",
       "    }\n",
       "\n",
       "    .dataframe thead th {\n",
       "        text-align: right;\n",
       "    }\n",
       "</style>\n",
       "<table border=\"1\" class=\"dataframe\">\n",
       "  <thead>\n",
       "    <tr style=\"text-align: right;\">\n",
       "      <th></th>\n",
       "      <th>customer_id</th>\n",
       "      <th>event</th>\n",
       "      <th>offer_id</th>\n",
       "      <th>time</th>\n",
       "      <th>spent</th>\n",
       "    </tr>\n",
       "  </thead>\n",
       "  <tbody>\n",
       "    <tr>\n",
       "      <th>0</th>\n",
       "      <td>3</td>\n",
       "      <td>offer received</td>\n",
       "      <td>4</td>\n",
       "      <td>0</td>\n",
       "      <td>0.0</td>\n",
       "    </tr>\n",
       "    <tr>\n",
       "      <th>2</th>\n",
       "      <td>5</td>\n",
       "      <td>offer received</td>\n",
       "      <td>10</td>\n",
       "      <td>0</td>\n",
       "      <td>0.0</td>\n",
       "    </tr>\n",
       "    <tr>\n",
       "      <th>5</th>\n",
       "      <td>8</td>\n",
       "      <td>offer received</td>\n",
       "      <td>9</td>\n",
       "      <td>0</td>\n",
       "      <td>0.0</td>\n",
       "    </tr>\n",
       "    <tr>\n",
       "      <th>7</th>\n",
       "      <td>12</td>\n",
       "      <td>offer received</td>\n",
       "      <td>3</td>\n",
       "      <td>0</td>\n",
       "      <td>0.0</td>\n",
       "    </tr>\n",
       "    <tr>\n",
       "      <th>8</th>\n",
       "      <td>13</td>\n",
       "      <td>offer received</td>\n",
       "      <td>5</td>\n",
       "      <td>0</td>\n",
       "      <td>0.0</td>\n",
       "    </tr>\n",
       "  </tbody>\n",
       "</table>\n",
       "</div>"
      ],
      "text/plain": [
       "   customer_id           event  offer_id  time  spent\n",
       "0            3  offer received         4     0    0.0\n",
       "2            5  offer received        10     0    0.0\n",
       "5            8  offer received         9     0    0.0\n",
       "7           12  offer received         3     0    0.0\n",
       "8           13  offer received         5     0    0.0"
      ]
     },
     "execution_count": 109,
     "metadata": {},
     "output_type": "execute_result"
    }
   ],
   "source": [
    "transcript.head()"
   ]
  },
  {
   "cell_type": "code",
   "execution_count": 110,
   "id": "de8a5979",
   "metadata": {},
   "outputs": [
    {
     "name": "stderr",
     "output_type": "stream",
     "text": [
      "c:\\users\\pc\\appdata\\local\\programs\\python\\python39\\lib\\site-packages\\pandas\\core\\frame.py:3191: SettingWithCopyWarning: \n",
      "A value is trying to be set on a copy of a slice from a DataFrame.\n",
      "Try using .loc[row_indexer,col_indexer] = value instead\n",
      "\n",
      "See the caveats in the documentation: https://pandas.pydata.org/pandas-docs/stable/user_guide/indexing.html#returning-a-view-versus-a-copy\n",
      "  self[k1] = value[k2]\n"
     ]
    }
   ],
   "source": [
    "# Creating dummy columns and variables:\n",
    "transcript[['offer_completed', 'offer_received', 'offer_viewed', 'transaction']] = pd.get_dummies(transcript['event'])"
   ]
  },
  {
   "cell_type": "code",
   "execution_count": 111,
   "id": "7ed33693",
   "metadata": {},
   "outputs": [
    {
     "name": "stderr",
     "output_type": "stream",
     "text": [
      "c:\\users\\pc\\appdata\\local\\programs\\python\\python39\\lib\\site-packages\\pandas\\core\\frame.py:4308: SettingWithCopyWarning: \n",
      "A value is trying to be set on a copy of a slice from a DataFrame\n",
      "\n",
      "See the caveats in the documentation: https://pandas.pydata.org/pandas-docs/stable/user_guide/indexing.html#returning-a-view-versus-a-copy\n",
      "  return super().drop(\n"
     ]
    }
   ],
   "source": [
    "# Dropping the event column:\n",
    "try: \n",
    "    transcript.drop(columns='event', inplace=True)\n",
    "except:\n",
    "    pass"
   ]
  },
  {
   "cell_type": "code",
   "execution_count": 112,
   "id": "d3d6b50a",
   "metadata": {},
   "outputs": [],
   "source": [
    "# Reordering the columns for better visualization:\n",
    "trans_cols = ['customer_id', 'offer_id','offer_received','offer_viewed', 'offer_completed', \n",
    "                      'transaction', 'time', 'spent']\n",
    "transcript = transcript[trans_cols]"
   ]
  },
  {
   "cell_type": "markdown",
   "id": "1e485d61",
   "metadata": {},
   "source": [
    "After all this process, I will save the dataframes on a csv file in order to avoid having to run all cells until this point."
   ]
  },
  {
   "cell_type": "code",
   "execution_count": null,
   "id": "68120280",
   "metadata": {},
   "outputs": [],
   "source": [
    "# # Saving files to avoid having to run all previous cells.\n",
    "# profile.to_csv('data/profile_v0.csv')\n",
    "# transcript.to_csv('data/transcript_v0.csv')\n",
    "# portfolio.to_csv('data/portfolio_v0.csv')"
   ]
  },
  {
   "cell_type": "code",
   "execution_count": 114,
   "id": "a0963fbf",
   "metadata": {},
   "outputs": [],
   "source": [
    "# # Cell used to load files:\n",
    "# profile_test = pd.read_csv('data/profile_v0.csv', index_col=0)\n",
    "# transcript_test = pd.read_csv('data/transcript_v0.csv', index_col=0)\n",
    "# portfolio_test = pd.read_csv('data/portfolio_v0.csv', index_col=0)"
   ]
  },
  {
   "cell_type": "markdown",
   "id": "f2d59b85",
   "metadata": {},
   "source": [
    "# 3. Machine Learning Model"
   ]
  },
  {
   "cell_type": "markdown",
   "id": "2e6b7be5",
   "metadata": {},
   "source": [
    "## 3.1 Success/Fail Criteria\n",
    "\n",
    "For the assessment of the success/failure of an offer, we need to compare the its evolution from the time it is delivered to a possible costumer until its completion, when a transaction is made due to its influence.\n"
   ]
  },
  {
   "cell_type": "markdown",
   "id": "e20c9949",
   "metadata": {},
   "source": [
    "### 3.1.1 Base dataframe for criteria definition"
   ]
  },
  {
   "cell_type": "markdown",
   "id": "1eb0a7bd",
   "metadata": {},
   "source": [
    "In this subsection, we will create the dataframe used to define if an offer was effective when presented to a customer (a criteria dataframe).\n",
    "\n",
    "This dataframe will be based on the information contained on transcript dataframe and its creation will follow the steps:\n",
    "\n",
    "1. The foundation of the dataframe are the offers sent to each customer, therefore we will contain the the pairs (customer_id-offer_id) in each row.\n",
    "2. The information for each pair will be summarized on the respective row: The number of events for the pair will be under the columns \"offer_received\",\"offer_viewed\" and \"offer_completed\" (e.g. if the customer_id \"1\" received the offer \"3\" two(2) times, viewed the offer one(1) time and completed it zero(0) times, the values under the respective columns will be 2, 1 and 0, respectively).\n",
    "3. The time when each event happened (starting at the beginning of the experiment, when t=0, will also be recorded. \n",
    "4. Lastly, the each offer's duration will be added to its row in the criteria dataframe.\n",
    "\n",
    "Steps 1 and 2 are relevant because they simplify the information contained on the transcript dataframe, where the records about the pairs (customer-offer) were divided among many columns. In the criteria dataframe, these records are condensed in just one row.\n",
    "\n",
    "The third step is important for cases when a customer received an offer, completed it without actually opening it and then, later, took the time to open the sent promotion. As the records will show the number of events for that specific pair (customer-offer), it might resemble that the offer was successful. That misconception is corrected by the timestamp of the events: the \"time_viewed\" will show a bigger number than \"time_completed\". As we know that a customer may make use of an offer even if he/she doesn't know about it, that time disposition implies that the customer was going to make a purchase regardless of the offer.\n",
    "\n",
    "When two or more offers are sent to a customer, for dataframe simplification, only the first timestamps of events will be recorded. And in the cases where that happens, we will only use the comparison between  \"offer_received\", \"offer_viewed\" and \"offer_completed\"."
   ]
  },
  {
   "cell_type": "code",
   "execution_count": 127,
   "id": "476afdb0",
   "metadata": {},
   "outputs": [],
   "source": [
    "# Operations Dataframe creation (transcript dataframe with the duration of the offer):\n",
    "operations = transcript.copy()"
   ]
  },
  {
   "cell_type": "code",
   "execution_count": 128,
   "id": "f1d83ec0",
   "metadata": {
    "scrolled": true
   },
   "outputs": [],
   "source": [
    "# Creation of dictionary linking the offer_id to its duration.\n",
    "offer_duration = dict()\n",
    "for idx in portfolio.index:\n",
    "    offer_duration[portfolio['offer_id'].loc[idx]] = portfolio['duration'].loc[idx]"
   ]
  },
  {
   "cell_type": "code",
   "execution_count": 129,
   "id": "709b8ecb",
   "metadata": {
    "scrolled": true
   },
   "outputs": [
    {
     "name": "stderr",
     "output_type": "stream",
     "text": [
      "c:\\users\\pc\\appdata\\local\\programs\\python\\python39\\lib\\site-packages\\pandas\\core\\indexing.py:1637: SettingWithCopyWarning: \n",
      "A value is trying to be set on a copy of a slice from a DataFrame\n",
      "\n",
      "See the caveats in the documentation: https://pandas.pydata.org/pandas-docs/stable/user_guide/indexing.html#returning-a-view-versus-a-copy\n",
      "  self._setitem_single_block(indexer, value, name)\n"
     ]
    }
   ],
   "source": [
    "# Insert offer_duration column on operations dataframe:\n",
    "operations['offer_duration'] = 0\n",
    "for idx in operations.index:\n",
    "    try:\n",
    "        operations['offer_duration'].loc[idx] = offer_duration[operations['offer_id'].loc[idx]]\n",
    "    except:\n",
    "        pass"
   ]
  },
  {
   "cell_type": "code",
   "execution_count": 130,
   "id": "efa95a1c",
   "metadata": {},
   "outputs": [],
   "source": [
    "def merge_operations(df=operations):\n",
    "    '''\n",
    "    Description:\n",
    "        Creates the criteria dataframe, where different customer-offer pairs are shown in just one row.\n",
    "    Inputs:\n",
    "        df = pandas DataFrame with the offer responses for all customers.\n",
    "    Outputs:\n",
    "        merged_offers = Pandas DataFrame containing one set (customer-offer) per row.\n",
    "    '''\n",
    "    # Importing necessary libraries:\n",
    "    from collections import defaultdict\n",
    "    \n",
    "    # Output DataFrame\n",
    "    merged_offers = pd.DataFrame(columns=['customer_id','offer_id'])\n",
    "    \n",
    "    # Rearrange dataframe to facilitate obtaining the customer-sent offer list.\n",
    "    op_multi = df.groupby(by=['customer_id','offer_id']).sum()\n",
    "    \n",
    "    # Create dict with (customer)-(sent offer) records:\n",
    "    cust_offer = defaultdict(list)\n",
    "    for customer, offer in op_multi.index:\n",
    "        cust_offer[customer].append(offer)\n",
    "    \n",
    "    # Populate the dataframe with customer_ids and the respective sent offers (offer_ids)\n",
    "    i = 0\n",
    "    for customer, offer_list in cust_offer.items():\n",
    "        for offer in offer_list:\n",
    "            merged_offers.loc[i] = [customer, offer]\n",
    "            i += 1\n",
    "    \n",
    "    # Create necessary columns (initial population of \"0\"s):\n",
    "    merged_offers['offer_received'] = 0\n",
    "    merged_offers['offer_viewed'] = 0\n",
    "    merged_offers['offer_completed'] = 0\n",
    "    merged_offers['time_received'] = 0\n",
    "    merged_offers['time_viewed'] = 0\n",
    "    merged_offers['time_completed'] = 0\n",
    "    merged_offers['offer_duration'] = 0\n",
    "    \n",
    "    # Removing offer_id related to transcript, since we won't need it:\n",
    "    # After this step, we will have only the customers who actually received an offer.\n",
    "    merged_offers = merged_offers[merged_offers['offer_id'] != 0]\n",
    "    \n",
    "    # Populating created columns:\n",
    "    for customer in merged_offers.customer_id.unique():\n",
    "        for offer in merged_offers[merged_offers['customer_id'] == customer]['offer_id']:\n",
    "            idx_mo = merged_offers[(merged_offers['customer_id'] == customer) & (merged_offers['offer_id'] == offer)].index\n",
    "            merged_offers.loc[idx_mo, 'offer_received'] = operations[(operations['customer_id'] == customer) & (operations['offer_id'] == offer)].sum()['offer_received']\n",
    "            merged_offers.loc[idx_mo, 'offer_viewed'] = operations[(operations['customer_id'] == customer) & (operations['offer_id'] == offer)].sum()['offer_viewed']\n",
    "            merged_offers.loc[idx_mo, 'offer_completed'] = operations[(operations['customer_id'] == customer) & (operations['offer_id'] == offer)].sum()['offer_completed']\n",
    "            try:\n",
    "                merged_offers.loc[idx_mo, 'time_received'] = list(operations[(operations['customer_id'] == customer) & (operations['offer_id'] == offer) & (operations['offer_received'] == 1)]['time'])[0]\n",
    "            except:\n",
    "                merged_offers.loc[idx_mo, 'time_received'] = 0\n",
    "            try:\n",
    "                merged_offers.loc[idx_mo, 'time_viewed'] = list(operations[(operations['customer_id'] == customer) & (operations['offer_id'] == offer) & (operations['offer_viewed'] == 1)]['time'])[0]\n",
    "            except:\n",
    "                merged_offers.loc[idx_mo, 'time_viewed'] = 0\n",
    "            try:\n",
    "                merged_offers.loc[idx_mo, 'time_completed'] = list(operations[(operations['customer_id'] == customer) & (operations['offer_id'] == offer) & (operations['offer_completed'] == 1)]['time'])[0]\n",
    "            except:\n",
    "                merged_offers.loc[idx_mo, 'time_completed'] = 0\n",
    "            merged_offers.loc[idx_mo, 'offer_duration'] = list(operations[(operations['customer_id'] == customer) & (operations['offer_id'] == offer)]['offer_duration'])[0]\n",
    "    \n",
    "    return merged_offers\n",
    "\n",
    "criteria = merge_operations()"
   ]
  },
  {
   "cell_type": "code",
   "execution_count": null,
   "id": "e023e3d0",
   "metadata": {},
   "outputs": [],
   "source": [
    "# # Saving the dataframes created in this section:\n",
    "\n",
    "# criteria.to_csv('data/criteria_v0.csv')\n",
    "# operations.to_csv('data/operations_v0.csv')\n",
    "# op_multi.to_csv('data/op_multi_v0.csv')"
   ]
  },
  {
   "cell_type": "code",
   "execution_count": 131,
   "id": "9d8aa390",
   "metadata": {},
   "outputs": [],
   "source": [
    "# # Cell used to load files:\n",
    "# criteria_test = pd.read_csv('data/criteria_v0.csv', index_col=0)\n",
    "# operations_test = pd.read_csv('data/operations_v0.csv', index_col=0)\n",
    "# op_multi_test = pd.read_csv('data/op_multi_v0.csv', index_col=0)"
   ]
  },
  {
   "cell_type": "markdown",
   "id": "a1d5abd0",
   "metadata": {},
   "source": [
    "### 3.1.2 Success/Fail Vector (ML Output Vector)\n",
    "\n",
    "Since there is not direct column that expresses a criteria for success/failure in any of the dataframes we have been working so far. Therefore as it is an essential Machine Learning factor, this criteria must be determined by the scientist. \n",
    "\n",
    "The conditions for success have already been presented on section \"Introduction to the Method\", and they are:\n",
    "\n",
    "Success Conditions (Output 1):\n",
    "1. No offer was sent but a transaction was still completed, that is, Starbucks saved money not sending the promotion and still made the sale, maximizing profit.\n",
    "2. An offer was sent and completed, resulting in a sale, before the end of the validity period (after this period, we consider that the promotional offer had no effect over the transaction.\n",
    "\n",
    "Failure Condition (Output 0):\n",
    "1. An offer was sent but no transaction resulted from it, that is, the offer was just \"sent\" or \"viewed\" and **not** \"completed\".\n",
    "2. An offer was sent, a transaction occurred, but the customer never actually viewed the offer, meaning that the purchase would have been made despite the promotion.\n",
    "\n",
    "<!-- outside of the offer's validity period, implying that the offer, even if seen, was ignored. Leading us to believe that the transaction would take place even if no offer was sent. -->\n",
    "\n",
    "Since our objective is to define to which customers we should **send** the offers, Success Condition 1 will be portraited, in our ML model, as a failure occurrence (0), meaning that if a certain customer already has the desire to purchase a determined product, the offer will have no effect for Strabucks's revenue, and therefore the offer should not be sent. "
   ]
  },
  {
   "cell_type": "code",
   "execution_count": 140,
   "id": "4b35a605",
   "metadata": {
    "scrolled": true
   },
   "outputs": [
    {
     "name": "stderr",
     "output_type": "stream",
     "text": [
      "c:\\users\\pc\\appdata\\local\\programs\\python\\python39\\lib\\site-packages\\pandas\\core\\indexing.py:1637: SettingWithCopyWarning: \n",
      "A value is trying to be set on a copy of a slice from a DataFrame\n",
      "\n",
      "See the caveats in the documentation: https://pandas.pydata.org/pandas-docs/stable/user_guide/indexing.html#returning-a-view-versus-a-copy\n",
      "  self._setitem_single_block(indexer, value, name)\n"
     ]
    }
   ],
   "source": [
    "criteria['send_offer'] = 0\n",
    "\n",
    "for idx, series  in criteria.iterrows():\n",
    "    if (series['offer_received'] == series['offer_viewed']) and (series['offer_received'] == series['offer_completed']):\n",
    "        if (series['time_completed'] >= series['time_viewed']) and (series['time_completed'] >= series['time_received']):\n",
    "            criteria['send_offer'].loc[idx] = 1"
   ]
  },
  {
   "cell_type": "markdown",
   "id": "db4a989a",
   "metadata": {},
   "source": [
    "## 3.2  ML Data Preparation\n",
    "\n",
    "This subsection prepares the data for the creation of the Machine Learning model."
   ]
  },
  {
   "cell_type": "markdown",
   "id": "fcb417ee",
   "metadata": {},
   "source": [
    "### 3.2.1 Assembly of the Input Data Dataframe\n",
    "\n",
    "After all the data preparation, it is time to define what will be used as input of the ML model and create a dataframe that enables for simple visualization and handling of this data.\n",
    "\n",
    "1. Profile dataframe:\n",
    "\n",
    "From this dataframe we will use:\n",
    "- customer_id: for customer identification throughout dataframes;\n",
    "- age: direct input for the ML model;\n",
    "- income: direct input for the ML model;\n",
    "- sex (dummy variables):  direct input for the ML model.\n",
    "\n",
    "2. Portfolio dataframe:\n",
    "\n",
    "From this dataframe, the information to be used is:\n",
    "- offer_id: for offer identification throughout dataframes;\n",
    "\n",
    "3. Transcript dataframe:\n",
    "\n",
    "From this dataframe, we will use:\n",
    "- customer_id: linking the entry to the information on the profile dataframe;\n",
    "- offer_id: linking the entry to the information on the portfolio dataframe;\n",
    "\n",
    "Suprisingly, we don't need to know how much a customer spent on Starbucks. The choice to not include the amount spent is backed by:\n",
    "- Since the focus of this study is to know if a promotion was effective to someone and not find a function that maximizes profit, knowing how much was spent is not necessary.\n",
    "- There is other information on the dataframes that tells us if an offer resonated with a possible customer or not.\n",
    "\n",
    "Having the criteria dataframe and the information about the customers, we can create a dataframe that will gather all the data the ML model will need to fit a chosen classification algorithm.\n",
    "\n",
    "Observing the criteria dataframe, it is clear that all the needed data coming from the portfolio and transcript is already in it. So now we just need to correlate the customer_ids in the criteria dataframe to their respective information on the profile dataframe."
   ]
  },
  {
   "cell_type": "code",
   "execution_count": 142,
   "id": "3a5bc4f0",
   "metadata": {},
   "outputs": [],
   "source": [
    "# Adding customer data from the profile dataframe on the ml_input dataframe:\n",
    "ml_input = criteria.copy()\n",
    "ml_input[['age','income','F','M','O']] = 0\n",
    "for input_idx, input_series in ml_input.iterrows():\n",
    "    customer = input_series['customer_id']\n",
    "    ml_input.loc[input_idx, 'age'] = int(profile[profile['customer_id'] == customer]['age'])\n",
    "    ml_input.loc[input_idx, 'income'] = float(profile[profile['customer_id'] == customer]['income'])\n",
    "    ml_input.loc[input_idx, 'F'] = int(profile[profile['customer_id'] == customer]['F'])\n",
    "    ml_input.loc[input_idx, 'M'] = int(profile[profile['customer_id'] == customer]['M'])\n",
    "    ml_input.loc[input_idx,'O'] = int(profile[profile['customer_id'] == customer]['O'])"
   ]
  },
  {
   "cell_type": "code",
   "execution_count": 144,
   "id": "2cb729dc",
   "metadata": {},
   "outputs": [],
   "source": [
    "# Removing columns that will not be used by the ML model from the ml_input dataframe:\n",
    "try:\n",
    "    ml_input.drop(columns=['customer_id', 'offer_received', 'offer_viewed', 'offer_completed', 'time_received', 'time_viewed', 'time_completed', 'offer_duration'], inplace=True)\n",
    "except:\n",
    "    pass"
   ]
  },
  {
   "cell_type": "code",
   "execution_count": 147,
   "id": "83712513",
   "metadata": {},
   "outputs": [],
   "source": [
    "# Rearranging the columns:\n",
    "ml_input = ml_input[['offer_id','age','income','M','F','O','send_offer']]"
   ]
  },
  {
   "cell_type": "markdown",
   "id": "ab0064ff",
   "metadata": {},
   "source": [
    "Now that all the data is prepared, it is time to scale the necessary columns."
   ]
  },
  {
   "cell_type": "code",
   "execution_count": 251,
   "id": "8844c297",
   "metadata": {},
   "outputs": [
    {
     "data": {
      "text/plain": [
       "(array([6472., 6299., 8385., 8281., 8668., 5326., 4516., 3686., 1867.,\n",
       "        1722.]),\n",
       " array([ 30000.,  39000.,  48000.,  57000.,  66000.,  75000.,  84000.,\n",
       "         93000., 102000., 111000., 120000.]),\n",
       " <BarContainer object of 10 artists>)"
      ]
     },
     "execution_count": 251,
     "metadata": {},
     "output_type": "execute_result"
    },
    {
     "data": {
      "image/png": "[encoded data removed]",
      "text/plain": [
       "<Figure size 432x288 with 1 Axes>"
      ]
     },
     "metadata": {
      "needs_background": "light"
     },
     "output_type": "display_data"
    }
   ],
   "source": [
    "plt.hist(ml_input.income)"
   ]
  },
  {
   "cell_type": "code",
   "execution_count": null,
   "id": "07f0b12c",
   "metadata": {},
   "outputs": [],
   "source": [
    "# Saving the recently created ml_input dataframe:\n",
    "\n",
    "# ml_input.to_csv('data/ml_input_v0.csv')"
   ]
  },
  {
   "cell_type": "code",
   "execution_count": 150,
   "id": "cf3d4d11",
   "metadata": {},
   "outputs": [],
   "source": [
    "# # Loading the ml_input dataframe:\n",
    "# ml_input_test = pd.read_csv('data/ml_input_v0.csv',index_col=0)"
   ]
  },
  {
   "cell_type": "markdown",
   "id": "90671fd4",
   "metadata": {},
   "source": [
    "With that, we have the dataframe that will serve as base for the ML model."
   ]
  },
  {
   "cell_type": "markdown",
   "id": "6e87a0a5",
   "metadata": {},
   "source": [
    "## 3.3. Finding the best algorithm\n",
    "\n",
    "In this section, we will apply a number of supervised ML algorithms and check their performance for the desired results."
   ]
  },
  {
   "cell_type": "markdown",
   "id": "4d6fe521",
   "metadata": {},
   "source": [
    "### 3.3.1 Method\n",
    "\n",
    "**Method Description**\n",
    "\n",
    "The method to optimize the prediction model will be the utilization and evaluation of different classification methods on the sklearn library. Upon arrival at the methods with best results, the optimization of hyperparameters will be performed using GridSearchCV and a new evaluation phase will be carried.\n",
    "\n",
    "The selected initial methods for classification are:\n",
    "\n",
    "- LinearSVC\n",
    "- SVC\n",
    "- NuSVC\n",
    "- K-Neighbors\n",
    "- Random Forest\n",
    "- AdaBoost\n",
    "- Gradient Boosting\n",
    "- Decision Tree Classifier\n",
    "\n",
    "The variety of employed methods is explained by the exploratory nature of this project, where the main objective is to be familiarized with how each algorithm responds to classification problems like this.\n",
    "\n",
    "**Performance Metrics**\n",
    "\n",
    "The most common metrics for classification models are:\n",
    "\n",
    "- Accuracy\n",
    "- Precision and Recall\n",
    "- F1-score\n",
    "- AU-ROC\n",
    "\n",
    "For this project, accuracy and AU-ROC will be the main measures of performance, while precision will serve as a secondary/tie-breaker metric.\n",
    "\n",
    "_Explain the metrics on the blog._"
   ]
  },
  {
   "cell_type": "code",
   "execution_count": 240,
   "id": "e36e7a19",
   "metadata": {},
   "outputs": [],
   "source": [
    "# Importing necessary libraries:\n",
    "\n",
    "import time\n",
    "\n",
    "from collections import defaultdict\n",
    "from sklearn.model_selection import train_test_split, GridSearchCV\n",
    "from sklearn.metrics import confusion_matrix, precision_recall_fscore_support, accuracy_score, classification_report, roc_auc_score, precision_score\n",
    "from sklearn.metrics import ConfusionMatrixDisplay\n",
    "from sklearn.pipeline import Pipeline, FeatureUnion\n",
    "from sklearn.linear_model import LogisticRegression, Perceptron, PassiveAggressiveClassifier, LogisticRegressionCV\n",
    "from sklearn.svm import LinearSVC, SVC, NuSVC\n",
    "from sklearn.neighbors import KNeighborsClassifier\n",
    "from sklearn.ensemble import RandomForestClassifier, AdaBoostClassifier, GradientBoostingClassifier, BaggingClassifier\n",
    "from sklearn.tree import DecisionTreeClassifier, ExtraTreeClassifier\n"
   ]
  },
  {
   "cell_type": "code",
   "execution_count": 241,
   "id": "90063ebd",
   "metadata": {},
   "outputs": [],
   "source": [
    "def display_results(y_test, y_pred):\n",
    "    '''\n",
    "    Description:\n",
    "        Function to display results of a classification model.\n",
    "    INPUT:\n",
    "        - y_test: True values for predictions for the data.\n",
    "        - y_pred: Predicted values for the data.\n",
    "    '''\n",
    "    labels = np.unique(y_pred)\n",
    "    confusion_mat = confusion_matrix(y_test, y_pred, labels=labels)\n",
    "    disp = ConfusionMatrixDisplay(confusion_matrix=confusion_mat, display_labels=labels)\n",
    "    accuracy = accuracy_score(y_test, y_pred)\n",
    "    au_roc = roc_auc_score(y_test, y_pred, average='macro')\n",
    "\n",
    "    print(\"Labels:\", labels)  \n",
    "    disp.plot()\n",
    "    print(\"Accuracy:\", accuracy)\n",
    "    print(\"AU-ROC:\", au_roc)\n",
    "    print(classification_report(y_test, y_pred))\n",
    "#     print(\"Confusion Matrix:\")"
   ]
  },
  {
   "cell_type": "code",
   "execution_count": 242,
   "id": "40634e7f",
   "metadata": {},
   "outputs": [],
   "source": [
    "# Separation of input dataframe and output vector from ml_input:\n",
    "X = ml_input[['offer_id','age','income','M','F','O']]\n",
    "y = ml_input.send_offer"
   ]
  },
  {
   "cell_type": "code",
   "execution_count": 157,
   "id": "2c71d208",
   "metadata": {},
   "outputs": [],
   "source": [
    "X_train, X_test, y_train, y_test = train_test_split(X, y, test_size=0.2, random_state=42)"
   ]
  },
  {
   "cell_type": "markdown",
   "id": "b42c3e62",
   "metadata": {},
   "source": [
    "**Method Testing**"
   ]
  },
  {
   "cell_type": "code",
   "execution_count": 158,
   "id": "862e2fe7",
   "metadata": {},
   "outputs": [],
   "source": [
    "# Creation of records dictionaries:\n",
    "cols = defaultdict(list)"
   ]
  },
  {
   "cell_type": "code",
   "execution_count": 159,
   "id": "531ff6ab",
   "metadata": {},
   "outputs": [
    {
     "name": "stdout",
     "output_type": "stream",
     "text": [
      "Logistic Regression\n",
      "Labels: [0]\n",
      "Accuracy: 0.6723404255319149\n",
      "AU-ROC: 0.5\n",
      "              precision    recall  f1-score   support\n",
      "\n",
      "           0       0.67      1.00      0.80      7426\n",
      "           1       0.00      0.00      0.00      3619\n",
      "\n",
      "    accuracy                           0.67     11045\n",
      "   macro avg       0.34      0.50      0.40     11045\n",
      "weighted avg       0.45      0.67      0.54     11045\n",
      "\n",
      "Time elapsed: 0.10554361343383789 s\n"
     ]
    },
    {
     "name": "stderr",
     "output_type": "stream",
     "text": [
      "c:\\users\\pc\\appdata\\local\\programs\\python\\python39\\lib\\site-packages\\sklearn\\metrics\\_classification.py:1248: UndefinedMetricWarning: Precision and F-score are ill-defined and being set to 0.0 in labels with no predicted samples. Use `zero_division` parameter to control this behavior.\n",
      "  _warn_prf(average, modifier, msg_start, len(result))\n",
      "c:\\users\\pc\\appdata\\local\\programs\\python\\python39\\lib\\site-packages\\sklearn\\metrics\\_classification.py:1248: UndefinedMetricWarning: Precision and F-score are ill-defined and being set to 0.0 in labels with no predicted samples. Use `zero_division` parameter to control this behavior.\n",
      "  _warn_prf(average, modifier, msg_start, len(result))\n",
      "c:\\users\\pc\\appdata\\local\\programs\\python\\python39\\lib\\site-packages\\sklearn\\metrics\\_classification.py:1248: UndefinedMetricWarning: Precision and F-score are ill-defined and being set to 0.0 in labels with no predicted samples. Use `zero_division` parameter to control this behavior.\n",
      "  _warn_prf(average, modifier, msg_start, len(result))\n",
      "c:\\users\\pc\\appdata\\local\\programs\\python\\python39\\lib\\site-packages\\sklearn\\metrics\\_classification.py:1248: UndefinedMetricWarning: Precision is ill-defined and being set to 0.0 in labels with no predicted samples. Use `zero_division` parameter to control this behavior.\n",
      "  _warn_prf(average, modifier, msg_start, len(result))\n"
     ]
    },
    {
     "data": {
      "image/png": "[encoded data removed]",
      "text/plain": [
       "<Figure size 432x288 with 2 Axes>"
      ]
     },
     "metadata": {
      "needs_background": "light"
     },
     "output_type": "display_data"
    }
   ],
   "source": [
    "# Testing for Logistic Regression:\n",
    "print('Logistic Regression')\n",
    "\n",
    "start = time.time()\n",
    "\n",
    "model_lrg = LogisticRegression()\n",
    "model_lrg.fit(X_train, y_train)\n",
    "y_pred_lrg = model_lrg.predict(X_test)\n",
    "display_results(y_test, y_pred_lrg)\n",
    "\n",
    "end = time.time()\n",
    "\n",
    "print('Time elapsed:',end - start,'s')\n",
    "\n",
    "cols['method'].append('Logistic Regression')\n",
    "cols['accuracy'].append(accuracy_score(y_test,y_pred_lrg))\n",
    "cols['auroc'].append(roc_auc_score(y_test, y_pred_lrg, average='macro'))\n",
    "cols['precision'].append(precision_score(y_test, y_pred_lrg, average='macro'))"
   ]
  },
  {
   "cell_type": "code",
   "execution_count": 160,
   "id": "be54d7a1",
   "metadata": {},
   "outputs": [
    {
     "name": "stdout",
     "output_type": "stream",
     "text": [
      "Perceptron\n",
      "Labels: [0]\n",
      "Accuracy: 0.6723404255319149\n",
      "AU-ROC: 0.5\n",
      "              precision    recall  f1-score   support\n",
      "\n",
      "           0       0.67      1.00      0.80      7426\n",
      "           1       0.00      0.00      0.00      3619\n",
      "\n",
      "    accuracy                           0.67     11045\n",
      "   macro avg       0.34      0.50      0.40     11045\n",
      "weighted avg       0.45      0.67      0.54     11045\n",
      "\n",
      "Time elapsed: 0.09525203704833984 s\n"
     ]
    },
    {
     "name": "stderr",
     "output_type": "stream",
     "text": [
      "c:\\users\\pc\\appdata\\local\\programs\\python\\python39\\lib\\site-packages\\sklearn\\metrics\\_classification.py:1248: UndefinedMetricWarning: Precision and F-score are ill-defined and being set to 0.0 in labels with no predicted samples. Use `zero_division` parameter to control this behavior.\n",
      "  _warn_prf(average, modifier, msg_start, len(result))\n",
      "c:\\users\\pc\\appdata\\local\\programs\\python\\python39\\lib\\site-packages\\sklearn\\metrics\\_classification.py:1248: UndefinedMetricWarning: Precision and F-score are ill-defined and being set to 0.0 in labels with no predicted samples. Use `zero_division` parameter to control this behavior.\n",
      "  _warn_prf(average, modifier, msg_start, len(result))\n",
      "c:\\users\\pc\\appdata\\local\\programs\\python\\python39\\lib\\site-packages\\sklearn\\metrics\\_classification.py:1248: UndefinedMetricWarning: Precision and F-score are ill-defined and being set to 0.0 in labels with no predicted samples. Use `zero_division` parameter to control this behavior.\n",
      "  _warn_prf(average, modifier, msg_start, len(result))\n",
      "c:\\users\\pc\\appdata\\local\\programs\\python\\python39\\lib\\site-packages\\sklearn\\metrics\\_classification.py:1248: UndefinedMetricWarning: Precision is ill-defined and being set to 0.0 in labels with no predicted samples. Use `zero_division` parameter to control this behavior.\n",
      "  _warn_prf(average, modifier, msg_start, len(result))\n"
     ]
    },
    {
     "data": {
      "image/png": "[encoded data removed]",
      "text/plain": [
       "<Figure size 432x288 with 2 Axes>"
      ]
     },
     "metadata": {
      "needs_background": "light"
     },
     "output_type": "display_data"
    }
   ],
   "source": [
    "# Testing for Perceptron:\n",
    "print('Perceptron')\n",
    "\n",
    "start = time.time()\n",
    "\n",
    "model_per = Perceptron()\n",
    "model_per.fit(X_train, y_train)\n",
    "y_pred_per = model_per.predict(X_test)\n",
    "display_results(y_test, y_pred_per)\n",
    "\n",
    "end = time.time()\n",
    "\n",
    "print('Time elapsed:',end - start,'s')\n",
    "\n",
    "cols['method'].append('Perceptron')\n",
    "cols['accuracy'].append(accuracy_score(y_test,y_pred_per))\n",
    "cols['auroc'].append(roc_auc_score(y_test, y_pred_per, average='macro'))\n",
    "cols['precision'].append(precision_score(y_test, y_pred_per, average='macro'))"
   ]
  },
  {
   "cell_type": "code",
   "execution_count": 161,
   "id": "94d77c90",
   "metadata": {},
   "outputs": [
    {
     "name": "stdout",
     "output_type": "stream",
     "text": [
      "Passive Aggressive Classifier\n",
      "Labels: [0]\n",
      "Accuracy: 0.6723404255319149\n",
      "AU-ROC: 0.5\n",
      "              precision    recall  f1-score   support\n",
      "\n",
      "           0       0.67      1.00      0.80      7426\n",
      "           1       0.00      0.00      0.00      3619\n",
      "\n",
      "    accuracy                           0.67     11045\n",
      "   macro avg       0.34      0.50      0.40     11045\n",
      "weighted avg       0.45      0.67      0.54     11045\n",
      "\n",
      "Time elapsed: 0.07878994941711426 s\n"
     ]
    },
    {
     "name": "stderr",
     "output_type": "stream",
     "text": [
      "c:\\users\\pc\\appdata\\local\\programs\\python\\python39\\lib\\site-packages\\sklearn\\metrics\\_classification.py:1248: UndefinedMetricWarning: Precision and F-score are ill-defined and being set to 0.0 in labels with no predicted samples. Use `zero_division` parameter to control this behavior.\n",
      "  _warn_prf(average, modifier, msg_start, len(result))\n",
      "c:\\users\\pc\\appdata\\local\\programs\\python\\python39\\lib\\site-packages\\sklearn\\metrics\\_classification.py:1248: UndefinedMetricWarning: Precision and F-score are ill-defined and being set to 0.0 in labels with no predicted samples. Use `zero_division` parameter to control this behavior.\n",
      "  _warn_prf(average, modifier, msg_start, len(result))\n",
      "c:\\users\\pc\\appdata\\local\\programs\\python\\python39\\lib\\site-packages\\sklearn\\metrics\\_classification.py:1248: UndefinedMetricWarning: Precision and F-score are ill-defined and being set to 0.0 in labels with no predicted samples. Use `zero_division` parameter to control this behavior.\n",
      "  _warn_prf(average, modifier, msg_start, len(result))\n",
      "c:\\users\\pc\\appdata\\local\\programs\\python\\python39\\lib\\site-packages\\sklearn\\metrics\\_classification.py:1248: UndefinedMetricWarning: Precision is ill-defined and being set to 0.0 in labels with no predicted samples. Use `zero_division` parameter to control this behavior.\n",
      "  _warn_prf(average, modifier, msg_start, len(result))\n"
     ]
    },
    {
     "data": {
      "image/png": "[encoded data removed]",
      "text/plain": [
       "<Figure size 432x288 with 2 Axes>"
      ]
     },
     "metadata": {
      "needs_background": "light"
     },
     "output_type": "display_data"
    }
   ],
   "source": [
    "# Testing for Passive Aggressive Classifier:\n",
    "print('Passive Aggressive Classifier')\n",
    "\n",
    "start = time.time()\n",
    "\n",
    "model_pac = PassiveAggressiveClassifier()\n",
    "model_pac.fit(X_train, y_train)\n",
    "y_pred_pac = model_pac.predict(X_test)\n",
    "display_results(y_test, y_pred_pac)\n",
    "\n",
    "end = time.time()\n",
    "\n",
    "print('Time elapsed:',end - start,'s')\n",
    "\n",
    "cols['method'].append('Passive Agressive')\n",
    "cols['accuracy'].append(accuracy_score(y_test,y_pred_pac))\n",
    "cols['auroc'].append(roc_auc_score(y_test, y_pred_pac, average='macro'))\n",
    "cols['precision'].append(precision_score(y_test, y_pred_pac, average='macro'))"
   ]
  },
  {
   "cell_type": "code",
   "execution_count": 162,
   "id": "10c93ccc",
   "metadata": {},
   "outputs": [
    {
     "name": "stdout",
     "output_type": "stream",
     "text": [
      "Logistic RegressionCV\n",
      "Labels: [0]\n",
      "Accuracy: 0.6723404255319149\n",
      "AU-ROC: 0.5\n",
      "              precision    recall  f1-score   support\n",
      "\n",
      "           0       0.67      1.00      0.80      7426\n",
      "           1       0.00      0.00      0.00      3619\n",
      "\n",
      "    accuracy                           0.67     11045\n",
      "   macro avg       0.34      0.50      0.40     11045\n",
      "weighted avg       0.45      0.67      0.54     11045\n",
      "\n",
      "Time elapsed: 0.6624534130096436 s\n"
     ]
    },
    {
     "name": "stderr",
     "output_type": "stream",
     "text": [
      "c:\\users\\pc\\appdata\\local\\programs\\python\\python39\\lib\\site-packages\\sklearn\\metrics\\_classification.py:1248: UndefinedMetricWarning: Precision and F-score are ill-defined and being set to 0.0 in labels with no predicted samples. Use `zero_division` parameter to control this behavior.\n",
      "  _warn_prf(average, modifier, msg_start, len(result))\n",
      "c:\\users\\pc\\appdata\\local\\programs\\python\\python39\\lib\\site-packages\\sklearn\\metrics\\_classification.py:1248: UndefinedMetricWarning: Precision and F-score are ill-defined and being set to 0.0 in labels with no predicted samples. Use `zero_division` parameter to control this behavior.\n",
      "  _warn_prf(average, modifier, msg_start, len(result))\n",
      "c:\\users\\pc\\appdata\\local\\programs\\python\\python39\\lib\\site-packages\\sklearn\\metrics\\_classification.py:1248: UndefinedMetricWarning: Precision and F-score are ill-defined and being set to 0.0 in labels with no predicted samples. Use `zero_division` parameter to control this behavior.\n",
      "  _warn_prf(average, modifier, msg_start, len(result))\n",
      "c:\\users\\pc\\appdata\\local\\programs\\python\\python39\\lib\\site-packages\\sklearn\\metrics\\_classification.py:1248: UndefinedMetricWarning: Precision is ill-defined and being set to 0.0 in labels with no predicted samples. Use `zero_division` parameter to control this behavior.\n",
      "  _warn_prf(average, modifier, msg_start, len(result))\n"
     ]
    },
    {
     "data": {
      "image/png": "[encoded data removed]",
      "text/plain": [
       "<Figure size 432x288 with 2 Axes>"
      ]
     },
     "metadata": {
      "needs_background": "light"
     },
     "output_type": "display_data"
    }
   ],
   "source": [
    "# Testing for Logistic RegressionCV:\n",
    "print('Logistic RegressionCV')\n",
    "\n",
    "start = time.time()\n",
    "\n",
    "model_lrcv = LogisticRegressionCV()\n",
    "model_lrcv.fit(X_train, y_train)\n",
    "y_pred_lrcv = model_lrcv.predict(X_test)\n",
    "display_results(y_test, y_pred_lrcv)\n",
    "\n",
    "end = time.time()\n",
    "\n",
    "print('Time elapsed:',end - start,'s')\n",
    "\n",
    "cols['method'].append('Logistic Regression CV')\n",
    "cols['accuracy'].append(accuracy_score(y_test,y_pred_lrcv))\n",
    "cols['auroc'].append(roc_auc_score(y_test, y_pred_lrcv, average='macro'))\n",
    "cols['precision'].append(precision_score(y_test, y_pred_lrcv, average='macro'))"
   ]
  },
  {
   "cell_type": "code",
   "execution_count": 163,
   "id": "8c1c5869",
   "metadata": {
    "scrolled": true
   },
   "outputs": [
    {
     "name": "stdout",
     "output_type": "stream",
     "text": [
      "Linear SVC\n",
      "Labels: [0]\n",
      "Accuracy: 0.6723404255319149\n",
      "AU-ROC: 0.5\n",
      "              precision    recall  f1-score   support\n",
      "\n",
      "           0       0.67      1.00      0.80      7426\n",
      "           1       0.00      0.00      0.00      3619\n",
      "\n",
      "    accuracy                           0.67     11045\n",
      "   macro avg       0.34      0.50      0.40     11045\n",
      "weighted avg       0.45      0.67      0.54     11045\n",
      "\n",
      "Time elapsed: 1.6032438278198242 s\n"
     ]
    },
    {
     "name": "stderr",
     "output_type": "stream",
     "text": [
      "c:\\users\\pc\\appdata\\local\\programs\\python\\python39\\lib\\site-packages\\sklearn\\svm\\_base.py:985: ConvergenceWarning: Liblinear failed to converge, increase the number of iterations.\n",
      "  warnings.warn(\"Liblinear failed to converge, increase \"\n",
      "c:\\users\\pc\\appdata\\local\\programs\\python\\python39\\lib\\site-packages\\sklearn\\metrics\\_classification.py:1248: UndefinedMetricWarning: Precision and F-score are ill-defined and being set to 0.0 in labels with no predicted samples. Use `zero_division` parameter to control this behavior.\n",
      "  _warn_prf(average, modifier, msg_start, len(result))\n",
      "c:\\users\\pc\\appdata\\local\\programs\\python\\python39\\lib\\site-packages\\sklearn\\metrics\\_classification.py:1248: UndefinedMetricWarning: Precision and F-score are ill-defined and being set to 0.0 in labels with no predicted samples. Use `zero_division` parameter to control this behavior.\n",
      "  _warn_prf(average, modifier, msg_start, len(result))\n",
      "c:\\users\\pc\\appdata\\local\\programs\\python\\python39\\lib\\site-packages\\sklearn\\metrics\\_classification.py:1248: UndefinedMetricWarning: Precision and F-score are ill-defined and being set to 0.0 in labels with no predicted samples. Use `zero_division` parameter to control this behavior.\n",
      "  _warn_prf(average, modifier, msg_start, len(result))\n",
      "c:\\users\\pc\\appdata\\local\\programs\\python\\python39\\lib\\site-packages\\sklearn\\metrics\\_classification.py:1248: UndefinedMetricWarning: Precision is ill-defined and being set to 0.0 in labels with no predicted samples. Use `zero_division` parameter to control this behavior.\n",
      "  _warn_prf(average, modifier, msg_start, len(result))\n"
     ]
    },
    {
     "data": {
      "image/png": "[encoded data removed]",
      "text/plain": [
       "<Figure size 432x288 with 2 Axes>"
      ]
     },
     "metadata": {
      "needs_background": "light"
     },
     "output_type": "display_data"
    }
   ],
   "source": [
    "# Testing for Linear SVC:\n",
    "print('Linear SVC')\n",
    "\n",
    "start = time.time()\n",
    "\n",
    "model_lsvc = LinearSVC()\n",
    "model_lsvc.fit(X_train, y_train)\n",
    "y_pred_lsvc = model_lsvc.predict(X_test)\n",
    "display_results(y_test, y_pred_lsvc)\n",
    "\n",
    "end = time.time()\n",
    "\n",
    "print('Time elapsed:',end - start,'s')\n",
    "\n",
    "cols['method'].append('Linear SVC')\n",
    "cols['accuracy'].append(accuracy_score(y_test,y_pred_lsvc))\n",
    "cols['auroc'].append(roc_auc_score(y_test, y_pred_lsvc, average='macro'))\n",
    "cols['precision'].append(precision_score(y_test, y_pred_lsvc, average='macro'))"
   ]
  },
  {
   "cell_type": "markdown",
   "id": "9c20db6f",
   "metadata": {},
   "source": [
    "Horrible classification method for this dataset."
   ]
  },
  {
   "cell_type": "code",
   "execution_count": 164,
   "id": "e6f5f9ab",
   "metadata": {},
   "outputs": [
    {
     "name": "stdout",
     "output_type": "stream",
     "text": [
      "SVC\n",
      "Labels: [0]\n",
      "Accuracy: 0.6723404255319149\n",
      "AU-ROC: 0.5\n",
      "              precision    recall  f1-score   support\n",
      "\n",
      "           0       0.67      1.00      0.80      7426\n",
      "           1       0.00      0.00      0.00      3619\n",
      "\n",
      "    accuracy                           0.67     11045\n",
      "   macro avg       0.34      0.50      0.40     11045\n",
      "weighted avg       0.45      0.67      0.54     11045\n",
      "\n",
      "Time elapsed: 53.207345724105835 s\n"
     ]
    },
    {
     "name": "stderr",
     "output_type": "stream",
     "text": [
      "c:\\users\\pc\\appdata\\local\\programs\\python\\python39\\lib\\site-packages\\sklearn\\metrics\\_classification.py:1248: UndefinedMetricWarning: Precision and F-score are ill-defined and being set to 0.0 in labels with no predicted samples. Use `zero_division` parameter to control this behavior.\n",
      "  _warn_prf(average, modifier, msg_start, len(result))\n",
      "c:\\users\\pc\\appdata\\local\\programs\\python\\python39\\lib\\site-packages\\sklearn\\metrics\\_classification.py:1248: UndefinedMetricWarning: Precision and F-score are ill-defined and being set to 0.0 in labels with no predicted samples. Use `zero_division` parameter to control this behavior.\n",
      "  _warn_prf(average, modifier, msg_start, len(result))\n",
      "c:\\users\\pc\\appdata\\local\\programs\\python\\python39\\lib\\site-packages\\sklearn\\metrics\\_classification.py:1248: UndefinedMetricWarning: Precision and F-score are ill-defined and being set to 0.0 in labels with no predicted samples. Use `zero_division` parameter to control this behavior.\n",
      "  _warn_prf(average, modifier, msg_start, len(result))\n",
      "c:\\users\\pc\\appdata\\local\\programs\\python\\python39\\lib\\site-packages\\sklearn\\metrics\\_classification.py:1248: UndefinedMetricWarning: Precision is ill-defined and being set to 0.0 in labels with no predicted samples. Use `zero_division` parameter to control this behavior.\n",
      "  _warn_prf(average, modifier, msg_start, len(result))\n"
     ]
    },
    {
     "data": {
      "image/png": "[encoded data removed]",
      "text/plain": [
       "<Figure size 432x288 with 2 Axes>"
      ]
     },
     "metadata": {
      "needs_background": "light"
     },
     "output_type": "display_data"
    }
   ],
   "source": [
    "# Testing for SVC:\n",
    "print('SVC')\n",
    "\n",
    "start = time.time()\n",
    "\n",
    "model_svc = SVC()\n",
    "model_svc.fit(X_train, y_train)\n",
    "y_pred_svc = model_svc.predict(X_test)\n",
    "display_results(y_test, y_pred_lsvc)\n",
    "\n",
    "end = time.time()\n",
    "\n",
    "print('Time elapsed:',end - start,'s')\n",
    "\n",
    "cols['method'].append('SVC')\n",
    "cols['accuracy'].append(accuracy_score(y_test,y_pred_svc))\n",
    "cols['auroc'].append(roc_auc_score(y_test, y_pred_svc, average='macro'))\n",
    "cols['precision'].append(precision_score(y_test, y_pred_svc, average='macro'))"
   ]
  },
  {
   "cell_type": "code",
   "execution_count": 165,
   "id": "ece9a908",
   "metadata": {},
   "outputs": [
    {
     "name": "stdout",
     "output_type": "stream",
     "text": [
      "NuSVC\n",
      "Labels: [0 1]\n",
      "Accuracy: 0.4965142598460842\n",
      "AU-ROC: 0.4920601886667063\n",
      "              precision    recall  f1-score   support\n",
      "\n",
      "           0       0.67      0.50      0.57      7426\n",
      "           1       0.32      0.48      0.38      3619\n",
      "\n",
      "    accuracy                           0.50     11045\n",
      "   macro avg       0.49      0.49      0.48     11045\n",
      "weighted avg       0.55      0.50      0.51     11045\n",
      "\n",
      "Time elapsed: 74.63911461830139 s\n"
     ]
    },
    {
     "data": {
      "image/png": "[encoded data removed]",
      "text/plain": [
       "<Figure size 432x288 with 2 Axes>"
      ]
     },
     "metadata": {
      "needs_background": "light"
     },
     "output_type": "display_data"
    }
   ],
   "source": [
    "# Testing for NuSVC:\n",
    "print('NuSVC')\n",
    "\n",
    "start = time.time()\n",
    "\n",
    "model_nusvc = NuSVC()\n",
    "model_nusvc.fit(X_train, y_train)\n",
    "y_pred_nusvc = model_nusvc.predict(X_test)\n",
    "display_results(y_test, y_pred_nusvc)\n",
    "\n",
    "end = time.time()\n",
    "\n",
    "print('Time elapsed:',end - start,'s')\n",
    "\n",
    "cols['method'].append('NuSVC')\n",
    "cols['accuracy'].append(accuracy_score(y_test,y_pred_nusvc))\n",
    "cols['auroc'].append(roc_auc_score(y_test, y_pred_nusvc, average='macro'))\n",
    "cols['precision'].append(precision_score(y_test, y_pred_nusvc, average='macro'))"
   ]
  },
  {
   "cell_type": "code",
   "execution_count": 166,
   "id": "cda5e203",
   "metadata": {},
   "outputs": [
    {
     "name": "stdout",
     "output_type": "stream",
     "text": [
      "K-Neighbors\n",
      "Labels: [0 1]\n",
      "Accuracy: 0.6543232231779086\n",
      "AU-ROC: 0.567345864477564\n",
      "              precision    recall  f1-score   support\n",
      "\n",
      "           0       0.71      0.82      0.76      7426\n",
      "           1       0.46      0.32      0.37      3619\n",
      "\n",
      "    accuracy                           0.65     11045\n",
      "   macro avg       0.59      0.57      0.57     11045\n",
      "weighted avg       0.63      0.65      0.63     11045\n",
      "\n",
      "Time elapsed: 0.41739368438720703 s\n"
     ]
    },
    {
     "data": {
      "image/png": "[encoded data removed]",
      "text/plain": [
       "<Figure size 432x288 with 2 Axes>"
      ]
     },
     "metadata": {
      "needs_background": "light"
     },
     "output_type": "display_data"
    }
   ],
   "source": [
    "# Testing for K-Neighbors Classifier:\n",
    "print('K-Neighbors')\n",
    "\n",
    "start = time.time()\n",
    "\n",
    "model_knc = KNeighborsClassifier()\n",
    "model_knc.fit(X_train, y_train)\n",
    "y_pred_knc = model_knc.predict(X_test)\n",
    "display_results(y_test, y_pred_knc)\n",
    "\n",
    "end = time.time()\n",
    "\n",
    "print('Time elapsed:',end - start,'s')\n",
    "\n",
    "cols['method'].append('K-Neighbors')\n",
    "cols['accuracy'].append(accuracy_score(y_test,y_pred_knc))\n",
    "cols['auroc'].append(roc_auc_score(y_test, y_pred_knc, average='macro'))\n",
    "cols['precision'].append(precision_score(y_test, y_pred_knc, average='macro'))"
   ]
  },
  {
   "cell_type": "code",
   "execution_count": 167,
   "id": "9d9c5d96",
   "metadata": {},
   "outputs": [
    {
     "name": "stdout",
     "output_type": "stream",
     "text": [
      "Random Forest\n",
      "Labels: [0 1]\n",
      "Accuracy: 0.6904481665912178\n",
      "AU-ROC: 0.641878657297456\n",
      "              precision    recall  f1-score   support\n",
      "\n",
      "           0       0.76      0.78      0.77      7426\n",
      "           1       0.53      0.50      0.51      3619\n",
      "\n",
      "    accuracy                           0.69     11045\n",
      "   macro avg       0.65      0.64      0.64     11045\n",
      "weighted avg       0.69      0.69      0.69     11045\n",
      "\n",
      "Time elapsed: 2.501957416534424 s\n"
     ]
    },
    {
     "data": {
      "image/png": "[encoded data removed]",
      "text/plain": [
       "<Figure size 432x288 with 2 Axes>"
      ]
     },
     "metadata": {
      "needs_background": "light"
     },
     "output_type": "display_data"
    }
   ],
   "source": [
    "# Testing for Random Forest Classifier:\n",
    "print('Random Forest')\n",
    "\n",
    "start = time.time()\n",
    "\n",
    "model_rfc = RandomForestClassifier()\n",
    "model_rfc.fit(X_train, y_train)\n",
    "y_pred_rfc = model_rfc.predict(X_test)\n",
    "display_results(y_test, y_pred_rfc)\n",
    "\n",
    "end = time.time()\n",
    "\n",
    "print('Time elapsed:',end - start,'s')\n",
    "\n",
    "cols['method'].append('Random Forest')\n",
    "cols['accuracy'].append(accuracy_score(y_test,y_pred_rfc))\n",
    "cols['auroc'].append(roc_auc_score(y_test, y_pred_rfc, average='macro'))\n",
    "cols['precision'].append(precision_score(y_test, y_pred_rfc, average='macro'))"
   ]
  },
  {
   "cell_type": "code",
   "execution_count": 168,
   "id": "d8c883d8",
   "metadata": {},
   "outputs": [
    {
     "name": "stdout",
     "output_type": "stream",
     "text": [
      "AdaBoost\n",
      "Labels: [0 1]\n",
      "Accuracy: 0.7276595744680852\n",
      "AU-ROC: 0.6375371194924117\n",
      "              precision    recall  f1-score   support\n",
      "\n",
      "           0       0.75      0.90      0.82      7426\n",
      "           1       0.64      0.38      0.48      3619\n",
      "\n",
      "    accuracy                           0.73     11045\n",
      "   macro avg       0.70      0.64      0.65     11045\n",
      "weighted avg       0.71      0.73      0.70     11045\n",
      "\n",
      "Time elapsed: 1.1291475296020508 s\n"
     ]
    },
    {
     "data": {
      "image/png": "[encoded data removed]",
      "text/plain": [
       "<Figure size 432x288 with 2 Axes>"
      ]
     },
     "metadata": {
      "needs_background": "light"
     },
     "output_type": "display_data"
    }
   ],
   "source": [
    "# Testing for AdaBoost:\n",
    "print('AdaBoost')\n",
    "\n",
    "start = time.time()\n",
    "\n",
    "model_ada = AdaBoostClassifier()\n",
    "model_ada.fit(X_train, y_train)\n",
    "y_pred_ada = model_ada.predict(X_test)\n",
    "display_results(y_test, y_pred_ada)\n",
    "\n",
    "end = time.time()\n",
    "\n",
    "print('Time elapsed:',end - start,'s')\n",
    "\n",
    "cols['method'].append('AdaBoost')\n",
    "cols['accuracy'].append(accuracy_score(y_test,y_pred_ada))\n",
    "cols['auroc'].append(roc_auc_score(y_test, y_pred_ada, average='macro'))\n",
    "cols['precision'].append(precision_score(y_test, y_pred_ada, average='macro'))"
   ]
  },
  {
   "cell_type": "code",
   "execution_count": 169,
   "id": "450a1a81",
   "metadata": {},
   "outputs": [
    {
     "name": "stdout",
     "output_type": "stream",
     "text": [
      "Gradient Boosting\n",
      "Labels: [0 1]\n",
      "Accuracy: 0.7351742870076958\n",
      "AU-ROC: 0.6773358610148269\n",
      "              precision    recall  f1-score   support\n",
      "\n",
      "           0       0.78      0.85      0.81      7426\n",
      "           1       0.62      0.51      0.56      3619\n",
      "\n",
      "    accuracy                           0.74     11045\n",
      "   macro avg       0.70      0.68      0.68     11045\n",
      "weighted avg       0.73      0.74      0.73     11045\n",
      "\n",
      "Time elapsed: 1.7109310626983643 s\n"
     ]
    },
    {
     "data": {
      "image/png": "[encoded data removed]",
      "text/plain": [
       "<Figure size 432x288 with 2 Axes>"
      ]
     },
     "metadata": {
      "needs_background": "light"
     },
     "output_type": "display_data"
    }
   ],
   "source": [
    "# Testing for Gradient Boosting:\n",
    "print('Gradient Boosting')\n",
    "\n",
    "start = time.time()\n",
    "\n",
    "model_gbc = GradientBoostingClassifier()\n",
    "model_gbc.fit(X_train, y_train)\n",
    "y_pred_gbc = model_gbc.predict(X_test)\n",
    "display_results(y_test, y_pred_gbc)\n",
    "\n",
    "end = time.time()\n",
    "\n",
    "print('Time elapsed:',end - start,'s')\n",
    "\n",
    "cols['method'].append('Gradient Boosting')\n",
    "cols['accuracy'].append(accuracy_score(y_test,y_pred_gbc))\n",
    "cols['auroc'].append(roc_auc_score(y_test, y_pred_gbc, average='macro'))\n",
    "cols['precision'].append(precision_score(y_test, y_pred_gbc, average='macro'))"
   ]
  },
  {
   "cell_type": "code",
   "execution_count": 170,
   "id": "cde348c2",
   "metadata": {},
   "outputs": [
    {
     "name": "stdout",
     "output_type": "stream",
     "text": [
      "Bagging Classifier\n",
      "Labels: [0 1]\n",
      "Accuracy: 0.6872793119058398\n",
      "AU-ROC: 0.6349890346658459\n",
      "              precision    recall  f1-score   support\n",
      "\n",
      "           0       0.76      0.79      0.77      7426\n",
      "           1       0.52      0.48      0.50      3619\n",
      "\n",
      "    accuracy                           0.69     11045\n",
      "   macro avg       0.64      0.63      0.64     11045\n",
      "weighted avg       0.68      0.69      0.68     11045\n",
      "\n",
      "Time elapsed: 0.5298151969909668 s\n"
     ]
    },
    {
     "data": {
      "image/png": "[encoded data removed]",
      "text/plain": [
       "<Figure size 432x288 with 2 Axes>"
      ]
     },
     "metadata": {
      "needs_background": "light"
     },
     "output_type": "display_data"
    }
   ],
   "source": [
    "# Testing for Bagging Classifier:\n",
    "print('Bagging Classifier')\n",
    "\n",
    "start = time.time()\n",
    "\n",
    "model_bag = BaggingClassifier()\n",
    "model_bag.fit(X_train, y_train)\n",
    "y_pred_bag = model_bag.predict(X_test)\n",
    "display_results(y_test, y_pred_bag)\n",
    "\n",
    "end = time.time()\n",
    "\n",
    "print('Time elapsed:',end - start,'s')\n",
    "\n",
    "cols['method'].append('Bagging')\n",
    "cols['accuracy'].append(accuracy_score(y_test,y_pred_bag))\n",
    "cols['auroc'].append(roc_auc_score(y_test, y_pred_bag, average='macro'))\n",
    "cols['precision'].append(precision_score(y_test, y_pred_bag, average='macro'))"
   ]
  },
  {
   "cell_type": "code",
   "execution_count": 171,
   "id": "01d877b2",
   "metadata": {},
   "outputs": [
    {
     "name": "stdout",
     "output_type": "stream",
     "text": [
      "Decision Tree\n",
      "Labels: [0 1]\n",
      "Accuracy: 0.673064735174287\n",
      "AU-ROC: 0.6159894508938408\n",
      "              precision    recall  f1-score   support\n",
      "\n",
      "           0       0.74      0.78      0.76      7426\n",
      "           1       0.50      0.45      0.47      3619\n",
      "\n",
      "    accuracy                           0.67     11045\n",
      "   macro avg       0.62      0.62      0.62     11045\n",
      "weighted avg       0.66      0.67      0.67     11045\n",
      "\n",
      "Time elapsed: 0.11768555641174316 s\n"
     ]
    },
    {
     "data": {
      "image/png": "[encoded data removed]",
      "text/plain": [
       "<Figure size 432x288 with 2 Axes>"
      ]
     },
     "metadata": {
      "needs_background": "light"
     },
     "output_type": "display_data"
    }
   ],
   "source": [
    "# Testing for Decision Tree:\n",
    "print('Decision Tree')\n",
    "\n",
    "start = time.time()\n",
    "\n",
    "model_dtc = DecisionTreeClassifier()\n",
    "model_dtc.fit(X_train, y_train)\n",
    "y_pred_dtc = model_dtc.predict(X_test)\n",
    "display_results(y_test, y_pred_dtc)\n",
    "\n",
    "end = time.time()\n",
    "\n",
    "print('Time elapsed:',end - start,'s')\n",
    "\n",
    "cols['method'].append('Decision Trees')\n",
    "cols['accuracy'].append(accuracy_score(y_test,y_pred_dtc))\n",
    "cols['auroc'].append(roc_auc_score(y_test, y_pred_dtc, average='macro'))\n",
    "cols['precision'].append(precision_score(y_test, y_pred_dtc, average='macro'))"
   ]
  },
  {
   "cell_type": "code",
   "execution_count": 172,
   "id": "d4de89f6",
   "metadata": {},
   "outputs": [
    {
     "name": "stdout",
     "output_type": "stream",
     "text": [
      "Extra Tree\n",
      "Labels: [0 1]\n",
      "Accuracy: 0.6724309642372114\n",
      "AU-ROC: 0.618492939863799\n",
      "              precision    recall  f1-score   support\n",
      "\n",
      "           0       0.75      0.77      0.76      7426\n",
      "           1       0.50      0.46      0.48      3619\n",
      "\n",
      "    accuracy                           0.67     11045\n",
      "   macro avg       0.62      0.62      0.62     11045\n",
      "weighted avg       0.67      0.67      0.67     11045\n",
      "\n",
      "Time elapsed: 0.08407330513000488 s\n"
     ]
    },
    {
     "data": {
      "image/png": "[encoded data removed]",
      "text/plain": [
       "<Figure size 432x288 with 2 Axes>"
      ]
     },
     "metadata": {
      "needs_background": "light"
     },
     "output_type": "display_data"
    }
   ],
   "source": [
    "# Testing for Extra Tree:\n",
    "print('Extra Tree')\n",
    "\n",
    "start = time.time()\n",
    "\n",
    "model_etc = ExtraTreeClassifier()\n",
    "model_etc.fit(X_train, y_train)\n",
    "y_pred_etc = model_etc.predict(X_test)\n",
    "display_results(y_test, y_pred_etc)\n",
    "\n",
    "end = time.time()\n",
    "\n",
    "print('Time elapsed:',end - start,'s')\n",
    "\n",
    "cols['method'].append('Extra Trees')\n",
    "cols['accuracy'].append(accuracy_score(y_test,y_pred_etc))\n",
    "cols['auroc'].append(roc_auc_score(y_test, y_pred_etc, average='macro'))\n",
    "cols['precision'].append(precision_score(y_test, y_pred_etc, average='macro'))"
   ]
  },
  {
   "cell_type": "code",
   "execution_count": 173,
   "id": "4f96f997",
   "metadata": {},
   "outputs": [],
   "source": [
    "# Creation of metrics dataframe:\n",
    "metrics = pd.DataFrame(data=cols)"
   ]
  },
  {
   "cell_type": "code",
   "execution_count": 174,
   "id": "e62c092b",
   "metadata": {},
   "outputs": [
    {
     "data": {
      "text/html": [
       "<div>\n",
       "<style scoped>\n",
       "    .dataframe tbody tr th:only-of-type {\n",
       "        vertical-align: middle;\n",
       "    }\n",
       "\n",
       "    .dataframe tbody tr th {\n",
       "        vertical-align: top;\n",
       "    }\n",
       "\n",
       "    .dataframe thead th {\n",
       "        text-align: right;\n",
       "    }\n",
       "</style>\n",
       "<table border=\"1\" class=\"dataframe\">\n",
       "  <thead>\n",
       "    <tr style=\"text-align: right;\">\n",
       "      <th></th>\n",
       "      <th>method</th>\n",
       "      <th>accuracy</th>\n",
       "      <th>auroc</th>\n",
       "      <th>precision</th>\n",
       "    </tr>\n",
       "  </thead>\n",
       "  <tbody>\n",
       "    <tr>\n",
       "      <th>0</th>\n",
       "      <td>Logistic Regression</td>\n",
       "      <td>0.672340</td>\n",
       "      <td>0.500000</td>\n",
       "      <td>0.336170</td>\n",
       "    </tr>\n",
       "    <tr>\n",
       "      <th>1</th>\n",
       "      <td>Perceptron</td>\n",
       "      <td>0.672340</td>\n",
       "      <td>0.500000</td>\n",
       "      <td>0.336170</td>\n",
       "    </tr>\n",
       "    <tr>\n",
       "      <th>2</th>\n",
       "      <td>Passive Agressive</td>\n",
       "      <td>0.672340</td>\n",
       "      <td>0.500000</td>\n",
       "      <td>0.336170</td>\n",
       "    </tr>\n",
       "    <tr>\n",
       "      <th>3</th>\n",
       "      <td>Logistic Regression CV</td>\n",
       "      <td>0.672340</td>\n",
       "      <td>0.500000</td>\n",
       "      <td>0.336170</td>\n",
       "    </tr>\n",
       "    <tr>\n",
       "      <th>4</th>\n",
       "      <td>Linear SVC</td>\n",
       "      <td>0.672340</td>\n",
       "      <td>0.500000</td>\n",
       "      <td>0.336170</td>\n",
       "    </tr>\n",
       "    <tr>\n",
       "      <th>5</th>\n",
       "      <td>SVC</td>\n",
       "      <td>0.672340</td>\n",
       "      <td>0.500000</td>\n",
       "      <td>0.336170</td>\n",
       "    </tr>\n",
       "    <tr>\n",
       "      <th>6</th>\n",
       "      <td>NuSVC</td>\n",
       "      <td>0.496514</td>\n",
       "      <td>0.492060</td>\n",
       "      <td>0.493001</td>\n",
       "    </tr>\n",
       "    <tr>\n",
       "      <th>7</th>\n",
       "      <td>K-Neighbors</td>\n",
       "      <td>0.654323</td>\n",
       "      <td>0.567346</td>\n",
       "      <td>0.585231</td>\n",
       "    </tr>\n",
       "    <tr>\n",
       "      <th>8</th>\n",
       "      <td>Random Forest</td>\n",
       "      <td>0.690448</td>\n",
       "      <td>0.641879</td>\n",
       "      <td>0.646075</td>\n",
       "    </tr>\n",
       "    <tr>\n",
       "      <th>9</th>\n",
       "      <td>AdaBoost</td>\n",
       "      <td>0.727660</td>\n",
       "      <td>0.637537</td>\n",
       "      <td>0.695988</td>\n",
       "    </tr>\n",
       "    <tr>\n",
       "      <th>10</th>\n",
       "      <td>Gradient Boosting</td>\n",
       "      <td>0.735174</td>\n",
       "      <td>0.677336</td>\n",
       "      <td>0.697714</td>\n",
       "    </tr>\n",
       "    <tr>\n",
       "      <th>11</th>\n",
       "      <td>Bagging</td>\n",
       "      <td>0.687279</td>\n",
       "      <td>0.634989</td>\n",
       "      <td>0.641137</td>\n",
       "    </tr>\n",
       "    <tr>\n",
       "      <th>12</th>\n",
       "      <td>Decision Trees</td>\n",
       "      <td>0.673065</td>\n",
       "      <td>0.615989</td>\n",
       "      <td>0.623000</td>\n",
       "    </tr>\n",
       "    <tr>\n",
       "      <th>13</th>\n",
       "      <td>Extra Trees</td>\n",
       "      <td>0.672431</td>\n",
       "      <td>0.618493</td>\n",
       "      <td>0.623679</td>\n",
       "    </tr>\n",
       "  </tbody>\n",
       "</table>\n",
       "</div>"
      ],
      "text/plain": [
       "                    method  accuracy     auroc  precision\n",
       "0      Logistic Regression  0.672340  0.500000   0.336170\n",
       "1               Perceptron  0.672340  0.500000   0.336170\n",
       "2        Passive Agressive  0.672340  0.500000   0.336170\n",
       "3   Logistic Regression CV  0.672340  0.500000   0.336170\n",
       "4               Linear SVC  0.672340  0.500000   0.336170\n",
       "5                      SVC  0.672340  0.500000   0.336170\n",
       "6                    NuSVC  0.496514  0.492060   0.493001\n",
       "7              K-Neighbors  0.654323  0.567346   0.585231\n",
       "8            Random Forest  0.690448  0.641879   0.646075\n",
       "9                 AdaBoost  0.727660  0.637537   0.695988\n",
       "10       Gradient Boosting  0.735174  0.677336   0.697714\n",
       "11                 Bagging  0.687279  0.634989   0.641137\n",
       "12          Decision Trees  0.673065  0.615989   0.623000\n",
       "13             Extra Trees  0.672431  0.618493   0.623679"
      ]
     },
     "execution_count": 174,
     "metadata": {},
     "output_type": "execute_result"
    }
   ],
   "source": [
    "metrics"
   ]
  },
  {
   "cell_type": "markdown",
   "id": "d63c7287",
   "metadata": {},
   "source": [
    "Since many methods returned a value of AU-ROC of exactly 0.5, we can deduce that there is no difference between these methods and a constant value prediction. Therefore, as a filtering measure, we have decided to only compare methods where this metric was greater than 0.5."
   ]
  },
  {
   "cell_type": "code",
   "execution_count": 175,
   "id": "424fece5",
   "metadata": {},
   "outputs": [
    {
     "name": "stderr",
     "output_type": "stream",
     "text": [
      "C:\\Users\\pc\\AppData\\Local\\Temp/ipykernel_2604/276786805.py:1: UserWarning: Boolean Series key will be reindexed to match DataFrame index.\n",
      "  metrics.sort_values(by=['accuracy','auroc','precision'], ascending=False)[metrics['auroc'] > 0.5]\n"
     ]
    },
    {
     "data": {
      "text/html": [
       "<div>\n",
       "<style scoped>\n",
       "    .dataframe tbody tr th:only-of-type {\n",
       "        vertical-align: middle;\n",
       "    }\n",
       "\n",
       "    .dataframe tbody tr th {\n",
       "        vertical-align: top;\n",
       "    }\n",
       "\n",
       "    .dataframe thead th {\n",
       "        text-align: right;\n",
       "    }\n",
       "</style>\n",
       "<table border=\"1\" class=\"dataframe\">\n",
       "  <thead>\n",
       "    <tr style=\"text-align: right;\">\n",
       "      <th></th>\n",
       "      <th>method</th>\n",
       "      <th>accuracy</th>\n",
       "      <th>auroc</th>\n",
       "      <th>precision</th>\n",
       "    </tr>\n",
       "  </thead>\n",
       "  <tbody>\n",
       "    <tr>\n",
       "      <th>10</th>\n",
       "      <td>Gradient Boosting</td>\n",
       "      <td>0.735174</td>\n",
       "      <td>0.677336</td>\n",
       "      <td>0.697714</td>\n",
       "    </tr>\n",
       "    <tr>\n",
       "      <th>9</th>\n",
       "      <td>AdaBoost</td>\n",
       "      <td>0.727660</td>\n",
       "      <td>0.637537</td>\n",
       "      <td>0.695988</td>\n",
       "    </tr>\n",
       "    <tr>\n",
       "      <th>8</th>\n",
       "      <td>Random Forest</td>\n",
       "      <td>0.690448</td>\n",
       "      <td>0.641879</td>\n",
       "      <td>0.646075</td>\n",
       "    </tr>\n",
       "    <tr>\n",
       "      <th>11</th>\n",
       "      <td>Bagging</td>\n",
       "      <td>0.687279</td>\n",
       "      <td>0.634989</td>\n",
       "      <td>0.641137</td>\n",
       "    </tr>\n",
       "    <tr>\n",
       "      <th>12</th>\n",
       "      <td>Decision Trees</td>\n",
       "      <td>0.673065</td>\n",
       "      <td>0.615989</td>\n",
       "      <td>0.623000</td>\n",
       "    </tr>\n",
       "    <tr>\n",
       "      <th>13</th>\n",
       "      <td>Extra Trees</td>\n",
       "      <td>0.672431</td>\n",
       "      <td>0.618493</td>\n",
       "      <td>0.623679</td>\n",
       "    </tr>\n",
       "    <tr>\n",
       "      <th>7</th>\n",
       "      <td>K-Neighbors</td>\n",
       "      <td>0.654323</td>\n",
       "      <td>0.567346</td>\n",
       "      <td>0.585231</td>\n",
       "    </tr>\n",
       "  </tbody>\n",
       "</table>\n",
       "</div>"
      ],
      "text/plain": [
       "               method  accuracy     auroc  precision\n",
       "10  Gradient Boosting  0.735174  0.677336   0.697714\n",
       "9            AdaBoost  0.727660  0.637537   0.695988\n",
       "8       Random Forest  0.690448  0.641879   0.646075\n",
       "11            Bagging  0.687279  0.634989   0.641137\n",
       "12     Decision Trees  0.673065  0.615989   0.623000\n",
       "13        Extra Trees  0.672431  0.618493   0.623679\n",
       "7         K-Neighbors  0.654323  0.567346   0.585231"
      ]
     },
     "execution_count": 175,
     "metadata": {},
     "output_type": "execute_result"
    }
   ],
   "source": [
    "metrics.sort_values(by=['accuracy','auroc','precision'], ascending=False)[metrics['auroc'] > 0.5]"
   ]
  },
  {
   "cell_type": "markdown",
   "id": "f63ae820",
   "metadata": {},
   "source": [
    "From the dataframe visualization, it is clear that the best methods were Gradient Boosting and AdaBoost. Now, for the optimization process, we will use GridSearchCV to increase the parameter metrics through the models' hyperparameters."
   ]
  },
  {
   "cell_type": "code",
   "execution_count": 176,
   "id": "3698e8fc",
   "metadata": {},
   "outputs": [
    {
     "data": {
      "text/plain": [
       "{'ccp_alpha': 0.0,\n",
       " 'criterion': 'friedman_mse',\n",
       " 'init': None,\n",
       " 'learning_rate': 0.1,\n",
       " 'loss': 'deviance',\n",
       " 'max_depth': 3,\n",
       " 'max_features': None,\n",
       " 'max_leaf_nodes': None,\n",
       " 'min_impurity_decrease': 0.0,\n",
       " 'min_impurity_split': None,\n",
       " 'min_samples_leaf': 1,\n",
       " 'min_samples_split': 2,\n",
       " 'min_weight_fraction_leaf': 0.0,\n",
       " 'n_estimators': 100,\n",
       " 'n_iter_no_change': None,\n",
       " 'random_state': None,\n",
       " 'subsample': 1.0,\n",
       " 'tol': 0.0001,\n",
       " 'validation_fraction': 0.1,\n",
       " 'verbose': 0,\n",
       " 'warm_start': False}"
      ]
     },
     "execution_count": 176,
     "metadata": {},
     "output_type": "execute_result"
    }
   ],
   "source": [
    "# Gradient Boosting method tuning:\n",
    "model_gbc.get_params()"
   ]
  },
  {
   "cell_type": "code",
   "execution_count": 177,
   "id": "4d4e2886",
   "metadata": {},
   "outputs": [
    {
     "name": "stdout",
     "output_type": "stream",
     "text": [
      "Gradient Boosting GridSearch\n",
      "Labels: [0 1]\n",
      "Accuracy: 0.7355364418288819\n",
      "AU-ROC: 0.6810757919699477\n",
      "              precision    recall  f1-score   support\n",
      "\n",
      "           0       0.78      0.84      0.81      7426\n",
      "           1       0.61      0.52      0.56      3619\n",
      "\n",
      "    accuracy                           0.74     11045\n",
      "   macro avg       0.70      0.68      0.69     11045\n",
      "weighted avg       0.73      0.74      0.73     11045\n",
      "\n",
      "Time elapsed: 2078.5329823493958 s\n"
     ]
    },
    {
     "data": {
      "image/png": "[encoded data removed]",
      "text/plain": [
       "<Figure size 432x288 with 2 Axes>"
      ]
     },
     "metadata": {
      "needs_background": "light"
     },
     "output_type": "display_data"
    }
   ],
   "source": [
    "# Testing for Gradient Boosting with Grid Search:\n",
    "print('Gradient Boosting GridSearch')\n",
    "\n",
    "start = time.time()\n",
    "\n",
    "\n",
    "\n",
    "\n",
    "\n",
    "gbc = GradientBoostingClassifier()\n",
    "parameters = {'learning_rate': [0.1, 0.05],\n",
    "             'n_estimators': [100, 250, 500],\n",
    "             'max_depth': [2,3,4],\n",
    "             'max_features': [None,'auto','sqrt','log2'],\n",
    "             'warm_start': [False, True]}\n",
    "\n",
    "gbcgs = GridSearchCV(estimator=gbc, param_grid=parameters)\n",
    "gbcgs.fit(X_train, y_train)\n",
    "y_pred_gbcgs = gbcgs.predict(X_test)\n",
    "\n",
    "display_results(y_test, y_pred_gbcgs)\n",
    "\n",
    "end = time.time()\n",
    "\n",
    "print('Time elapsed:',end - start,'s')\n",
    "\n",
    "cols['method'].append('Gradient Boosting GridSearch')\n",
    "cols['accuracy'].append(accuracy_score(y_test,y_pred_gbcgs))\n",
    "cols['auroc'].append(roc_auc_score(y_test, y_pred_gbcgs, average='macro'))\n",
    "cols['precision'].append(precision_score(y_test, y_pred_gbcgs, average='macro'))"
   ]
  },
  {
   "cell_type": "code",
   "execution_count": 178,
   "id": "9e70c0af",
   "metadata": {},
   "outputs": [
    {
     "data": {
      "text/plain": [
       "{'ccp_alpha': 0.0,\n",
       " 'criterion': 'friedman_mse',\n",
       " 'init': None,\n",
       " 'learning_rate': 0.1,\n",
       " 'loss': 'deviance',\n",
       " 'max_depth': 4,\n",
       " 'max_features': None,\n",
       " 'max_leaf_nodes': None,\n",
       " 'min_impurity_decrease': 0.0,\n",
       " 'min_impurity_split': None,\n",
       " 'min_samples_leaf': 1,\n",
       " 'min_samples_split': 2,\n",
       " 'min_weight_fraction_leaf': 0.0,\n",
       " 'n_estimators': 250,\n",
       " 'n_iter_no_change': None,\n",
       " 'random_state': None,\n",
       " 'subsample': 1.0,\n",
       " 'tol': 0.0001,\n",
       " 'validation_fraction': 0.1,\n",
       " 'verbose': 0,\n",
       " 'warm_start': False}"
      ]
     },
     "execution_count": 178,
     "metadata": {},
     "output_type": "execute_result"
    }
   ],
   "source": [
    "gbcgs.best_estimator_.get_params()"
   ]
  },
  {
   "cell_type": "code",
   "execution_count": 179,
   "id": "40d82215",
   "metadata": {},
   "outputs": [
    {
     "name": "stdout",
     "output_type": "stream",
     "text": [
      "Gradient Boosting GridSearch SECOND RUN\n",
      "Labels: [0 1]\n",
      "Accuracy: 0.73662290629244\n",
      "AU-ROC: 0.683158680802096\n",
      "              precision    recall  f1-score   support\n",
      "\n",
      "           0       0.78      0.84      0.81      7426\n",
      "           1       0.61      0.53      0.57      3619\n",
      "\n",
      "    accuracy                           0.74     11045\n",
      "   macro avg       0.70      0.68      0.69     11045\n",
      "weighted avg       0.73      0.74      0.73     11045\n",
      "\n",
      "Time elapsed: 308.2042028903961 s\n"
     ]
    },
    {
     "data": {
      "image/png": "[encoded data removed]",
      "text/plain": [
       "<Figure size 432x288 with 2 Axes>"
      ]
     },
     "metadata": {
      "needs_background": "light"
     },
     "output_type": "display_data"
    }
   ],
   "source": [
    "# Testing for Gradient Boosting with Grid Search SECOND RUN:\n",
    "print('Gradient Boosting GridSearch SECOND RUN')\n",
    "\n",
    "start = time.time()\n",
    "\n",
    "gbc = GradientBoostingClassifier()\n",
    "parameters = {'n_estimators': [200, 250, 300],\n",
    "             'max_depth': [4,6,8],\n",
    "             }\n",
    "\n",
    "gbcgs2 = GridSearchCV(estimator=gbc, param_grid=parameters)\n",
    "gbcgs2.fit(X_train, y_train)\n",
    "y_pred_gbcgs2 = gbcgs2.predict(X_test)\n",
    "\n",
    "display_results(y_test, y_pred_gbcgs2)\n",
    "\n",
    "end = time.time()\n",
    "\n",
    "print('Time elapsed:',end - start,'s')\n",
    "\n",
    "cols['method'].append('Gradient Boosting GridSearch Second Run')\n",
    "cols['accuracy'].append(accuracy_score(y_test,y_pred_gbcgs2))\n",
    "cols['auroc'].append(roc_auc_score(y_test, y_pred_gbcgs2, average='macro'))\n",
    "cols['precision'].append(precision_score(y_test, y_pred_gbcgs2, average='macro'))"
   ]
  },
  {
   "cell_type": "code",
   "execution_count": 180,
   "id": "759556c3",
   "metadata": {},
   "outputs": [
    {
     "data": {
      "text/plain": [
       "{'algorithm': 'SAMME.R',\n",
       " 'base_estimator': None,\n",
       " 'learning_rate': 1.0,\n",
       " 'n_estimators': 50,\n",
       " 'random_state': None}"
      ]
     },
     "execution_count": 180,
     "metadata": {},
     "output_type": "execute_result"
    }
   ],
   "source": [
    "# AdaBoost method tuning:\n",
    "# Getting parameters:\n",
    "model_ada.get_params()"
   ]
  },
  {
   "cell_type": "code",
   "execution_count": 181,
   "id": "4a3df0be",
   "metadata": {},
   "outputs": [
    {
     "name": "stdout",
     "output_type": "stream",
     "text": [
      "Ada Boost GridSearch\n",
      "Labels: [0 1]\n",
      "Accuracy: 0.7328202806699864\n",
      "AU-ROC: 0.6610653687815012\n",
      "              precision    recall  f1-score   support\n",
      "\n",
      "           0       0.77      0.87      0.81      7426\n",
      "           1       0.63      0.45      0.53      3619\n",
      "\n",
      "    accuracy                           0.73     11045\n",
      "   macro avg       0.70      0.66      0.67     11045\n",
      "weighted avg       0.72      0.73      0.72     11045\n",
      "\n",
      "Time elapsed: 234.9819254875183 s\n"
     ]
    },
    {
     "data": {
      "image/png": "[encoded data removed]",
      "text/plain": [
       "<Figure size 432x288 with 2 Axes>"
      ]
     },
     "metadata": {
      "needs_background": "light"
     },
     "output_type": "display_data"
    }
   ],
   "source": [
    "# Testing for Ada Boost with Grid Search:\n",
    "print('Ada Boost GridSearch')\n",
    "\n",
    "start = time.time()\n",
    "\n",
    "\n",
    "\n",
    "\n",
    "\n",
    "ada = AdaBoostClassifier()\n",
    "parameters = {'learning_rate': [0.1, 0.5, 1.0],\n",
    "             'n_estimators': [50, 100, 250, 500],\n",
    "             }\n",
    "\n",
    "adags = GridSearchCV(estimator=ada, param_grid=parameters)\n",
    "adags.fit(X_train, y_train)\n",
    "y_pred_adags = adags.predict(X_test)\n",
    "\n",
    "display_results(y_test, y_pred_adags)\n",
    "\n",
    "end = time.time()\n",
    "\n",
    "print('Time elapsed:',end - start,'s')\n",
    "\n",
    "cols['method'].append('AdaBoost GridSearch')\n",
    "cols['accuracy'].append(accuracy_score(y_test,y_pred_adags))\n",
    "cols['auroc'].append(roc_auc_score(y_test, y_pred_adags, average='macro'))\n",
    "cols['precision'].append(precision_score(y_test, y_pred_adags, average='macro'))"
   ]
  },
  {
   "cell_type": "code",
   "execution_count": 182,
   "id": "7bead69e",
   "metadata": {},
   "outputs": [
    {
     "data": {
      "text/plain": [
       "{'algorithm': 'SAMME.R',\n",
       " 'base_estimator': None,\n",
       " 'learning_rate': 1.0,\n",
       " 'n_estimators': 500,\n",
       " 'random_state': None}"
      ]
     },
     "execution_count": 182,
     "metadata": {},
     "output_type": "execute_result"
    }
   ],
   "source": [
    "adags.best_estimator_.get_params()"
   ]
  },
  {
   "cell_type": "code",
   "execution_count": 183,
   "id": "ef7bfb4a",
   "metadata": {},
   "outputs": [
    {
     "name": "stderr",
     "output_type": "stream",
     "text": [
      "C:\\Users\\pc\\AppData\\Local\\Temp/ipykernel_2604/4197387977.py:2: UserWarning: Boolean Series key will be reindexed to match DataFrame index.\n",
      "  metrics.sort_values(by=['accuracy','auroc','precision'], ascending=False)[metrics['auroc'] > 0.5]\n"
     ]
    },
    {
     "data": {
      "text/html": [
       "<div>\n",
       "<style scoped>\n",
       "    .dataframe tbody tr th:only-of-type {\n",
       "        vertical-align: middle;\n",
       "    }\n",
       "\n",
       "    .dataframe tbody tr th {\n",
       "        vertical-align: top;\n",
       "    }\n",
       "\n",
       "    .dataframe thead th {\n",
       "        text-align: right;\n",
       "    }\n",
       "</style>\n",
       "<table border=\"1\" class=\"dataframe\">\n",
       "  <thead>\n",
       "    <tr style=\"text-align: right;\">\n",
       "      <th></th>\n",
       "      <th>method</th>\n",
       "      <th>accuracy</th>\n",
       "      <th>auroc</th>\n",
       "      <th>precision</th>\n",
       "    </tr>\n",
       "  </thead>\n",
       "  <tbody>\n",
       "    <tr>\n",
       "      <th>15</th>\n",
       "      <td>Gradient Boosting GridSearch Second Run</td>\n",
       "      <td>0.736623</td>\n",
       "      <td>0.683159</td>\n",
       "      <td>0.699386</td>\n",
       "    </tr>\n",
       "    <tr>\n",
       "      <th>14</th>\n",
       "      <td>Gradient Boosting GridSearch</td>\n",
       "      <td>0.735536</td>\n",
       "      <td>0.681076</td>\n",
       "      <td>0.698051</td>\n",
       "    </tr>\n",
       "    <tr>\n",
       "      <th>10</th>\n",
       "      <td>Gradient Boosting</td>\n",
       "      <td>0.735174</td>\n",
       "      <td>0.677336</td>\n",
       "      <td>0.697714</td>\n",
       "    </tr>\n",
       "    <tr>\n",
       "      <th>16</th>\n",
       "      <td>AdaBoost GridSearch</td>\n",
       "      <td>0.732820</td>\n",
       "      <td>0.661065</td>\n",
       "      <td>0.696617</td>\n",
       "    </tr>\n",
       "    <tr>\n",
       "      <th>9</th>\n",
       "      <td>AdaBoost</td>\n",
       "      <td>0.727660</td>\n",
       "      <td>0.637537</td>\n",
       "      <td>0.695988</td>\n",
       "    </tr>\n",
       "    <tr>\n",
       "      <th>8</th>\n",
       "      <td>Random Forest</td>\n",
       "      <td>0.690448</td>\n",
       "      <td>0.641879</td>\n",
       "      <td>0.646075</td>\n",
       "    </tr>\n",
       "    <tr>\n",
       "      <th>11</th>\n",
       "      <td>Bagging</td>\n",
       "      <td>0.687279</td>\n",
       "      <td>0.634989</td>\n",
       "      <td>0.641137</td>\n",
       "    </tr>\n",
       "    <tr>\n",
       "      <th>12</th>\n",
       "      <td>Decision Trees</td>\n",
       "      <td>0.673065</td>\n",
       "      <td>0.615989</td>\n",
       "      <td>0.623000</td>\n",
       "    </tr>\n",
       "    <tr>\n",
       "      <th>13</th>\n",
       "      <td>Extra Trees</td>\n",
       "      <td>0.672431</td>\n",
       "      <td>0.618493</td>\n",
       "      <td>0.623679</td>\n",
       "    </tr>\n",
       "    <tr>\n",
       "      <th>7</th>\n",
       "      <td>K-Neighbors</td>\n",
       "      <td>0.654323</td>\n",
       "      <td>0.567346</td>\n",
       "      <td>0.585231</td>\n",
       "    </tr>\n",
       "  </tbody>\n",
       "</table>\n",
       "</div>"
      ],
      "text/plain": [
       "                                     method  accuracy     auroc  precision\n",
       "15  Gradient Boosting GridSearch Second Run  0.736623  0.683159   0.699386\n",
       "14             Gradient Boosting GridSearch  0.735536  0.681076   0.698051\n",
       "10                        Gradient Boosting  0.735174  0.677336   0.697714\n",
       "16                      AdaBoost GridSearch  0.732820  0.661065   0.696617\n",
       "9                                  AdaBoost  0.727660  0.637537   0.695988\n",
       "8                             Random Forest  0.690448  0.641879   0.646075\n",
       "11                                  Bagging  0.687279  0.634989   0.641137\n",
       "12                           Decision Trees  0.673065  0.615989   0.623000\n",
       "13                              Extra Trees  0.672431  0.618493   0.623679\n",
       "7                               K-Neighbors  0.654323  0.567346   0.585231"
      ]
     },
     "execution_count": 183,
     "metadata": {},
     "output_type": "execute_result"
    }
   ],
   "source": [
    "metrics = pd.DataFrame(data=cols)\n",
    "metrics.sort_values(by=['accuracy','auroc','precision'], ascending=False)[metrics['auroc'] > 0.5]"
   ]
  },
  {
   "cell_type": "code",
   "execution_count": 184,
   "id": "aed47531",
   "metadata": {},
   "outputs": [
    {
     "data": {
      "text/plain": [
       "{'bootstrap': True,\n",
       " 'ccp_alpha': 0.0,\n",
       " 'class_weight': None,\n",
       " 'criterion': 'gini',\n",
       " 'max_depth': None,\n",
       " 'max_features': 'auto',\n",
       " 'max_leaf_nodes': None,\n",
       " 'max_samples': None,\n",
       " 'min_impurity_decrease': 0.0,\n",
       " 'min_impurity_split': None,\n",
       " 'min_samples_leaf': 1,\n",
       " 'min_samples_split': 2,\n",
       " 'min_weight_fraction_leaf': 0.0,\n",
       " 'n_estimators': 100,\n",
       " 'n_jobs': None,\n",
       " 'oob_score': False,\n",
       " 'random_state': None,\n",
       " 'verbose': 0,\n",
       " 'warm_start': False}"
      ]
     },
     "execution_count": 184,
     "metadata": {},
     "output_type": "execute_result"
    }
   ],
   "source": [
    "# Random Forest method tuning:\n",
    "model_rfc.get_params()"
   ]
  },
  {
   "cell_type": "code",
   "execution_count": 185,
   "id": "b75af6fb",
   "metadata": {},
   "outputs": [
    {
     "name": "stdout",
     "output_type": "stream",
     "text": [
      "Random Forest GridSearch\n",
      "Labels: [0 1]\n",
      "Accuracy: 0.6971480307831598\n",
      "AU-ROC: 0.6465070076704874\n",
      "              precision    recall  f1-score   support\n",
      "\n",
      "           0       0.76      0.79      0.78      7426\n",
      "           1       0.54      0.50      0.52      3619\n",
      "\n",
      "    accuracy                           0.70     11045\n",
      "   macro avg       0.65      0.65      0.65     11045\n",
      "weighted avg       0.69      0.70      0.69     11045\n",
      "\n",
      "Time elapsed: 606.7773768901825 s\n"
     ]
    },
    {
     "data": {
      "image/png": "[encoded data removed]",
      "text/plain": [
       "<Figure size 432x288 with 2 Axes>"
      ]
     },
     "metadata": {
      "needs_background": "light"
     },
     "output_type": "display_data"
    }
   ],
   "source": [
    "# Testing for Random Forest with Grid Search:\n",
    "print('Random Forest GridSearch')\n",
    "\n",
    "start = time.time()\n",
    "\n",
    "\n",
    "rfc = RandomForestClassifier()\n",
    "parameters = {'n_estimators': [50, 100, 250, 500],\n",
    "              'min_samples_split': [2, 3, 4],\n",
    "              'bootstrap': [True, False],              \n",
    "             }\n",
    "\n",
    "rfcgs = GridSearchCV(estimator=rfc, param_grid=parameters)\n",
    "rfcgs.fit(X_train, y_train)\n",
    "y_pred_rfcgs = rfcgs.predict(X_test)\n",
    "\n",
    "display_results(y_test, y_pred_rfcgs)\n",
    "\n",
    "end = time.time()\n",
    "\n",
    "print('Time elapsed:',end - start,'s')\n",
    "\n",
    "cols['method'].append('Random Forest GridSearch')\n",
    "cols['accuracy'].append(accuracy_score(y_test,y_pred_rfcgs))\n",
    "cols['auroc'].append(roc_auc_score(y_test, y_pred_rfcgs, average='macro'))\n",
    "cols['precision'].append(precision_score(y_test, y_pred_rfcgs, average='macro'))"
   ]
  },
  {
   "cell_type": "code",
   "execution_count": 186,
   "id": "b03fabde",
   "metadata": {},
   "outputs": [],
   "source": [
    "# Updating dataframe and removing possible duplicates:\n",
    "metrics = pd.DataFrame(data=cols)\n",
    "metrics.drop_duplicates(inplace=True)"
   ]
  },
  {
   "cell_type": "code",
   "execution_count": 187,
   "id": "6411663b",
   "metadata": {},
   "outputs": [
    {
     "name": "stderr",
     "output_type": "stream",
     "text": [
      "C:\\Users\\pc\\AppData\\Local\\Temp/ipykernel_2604/1493089285.py:2: UserWarning: Boolean Series key will be reindexed to match DataFrame index.\n",
      "  metrics.sort_values(by=['accuracy','auroc','precision'], ascending=False)[metrics['auroc'] > 0.5]\n"
     ]
    },
    {
     "data": {
      "text/html": [
       "<div>\n",
       "<style scoped>\n",
       "    .dataframe tbody tr th:only-of-type {\n",
       "        vertical-align: middle;\n",
       "    }\n",
       "\n",
       "    .dataframe tbody tr th {\n",
       "        vertical-align: top;\n",
       "    }\n",
       "\n",
       "    .dataframe thead th {\n",
       "        text-align: right;\n",
       "    }\n",
       "</style>\n",
       "<table border=\"1\" class=\"dataframe\">\n",
       "  <thead>\n",
       "    <tr style=\"text-align: right;\">\n",
       "      <th></th>\n",
       "      <th>method</th>\n",
       "      <th>accuracy</th>\n",
       "      <th>auroc</th>\n",
       "      <th>precision</th>\n",
       "    </tr>\n",
       "  </thead>\n",
       "  <tbody>\n",
       "    <tr>\n",
       "      <th>15</th>\n",
       "      <td>Gradient Boosting GridSearch Second Run</td>\n",
       "      <td>0.736623</td>\n",
       "      <td>0.683159</td>\n",
       "      <td>0.699386</td>\n",
       "    </tr>\n",
       "    <tr>\n",
       "      <th>14</th>\n",
       "      <td>Gradient Boosting GridSearch</td>\n",
       "      <td>0.735536</td>\n",
       "      <td>0.681076</td>\n",
       "      <td>0.698051</td>\n",
       "    </tr>\n",
       "    <tr>\n",
       "      <th>10</th>\n",
       "      <td>Gradient Boosting</td>\n",
       "      <td>0.735174</td>\n",
       "      <td>0.677336</td>\n",
       "      <td>0.697714</td>\n",
       "    </tr>\n",
       "    <tr>\n",
       "      <th>16</th>\n",
       "      <td>AdaBoost GridSearch</td>\n",
       "      <td>0.732820</td>\n",
       "      <td>0.661065</td>\n",
       "      <td>0.696617</td>\n",
       "    </tr>\n",
       "    <tr>\n",
       "      <th>9</th>\n",
       "      <td>AdaBoost</td>\n",
       "      <td>0.727660</td>\n",
       "      <td>0.637537</td>\n",
       "      <td>0.695988</td>\n",
       "    </tr>\n",
       "    <tr>\n",
       "      <th>17</th>\n",
       "      <td>Random Forest GridSearch</td>\n",
       "      <td>0.697148</td>\n",
       "      <td>0.646507</td>\n",
       "      <td>0.652945</td>\n",
       "    </tr>\n",
       "    <tr>\n",
       "      <th>8</th>\n",
       "      <td>Random Forest</td>\n",
       "      <td>0.690448</td>\n",
       "      <td>0.641879</td>\n",
       "      <td>0.646075</td>\n",
       "    </tr>\n",
       "    <tr>\n",
       "      <th>11</th>\n",
       "      <td>Bagging</td>\n",
       "      <td>0.687279</td>\n",
       "      <td>0.634989</td>\n",
       "      <td>0.641137</td>\n",
       "    </tr>\n",
       "    <tr>\n",
       "      <th>12</th>\n",
       "      <td>Decision Trees</td>\n",
       "      <td>0.673065</td>\n",
       "      <td>0.615989</td>\n",
       "      <td>0.623000</td>\n",
       "    </tr>\n",
       "    <tr>\n",
       "      <th>13</th>\n",
       "      <td>Extra Trees</td>\n",
       "      <td>0.672431</td>\n",
       "      <td>0.618493</td>\n",
       "      <td>0.623679</td>\n",
       "    </tr>\n",
       "    <tr>\n",
       "      <th>7</th>\n",
       "      <td>K-Neighbors</td>\n",
       "      <td>0.654323</td>\n",
       "      <td>0.567346</td>\n",
       "      <td>0.585231</td>\n",
       "    </tr>\n",
       "  </tbody>\n",
       "</table>\n",
       "</div>"
      ],
      "text/plain": [
       "                                     method  accuracy     auroc  precision\n",
       "15  Gradient Boosting GridSearch Second Run  0.736623  0.683159   0.699386\n",
       "14             Gradient Boosting GridSearch  0.735536  0.681076   0.698051\n",
       "10                        Gradient Boosting  0.735174  0.677336   0.697714\n",
       "16                      AdaBoost GridSearch  0.732820  0.661065   0.696617\n",
       "9                                  AdaBoost  0.727660  0.637537   0.695988\n",
       "17                 Random Forest GridSearch  0.697148  0.646507   0.652945\n",
       "8                             Random Forest  0.690448  0.641879   0.646075\n",
       "11                                  Bagging  0.687279  0.634989   0.641137\n",
       "12                           Decision Trees  0.673065  0.615989   0.623000\n",
       "13                              Extra Trees  0.672431  0.618493   0.623679\n",
       "7                               K-Neighbors  0.654323  0.567346   0.585231"
      ]
     },
     "execution_count": 187,
     "metadata": {},
     "output_type": "execute_result"
    }
   ],
   "source": [
    "# Displaying results:\n",
    "metrics.sort_values(by=['accuracy','auroc','precision'], ascending=False)[metrics['auroc'] > 0.5]"
   ]
  },
  {
   "cell_type": "markdown",
   "id": "3ee7675c",
   "metadata": {},
   "source": [
    "Selected method:\n",
    "**Gradient Boosting**"
   ]
  },
  {
   "cell_type": "code",
   "execution_count": 188,
   "id": "c729e160",
   "metadata": {},
   "outputs": [
    {
     "data": {
      "text/plain": [
       "{'ccp_alpha': 0.0,\n",
       " 'criterion': 'friedman_mse',\n",
       " 'init': None,\n",
       " 'learning_rate': 0.1,\n",
       " 'loss': 'deviance',\n",
       " 'max_depth': 4,\n",
       " 'max_features': None,\n",
       " 'max_leaf_nodes': None,\n",
       " 'min_impurity_decrease': 0.0,\n",
       " 'min_impurity_split': None,\n",
       " 'min_samples_leaf': 1,\n",
       " 'min_samples_split': 2,\n",
       " 'min_weight_fraction_leaf': 0.0,\n",
       " 'n_estimators': 300,\n",
       " 'n_iter_no_change': None,\n",
       " 'random_state': None,\n",
       " 'subsample': 1.0,\n",
       " 'tol': 0.0001,\n",
       " 'validation_fraction': 0.1,\n",
       " 'verbose': 0,\n",
       " 'warm_start': False}"
      ]
     },
     "execution_count": 188,
     "metadata": {},
     "output_type": "execute_result"
    }
   ],
   "source": [
    "# Presenting parameters:\n",
    "gbcgs2.best_estimator_.get_params()"
   ]
  },
  {
   "cell_type": "code",
   "execution_count": 211,
   "id": "b72340ce",
   "metadata": {},
   "outputs": [
    {
     "data": {
      "text/html": [
       "<div>\n",
       "<style scoped>\n",
       "    .dataframe tbody tr th:only-of-type {\n",
       "        vertical-align: middle;\n",
       "    }\n",
       "\n",
       "    .dataframe tbody tr th {\n",
       "        vertical-align: top;\n",
       "    }\n",
       "\n",
       "    .dataframe thead th {\n",
       "        text-align: right;\n",
       "    }\n",
       "</style>\n",
       "<table border=\"1\" class=\"dataframe\">\n",
       "  <thead>\n",
       "    <tr style=\"text-align: right;\">\n",
       "      <th></th>\n",
       "      <th>offer_id</th>\n",
       "      <th>offer_type</th>\n",
       "      <th>reward</th>\n",
       "      <th>difficulty</th>\n",
       "      <th>duration</th>\n",
       "      <th>channel_web</th>\n",
       "      <th>channel_social</th>\n",
       "      <th>channel_email</th>\n",
       "      <th>channel_mobile</th>\n",
       "    </tr>\n",
       "  </thead>\n",
       "  <tbody>\n",
       "    <tr>\n",
       "      <th>0</th>\n",
       "      <td>1</td>\n",
       "      <td>bogo</td>\n",
       "      <td>10</td>\n",
       "      <td>10</td>\n",
       "      <td>168</td>\n",
       "      <td>0</td>\n",
       "      <td>1</td>\n",
       "      <td>1</td>\n",
       "      <td>1</td>\n",
       "    </tr>\n",
       "    <tr>\n",
       "      <th>1</th>\n",
       "      <td>2</td>\n",
       "      <td>bogo</td>\n",
       "      <td>10</td>\n",
       "      <td>10</td>\n",
       "      <td>120</td>\n",
       "      <td>1</td>\n",
       "      <td>1</td>\n",
       "      <td>1</td>\n",
       "      <td>1</td>\n",
       "    </tr>\n",
       "    <tr>\n",
       "      <th>2</th>\n",
       "      <td>3</td>\n",
       "      <td>informational</td>\n",
       "      <td>0</td>\n",
       "      <td>0</td>\n",
       "      <td>96</td>\n",
       "      <td>1</td>\n",
       "      <td>0</td>\n",
       "      <td>1</td>\n",
       "      <td>1</td>\n",
       "    </tr>\n",
       "    <tr>\n",
       "      <th>3</th>\n",
       "      <td>4</td>\n",
       "      <td>bogo</td>\n",
       "      <td>5</td>\n",
       "      <td>5</td>\n",
       "      <td>168</td>\n",
       "      <td>1</td>\n",
       "      <td>0</td>\n",
       "      <td>1</td>\n",
       "      <td>1</td>\n",
       "    </tr>\n",
       "    <tr>\n",
       "      <th>4</th>\n",
       "      <td>5</td>\n",
       "      <td>discount</td>\n",
       "      <td>5</td>\n",
       "      <td>20</td>\n",
       "      <td>240</td>\n",
       "      <td>1</td>\n",
       "      <td>0</td>\n",
       "      <td>0</td>\n",
       "      <td>1</td>\n",
       "    </tr>\n",
       "    <tr>\n",
       "      <th>5</th>\n",
       "      <td>6</td>\n",
       "      <td>discount</td>\n",
       "      <td>3</td>\n",
       "      <td>7</td>\n",
       "      <td>168</td>\n",
       "      <td>1</td>\n",
       "      <td>1</td>\n",
       "      <td>1</td>\n",
       "      <td>1</td>\n",
       "    </tr>\n",
       "    <tr>\n",
       "      <th>6</th>\n",
       "      <td>7</td>\n",
       "      <td>discount</td>\n",
       "      <td>2</td>\n",
       "      <td>10</td>\n",
       "      <td>240</td>\n",
       "      <td>1</td>\n",
       "      <td>1</td>\n",
       "      <td>1</td>\n",
       "      <td>1</td>\n",
       "    </tr>\n",
       "    <tr>\n",
       "      <th>7</th>\n",
       "      <td>8</td>\n",
       "      <td>informational</td>\n",
       "      <td>0</td>\n",
       "      <td>0</td>\n",
       "      <td>72</td>\n",
       "      <td>0</td>\n",
       "      <td>1</td>\n",
       "      <td>1</td>\n",
       "      <td>1</td>\n",
       "    </tr>\n",
       "    <tr>\n",
       "      <th>8</th>\n",
       "      <td>9</td>\n",
       "      <td>bogo</td>\n",
       "      <td>5</td>\n",
       "      <td>5</td>\n",
       "      <td>120</td>\n",
       "      <td>1</td>\n",
       "      <td>1</td>\n",
       "      <td>1</td>\n",
       "      <td>1</td>\n",
       "    </tr>\n",
       "    <tr>\n",
       "      <th>9</th>\n",
       "      <td>10</td>\n",
       "      <td>discount</td>\n",
       "      <td>2</td>\n",
       "      <td>10</td>\n",
       "      <td>168</td>\n",
       "      <td>1</td>\n",
       "      <td>0</td>\n",
       "      <td>1</td>\n",
       "      <td>1</td>\n",
       "    </tr>\n",
       "  </tbody>\n",
       "</table>\n",
       "</div>"
      ],
      "text/plain": [
       "   offer_id     offer_type  reward  difficulty  duration  channel_web  \\\n",
       "0         1           bogo      10          10       168            0   \n",
       "1         2           bogo      10          10       120            1   \n",
       "2         3  informational       0           0        96            1   \n",
       "3         4           bogo       5           5       168            1   \n",
       "4         5       discount       5          20       240            1   \n",
       "5         6       discount       3           7       168            1   \n",
       "6         7       discount       2          10       240            1   \n",
       "7         8  informational       0           0        72            0   \n",
       "8         9           bogo       5           5       120            1   \n",
       "9        10       discount       2          10       168            1   \n",
       "\n",
       "   channel_social  channel_email  channel_mobile  \n",
       "0               1              1               1  \n",
       "1               1              1               1  \n",
       "2               0              1               1  \n",
       "3               0              1               1  \n",
       "4               0              0               1  \n",
       "5               1              1               1  \n",
       "6               1              1               1  \n",
       "7               1              1               1  \n",
       "8               1              1               1  \n",
       "9               0              1               1  "
      ]
     },
     "execution_count": 211,
     "metadata": {},
     "output_type": "execute_result"
    }
   ],
   "source": [
    "portfolio"
   ]
  },
  {
   "cell_type": "code",
   "execution_count": null,
   "id": "5fc4a5e5",
   "metadata": {
    "scrolled": true
   },
   "outputs": [],
   "source": [
    "\n",
    "df_input = pd.DataFrame(columns=['offer_id','age','income','M','F','O'])\n",
    "df_input.offer_id = np.sort(portfolio.offer_id.unique())\n",
    "for i, offer_id in enumerate(np.sort(portfolio.offer_id.unique())):\n",
    "    df_input['age'].iloc[i] = mode_age[0]\n",
    "    df_input['income'].iloc[i] = mode_income[0]\n",
    "    df_input['M'].iloc[i] = 1\n",
    "    df_input['F'].iloc[i] = 0\n",
    "    df_input['O'].iloc[i] = 0"
   ]
  },
  {
   "cell_type": "code",
   "execution_count": 223,
   "id": "272c538e",
   "metadata": {},
   "outputs": [],
   "source": [
    "sortie = gbcgs2.predict(df_input)"
   ]
  },
  {
   "cell_type": "code",
   "execution_count": 224,
   "id": "b71491a2",
   "metadata": {},
   "outputs": [
    {
     "data": {
      "text/plain": [
       "numpy.ndarray"
      ]
     },
     "execution_count": 224,
     "metadata": {},
     "output_type": "execute_result"
    }
   ],
   "source": [
    "type(sortie)"
   ]
  },
  {
   "cell_type": "markdown",
   "id": "b4c6bd51",
   "metadata": {},
   "source": [
    "## 3.4. Application of ML Model\n",
    "\n",
    "In this subsection, we will finally apply the optimized model for preparing a function that receives the information of a customer and returns which offers we should send to this customer, if any."
   ]
  },
  {
   "cell_type": "markdown",
   "id": "185d2f95",
   "metadata": {},
   "source": [
    "If no customer information is provided, we will use the modes for the customers features (age, income and sex)."
   ]
  },
  {
   "cell_type": "code",
   "execution_count": 219,
   "id": "6291e5d6",
   "metadata": {},
   "outputs": [],
   "source": [
    "# Getting mode values:\n",
    "mode_age = ml_input.age.mode()[0]\n",
    "mode_income = ml_input.income.mode()[0]\n",
    "mode_sex = ml_input[['M','F','O']].sum().sort_values(ascending=False).index[0]\n"
   ]
  },
  {
   "cell_type": "code",
   "execution_count": 244,
   "id": "89036eb3",
   "metadata": {},
   "outputs": [],
   "source": [
    "def recommend_offer(customer_age=mode_age, customer_income=mode_income, customer_sex=mode_sex, df=ml_input, model=gbcgs2):\n",
    "    '''\n",
    "    Description:\n",
    "        - This function receives customer information and return which offers are most effective for this specific \n",
    "        customer.\n",
    "    Input:\n",
    "        - customer_age: (int) Customer age, must be an integer.\n",
    "        - customer_income: (float) Customer income, must be a float.\n",
    "        - customer_sex: (str) Customer sex, must be 'M'(male), 'F'(female) or 'O'(other).\n",
    "        - df: (pandas dataframe)dataframe with the information for the ML model training and testing.\n",
    "        - model: (Sklearn ML model) Machine Learning model to be used for prediction. \n",
    "    Output:\n",
    "        - offers: (array) A list of 10 itens of 0s (do not send offer) and 1s (send offer),\n",
    "            where each index corresponds to an offer_id as listen on the portfolio dataframe.\n",
    "    '''\n",
    "    \n",
    "    # Creating input dataframe:\n",
    "    df_input = pd.DataFrame(columns=['offer_id','age','income','M','F','O'])\n",
    "    df_input.offer_id = np.sort(ml_input.offer_id.unique())\n",
    "    for i, offer_id in enumerate(np.sort(ml_input.offer_id.unique())):\n",
    "        df_input['age'].iloc[i] = customer_age\n",
    "        df_input['income'].iloc[i] = customer_income\n",
    "        if customer_sex == 'M':\n",
    "            df_input['M'].iloc[i] = 1\n",
    "            df_input['F'].iloc[i] = 0\n",
    "            df_input['O'].iloc[i] = 0\n",
    "        if customer_sex == 'F':\n",
    "            df_input['M'].iloc[i] = 0\n",
    "            df_input['F'].iloc[i] = 1\n",
    "            df_input['O'].iloc[i] = 0\n",
    "        if customer_sex == 'O':\n",
    "            df_input['M'].iloc[i] = 0\n",
    "            df_input['F'].iloc[i] = 0\n",
    "            df_input['O'].iloc[i] = 1\n",
    "            \n",
    "    offers = model.predict(df_input)\n",
    "    \n",
    "    return offers\n",
    "\n",
    "test = recommend_offer(customer_age=32, customer_income=50000, customer_sex='M')"
   ]
  },
  {
   "cell_type": "code",
   "execution_count": 245,
   "id": "cee5bb19",
   "metadata": {},
   "outputs": [
    {
     "data": {
      "text/plain": [
       "array([0, 0, 0, 0, 0, 1, 1, 0, 0, 0], dtype=int64)"
      ]
     },
     "execution_count": 245,
     "metadata": {},
     "output_type": "execute_result"
    }
   ],
   "source": [
    "test"
   ]
  },
  {
   "cell_type": "code",
   "execution_count": null,
   "id": "088d3987",
   "metadata": {},
   "outputs": [],
   "source": []
  }
 ],
 "metadata": {
  "kernelspec": {
   "display_name": "Python 3 (ipykernel)",
   "language": "python",
   "name": "python3"
  },
  "language_info": {
   "codemirror_mode": {
    "name": "ipython",
    "version": 3
   },
   "file_extension": ".py",
   "mimetype": "text/x-python",
   "name": "python",
   "nbconvert_exporter": "python",
   "pygments_lexer": "ipython3",
   "version": "3.9.1"
  }
 },
 "nbformat": 4,
 "nbformat_minor": 5
}
