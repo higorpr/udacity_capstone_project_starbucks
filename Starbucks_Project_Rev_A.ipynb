{
 "cells": [
  {
   "cell_type": "markdown",
   "id": "2c20ba91",
   "metadata": {},
   "source": [
    "# Starbucks Capstone Challenge\n",
    "\n",
    "### Introduction\n",
    "\n",
    "This data set contains simulated data that mimics customer behavior on the Starbucks rewards mobile app. Once every few days, Starbucks sends out an offer to users of the mobile app. An offer can be merely an advertisement for a drink or an actual offer such as a discount or BOGO (buy one get one free). Some users might not receive any offer during certain weeks. \n",
    "\n",
    "Not all users receive the same offer, and that is the challenge to solve with this data set.\n",
    "\n",
    "Your task is to combine transaction, demographic and offer data to determine which demographic groups respond best to which offer type. This data set is a simplified version of the real Starbucks app because the underlying simulator only has one product whereas Starbucks actually sells dozens of products.\n",
    "\n",
    "Every offer has a validity period before the offer expires. As an example, a BOGO offer might be valid for only 5 days. You'll see in the data set that informational offers have a validity period even though these ads are merely providing information about a product; for example, if an informational offer has 7 days of validity, you can assume the customer is feeling the influence of the offer for 7 days after receiving the advertisement.\n",
    "\n",
    "You'll be given transactional data showing user purchases made on the app including the timestamp of purchase and the amount of money spent on a purchase. This transactional data also has a record for each offer that a user receives as well as a record for when a user actually views the offer. There are also records for when a user completes an offer. \n",
    "\n",
    "Keep in mind as well that someone using the app might make a purchase through the app without having received an offer or seen an offer.\n",
    "\n",
    "### Example\n",
    "\n",
    "To give an example, a user could receive a discount offer buy 10 dollars get 2 off on Monday. The offer is valid for 10 days from receipt. If the customer accumulates at least 10 dollars in purchases during the validity period, the customer completes the offer.\n",
    "\n",
    "However, there are a few things to watch out for in this data set. Customers do not opt into the offers that they receive; in other words, a user can receive an offer, never actually view the offer, and still complete the offer. For example, a user might receive the \"buy 10 dollars get 2 dollars off offer\", but the user never opens the offer during the 10 day validity period. The customer spends 15 dollars during those ten days. There will be an offer completion record in the data set; however, the customer was not influenced by the offer because the customer never viewed the offer.\n",
    "\n",
    "### Cleaning\n",
    "\n",
    "This makes data cleaning especially important and tricky.\n",
    "\n",
    "You'll also want to take into account that some demographic groups will make purchases even if they don't receive an offer. From a business perspective, if a customer is going to make a 10 dollar purchase without an offer anyway, you wouldn't want to send a buy 10 dollars get 2 dollars off offer. You'll want to try to assess what a certain demographic group will buy when not receiving any offers.\n",
    "\n",
    "### Final Advice\n",
    "\n",
    "Because this is a capstone project, you are free to analyze the data any way you see fit. For example, you could build a machine learning model that predicts how much someone will spend based on demographics and offer type. Or you could build a model that predicts whether or not someone will respond to an offer. Or, you don't need to build a machine learning model at all. You could develop a set of heuristics that determine what offer you should send to each customer (i.e., 75 percent of women customers who were 35 years old responded to offer A vs 40 percent from the same demographic to offer B, so send offer A)."
   ]
  },
  {
   "cell_type": "markdown",
   "id": "0919277b",
   "metadata": {},
   "source": [
    "# Data Sets\n",
    "\n",
    "The data is contained in three files:\n",
    "\n",
    "* portfolio.json - containing offer ids and meta data about each offer (duration, type, etc.)\n",
    "* profile.json - demographic data for each customer\n",
    "* transcript.json - records for transactions, offers received, offers viewed, and offers completed\n",
    "\n",
    "Here is the schema and explanation of each variable in the files:\n",
    "\n",
    "**portfolio.json**\n",
    "* id (string) - offer id\n",
    "* offer_type (string) - type of offer ie BOGO, discount, informational\n",
    "* difficulty (int) - minimum required spend to complete an offer\n",
    "* reward (int) - reward given for completing an offer\n",
    "* duration (int) - time for offer to be open, in days\n",
    "* channels (list of strings)\n",
    "\n",
    "**profile.json**\n",
    "* age (int) - age of the customer \n",
    "* became_member_on (int) - date when customer created an app account\n",
    "* gender (str) - gender of the customer (note some entries contain 'O' for other rather than M or F)\n",
    "* id (str) - customer id\n",
    "* income (float) - customer's income\n",
    "\n",
    "**transcript.json**\n",
    "* event (str) - record description (ie transaction, offer received, offer viewed, etc.)\n",
    "* person (str) - customer id\n",
    "* time (int) - time in hours since start of test. The data begins at time t=0\n",
    "* value - (dict of strings) - either an offer id or transaction amount depending on the record\n",
    "\n",
    "**Note:** If you are using the workspace, you will need to go to the terminal and run the command `conda update pandas` before reading in the files. This is because the version of pandas in the workspace cannot read in the transcript.json file correctly, but the newest version of pandas can. You can access the termnal from the orange icon in the top left of this notebook.  \n",
    "\n",
    "You can see how to access the terminal and how the install works using the two images below.  First you need to access the terminal:\n",
    "\n",
    "<img src=\"data/images/pic1.png\"/>\n",
    "\n",
    "Then you will want to run the above command:\n",
    "\n",
    "<img src=\"data/images/pic2.png\"/>\n",
    "\n",
    "Finally, when you enter back into the notebook (use the jupyter icon again), you should be able to run the below cell without any errors."
   ]
  },
  {
   "cell_type": "markdown",
   "id": "232c7458",
   "metadata": {},
   "source": [
    "# Importing libraries and reading files"
   ]
  },
  {
   "cell_type": "code",
   "execution_count": 1,
   "id": "740890e7",
   "metadata": {},
   "outputs": [],
   "source": [
    "import pandas as pd\n",
    "import numpy as np\n",
    "import matplotlib.pyplot as plt\n",
    "%matplotlib inline\n",
    "from datetime import datetime\n",
    "from collections import defaultdict\n",
    "import pickle\n",
    "import seaborn as sns\n",
    "\n",
    "pd.options.display.max_rows = 100 # Expanding to \"n\" the number of rows shown in the notebook using (.head(n))"
   ]
  },
  {
   "cell_type": "code",
   "execution_count": null,
   "id": "c2011e02",
   "metadata": {},
   "outputs": [],
   "source": [
    "# read in the json files\n",
    "portfolio = pd.read_json('data/portfolio.json', orient='records', lines=True)\n",
    "profile = pd.read_json('data/profile.json', orient='records', lines=True)\n",
    "transcript = pd.read_json('data/transcript.json', orient='records', lines=True)"
   ]
  },
  {
   "cell_type": "markdown",
   "id": "66f80450",
   "metadata": {},
   "source": [
    "# 0. Introduction to the Method"
   ]
  },
  {
   "cell_type": "markdown",
   "id": "29a9a9c8",
   "metadata": {},
   "source": [
    "The main objective of this work is to define which offers present in the portfolio dataframe better resonate with each demographic. The different demographics targeted in this study will defined during development while analyzing the information present of both profile and transactions dataframes. \n",
    "\n",
    "A supervised Machine Learning model will be used in order to define which are one's most effective offers if we provide any of the following information about this potential customer: the age, income or sex.\n",
    "\n",
    "\n",
    "As input information, we shall provide any or all of the customer's information (income, age or sex), if any information is missing, the mode of the missing paramenter will be used, filtered by a range of the other provided parameters (e.g. given sex = 'F' and age = 30, the income inputted in the model will be the mode of the income for female customers aged between 27 and 33).\n",
    "\n",
    "The output will be the the offers that would spark the customer's interest.\n",
    "\n",
    "The success/fail (1/0) criteria for the ML Model is not explicitly portrayed as a column in one of the dataframes. Therefore the \"y\" vector will be created based on conditions regarding the occurrence of transactions and interaction with sent offers.\n",
    "\n",
    "Cases considered as successes:\n",
    "1. No offer was sent but a transaction was still completed, that is, Starbucks saved money not sending the promotion and still made the sale, maximizing profit.\n",
    "2. An offer was sent and completed, resulting in a sale, before the end of the validity period (after this period, we consider that the promotional offer had no effect over the transaction.\n",
    "\n",
    "Cases considered as failures:\n",
    "1. An offer was sent but no transaction resulted from it, that is, the offer was just \"sent\" or \"viewed\" and **not** \"completed\".\n",
    "2. An offer was sent, a transaction occurred, but the customer never actually viewed the offer, meaning that the purchase would have been made despite the promotion."
   ]
  },
  {
   "cell_type": "markdown",
   "id": "d7dc5799",
   "metadata": {},
   "source": [
    "# 1. Initial Data Examination"
   ]
  },
  {
   "cell_type": "markdown",
   "id": "b725a29a",
   "metadata": {},
   "source": [
    "In this section I examine the data and understand how it is assembled."
   ]
  },
  {
   "cell_type": "markdown",
   "id": "6318e42c",
   "metadata": {},
   "source": [
    "## 1.1 Portfolio Dataframe\n",
    "\n",
    "This dataframe holds the **offers** information."
   ]
  },
  {
   "cell_type": "markdown",
   "id": "b079c85c",
   "metadata": {},
   "source": [
    "### 1.1.1 Portfolio Info:"
   ]
  },
  {
   "cell_type": "code",
   "execution_count": null,
   "id": "68cadee8",
   "metadata": {},
   "outputs": [],
   "source": [
    "print(portfolio.shape)"
   ]
  },
  {
   "cell_type": "code",
   "execution_count": null,
   "id": "95130f65",
   "metadata": {},
   "outputs": [],
   "source": [
    "portfolio.head(10)"
   ]
  },
  {
   "cell_type": "code",
   "execution_count": null,
   "id": "27dde9ae",
   "metadata": {},
   "outputs": [],
   "source": [
    "portfolio.info()"
   ]
  },
  {
   "cell_type": "code",
   "execution_count": null,
   "id": "af0863d4",
   "metadata": {},
   "outputs": [],
   "source": [
    "portfolio.describe()"
   ]
  },
  {
   "cell_type": "markdown",
   "id": "a72a8088",
   "metadata": {},
   "source": [
    "## 1.2 Profile Dataframe\n",
    "\n",
    "This dataframe holds the **customers** information."
   ]
  },
  {
   "cell_type": "markdown",
   "id": "74b9173d",
   "metadata": {},
   "source": [
    "### 1.2.1 Profile Dataframe Info"
   ]
  },
  {
   "cell_type": "code",
   "execution_count": null,
   "id": "0459c350",
   "metadata": {},
   "outputs": [],
   "source": [
    "profile.shape"
   ]
  },
  {
   "cell_type": "code",
   "execution_count": null,
   "id": "88ef2efc",
   "metadata": {},
   "outputs": [],
   "source": [
    "profile.head()"
   ]
  },
  {
   "cell_type": "code",
   "execution_count": null,
   "id": "1a802d0b",
   "metadata": {},
   "outputs": [],
   "source": [
    "profile.info()"
   ]
  },
  {
   "cell_type": "code",
   "execution_count": null,
   "id": "ed196c97",
   "metadata": {},
   "outputs": [],
   "source": [
    "profile.describe()"
   ]
  },
  {
   "cell_type": "code",
   "execution_count": null,
   "id": "abc468a3",
   "metadata": {},
   "outputs": [],
   "source": [
    "# Pie chart visualization of gender column\n",
    "total = profile[profile['gender'].isna() == False].shape[0]\n",
    "labels = ['Male', 'Female', 'Other']\n",
    "M_perc = profile[profile['gender'] == 'M'].shape[0] / total\n",
    "F_perc = profile[profile['gender'] == 'F'].shape[0] / total\n",
    "O_perc = profile[profile['gender'] == 'O'].shape[0] / total\n",
    "data = [M_perc, F_perc , O_perc]\n",
    "explode = (0, 0, 0.3)\n",
    "colors = sns.color_palette('pastel')[0:3]\n",
    "\n",
    "fig1, ax1 = plt.subplots()\n",
    "\n",
    "plt.pie(data, labels = labels, colors = colors, explode=explode, radius=1.4, autopct='%.2f%%',normalize=False)\n",
    "# ax1.axis('equal')  # Equal aspect ratio ensures that pie is drawn as a circle.\n",
    "\n",
    "plt.show()"
   ]
  },
  {
   "cell_type": "code",
   "execution_count": null,
   "id": "7aa837c8",
   "metadata": {},
   "outputs": [],
   "source": [
    "#Histogram for age:\n",
    "sns.histplot(data=profile[profile['age'] != 118]['age'],bins=20)"
   ]
  },
  {
   "cell_type": "code",
   "execution_count": null,
   "id": "af31fe8d",
   "metadata": {},
   "outputs": [],
   "source": [
    "print(profile[profile['age'] != 118]['age'].mean())\n",
    "print(profile[profile['age'] != 118]['age'].var())\n",
    "print(profile[profile['age'] != 118]['age'].std())"
   ]
  },
  {
   "cell_type": "code",
   "execution_count": null,
   "id": "b49a5f2a",
   "metadata": {},
   "outputs": [],
   "source": [
    "#Histogram for income:\n",
    "sns.histplot(profile['income'],bins=20)"
   ]
  },
  {
   "cell_type": "code",
   "execution_count": null,
   "id": "4666ea23",
   "metadata": {},
   "outputs": [],
   "source": [
    "print(profile['income'].mean())\n",
    "print(profile['income'].var())\n",
    "print(profile['income'].std())"
   ]
  },
  {
   "cell_type": "markdown",
   "id": "31d7d1aa",
   "metadata": {},
   "source": [
    "## 1.3 Transcript Dataframe \n",
    "\n",
    "This dataframe holds the records of the **transactions**."
   ]
  },
  {
   "cell_type": "markdown",
   "id": "6f3063d8",
   "metadata": {},
   "source": [
    "### 1.3.1 Transcript Dataframe Info"
   ]
  },
  {
   "cell_type": "code",
   "execution_count": null,
   "id": "658d21d8",
   "metadata": {},
   "outputs": [],
   "source": [
    "transcript.shape"
   ]
  },
  {
   "cell_type": "code",
   "execution_count": null,
   "id": "bb47f60d",
   "metadata": {},
   "outputs": [],
   "source": [
    "transcript.head()"
   ]
  },
  {
   "cell_type": "code",
   "execution_count": null,
   "id": "9a3330b7",
   "metadata": {},
   "outputs": [],
   "source": [
    "transcript.info()"
   ]
  },
  {
   "cell_type": "code",
   "execution_count": null,
   "id": "07cb942c",
   "metadata": {},
   "outputs": [],
   "source": [
    "transcript.describe()"
   ]
  },
  {
   "cell_type": "markdown",
   "id": "031f60ef",
   "metadata": {},
   "source": [
    "# 2. Data Wrangling\n",
    "\n",
    "In this section, the data will be analyzed and prepared for the next steps."
   ]
  },
  {
   "cell_type": "markdown",
   "id": "90c60c01",
   "metadata": {},
   "source": [
    "## 2.1 Data Formatting"
   ]
  },
  {
   "cell_type": "markdown",
   "id": "cca663d3",
   "metadata": {},
   "source": [
    "### 2.1.1 Portfolio dataframe"
   ]
  },
  {
   "cell_type": "markdown",
   "id": "1a90768d",
   "metadata": {},
   "source": [
    "Turning the codes used for offer ids into a more convenient sequence:"
   ]
  },
  {
   "cell_type": "code",
   "execution_count": null,
   "id": "137e42b3",
   "metadata": {},
   "outputs": [],
   "source": [
    "# Create dictionary of offer_ids:\n",
    "offer_ids = dict()\n",
    "for i, offer_id in enumerate(portfolio.id.unique()):\n",
    "    offer_ids[offer_id] = i+1"
   ]
  },
  {
   "cell_type": "code",
   "execution_count": null,
   "id": "a2d8eb0d",
   "metadata": {},
   "outputs": [],
   "source": [
    "# Insert offer id values on portfolio dataframe:\n",
    "portfolio.id = portfolio.id.apply(lambda entry: offer_ids[entry])"
   ]
  },
  {
   "cell_type": "code",
   "execution_count": null,
   "id": "f97938f4",
   "metadata": {},
   "outputs": [],
   "source": [
    "# Reordering and renaming the columns for easier data visualization:\n",
    "port_cols = ['id', 'offer_type', 'reward', 'difficulty', 'duration', 'channels']\n",
    "portfolio = portfolio[port_cols]\n",
    "portfolio.columns = ['offer_id', 'offer_type', 'reward', 'difficulty', 'duration', 'channels']"
   ]
  },
  {
   "cell_type": "markdown",
   "id": "6245987e",
   "metadata": {},
   "source": [
    "Since the time in the transcript dataframe is in hours, the validity period of each offer in the portfolio dataframe must be converted to hours to be compared in the next steps."
   ]
  },
  {
   "cell_type": "code",
   "execution_count": null,
   "id": "77dd2a5b",
   "metadata": {},
   "outputs": [],
   "source": [
    "# Transforming the \"duration\" column from days to hours\n",
    "portfolio.duration = portfolio.duration.apply(lambda entry: entry*24)"
   ]
  },
  {
   "cell_type": "markdown",
   "id": "4222f97b",
   "metadata": {},
   "source": [
    "### 2.1.2 Profile dataframe"
   ]
  },
  {
   "cell_type": "markdown",
   "id": "2fee3faa",
   "metadata": {},
   "source": [
    "Turning the code used for client ids into a logical sequence: "
   ]
  },
  {
   "cell_type": "code",
   "execution_count": null,
   "id": "9a3f591f",
   "metadata": {},
   "outputs": [],
   "source": [
    "# Create dictionary of client_ids:\n",
    "client_ids = dict()\n",
    "for i, client_id in enumerate(profile.id.unique()):\n",
    "    client_ids[client_id] = i"
   ]
  },
  {
   "cell_type": "code",
   "execution_count": null,
   "id": "62ef19f0",
   "metadata": {},
   "outputs": [],
   "source": [
    "# Insert user id values on profile dataframe:\n",
    "profile.id = profile.id.apply(lambda entry: client_ids[entry])"
   ]
  },
  {
   "cell_type": "code",
   "execution_count": null,
   "id": "f6cf1ad9",
   "metadata": {},
   "outputs": [],
   "source": [
    "profile.head()"
   ]
  },
  {
   "cell_type": "markdown",
   "id": "7b58dcd2",
   "metadata": {},
   "source": [
    "Defining fidelity levels based on the \"became_member_on\" column dates:\n",
    "\n",
    "- Between 29/07/2013 (First date) and 28/07/2014 : Level 1\n",
    "- Between 29/07/2014 and 28/07/2015 : Level 2\n",
    "- Between 29/07/2015 and 28/07/2016 : Level 3\n",
    "- Between 29/07/2016 and 28/07/2017 : Level 4\n",
    "- Between 29/07/2017 and 26/07/2018 (Last date) : Level 5"
   ]
  },
  {
   "cell_type": "code",
   "execution_count": null,
   "id": "fdc18d7d",
   "metadata": {},
   "outputs": [],
   "source": [
    "profile['fidelity'] = 0\n",
    "for idx, series in profile.iterrows():\n",
    "    if series['became_member_on'] - 20130729 <= 9999:\n",
    "        profile['fidelity'].loc[idx] = 1\n",
    "    elif series['became_member_on'] - 20140729 <= 9999:\n",
    "        profile['fidelity'].loc[idx] = 2\n",
    "    elif series['became_member_on'] - 20150729 <= 9999:\n",
    "        profile['fidelity'].loc[idx] = 3\n",
    "    elif series['became_member_on'] - 20160729 <= 9999:\n",
    "        profile['fidelity'].loc[idx] = 4\n",
    "    else:\n",
    "        profile['fidelity'].loc[idx] = 5"
   ]
  },
  {
   "cell_type": "code",
   "execution_count": null,
   "id": "045286f8",
   "metadata": {},
   "outputs": [],
   "source": [
    "try:\n",
    "    profile.drop(columns='became_member_on',inplace=True)\n",
    "except:\n",
    "    pass"
   ]
  },
  {
   "cell_type": "code",
   "execution_count": null,
   "id": "be9cb0b2",
   "metadata": {},
   "outputs": [],
   "source": [
    "# Reordering columns for better visualization:\n",
    "try:\n",
    "    pro_cols = ['id', 'gender', 'age', 'income', 'fidelity']\n",
    "    profile = profile[pro_cols]\n",
    "    profile.columns = ['customer_id', 'gender', 'age', 'income', 'fidelity']\n",
    "except:\n",
    "    pass\n",
    "\n",
    "profile.head()"
   ]
  },
  {
   "cell_type": "code",
   "execution_count": null,
   "id": "b9697e19",
   "metadata": {},
   "outputs": [],
   "source": [
    "# Fidelity histogram:\n",
    "sns.histplot(data=profile['fidelity'])"
   ]
  },
  {
   "cell_type": "markdown",
   "id": "36ced5e8",
   "metadata": {},
   "source": [
    "### 2.1.3 Transcript dataframe"
   ]
  },
  {
   "cell_type": "code",
   "execution_count": null,
   "id": "d8f14df9",
   "metadata": {},
   "outputs": [],
   "source": [
    "# Insert user id values on transcript dataframes:\n",
    "transcript.person = transcript.person.apply(lambda entry: client_ids[entry])"
   ]
  },
  {
   "cell_type": "markdown",
   "id": "bd428e4e",
   "metadata": {},
   "source": [
    "Cleaning the \"value\" column on transcript dataframe:\n",
    "\n",
    "This column was comprised of dicts, which were not so easily handled and were presenting information that could be understood from other columns on the dataframe. Therefore, I decided to simply it by turning it into a column of lists, where the lists' entries are the offer sent and the amount spent by the customer targeted (in the cases where no offer was sent, but there was some kind of transaction, there will be only the amount spent; the same principle is applied for cases where an offer was sent, but there was no actual transaction)."
   ]
  },
  {
   "cell_type": "code",
   "execution_count": null,
   "id": "825d7922",
   "metadata": {},
   "outputs": [],
   "source": [
    "transcript.value"
   ]
  },
  {
   "cell_type": "code",
   "execution_count": null,
   "id": "a17f850e",
   "metadata": {},
   "outputs": [],
   "source": [
    "# Create list of dictionary values in transcript \"value\" column:\n",
    "values = list()\n",
    "for entry in transcript.value:\n",
    "    values.append(list(entry.values()))"
   ]
  },
  {
   "cell_type": "code",
   "execution_count": null,
   "id": "b6f149f1",
   "metadata": {},
   "outputs": [],
   "source": [
    "# Replacing the entries in column values with recently created list:\n",
    "transcript.value = values"
   ]
  },
  {
   "cell_type": "markdown",
   "id": "e4ac9bfb",
   "metadata": {},
   "source": [
    "Splitting the \"value\" column:\n",
    "\n",
    "The column was modified and now it is formed by a list in each row. For the rows where \"event\" is \"offer completed\", the list is comprised of both the offer code and the amount spent on by the customer. Therefore, for better data handling, I chose to split the \"value\" column into two columns: \"offer_id\" and \"spent\". In the cases where no offer was sent, the value for \"offer_id\" will be 0. Alternatively, in cases where no transaction was carried, the \"spent\" column will have its value as 0."
   ]
  },
  {
   "cell_type": "code",
   "execution_count": null,
   "id": "1d5189a7",
   "metadata": {},
   "outputs": [],
   "source": [
    "# Creating columns:\n",
    "transcript['offer_id'] = 0\n",
    "transcript['spent'] = 0\n",
    "\n",
    "# Going through the values in \"value\" column and filling the new columns:\n",
    "for i, lista in enumerate(transcript.value):\n",
    "    for item in lista:\n",
    "        if type(item) == str:\n",
    "            transcript['offer_id'].iloc[i] = item\n",
    "        else:\n",
    "            transcript['spent'].iloc[i] = item"
   ]
  },
  {
   "cell_type": "markdown",
   "id": "5b4a4de1",
   "metadata": {},
   "source": [
    "Turning the offer_id code into the offer_ids in the portfolio dataframe:"
   ]
  },
  {
   "cell_type": "code",
   "execution_count": null,
   "id": "0e4ad2c6",
   "metadata": {},
   "outputs": [],
   "source": [
    "# Adding key:value 0:0 to account for transaction rows.\n",
    "offer_ids[0] = 0 \n",
    "\n",
    "# Insert offer id values into the transcript dataframe:\n",
    "transcript.offer_id = transcript.offer_id.apply(lambda entry: offer_ids[entry])\n"
   ]
  },
  {
   "cell_type": "code",
   "execution_count": null,
   "id": "092b36af",
   "metadata": {},
   "outputs": [],
   "source": [
    "# Dropping 'value' column, since the values on it are already separated:\n",
    "try:\n",
    "    transcript.drop(columns='value',inplace=True)\n",
    "except:\n",
    "    pass"
   ]
  },
  {
   "cell_type": "code",
   "execution_count": null,
   "id": "23146cc9",
   "metadata": {},
   "outputs": [],
   "source": [
    "# Reoredering the columns for easier data handling:\n",
    "trans_cols = ['person', 'event', 'offer_id', 'time', 'spent']\n",
    "transcript = transcript[trans_cols]\n",
    "transcript.columns = ['customer_id', 'event', 'offer_id', 'time', 'spent']"
   ]
  },
  {
   "cell_type": "markdown",
   "id": "21330daa",
   "metadata": {},
   "source": [
    "## 2.2 Treating NaNs"
   ]
  },
  {
   "cell_type": "markdown",
   "id": "50a04544",
   "metadata": {},
   "source": [
    "### 2.2.1 Profile Dataframe"
   ]
  },
  {
   "cell_type": "code",
   "execution_count": null,
   "id": "e121eb92",
   "metadata": {},
   "outputs": [],
   "source": [
    "transcript.head()"
   ]
  },
  {
   "cell_type": "code",
   "execution_count": null,
   "id": "e8a06cab",
   "metadata": {},
   "outputs": [],
   "source": [
    "profile.head()"
   ]
  },
  {
   "cell_type": "code",
   "execution_count": null,
   "id": "2bf6426e",
   "metadata": {},
   "outputs": [],
   "source": [
    "print(profile[(profile['age'] == 118)]['customer_id'].count())\n",
    "print(profile.income.isna().sum())\n",
    "print(profile.gender.isna().sum())\n",
    "print(profile[(profile['age'] == 118) & (profile.income.isna()) & (profile.gender.isna())]['customer_id'].count())"
   ]
  },
  {
   "cell_type": "markdown",
   "id": "93ee7354",
   "metadata": {},
   "source": [
    "This value of 2175 customers, when compared to the totality of customers in the database, corresponds to:"
   ]
  },
  {
   "cell_type": "code",
   "execution_count": null,
   "id": "4c0a7254",
   "metadata": {},
   "outputs": [],
   "source": [
    "perc_nan = profile[(profile['age'] == 118) & (profile.income.isna()) & (profile.gender.isna())]['customer_id'].count() / profile.shape[0]\n",
    "print(round(100 * perc_nan, 2),'% of all customers in the database.')"
   ]
  },
  {
   "cell_type": "markdown",
   "id": "9f04920c",
   "metadata": {},
   "source": [
    "It is clear that the customers that did not provide age, did the same to gender and income, since the counts for the rows where these features were simultaneously null has the same value of the row counts where these features were individually null.\n",
    "\n",
    "Therefore, the only information we have about these customers is the date he/she became a member. Hence, I will check for the frequency of appearence of these customers (I'll refer to them as \"NaN customers\") on the transcript dataframe (divided by \"event\"):"
   ]
  },
  {
   "cell_type": "code",
   "execution_count": null,
   "id": "7bb20847",
   "metadata": {},
   "outputs": [],
   "source": [
    "# Getting the customers ids:\n",
    "profile_nan_ids = np.array(profile[(profile['age'] == 118) & (profile.income.isna()) & (profile.gender.isna())]['customer_id'])\n",
    "\n",
    "# Checking the transactions done by the \"nan_ids\":\n",
    "nan_ids_df = transcript[transcript.customer_id.isin(profile_nan_ids)]"
   ]
  },
  {
   "cell_type": "code",
   "execution_count": null,
   "id": "df60ec3c",
   "metadata": {},
   "outputs": [],
   "source": [
    "nan_transaction = nan_ids_df[nan_ids_df['event'] == 'transaction'].shape[0]\n",
    "transcript_transaction = transcript[transcript['event'] == 'transaction'].shape[0]\n",
    "\n",
    "nan_received = nan_ids_df[nan_ids_df['event'] == 'offer received'].shape[0]\n",
    "transcript_received = transcript[transcript['event'] == 'offer received'].shape[0]\n",
    "\n",
    "nan_viewed = nan_ids_df[nan_ids_df['event'] == 'offer viewed'].shape[0]\n",
    "transcript_viewed = transcript[transcript['event'] == 'offer viewed'].shape[0]\n",
    "\n",
    "nan_completed = nan_ids_df[nan_ids_df['event'] == 'offer completed'].shape[0]\n",
    "transcript_completed = transcript[transcript['event'] == 'offer completed'].shape[0]\n",
    "\n",
    "print('The percentage of \"offerless\" transactions carried by NaN customers is', round(100 * nan_transaction / transcript_transaction,3),'% out of all the \"offerless\" transactions.\\n')\n",
    "print('The percentage of offers received by NaN customers is', round(100 * nan_received / transcript_received,3),'% of all offers received. \\n')\n",
    "print('The percentage of offers received and viewed by NaN Users is', round(100 * nan_viewed / transcript_viewed,3),'% of all offers that were both received and viewed. \\n')\n",
    "print('The percentage of offers that were received, viewed and completed by NaN customers is', round(100 * nan_completed / transcript_completed,3),'% of all offers that share these events. \\n')"
   ]
  },
  {
   "cell_type": "markdown",
   "id": "8da17e96",
   "metadata": {},
   "source": [
    "Percentages of customers divided by event:"
   ]
  },
  {
   "cell_type": "code",
   "execution_count": null,
   "id": "0c893a1a",
   "metadata": {},
   "outputs": [],
   "source": [
    "total = transcript.shape[0]\n",
    "perc_transaction = transcript_transaction / total\n",
    "perc_received = transcript_received / total\n",
    "perc_viewed = transcript_viewed / total\n",
    "perc_completed = transcript_completed / total\n",
    "print('The percentage of transactions completed w/o receiving any offers is',round(100 * perc_transaction, 2),'% out of all the entries for offers and transctions.\\n')\n",
    "print('The percentage of offers received that were not viewed is',round(100 * perc_received, 2),'% out of all transactions and offers.\\n')\n",
    "print('The percentage of offers that were viewed is',round(100 * perc_viewed, 2),'% out of all entries for transactions or offers.\\n')\n",
    "print('The percentage of completed offers is',round(100 * perc_completed, 2),'% out of all transactions or offers.\\n')"
   ]
  },
  {
   "cell_type": "markdown",
   "id": "1c7f3e4d",
   "metadata": {},
   "source": [
    "Finally, I'll check the percentage of transactions made by NaN customers."
   ]
  },
  {
   "cell_type": "code",
   "execution_count": null,
   "id": "5770e9d3",
   "metadata": {},
   "outputs": [],
   "source": [
    "print(round(100*(nan_transaction + nan_received + nan_viewed + nan_completed) / transcript.shape[0],3),'%')"
   ]
  },
  {
   "cell_type": "markdown",
   "id": "6eb5e0a3",
   "metadata": {},
   "source": [
    "Since the available information about NaN customers is very scarse and the percentuals for transactions, offers completed, viewed and received are also not great, I chose to drop both the customer ids from the profile database as well as the transactions done by these customers from the transcript database."
   ]
  },
  {
   "cell_type": "code",
   "execution_count": null,
   "id": "8959ae11",
   "metadata": {},
   "outputs": [],
   "source": [
    "# Dropping NaN customers from profile dataframe:\n",
    "\n",
    "# Get index of NaN customers rows:\n",
    "profile_nan_index = profile[profile['customer_id'].isin(profile_nan_ids)].index"
   ]
  },
  {
   "cell_type": "code",
   "execution_count": null,
   "id": "fa734582",
   "metadata": {},
   "outputs": [],
   "source": [
    "# Droping profile rows:\n",
    "profile.drop(index=profile_nan_index, inplace=True)"
   ]
  },
  {
   "cell_type": "code",
   "execution_count": null,
   "id": "41d14620",
   "metadata": {},
   "outputs": [],
   "source": [
    "# NaN check:\n",
    "profile.isna().sum()"
   ]
  },
  {
   "cell_type": "markdown",
   "id": "367ba966",
   "metadata": {},
   "source": [
    "With that, I have cleaned the profile dataframe from NaN values."
   ]
  },
  {
   "cell_type": "code",
   "execution_count": null,
   "id": "64cce7f8",
   "metadata": {},
   "outputs": [],
   "source": [
    "# Dropping NaN customers from transcript dataframe:\n",
    "\n",
    "# Get index of NaN customers rows:\n",
    "transcript_nan_index = transcript[transcript['customer_id'].isin(profile_nan_ids)].index"
   ]
  },
  {
   "cell_type": "code",
   "execution_count": null,
   "id": "66d7e26a",
   "metadata": {},
   "outputs": [],
   "source": [
    "# Droping transcript rows:\n",
    "transcript.drop(index=transcript_nan_index, inplace=True)"
   ]
  },
  {
   "cell_type": "code",
   "execution_count": null,
   "id": "68053fd4",
   "metadata": {},
   "outputs": [],
   "source": [
    "# NaN check:\n",
    "transcript.isna().sum()"
   ]
  },
  {
   "cell_type": "markdown",
   "id": "0f98a379",
   "metadata": {},
   "source": [
    "With that, I have suited the transcript dataframe to the current NaN free profile dataframe.\n",
    "\n",
    "Checking the differences of the profile dataframe before and after NaN removal, we have:"
   ]
  },
  {
   "cell_type": "code",
   "execution_count": null,
   "id": "9dc27b9f",
   "metadata": {},
   "outputs": [],
   "source": [
    "# Checking the general state of the profile dataframe after NaN removal.\n",
    "profile.describe()"
   ]
  },
  {
   "cell_type": "markdown",
   "id": "ba768407",
   "metadata": {},
   "source": [
    "Comparing the \"income\" and \"age\" columns from the 'profile.describe()' from the Initial Data Examination section:\n",
    "\n",
    "<img src=\"data/images/profile_describe_initial.png\"/>\n",
    "\n",
    "We observe that:\n",
    "1. The income values have not changed, proving that the NaN values were correctly removed and they were really not influencing the parameters in any way.\n",
    "2. The age values saw differences on the percentiles values, since the value of 118 was being used as NaN placeholder. With the NaN values gone, the parameters hold way more meaning in our analysis."
   ]
  },
  {
   "cell_type": "markdown",
   "id": "f3a71d5e",
   "metadata": {},
   "source": [
    "## 2.3 Categorical Variables Dummyfication\n",
    "\n",
    "In this subsection I will analyze and assess the categorical variables that will need undergo the process of dummyfication, performing it afterwards."
   ]
  },
  {
   "cell_type": "markdown",
   "id": "5ddb426d",
   "metadata": {},
   "source": [
    "### 2.3.1 Portfolio Dataframe:"
   ]
  },
  {
   "cell_type": "code",
   "execution_count": null,
   "id": "1f499b59",
   "metadata": {},
   "outputs": [],
   "source": [
    "# Dummyfythe channels column:\n",
    "\n",
    "# Getting the values in the lists of the column:\n",
    "media = set()\n",
    "for lista in portfolio.channels:\n",
    "    for entry in lista:\n",
    "        media.add(entry)\n",
    "\n",
    "# Creating dummy columns:\n",
    "portfolio[list(media)] = 0\n",
    "\n",
    "# Creating dummy values:\n",
    "for index, lista in enumerate(portfolio.channels):\n",
    "    for entry in lista:\n",
    "        portfolio.loc[index, entry] = 1"
   ]
  },
  {
   "cell_type": "code",
   "execution_count": null,
   "id": "3979707e",
   "metadata": {},
   "outputs": [],
   "source": [
    "# Remove channels column:\n",
    "portfolio.drop(columns='channels', inplace=True)"
   ]
  },
  {
   "cell_type": "code",
   "execution_count": null,
   "id": "703657b8",
   "metadata": {},
   "outputs": [],
   "source": [
    "# Rename dummy columns:\n",
    "portfolio.columns = ['offer_id', 'offer_type', 'reward', 'difficulty', 'duration', 'channel_web',\n",
    "       'channel_social', 'channel_email', 'channel_mobile']"
   ]
  },
  {
   "cell_type": "code",
   "execution_count": null,
   "id": "d61bff32",
   "metadata": {},
   "outputs": [],
   "source": [
    "portfolio.head()"
   ]
  },
  {
   "cell_type": "markdown",
   "id": "db702754",
   "metadata": {},
   "source": [
    "### 2.3.2 Profile Dataframe:"
   ]
  },
  {
   "cell_type": "code",
   "execution_count": null,
   "id": "8e43739b",
   "metadata": {},
   "outputs": [],
   "source": [
    "# Dummyfying the gender column:\n",
    "profile[['F', 'M', 'O']] = pd.get_dummies(profile['gender'], prefix='gender')"
   ]
  },
  {
   "cell_type": "code",
   "execution_count": null,
   "id": "11b9cddd",
   "metadata": {},
   "outputs": [],
   "source": [
    "# Dropping the column:\n",
    "profile.drop(columns='gender', inplace=True)"
   ]
  },
  {
   "cell_type": "code",
   "execution_count": null,
   "id": "74e9836e",
   "metadata": {},
   "outputs": [],
   "source": [
    "profile.head()"
   ]
  },
  {
   "cell_type": "markdown",
   "id": "7a8a1a0b",
   "metadata": {},
   "source": [
    "### 2.3.3 Transcript Dataframe:"
   ]
  },
  {
   "cell_type": "markdown",
   "id": "b874747a",
   "metadata": {},
   "source": [
    "Since I intend to use the response of a customer to a type of offer as a measure of success, it is interesting to get the dummy variables of the \"event\" column.\n",
    "\n",
    "I will not drop any dummy column because they are not linearly dependent, for there can be a transaction in the event of whether a customer received an offer or not."
   ]
  },
  {
   "cell_type": "code",
   "execution_count": null,
   "id": "db7f9853",
   "metadata": {},
   "outputs": [],
   "source": [
    "transcript.head()"
   ]
  },
  {
   "cell_type": "code",
   "execution_count": null,
   "id": "de8a5979",
   "metadata": {},
   "outputs": [],
   "source": [
    "# Creating dummy columns and variables:\n",
    "transcript[['offer_completed', 'offer_received', 'offer_viewed', 'transaction']] = pd.get_dummies(transcript['event'])"
   ]
  },
  {
   "cell_type": "code",
   "execution_count": null,
   "id": "7ed33693",
   "metadata": {},
   "outputs": [],
   "source": [
    "# Dropping the event column:\n",
    "try: \n",
    "    transcript.drop(columns='event', inplace=True)\n",
    "except:\n",
    "    pass"
   ]
  },
  {
   "cell_type": "code",
   "execution_count": null,
   "id": "d3d6b50a",
   "metadata": {},
   "outputs": [],
   "source": [
    "# Reordering the columns for better visualization:\n",
    "trans_cols = ['customer_id', 'offer_id','offer_received','offer_viewed', 'offer_completed', \n",
    "                      'transaction', 'time', 'spent']\n",
    "transcript = transcript[trans_cols]"
   ]
  },
  {
   "cell_type": "code",
   "execution_count": null,
   "id": "bdfdeaa8",
   "metadata": {},
   "outputs": [],
   "source": [
    "transcript.head()"
   ]
  },
  {
   "cell_type": "markdown",
   "id": "49fd2415",
   "metadata": {},
   "source": [
    "## 2.4 Final Wrangling"
   ]
  },
  {
   "cell_type": "markdown",
   "id": "78884ac5",
   "metadata": {},
   "source": [
    "In this subsection, any data wrangling that was not performed on previous steps due to dependency of previous processes:"
   ]
  },
  {
   "cell_type": "markdown",
   "id": "770bad2e",
   "metadata": {},
   "source": [
    "### 2.4.1 Profile Dataframe"
   ]
  },
  {
   "cell_type": "markdown",
   "id": "641bcdd5",
   "metadata": {},
   "source": [
    "#### Age Range\n",
    "\n",
    "Here, I will reduce the a range to avoid overspecialization in the classification process."
   ]
  },
  {
   "cell_type": "code",
   "execution_count": null,
   "id": "399f9334",
   "metadata": {},
   "outputs": [],
   "source": [
    "profile.head()"
   ]
  },
  {
   "cell_type": "code",
   "execution_count": null,
   "id": "3b88e3f7",
   "metadata": {},
   "outputs": [],
   "source": [
    "# Number of different ages in the dataframe:\n",
    "profile.age.unique().size"
   ]
  },
  {
   "cell_type": "code",
   "execution_count": null,
   "id": "f83d9f17",
   "metadata": {},
   "outputs": [],
   "source": [
    "# Age Range:\n",
    "print('Min age:',profile.age.min(),'/ Max age:', profile.age.max())"
   ]
  },
  {
   "cell_type": "code",
   "execution_count": null,
   "id": "501f0ed8",
   "metadata": {},
   "outputs": [],
   "source": [
    "plt.hist(profile.age)"
   ]
  },
  {
   "cell_type": "markdown",
   "id": "d30c4a00",
   "metadata": {},
   "source": [
    "The age range will be divided into 4 categories:\n",
    "\n",
    "- Between 18 and 40 years old (Young Adults / Adults): Category 1\n",
    "- Between 40 and 60 years old (Middle Age Adults): Category 2\n",
    "- Between 60 and 80 years old (Old Adults): Category 3\n",
    "- Between 80 and 101 years old (Elderly): Category 4"
   ]
  },
  {
   "cell_type": "code",
   "execution_count": null,
   "id": "4f674a23",
   "metadata": {},
   "outputs": [],
   "source": [
    "# Creating age range list:\n",
    "range_ages = list()\n",
    "\n",
    "for age in profile.age:\n",
    "    if age > 18 and age <= 40:\n",
    "        range_ages.append(1)\n",
    "    elif age > 40 and age <= 60:\n",
    "        range_ages.append(2)\n",
    "    elif age > 60 and age <= 80:\n",
    "        range_ages.append(3)\n",
    "    else:\n",
    "        range_ages.append(4)\n",
    "\n",
    "# Adding column to profile dataframe\n",
    "profile['age_range'] = 0\n",
    "profile.age_range = range_ages"
   ]
  },
  {
   "cell_type": "code",
   "execution_count": null,
   "id": "c71daf27",
   "metadata": {},
   "outputs": [],
   "source": [
    "# Dropping age column:\n",
    "try:\n",
    "    profile.drop(columns='age', inplace=True)\n",
    "except:\n",
    "    pass"
   ]
  },
  {
   "cell_type": "code",
   "execution_count": null,
   "id": "0de0c7cb",
   "metadata": {},
   "outputs": [],
   "source": [
    "profile.head()"
   ]
  },
  {
   "cell_type": "markdown",
   "id": "ca975f5b",
   "metadata": {},
   "source": [
    "#### Income range\n",
    "\n",
    "Repeating the same process done for the age variable."
   ]
  },
  {
   "cell_type": "code",
   "execution_count": null,
   "id": "6b7994e1",
   "metadata": {},
   "outputs": [],
   "source": [
    "# Number of different incomes in the dataframe:\n",
    "profile.income.unique().size"
   ]
  },
  {
   "cell_type": "code",
   "execution_count": null,
   "id": "87a0a142",
   "metadata": {},
   "outputs": [],
   "source": [
    "# Income Range:\n",
    "print('Min income:',profile.income.min(),'/ Max income:', profile.income.max())"
   ]
  },
  {
   "cell_type": "code",
   "execution_count": null,
   "id": "e9c2ca26",
   "metadata": {},
   "outputs": [],
   "source": [
    "plt.hist(profile.income)"
   ]
  },
  {
   "cell_type": "markdown",
   "id": "31e98809",
   "metadata": {},
   "source": [
    "The income range will be divided into 4 categories:\n",
    "\n",
    "- Between 30,000 and 50,000: Category 1\n",
    "- Between 50,000 and 70,000: Category 2\n",
    "- Between 70,000 and 90,000: Category 3\n",
    "- Between 90,000 and 120,000: Category 4"
   ]
  },
  {
   "cell_type": "code",
   "execution_count": null,
   "id": "55ac79c1",
   "metadata": {},
   "outputs": [],
   "source": [
    "# Creating income range list:\n",
    "range_incomes = list()\n",
    "\n",
    "for income in profile.income:\n",
    "    if income > 30000 and income <= 50000:\n",
    "        range_incomes.append(1)\n",
    "    elif income > 50000 and income <= 70000:\n",
    "        range_incomes.append(2)\n",
    "    elif income > 70000 and income <= 90000:\n",
    "        range_incomes.append(3)\n",
    "    else:\n",
    "        range_incomes.append(4)\n",
    "\n",
    "# Adding column to profile dataframe\n",
    "profile['income_range'] = 0\n",
    "profile.income_range = range_incomes"
   ]
  },
  {
   "cell_type": "code",
   "execution_count": null,
   "id": "f384a2eb",
   "metadata": {},
   "outputs": [],
   "source": [
    "# Dropping income column:\n",
    "try:\n",
    "    profile.drop(columns='income', inplace=True)\n",
    "except:\n",
    "    pass"
   ]
  },
  {
   "cell_type": "code",
   "execution_count": null,
   "id": "1f1b6d7c",
   "metadata": {},
   "outputs": [],
   "source": [
    "profile.head()"
   ]
  },
  {
   "cell_type": "code",
   "execution_count": null,
   "id": "59c1cd99",
   "metadata": {},
   "outputs": [],
   "source": [
    "# Number of events:\n",
    "\n",
    "received = transcript[transcript['offer_received'] == 1].shape[0]\n",
    "viewed = transcript[transcript['offer_viewed'] == 1].shape[0]\n",
    "completed = transcript[transcript['offer_completed'] == 1].shape[0]\n",
    "transactions = transcript[transcript['transaction'] == 1].shape[0]"
   ]
  },
  {
   "cell_type": "code",
   "execution_count": null,
   "id": "eb13da7d",
   "metadata": {},
   "outputs": [],
   "source": [
    "# Plot of offers:\n",
    "\n",
    "sns.set_theme(style=\"whitegrid\")\n",
    "x = ['offers received', 'offers viewed', 'offers completed', 'transactions']\n",
    "y = [received, viewed, completed, transactions]\n",
    "fig, ax = plt.subplots()\n",
    "plt.xlabel('Number of Events')\n",
    "plt.title('Division of Events', fontsize=14)\n",
    "colors = sns.color_palette('pastel')[0:4]\n",
    "sns.barplot(x=x, y=y, palette=colors)\n",
    "\n",
    "#Adding labels\n",
    "for i,y in enumerate(y):\n",
    "    plt.text(i, y/2, y, ha = 'center')\n",
    "\n",
    "fig.tight_layout()\n"
   ]
  },
  {
   "cell_type": "code",
   "execution_count": null,
   "id": "674c8d98",
   "metadata": {},
   "outputs": [],
   "source": [
    "profile.head()"
   ]
  },
  {
   "cell_type": "code",
   "execution_count": null,
   "id": "8400bd34",
   "metadata": {},
   "outputs": [],
   "source": [
    "profile.info()"
   ]
  },
  {
   "cell_type": "markdown",
   "id": "1e485d61",
   "metadata": {},
   "source": [
    "After all this process, I will save the dataframes on a csv file in order to avoid having to run all cells until this point."
   ]
  },
  {
   "cell_type": "code",
   "execution_count": null,
   "id": "68120280",
   "metadata": {},
   "outputs": [],
   "source": [
    "# Saving files to avoid having to run all previous cells.\n",
    "profile.to_csv('data/profile_v0.csv')\n",
    "transcript.to_csv('data/transcript_v0.csv')\n",
    "portfolio.to_csv('data/portfolio_v0.csv')"
   ]
  },
  {
   "cell_type": "code",
   "execution_count": null,
   "id": "a0963fbf",
   "metadata": {},
   "outputs": [],
   "source": [
    "# Cell used to load files:\n",
    "profile = pd.read_csv('data/profile_v0.csv', index_col=0)\n",
    "transcript = pd.read_csv('data/transcript_v0.csv', index_col=0)\n",
    "portfolio = pd.read_csv('data/portfolio_v0.csv', index_col=0)"
   ]
  },
  {
   "cell_type": "markdown",
   "id": "f2d59b85",
   "metadata": {},
   "source": [
    "# 3. Machine Learning Model"
   ]
  },
  {
   "cell_type": "markdown",
   "id": "2e6b7be5",
   "metadata": {},
   "source": [
    "## 3.1 Success/Fail Criteria\n",
    "\n",
    "For the assessment of the success/failure of an offer, we need to compare the its evolution from the time it is delivered to a possible costumer until its completion, when a transaction is made due to its influence.\n"
   ]
  },
  {
   "cell_type": "markdown",
   "id": "e20c9949",
   "metadata": {},
   "source": [
    "### 3.1.1 Base dataframe for criteria definition"
   ]
  },
  {
   "cell_type": "markdown",
   "id": "1eb0a7bd",
   "metadata": {},
   "source": [
    "In this subsection, we will create the dataframe used to define if an offer was effective when presented to a customer (a criteria dataframe).\n",
    "\n",
    "This dataframe will be based on the information contained on transcript dataframe and its creation will follow the steps:\n",
    "\n",
    "1. The foundation of the dataframe are the offers sent to each customer, therefore we will contain the the pairs (customer_id-offer_id) in each row.\n",
    "2. The information for each pair will be summarized on the respective row: The number of events for the pair will be under the columns \"offer_received\",\"offer_viewed\" and \"offer_completed\" (e.g. if the customer_id \"1\" received the offer \"3\" two(2) times, viewed the offer one(1) time and completed it zero(0) times, the values under the respective columns will be 2, 1 and 0, respectively).\n",
    "3. The time when each event happened (starting at the beginning of the experiment, when t=0, will also be recorded. \n",
    "4. Lastly, the each offer's duration will be added to its row in the criteria dataframe.\n",
    "\n",
    "Steps 1 and 2 are relevant because they simplify the information contained on the transcript dataframe, where the records about the pairs (customer-offer) were divided among many columns. In the criteria dataframe, these records are condensed in just one row.\n",
    "\n",
    "The third step is important for cases when a customer received an offer, completed it without actually opening it and then, later, took the time to open the sent promotion. As the records will show the number of events for that specific pair (customer-offer), it might resemble that the offer was successful. That misconception is corrected by the timestamp of the events: the \"time_viewed\" will show a bigger number than \"time_completed\". As we know that a customer may make use of an offer even if he/she doesn't know about it, that time disposition implies that the customer was going to make a purchase regardless of the offer.\n",
    "\n",
    "When two or more offers are sent to a customer, for dataframe simplification, only the first timestamps of events will be recorded. And in the cases where that happens, we will only use the comparison between  \"offer_received\", \"offer_viewed\" and \"offer_completed\".\n",
    "\n",
    "We noted that the presented criteria could not be used for informational offers. The recording system had no measure for its completion, for that reason, it is not possible to get a positive value for the \"offer_completed\" column using the method defined above. Therefore, in order to measure the success of this type of offer,the following method will be used: \n",
    "\n",
    "1. The customer received and viewed the informational offer;\n",
    "2. The customer purchased any product during the duration of the offer provided on the portfolio dataframe."
   ]
  },
  {
   "cell_type": "code",
   "execution_count": null,
   "id": "476afdb0",
   "metadata": {},
   "outputs": [],
   "source": [
    "# Operations Dataframe creation (transcript dataframe with the duration of the offer):\n",
    "operations = transcript.copy()"
   ]
  },
  {
   "cell_type": "code",
   "execution_count": null,
   "id": "6e819e92",
   "metadata": {},
   "outputs": [],
   "source": [
    "operations.head()"
   ]
  },
  {
   "cell_type": "code",
   "execution_count": null,
   "id": "f1d83ec0",
   "metadata": {},
   "outputs": [],
   "source": [
    "# Creation of dictionary linking the offer_id to its duration.\n",
    "offer_duration = dict()\n",
    "for idx in portfolio.index:\n",
    "    offer_duration[portfolio['offer_id'].loc[idx]] = portfolio['duration'].loc[idx]"
   ]
  },
  {
   "cell_type": "code",
   "execution_count": null,
   "id": "709b8ecb",
   "metadata": {},
   "outputs": [],
   "source": [
    "# Insert offer_duration column on operations dataframe:\n",
    "operations['offer_duration'] = 0\n",
    "for idx in operations.index:\n",
    "    try:\n",
    "        operations['offer_duration'].loc[idx] = offer_duration[operations['offer_id'].loc[idx]]\n",
    "    except:\n",
    "        pass"
   ]
  },
  {
   "cell_type": "markdown",
   "id": "2b136fb5",
   "metadata": {},
   "source": [
    "Splitting the operations dataframe into two:\n",
    "\n",
    "1. df_o: Dataframe containing information on events related to offers, not transactions (receiving, viewing and completing offers).\n",
    "2. df_t: Dataframe containing information on all transactions carried during the experiment."
   ]
  },
  {
   "cell_type": "code",
   "execution_count": null,
   "id": "e3501947",
   "metadata": {},
   "outputs": [],
   "source": [
    "df = operations.sort_values(by=['customer_id','offer_id','time'])\n",
    "\n",
    "df_o = df[df['transaction'] != 1]\n",
    "df_t = df[df['transaction'] == 1]\n",
    "\n",
    "df_t[['time_received', 'time_viewed', 'time_completed', 'transaction_time']] = 0\n",
    "df_o[['time_received', 'time_viewed', 'time_completed', 'transaction_time']] = 0\n",
    "\n",
    "for idx, series in df_o.iterrows():\n",
    "    if series['offer_received'] == 1:\n",
    "        df_o['time_received'].loc[idx] = series['time']\n",
    "    elif series['offer_viewed'] == 1:\n",
    "        df_o['time_viewed'].loc[idx] = series['time']\n",
    "    else:\n",
    "        df_o['time_completed'].loc[idx] = series['time']"
   ]
  },
  {
   "cell_type": "code",
   "execution_count": null,
   "id": "32a818e1",
   "metadata": {},
   "outputs": [],
   "source": [
    "df_t['transaction_time'] = df_t['time']"
   ]
  },
  {
   "cell_type": "markdown",
   "id": "d9e17cf3",
   "metadata": {},
   "source": [
    "Creation of offer dataframe with tags for separating each offer (pair customer-offer):"
   ]
  },
  {
   "cell_type": "code",
   "execution_count": null,
   "id": "caf24448",
   "metadata": {},
   "outputs": [],
   "source": [
    "customers = np.sort(df_o.customer_id.unique())\n",
    "customer_offer = defaultdict(list)\n",
    "\n",
    "for customer in customers:\n",
    "    vector = df_o[df_o['customer_id'] == customer]['offer_id'].unique()\n",
    "    customer_offer[customer] = list(np.sort(vector))"
   ]
  },
  {
   "cell_type": "code",
   "execution_count": null,
   "id": "44325267",
   "metadata": {},
   "outputs": [],
   "source": [
    "tag = 1\n",
    "df_o['offer_tag'] = 0\n",
    "\n",
    "for customer in customers:\n",
    "    for offer in customer_offer[customer]:\n",
    "        # Create customer-offer dataframe:\n",
    "        df_co = df_o[(df_o['customer_id'] == customer) & (df_o['offer_id'] == offer)]\n",
    "        \n",
    "        # Information about received offers:\n",
    "        n_rec = df_co['offer_received'].sum() # Number of received offers\n",
    "        idx_rec = list(df_co[df_co['offer_received'] == 1].index) # Indexes of received offers\n",
    "        times_rec = list(df_co[df_co['offer_received'] == 1]['time']) # Times of received offers\n",
    "        \n",
    "        # Chronological order of received offers' timestamps:\n",
    "        sorted_times_rec = sorted(times_rec)\n",
    "        \n",
    "        # Chronological order of indexes (received):\n",
    "        order = [times_rec.index(x) for x in sorted_times_rec]     \n",
    "        sorted_idx_rec = [idx_rec[x] for x in order]\n",
    "        \n",
    "        # Information about viewed offers\n",
    "        n_view = df_co['offer_viewed'].sum() # Number of viewed offers\n",
    "        idx_view = list(df_co[df_co['offer_viewed'] == 1].index) # Indexes of viewed offers\n",
    "        times_view = list(df_co[df_co['offer_viewed'] == 1]['time']) # Times of viewed offers\n",
    "        \n",
    "        # Chronological order of viewed offers' timestamps:\n",
    "        sorted_times_view = sorted(times_view)\n",
    "        \n",
    "        # Chronological order of indexes (viewed):\n",
    "        order = [times_view.index(x) for x in sorted_times_view]     \n",
    "        sorted_idx_view = [idx_view[x] for x in order]\n",
    "        \n",
    "        # Information about viewed offers\n",
    "        n_comp = df_co['offer_completed'].sum() # Number of completed offers\n",
    "        idx_comp = list(df_co[df_co['offer_completed'] == 1].index) # Indexes of completed offers\n",
    "        times_comp = list(df_co[df_co['offer_completed'] == 1]['time']) # Times of completed offers\n",
    "        \n",
    "        # Chronological order of completed offers' timestamps:\n",
    "        sorted_times_comp = sorted(times_comp)\n",
    "        \n",
    "        # Chronological order of indexes (completed):\n",
    "        order = [times_comp.index(x) for x in sorted_times_comp]     \n",
    "        sorted_idx_comp = [idx_comp[x] for x in order]\n",
    "\n",
    "        for offer_set in range(n_rec): # Populating offer_tag columns for each event of an offer:\n",
    "            \n",
    "            # Populating the tag column for received offer:\n",
    "            df_o['offer_tag'].loc[sorted_idx_rec[offer_set]] = tag\n",
    "            \n",
    "            # Populating the tag column for viewed offer:  \n",
    "            try:\n",
    "                df_o['offer_tag'].loc[sorted_idx_view[offer_set]] = tag\n",
    "            except:\n",
    "                pass\n",
    "            \n",
    "            # Populating the tag column for completed offer:  \n",
    "            try:\n",
    "                df_o['offer_tag'].loc[sorted_idx_comp[offer_set]] = tag\n",
    "            except:\n",
    "                pass\n",
    "            \n",
    "            tag += 1\n",
    "            "
   ]
  },
  {
   "cell_type": "code",
   "execution_count": null,
   "id": "542bde0f",
   "metadata": {},
   "outputs": [],
   "source": [
    "df_t['offer_tag'] = 0"
   ]
  },
  {
   "cell_type": "markdown",
   "id": "0e69ffba",
   "metadata": {},
   "source": [
    "Creating the criteria dataframe, where each row is a pair (customer-offer) using only the offer dataframe(df_o):"
   ]
  },
  {
   "cell_type": "code",
   "execution_count": null,
   "id": "a7d1c2f0",
   "metadata": {},
   "outputs": [],
   "source": [
    "criteria_offers = df_o.groupby(by=['customer_id','offer_id','offer_tag']).sum()\n",
    "criteria_offers.reset_index(inplace=True)"
   ]
  },
  {
   "cell_type": "markdown",
   "id": "e157333f",
   "metadata": {},
   "source": [
    "Correction of offer_completed column for informational offers:\n",
    "\n",
    "Criteria for a sucessfull informational offer:\n",
    "\n",
    "1. The offer was actually viewed by the customer;\n",
    "2. There was a purchase time is between the receiving time (rt) and the offer validation period (ovp); -> ( purchase time = rt + ovp)\n",
    "3. The purchase time is greater than the viewing time."
   ]
  },
  {
   "cell_type": "code",
   "execution_count": null,
   "id": "93b3890b",
   "metadata": {},
   "outputs": [],
   "source": [
    "inf_offers = [3,8]\n",
    "\n",
    "inf_df = criteria_offers[(criteria_offers['offer_id'].isin(inf_offers))] # Dataframe of informational offers\n",
    "\n",
    "for idx, series in inf_df.iterrows(): # Checking all the rows with informational offers:\n",
    "    if series['offer_viewed'] == 1: # Check only seen offers:\n",
    "        customer = series['customer_id']\n",
    "        t0 = series['time_received']\n",
    "        t1 = series['time_viewed']\n",
    "        offer_duration = series['offer_duration']\n",
    "        t_trans = list(df_t[df_t['customer_id'] == customer]['time'])\n",
    "        \n",
    "        for time in t_trans:\n",
    "            if time > t0 and time < (t0 + offer_duration) and time > t1 :\n",
    "                criteria_offers['offer_completed'].loc[idx] = 1\n",
    "                criteria_offers['time_completed'].loc[idx] = time\n",
    "                break"
   ]
  },
  {
   "cell_type": "markdown",
   "id": "51ed532c",
   "metadata": {},
   "source": [
    "Dropping unecessary columns:"
   ]
  },
  {
   "cell_type": "code",
   "execution_count": null,
   "id": "3fb4047a",
   "metadata": {},
   "outputs": [],
   "source": [
    "criteria = criteria_offers.drop(columns=['offer_tag','transaction','time','spent','offer_duration','transaction_time'])\n",
    "criteria.head()"
   ]
  },
  {
   "cell_type": "markdown",
   "id": "e23dd6e9",
   "metadata": {},
   "source": [
    "Correcting the column \"offer_completed\" for informational offers:"
   ]
  },
  {
   "cell_type": "code",
   "execution_count": null,
   "id": "e023e3d0",
   "metadata": {},
   "outputs": [],
   "source": [
    "# Saving the dataframes created in this section:\n",
    "\n",
    "criteria_offers.to_csv('data/criteria_offers_v0.csv')\n",
    "criteria.to_csv('data/criteria_v0.csv')\n",
    "operations.to_csv('data/operations_v0.csv')\n",
    "df_o.to_csv('data/df_o_v0.csv')"
   ]
  },
  {
   "cell_type": "code",
   "execution_count": 2,
   "id": "9d8aa390",
   "metadata": {},
   "outputs": [],
   "source": [
    "# Cell used to load files:\n",
    "criteria_offers = pd.read_csv('data/criteria_offers_v0.csv', index_col=0)\n",
    "criteria = pd.read_csv('data/criteria_v0.csv', index_col=0)\n",
    "operations = pd.read_csv('data/operations_v0.csv', index_col=0)\n",
    "df_o = pd.read_csv('data/df_o_v0.csv', index_col=0)"
   ]
  },
  {
   "cell_type": "code",
   "execution_count": 6,
   "id": "d805f573",
   "metadata": {},
   "outputs": [
    {
     "data": {
      "text/html": [
       "<div>\n",
       "<style scoped>\n",
       "    .dataframe tbody tr th:only-of-type {\n",
       "        vertical-align: middle;\n",
       "    }\n",
       "\n",
       "    .dataframe tbody tr th {\n",
       "        vertical-align: top;\n",
       "    }\n",
       "\n",
       "    .dataframe thead th {\n",
       "        text-align: right;\n",
       "    }\n",
       "</style>\n",
       "<table border=\"1\" class=\"dataframe\">\n",
       "  <thead>\n",
       "    <tr style=\"text-align: right;\">\n",
       "      <th></th>\n",
       "      <th>customer_id</th>\n",
       "      <th>offer_id</th>\n",
       "      <th>offer_received</th>\n",
       "      <th>offer_viewed</th>\n",
       "      <th>offer_completed</th>\n",
       "      <th>time_received</th>\n",
       "      <th>time_viewed</th>\n",
       "      <th>time_completed</th>\n",
       "    </tr>\n",
       "  </thead>\n",
       "  <tbody>\n",
       "    <tr>\n",
       "      <th>0</th>\n",
       "      <td>1</td>\n",
       "      <td>3</td>\n",
       "      <td>1</td>\n",
       "      <td>0</td>\n",
       "      <td>0</td>\n",
       "      <td>504.0</td>\n",
       "      <td>0.0</td>\n",
       "      <td>0.0</td>\n",
       "    </tr>\n",
       "    <tr>\n",
       "      <th>1</th>\n",
       "      <td>1</td>\n",
       "      <td>4</td>\n",
       "      <td>1</td>\n",
       "      <td>0</td>\n",
       "      <td>1</td>\n",
       "      <td>408.0</td>\n",
       "      <td>0.0</td>\n",
       "      <td>528.0</td>\n",
       "    </tr>\n",
       "    <tr>\n",
       "      <th>2</th>\n",
       "      <td>3</td>\n",
       "      <td>1</td>\n",
       "      <td>1</td>\n",
       "      <td>1</td>\n",
       "      <td>1</td>\n",
       "      <td>408.0</td>\n",
       "      <td>408.0</td>\n",
       "      <td>510.0</td>\n",
       "    </tr>\n",
       "    <tr>\n",
       "      <th>3</th>\n",
       "      <td>3</td>\n",
       "      <td>4</td>\n",
       "      <td>1</td>\n",
       "      <td>1</td>\n",
       "      <td>1</td>\n",
       "      <td>0.0</td>\n",
       "      <td>6.0</td>\n",
       "      <td>132.0</td>\n",
       "    </tr>\n",
       "    <tr>\n",
       "      <th>4</th>\n",
       "      <td>3</td>\n",
       "      <td>8</td>\n",
       "      <td>1</td>\n",
       "      <td>1</td>\n",
       "      <td>1</td>\n",
       "      <td>168.0</td>\n",
       "      <td>216.0</td>\n",
       "      <td>222.0</td>\n",
       "    </tr>\n",
       "  </tbody>\n",
       "</table>\n",
       "</div>"
      ],
      "text/plain": [
       "   customer_id  offer_id  offer_received  offer_viewed  offer_completed  \\\n",
       "0            1         3               1             0                0   \n",
       "1            1         4               1             0                1   \n",
       "2            3         1               1             1                1   \n",
       "3            3         4               1             1                1   \n",
       "4            3         8               1             1                1   \n",
       "\n",
       "   time_received  time_viewed  time_completed  \n",
       "0          504.0          0.0             0.0  \n",
       "1          408.0          0.0           528.0  \n",
       "2          408.0        408.0           510.0  \n",
       "3            0.0          6.0           132.0  \n",
       "4          168.0        216.0           222.0  "
      ]
     },
     "execution_count": 6,
     "metadata": {},
     "output_type": "execute_result"
    }
   ],
   "source": [
    "criteria.head()"
   ]
  },
  {
   "cell_type": "markdown",
   "id": "a1d5abd0",
   "metadata": {},
   "source": [
    "### 3.1.2 Success/Fail Vector (ML Output Vector)\n",
    "\n",
    "Since there is not direct column that expresses a criteria for success/failure in any of the dataframes we have been working so far. Therefore as it is an essential Machine Learning factor, this criteria must be determined by the scientist. \n",
    "\n",
    "The conditions for success have already been presented on section \"Introduction to the Method\", and they are:\n",
    "\n",
    "Success Conditions (Output 1):\n",
    "1. No offer was sent but a transaction was still completed, that is, Starbucks saved money not sending the promotion and still made the sale, maximizing profit.\n",
    "2. An offer was sent and completed, resulting in a sale, before the end of the validity period (after this period, we consider that the promotional offer had no effect over the transaction.\n",
    "\n",
    "Failure Condition (Output 0):\n",
    "1. An offer was sent but no transaction resulted from it, that is, the offer was just \"sent\" or \"viewed\" and **not** \"completed\".\n",
    "2. An offer was sent, a transaction occurred, but the customer never actually viewed the offer, meaning that the purchase would have been made despite the promotion.\n",
    "\n",
    "<!-- outside of the offer's validity period, implying that the offer, even if seen, was ignored. Leading us to believe that the transaction would take place even if no offer was sent. -->\n",
    "\n",
    "Since our objective is to define to which customers we should **send** the offers, Success Condition 1 will be portraited, in our ML model, as a failure occurrence (0), meaning that if a certain customer already has the desire to purchase a determined product, the offer will have no effect for Strabucks's revenue, and therefore the offer should not be sent. "
   ]
  },
  {
   "cell_type": "code",
   "execution_count": null,
   "id": "4b35a605",
   "metadata": {},
   "outputs": [],
   "source": [
    "criteria['send_offer'] = 0\n",
    "\n",
    "for idx, series  in criteria.iterrows():\n",
    "    if (series['offer_viewed'] != 0) and (series['offer_completed'] != 0): # The custonmer SAW and COMPLETED the offer.\n",
    "        if (series['time_completed'] >= series['time_viewed']): # The customer saw the offer before completing it.\n",
    "            criteria['send_offer'].loc[idx] = 1"
   ]
  },
  {
   "cell_type": "code",
   "execution_count": null,
   "id": "44c6788f",
   "metadata": {},
   "outputs": [],
   "source": [
    "criteria.head()"
   ]
  },
  {
   "cell_type": "code",
   "execution_count": null,
   "id": "d314b58b",
   "metadata": {},
   "outputs": [],
   "source": [
    "# Saving the dataframes created in this section:\n",
    "\n",
    "criteria.to_csv('data/criteria_v1.csv')"
   ]
  },
  {
   "cell_type": "code",
   "execution_count": null,
   "id": "aa66115c",
   "metadata": {},
   "outputs": [],
   "source": [
    "# Loading the dataframe:\n",
    "\n",
    "criteria = pd.read_csv('data/criteria_v1.csv',index_col=0)"
   ]
  },
  {
   "cell_type": "markdown",
   "id": "db4a989a",
   "metadata": {},
   "source": [
    "## 3.2  ML Data Preparation\n",
    "\n",
    "This subsection prepares the data for the creation of the Machine Learning model."
   ]
  },
  {
   "cell_type": "markdown",
   "id": "fcb417ee",
   "metadata": {},
   "source": [
    "### 3.2.1 Assembly of the Input Data Dataframe\n",
    "\n",
    "After all the data preparation, it is time to define what will be used as input of the ML model and create a dataframe that enables for simple visualization and handling of this data.\n",
    "\n",
    "1. Profile dataframe:\n",
    "\n",
    "From this dataframe we will use:\n",
    "- customer_id: for customer identification throughout dataframes;\n",
    "- age: direct input for the ML model;\n",
    "- income: direct input for the ML model;\n",
    "- sex (dummy variables):  direct input for the ML model.\n",
    "\n",
    "2. Portfolio dataframe:\n",
    "\n",
    "From this dataframe, the information to be used is:\n",
    "- offer_id: for offer identification throughout dataframes;\n",
    "\n",
    "3. Transcript dataframe:\n",
    "\n",
    "From this dataframe, we will use:\n",
    "- customer_id: linking the entry to the information on the profile dataframe;\n",
    "- offer_id: linking the entry to the information on the portfolio dataframe;\n",
    "\n",
    "Suprisingly, we don't need to know how much a customer spent on Starbucks. The choice to not include the amount spent is backed by:\n",
    "- Since the focus of this study is to know if a promotion was effective to someone and not find a function that maximizes profit, knowing how much was spent is not necessary.\n",
    "- There is other information on the dataframes that tells us if an offer resonated with a possible customer or not.\n",
    "\n",
    "Having the criteria dataframe and the information about the customers, we can create a dataframe that will gather all the data the ML model will need to fit a chosen classification algorithm.\n",
    "\n",
    "Observing the criteria dataframe, it is clear that all the needed data coming from the portfolio and transcript is already in it. So now we just need to correlate the customer_ids in the criteria dataframe to their respective information on the profile dataframe."
   ]
  },
  {
   "cell_type": "code",
   "execution_count": null,
   "id": "3a5bc4f0",
   "metadata": {},
   "outputs": [],
   "source": [
    "# Adding customer data from the profile dataframe on the ml_input dataframe:\n",
    "ml_input = criteria.copy()\n",
    "ml_input[['age_range','income_range','F','M','O','fidelity']] = 0\n",
    "for input_idx, input_series in ml_input.iterrows():\n",
    "    customer = input_series['customer_id']\n",
    "    ml_input.loc[input_idx, 'age_range'] = int(profile[profile['customer_id'] == customer]['age_range'])\n",
    "    ml_input.loc[input_idx, 'income_range'] = float(profile[profile['customer_id'] == customer]['income_range'])\n",
    "    ml_input.loc[input_idx, 'F'] = int(profile[profile['customer_id'] == customer]['F'])\n",
    "    ml_input.loc[input_idx, 'M'] = int(profile[profile['customer_id'] == customer]['M'])\n",
    "    ml_input.loc[input_idx,'O'] = int(profile[profile['customer_id'] == customer]['O'])\n",
    "    ml_input.loc[input_idx,'fidelity'] = int(profile[profile['customer_id'] == customer]['fidelity'])"
   ]
  },
  {
   "cell_type": "code",
   "execution_count": null,
   "id": "2cb729dc",
   "metadata": {},
   "outputs": [],
   "source": [
    "# Removing columns that will not be used by the ML model from the ml_input dataframe:\n",
    "try:\n",
    "    ml_input.drop(columns=['customer_id', 'offer_received', 'offer_viewed', 'offer_completed', 'time_received', 'time_viewed', 'time_completed', 'offer_duration'], inplace=True)\n",
    "except:\n",
    "    pass"
   ]
  },
  {
   "cell_type": "code",
   "execution_count": null,
   "id": "83712513",
   "metadata": {},
   "outputs": [],
   "source": [
    "# Rearranging the columns:\n",
    "ml_input = ml_input[['offer_id','age_range','income_range','M','F','O','fidelity','send_offer']]"
   ]
  },
  {
   "cell_type": "code",
   "execution_count": null,
   "id": "07f0b12c",
   "metadata": {},
   "outputs": [],
   "source": [
    "# Saving the recently created ml_input dataframe:\n",
    "\n",
    "ml_input.to_csv('data/ml_input_v0.csv')"
   ]
  },
  {
   "cell_type": "code",
   "execution_count": null,
   "id": "cf3d4d11",
   "metadata": {},
   "outputs": [],
   "source": [
    "# Loading the ml_input dataframe:\n",
    "ml_input = pd.read_csv('data/ml_input_v0.csv',index_col=0)"
   ]
  },
  {
   "cell_type": "code",
   "execution_count": null,
   "id": "9804c700",
   "metadata": {},
   "outputs": [],
   "source": [
    "ml_input.head()"
   ]
  },
  {
   "cell_type": "code",
   "execution_count": null,
   "id": "45af885a",
   "metadata": {},
   "outputs": [],
   "source": [
    "ml_input.shape"
   ]
  },
  {
   "cell_type": "markdown",
   "id": "90671fd4",
   "metadata": {},
   "source": [
    "With that, we have the dataframe that will serve as base for the ML model."
   ]
  },
  {
   "cell_type": "markdown",
   "id": "518fcb19",
   "metadata": {},
   "source": [
    "### 3.2.2 Input Data Exploration"
   ]
  },
  {
   "cell_type": "markdown",
   "id": "4007abfc",
   "metadata": {},
   "source": [
    "Now that we have the input dataframe for the ML model, we will extract some data to use as comparison approximations when the prediction model is finished."
   ]
  },
  {
   "cell_type": "code",
   "execution_count": null,
   "id": "c2958b60",
   "metadata": {},
   "outputs": [],
   "source": [
    "# For easier typing:\n",
    "df = ml_input.copy()"
   ]
  },
  {
   "cell_type": "code",
   "execution_count": null,
   "id": "f37db614",
   "metadata": {},
   "outputs": [],
   "source": [
    "# Getting offers ids:\n",
    "bogo_offers = portfolio[portfolio['offer_type'] == 'bogo']['offer_id']\n",
    "inf_offers = portfolio[portfolio['offer_type'] == 'informational']['offer_id']\n",
    "disc_offers = portfolio[portfolio['offer_type'] == 'discount']['offer_id']"
   ]
  },
  {
   "cell_type": "markdown",
   "id": "8fc27c97",
   "metadata": {},
   "source": [
    "#### GENERAL - Completion rates by offer type"
   ]
  },
  {
   "cell_type": "code",
   "execution_count": null,
   "id": "be6808a1",
   "metadata": {},
   "outputs": [],
   "source": [
    "# Total offers that were completed:\n",
    "offers_1 = df[df['send_offer'] == 1].shape[0]"
   ]
  },
  {
   "cell_type": "code",
   "execution_count": null,
   "id": "4a8954a3",
   "metadata": {},
   "outputs": [],
   "source": [
    "# How well BOGO offers do:\n",
    "bogo_1 = df[(df['send_offer'] == 1) & (df['offer_id'].isin(bogo_offers))].shape[0]\n",
    "bogo_perc = bogo_1 / offers_1\n",
    "\n",
    "# How well Informational offers do:\n",
    "inf_1 = df[(ml_input['send_offer'] == 1) & (df['offer_id'].isin(inf_offers))].shape[0]\n",
    "inf_perc = inf_1 / offers_1\n",
    "\n",
    "# How well discount offers do:\n",
    "disc_1 = df[(ml_input['send_offer'] == 1) & (df['offer_id'].isin(disc_offers))].shape[0]\n",
    "disc_perc = disc_1 / offers_1\n",
    "\n",
    "print(f'Percentage of completed offers that where BOGO: {round(bogo_perc*100,2)}%')\n",
    "print(f'Percentage of completed offers that where Informational: {round(inf_perc*100,2)}%')\n",
    "print(f'Percentage of completed offers that where Discount: {round(disc_perc*100,2)}%')"
   ]
  },
  {
   "cell_type": "code",
   "execution_count": null,
   "id": "34b24110",
   "metadata": {},
   "outputs": [],
   "source": [
    "# Plotting pie chart:\n",
    "data = [bogo_perc, inf_perc, disc_perc]\n",
    "labels = ['Buy One - Get One', 'Informational','Discount']\n",
    "colors = sns.color_palette('pastel')[0:3]\n",
    "\n",
    "plt.pie(data, labels = labels, colors = colors, autopct='%.2f%%')\n",
    "plt.title('Division of completed offer types', fontsize = 14)\n",
    "plt.show()"
   ]
  },
  {
   "cell_type": "markdown",
   "id": "b5fdf388",
   "metadata": {},
   "source": [
    "As expected the most completed offer types are: **Discount** and **BOGO**"
   ]
  },
  {
   "cell_type": "markdown",
   "id": "b20745c3",
   "metadata": {},
   "source": [
    "#### GENERAL - Completion rates WITHIN each offer type"
   ]
  },
  {
   "cell_type": "code",
   "execution_count": null,
   "id": "c7f90979",
   "metadata": {},
   "outputs": [],
   "source": [
    "# BOGO offers:\n",
    "bogo_total = df[(df['offer_id'].isin(bogo_offers))].shape[0]\n",
    "bogo_effec = bogo_1 / bogo_total\n",
    "\n",
    "print(f'{round(bogo_effec*100,2)}% of sent BOGO offers were completed.')\n",
    "\n",
    "# Informational offers:\n",
    "inf_total = df[df['offer_id'].isin(inf_offers)].shape[0]\n",
    "inf_effec = inf_1 / inf_total\n",
    "\n",
    "print(f'{round(inf_effec*100,2)}% of sent Informational offers were completed.')\n",
    "\n",
    "# Discount offers:\n",
    "disc_total = df[(df['offer_id'].isin(disc_offers))].shape[0]\n",
    "disc_effec = disc_1 / disc_total\n",
    "\n",
    "print(f'{round(disc_effec*100,2)}% of sent Discount offers were completed.')\n"
   ]
  },
  {
   "cell_type": "code",
   "execution_count": null,
   "id": "66e8afdb",
   "metadata": {},
   "outputs": [],
   "source": [
    "# Plotting barplot of results:\n",
    "# Overall completion rate of offers:\n",
    "\n",
    "sns.set_theme(style=\"whitegrid\")\n",
    "\n",
    "y = [bogo_effec*100, inf_effec*100, disc_effec*100]\n",
    "x = ['BOGO', 'Informational', 'Discount']\n",
    "colors = sns.color_palette('pastel')[0:4]\n",
    "\n",
    "sns.barplot(x=x, y=y, palette=colors)\n",
    "plt.xlabel('Type of Offer')\n",
    "plt.ylabel('Overall Completion Rates')\n",
    "plt.title('Completion Rates for Different Offer Types', fontsize = 14)\n",
    "\n",
    "for i,y in enumerate(y):\n",
    "    plt.text(i, y/2, f'{round(y,2)}%', ha = 'center')\n"
   ]
  },
  {
   "cell_type": "code",
   "execution_count": null,
   "id": "a80bde50",
   "metadata": {},
   "outputs": [],
   "source": [
    "# Number of offers:\n",
    "\n",
    "sns.set_theme(style=\"whitegrid\")\n",
    "\n",
    "y = [bogo_total, inf_total, disc_total]\n",
    "x = ['BOGO', 'Informational', 'Discount']\n",
    "colors = sns.color_palette('pastel')[0:4]\n",
    "\n",
    "sns.barplot(x=x, y=y, palette=colors)\n",
    "plt.xlabel('Type of Offer')\n",
    "plt.ylabel('Number of Sent Offers')\n",
    "plt.title('Number of Offers divided by Type', fontsize = 14)\n",
    "\n",
    "for i,y in enumerate(y):\n",
    "    plt.text(i, y/2, y, ha = 'center')"
   ]
  },
  {
   "cell_type": "markdown",
   "id": "1f936e14",
   "metadata": {},
   "source": [
    "#### AGE - Age x Overall Completion Rate"
   ]
  },
  {
   "cell_type": "code",
   "execution_count": null,
   "id": "69e95c03",
   "metadata": {},
   "outputs": [],
   "source": [
    "# Percentage of age 1 users that completed an offer:\n",
    "cr_age1 = round(df[(df['age_range'] == 1)]['send_offer'].mean(), 3) * 100 # Completion rate for age 1\n",
    "print(cr_age1)\n",
    "\n",
    "# Percentage of age 2 users that completed an offer:\n",
    "cr_age2 = round(df[(df['age_range'] == 2)]['send_offer'].mean(), 3) * 100 # Completion rate for age 2\n",
    "print(cr_age2)\n",
    "\n",
    "# Percentage of age 3 users that completed an offer:\n",
    "cr_age3 = round(df[(df['age_range'] == 3)]['send_offer'].mean(), 3) * 100 # Completion rate for age 3\n",
    "print(cr_age3)\n",
    "\n",
    "# Percentage of age 4 users that completed an offer:\n",
    "cr_age4 = round(df[(df['age_range'] == 4)]['send_offer'].mean(), 3) * 100 # Completion rate for age 4\n",
    "print(cr_age4)"
   ]
  },
  {
   "cell_type": "code",
   "execution_count": null,
   "id": "6dfc04f9",
   "metadata": {},
   "outputs": [],
   "source": [
    "# Data Visualization:\n",
    "sns.set_theme(style=\"whitegrid\")\n",
    "\n",
    "y = [cr_age1, cr_age2, cr_age3, cr_age4]\n",
    "x = ['18-40', '40-60', '60-80', '80-101']\n",
    "colors = sns.color_palette('pastel')[0:4]\n",
    "\n",
    "sns.barplot(x=x, y=y, palette=colors)\n",
    "plt.xlabel('Age Ranges')\n",
    "plt.ylabel('Overall Completion Rates')\n",
    "plt.title('Overall Completion Rate x Age Range', fontsize = 14)\n",
    "\n",
    "for i,y in enumerate(y):\n",
    "    plt.text(i, y/2,  f'{round(y,2)}%', ha = 'center')"
   ]
  },
  {
   "cell_type": "code",
   "execution_count": null,
   "id": "35439461",
   "metadata": {},
   "outputs": [],
   "source": [
    "# Checking number of customers in each age range:\n",
    "\n",
    "n_1 = profile[profile['age_range'] == 1].shape[0]\n",
    "n_2 = profile[profile['age_range'] == 2].shape[0]\n",
    "n_3 = profile[profile['age_range'] == 3].shape[0]\n",
    "n_4 = profile[profile['age_range'] == 4].shape[0]\n",
    "\n",
    "sns.set_theme(style=\"whitegrid\")\n",
    "\n",
    "y = [n_1, n_2, n_3, n_4]\n",
    "x = ['18-40', '40-60', '60-80', '80-101']\n",
    "colors = sns.color_palette('pastel')[0:4]\n",
    "\n",
    "sns.barplot(x=x, y=y, palette=colors)\n",
    "plt.ylabel('Number of Individuals')\n",
    "plt.xlabel('Age Range')\n",
    "# plt.title('', fontsize = 14)\n",
    "\n",
    "for i,y in enumerate(y):\n",
    "    plt.text(i, y/2, y, ha = 'center')"
   ]
  },
  {
   "cell_type": "markdown",
   "id": "a1d55336",
   "metadata": {},
   "source": [
    "The offer completion rate is pretty **similar** (around 40%) amongst all age ranges."
   ]
  },
  {
   "cell_type": "markdown",
   "id": "8fd3ca94",
   "metadata": {},
   "source": [
    "#### AGE - In the subset of people that responded to an offer, how is the percentage division for different ages:"
   ]
  },
  {
   "cell_type": "code",
   "execution_count": null,
   "id": "fc214fea",
   "metadata": {},
   "outputs": [],
   "source": [
    "# General effectiveness of offers divided by age range:\n",
    "# Out of all the people who completed the offers, what's the age range division? \n",
    "\n",
    "# Getting the number of \"yes\" by age:\n",
    "n_age1 = df[(df['age_range'] == 1) & (df['send_offer'] == 1)].shape[0]\n",
    "n_age2 = df[(df['age_range'] == 2) & (df['send_offer'] == 1)].shape[0]\n",
    "n_age3 = df[(df['age_range'] == 3) & (df['send_offer'] == 1)].shape[0]\n",
    "n_age4 = df[(df['age_range'] == 4) & (df['send_offer'] == 1)].shape[0]\n",
    "\n",
    "perc_age1 = n_age1/offers_1\n",
    "perc_age2 = n_age2/offers_1\n",
    "perc_age3 = n_age3/offers_1\n",
    "perc_age4 = n_age4/offers_1\n",
    "\n",
    "print(perc_age1, perc_age2, perc_age3, perc_age4)"
   ]
  },
  {
   "cell_type": "code",
   "execution_count": null,
   "id": "067acacc",
   "metadata": {},
   "outputs": [],
   "source": [
    "# Pie chart\n",
    "\n",
    "data = [perc_age1, perc_age2, perc_age3, perc_age4]\n",
    "labels = ['Ages: 18-40', 'Ages: 40-60','Ages: 60-80', 'Ages: 80-101']\n",
    "colors = sns.color_palette('pastel')[0:4]\n",
    "\n",
    "plt.pie(data, labels = labels, colors = colors, autopct='%.2f%%')\n",
    "plt.title('Customer age division between offer completioners', fontsize = 14)\n",
    "plt.show()"
   ]
  },
  {
   "cell_type": "markdown",
   "id": "bd0cea19",
   "metadata": {},
   "source": [
    "The age range responsible for the most completed offers is between 40 and 60 years old. But looking at the histogram for ages in the data set, this effect can be a consequence for the number of customers within this age range, since we have already seen that the offer completion is approximately the same for all age ranges."
   ]
  },
  {
   "cell_type": "markdown",
   "id": "fe692bea",
   "metadata": {},
   "source": [
    "#### AGE -  Most effective offer type within each age range"
   ]
  },
  {
   "cell_type": "code",
   "execution_count": null,
   "id": "7ead7f04",
   "metadata": {},
   "outputs": [],
   "source": [
    "# Effectiveness of offer types divided by age range:\n",
    "# Level 1 (18-40):\n",
    "yes_age1 = df[(df['age_range'] == 1) & (df['send_offer'] == 1)]\n",
    "n_age1 = yes_age1.shape[0]\n",
    "\n",
    "# BOGO offers\n",
    "bogo_age1_perc = yes_age1[yes_age1['offer_id'].isin(bogo_offers)].shape[0]/n_age1\n",
    "\n",
    "# Informational offers:\n",
    "inf_age1_perc = yes_age1[yes_age1['offer_id'].isin(inf_offers)].shape[0]/n_age1\n",
    "\n",
    "# Discount offers:\n",
    "disc_age1_perc = yes_age1[yes_age1['offer_id'].isin(disc_offers)].shape[0]/n_age1\n",
    "\n",
    "print(f'Out of all completed offers: {100*round(bogo_age1_perc,3)}% are BOGO offers, \\\n",
    "{100*round(inf_age1_perc,3)}% are informational offers and {100*round(disc_age1_perc,3)}% are discount offers.')\n",
    "\n",
    "# Plotting pie chart:\n",
    "\n",
    "data = [bogo_age1_perc, inf_age1_perc, disc_age1_perc]\n",
    "labels = ['BOGO offers', 'Informational offers', 'Discount offers']\n",
    "colors = sns.color_palette('pastel')[0:4]\n",
    "\n",
    "plt.pie(data, labels = labels, colors = colors, autopct='%.2f%%')\n",
    "plt.title('Offer effectiveness for customers between 18 and 40 years old', fontsize = 14)\n",
    "plt.show()"
   ]
  },
  {
   "cell_type": "code",
   "execution_count": null,
   "id": "f28408d8",
   "metadata": {},
   "outputs": [],
   "source": [
    "# Range 1 BOGO:\n",
    "all_bogo = df[(df['offer_id'].isin(bogo_offers)) & (df['age_range'] == 1)]\n",
    "n_bogo = all_bogo.shape[0]\n",
    "all_bogo1 = all_bogo[all_bogo['send_offer'] == 1]\n",
    "n_bogo1 = all_bogo1.shape[0]\n",
    "bogo_comp = n_bogo1 / n_bogo\n",
    "\n",
    "# Range 1 discount:\n",
    "all_disc = df[(df['offer_id'].isin(disc_offers)) & (df['age_range'] == 1)]\n",
    "n_disc = all_disc.shape[0]\n",
    "all_disc1 = all_disc[all_disc['send_offer'] == 1]\n",
    "n_disc1 = all_disc1.shape[0]\n",
    "disc_comp = n_disc1 / n_disc\n",
    "\n",
    "# Range 1 Informational:\n",
    "all_inf = df[(df['offer_id'].isin(inf_offers)) & (df['age_range'] == 1)]\n",
    "n_inf = all_inf.shape[0]\n",
    "all_inf1 = all_inf[all_inf['send_offer'] == 1]\n",
    "n_inf1 = all_inf1.shape[0]\n",
    "inf_comp = n_inf1 / n_inf\n",
    "\n",
    "# Data Visualization:\n",
    "sns.set_theme(style=\"whitegrid\")\n",
    "\n",
    "y = [bogo_comp, inf_comp, disc_comp]\n",
    "x = ['BOGO', 'Informational', 'Discount']\n",
    "colors = sns.color_palette('pastel')[0:4]\n",
    "\n",
    "sns.barplot(x=x, y=y, palette=colors)\n",
    "plt.ylabel('Completion Rates')\n",
    "plt.title('[18-40] Age Range Offer Completion for Each Offer Type', fontsize = 14)\n",
    "plt.xlabel('Type of Offer')\n",
    "\n",
    "for i,y in enumerate(y):\n",
    "    plt.text(i, y/2, f'{round(y*100,1)}%', ha = 'center')"
   ]
  },
  {
   "cell_type": "markdown",
   "id": "a1c81f27",
   "metadata": {},
   "source": [
    "The most appealing type of offer for customers between 18 and 40 years old is **Discount**."
   ]
  },
  {
   "cell_type": "code",
   "execution_count": null,
   "id": "f699df68",
   "metadata": {},
   "outputs": [],
   "source": [
    "# Effectiveness of offer types divided by age range:\n",
    "# Level 2 (40-60):\n",
    "yes_age2 = df[(df['age_range'] == 2) & (df['send_offer'] == 1)]\n",
    "n_age2 = yes_age2.shape[0]\n",
    "\n",
    "# BOGO offers\n",
    "bogo_age2_perc = yes_age2[yes_age2['offer_id'].isin(bogo_offers)].shape[0]/n_age2\n",
    "\n",
    "# Informational offers:\n",
    "inf_age2_perc = yes_age2[yes_age2['offer_id'].isin(inf_offers)].shape[0]/n_age2\n",
    "\n",
    "# Discount offers:\n",
    "disc_age2_perc = yes_age2[yes_age2['offer_id'].isin(disc_offers)].shape[0]/n_age2\n",
    "\n",
    "print(f'Out of all completed offers: {100*round(bogo_age2_perc,3)}% are BOGO offers, \\\n",
    "{100*round(inf_age2_perc,3)}% are informational offers and {100*round(disc_age2_perc,3)}% are discount offers.')"
   ]
  },
  {
   "cell_type": "code",
   "execution_count": null,
   "id": "4da855e0",
   "metadata": {},
   "outputs": [],
   "source": [
    "# Plotting pie chart:\n",
    "\n",
    "data = [bogo_age2_perc, inf_age2_perc, disc_age2_perc]\n",
    "labels = ['BOGO offers', 'Informational offers', 'Discount offers']\n",
    "colors = sns.color_palette('pastel')[0:4]\n",
    "\n",
    "plt.pie(data, labels = labels, colors = colors, autopct='%.2f%%')\n",
    "plt.title('Offer effectiveness for customers between 40 and 60 years old', fontsize = 14)\n",
    "plt.show()"
   ]
  },
  {
   "cell_type": "code",
   "execution_count": null,
   "id": "7fe8f3d0",
   "metadata": {},
   "outputs": [],
   "source": [
    "# Range 2 BOGO:\n",
    "all_bogo = df[(df['offer_id'].isin(bogo_offers)) & (df['age_range'] == 2)]\n",
    "n_bogo = all_bogo.shape[0]\n",
    "all_bogo1 = all_bogo[all_bogo['send_offer'] == 1]\n",
    "n_bogo1 = all_bogo1.shape[0]\n",
    "bogo_comp = n_bogo1 / n_bogo\n",
    "\n",
    "# Range 2 discount:\n",
    "all_disc = df[(df['offer_id'].isin(disc_offers)) & (df['age_range'] == 2)]\n",
    "n_disc = all_disc.shape[0]\n",
    "all_disc1 = all_disc[all_disc['send_offer'] == 1]\n",
    "n_disc1 = all_disc1.shape[0]\n",
    "disc_comp = n_disc1 / n_disc\n",
    "\n",
    "# Range 2 Informational:\n",
    "all_inf = df[(df['offer_id'].isin(inf_offers)) & (df['age_range'] == 2)]\n",
    "n_inf = all_inf.shape[0]\n",
    "all_inf1 = all_inf[all_inf['send_offer'] == 1]\n",
    "n_inf1 = all_inf1.shape[0]\n",
    "inf_comp = n_inf1 / n_inf\n",
    "\n",
    "# Data Visualization:\n",
    "sns.set_theme(style=\"whitegrid\")\n",
    "\n",
    "y = [bogo_comp, inf_comp, disc_comp]\n",
    "x = ['BOGO', 'Informational', 'Discount']\n",
    "colors = sns.color_palette('pastel')[0:4]\n",
    "\n",
    "sns.barplot(x=x, y=y, palette=colors)\n",
    "plt.ylabel('Completion Rates')\n",
    "plt.title('[40-60] Age Range Offer Completion for Each Offer Type', fontsize = 14)\n",
    "plt.xlabel('Type of Offer')\n",
    "\n",
    "for i,y in enumerate(y):\n",
    "    plt.text(i, y/2, f'{round(y*100,1)}%', ha = 'center')"
   ]
  },
  {
   "cell_type": "code",
   "execution_count": null,
   "id": "e47ae92a",
   "metadata": {},
   "outputs": [],
   "source": [
    "# Level 3 (60-800):\n",
    "yes_age3 = df[(df['age_range'] == 3) & (df['send_offer'] == 1)]\n",
    "n_age3 = yes_age3.shape[0]\n",
    "\n",
    "# BOGO offers\n",
    "bogo_age3_perc = yes_age3[yes_age3['offer_id'].isin(bogo_offers)].shape[0]/n_age3\n",
    "\n",
    "# Informational offers:\n",
    "inf_age3_perc = yes_age3[yes_age3['offer_id'].isin(inf_offers)].shape[0]/n_age3\n",
    "\n",
    "# Discount offers:\n",
    "disc_age3_perc = yes_age3[yes_age3['offer_id'].isin(disc_offers)].shape[0]/n_age3\n",
    "\n",
    "print(f'Out of all completed offers: {100*round(bogo_age3_perc,3)}% are BOGO offers, \\\n",
    "{100*round(inf_age3_perc,3)}% are informational offers and {100*round(disc_age3_perc,3)}% are discount offers.')"
   ]
  },
  {
   "cell_type": "code",
   "execution_count": null,
   "id": "bc3cf0f1",
   "metadata": {},
   "outputs": [],
   "source": [
    "# Plotting pie chart:\n",
    "\n",
    "data = [bogo_age3_perc, inf_age3_perc, disc_age3_perc]\n",
    "labels = ['BOGO offers', 'Informational offers', 'Discount offers']\n",
    "colors = sns.color_palette('pastel')[0:4]\n",
    "\n",
    "plt.pie(data, labels = labels, colors = colors, autopct='%.2f%%')\n",
    "plt.title('Offer effectiveness for customers between 60 and 80 years old', fontsize = 14)\n",
    "plt.show()"
   ]
  },
  {
   "cell_type": "code",
   "execution_count": null,
   "id": "2b5c6124",
   "metadata": {},
   "outputs": [],
   "source": [
    "# Range 3 BOGO:\n",
    "all_bogo = df[(df['offer_id'].isin(bogo_offers)) & (df['age_range'] == 3)]\n",
    "n_bogo = all_bogo.shape[0]\n",
    "all_bogo1 = all_bogo[all_bogo['send_offer'] == 1]\n",
    "n_bogo1 = all_bogo1.shape[0]\n",
    "bogo_comp = n_bogo1 / n_bogo\n",
    "\n",
    "# Range 3 discount:\n",
    "all_disc = df[(df['offer_id'].isin(disc_offers)) & (df['age_range'] == 3)]\n",
    "n_disc = all_disc.shape[0]\n",
    "all_disc1 = all_disc[all_disc['send_offer'] == 1]\n",
    "n_disc1 = all_disc1.shape[0]\n",
    "disc_comp = n_disc1 / n_disc\n",
    "\n",
    "# Range 3 Informational:\n",
    "all_inf = df[(df['offer_id'].isin(inf_offers)) & (df['age_range'] == 3)]\n",
    "n_inf = all_inf.shape[0]\n",
    "all_inf1 = all_inf[all_inf['send_offer'] == 1]\n",
    "n_inf1 = all_inf1.shape[0]\n",
    "inf_comp = n_inf1 / n_inf\n",
    "\n",
    "# Data Visualization:\n",
    "sns.set_theme(style=\"whitegrid\")\n",
    "\n",
    "y = [bogo_comp, inf_comp, disc_comp]\n",
    "x = ['BOGO', 'Informational', 'Discount']\n",
    "colors = sns.color_palette('pastel')[0:4]\n",
    "\n",
    "sns.barplot(x=x, y=y, palette=colors)\n",
    "plt.ylabel('Completion Rates')\n",
    "plt.title('[60-80] Age Range Offer Completion for Each Offer Type', fontsize = 14)\n",
    "plt.xlabel('Type of Offer')\n",
    "\n",
    "for i,y in enumerate(y):\n",
    "    plt.text(i, y/2, f'{round(y*100,1)}%', ha = 'center')"
   ]
  },
  {
   "cell_type": "code",
   "execution_count": null,
   "id": "ee619317",
   "metadata": {},
   "outputs": [],
   "source": [
    "# Level 4 (80-101):\n",
    "yes_age4 = df[(df['age_range'] == 4) & (df['send_offer'] == 1)]\n",
    "n_age4 = yes_age4.shape[0]\n",
    "\n",
    "# BOGO offers\n",
    "bogo_age4_perc = yes_age4[yes_age4['offer_id'].isin(bogo_offers)].shape[0]/n_age4\n",
    "\n",
    "# Informational offers:\n",
    "inf_age4_perc = yes_age4[yes_age4['offer_id'].isin(inf_offers)].shape[0]/n_age4\n",
    "\n",
    "# Discount offers:\n",
    "disc_age4_perc = yes_age4[yes_age4['offer_id'].isin(disc_offers)].shape[0]/n_age4\n",
    "\n",
    "print(f'Out of all completed offers: {100*round(bogo_age4_perc,3)}% are BOGO offers, \\\n",
    "{100*round(inf_age4_perc,3)}% are informational offers and {100*round(disc_age4_perc,3)}% are discount offers.')"
   ]
  },
  {
   "cell_type": "code",
   "execution_count": null,
   "id": "66baed15",
   "metadata": {},
   "outputs": [],
   "source": [
    "# Plotting pie chart:\n",
    "\n",
    "data = [bogo_age4_perc, inf_age4_perc, disc_age4_perc]\n",
    "labels = ['BOGO offers', 'Informational offers', 'Discount offers']\n",
    "colors = sns.color_palette('pastel')[0:4]\n",
    "\n",
    "plt.pie(data, labels = labels, colors = colors, autopct='%.2f%%')\n",
    "plt.title('Offer effectiveness for customers between 80 and 101 years old', fontsize = 14)\n",
    "plt.show()"
   ]
  },
  {
   "cell_type": "code",
   "execution_count": null,
   "id": "5d223b46",
   "metadata": {},
   "outputs": [],
   "source": [
    "# Range 4 BOGO:\n",
    "all_bogo = df[(df['offer_id'].isin(bogo_offers)) & (df['age_range'] == 4)]\n",
    "n_bogo = all_bogo.shape[0]\n",
    "all_bogo1 = all_bogo[all_bogo['send_offer'] == 1]\n",
    "n_bogo1 = all_bogo1.shape[0]\n",
    "bogo_comp = n_bogo1 / n_bogo\n",
    "\n",
    "# Range 4 discount:\n",
    "all_disc = df[(df['offer_id'].isin(disc_offers)) & (df['age_range'] == 4)]\n",
    "n_disc = all_disc.shape[0]\n",
    "all_disc1 = all_disc[all_disc['send_offer'] == 1]\n",
    "n_disc1 = all_disc1.shape[0]\n",
    "disc_comp = n_disc1 / n_disc\n",
    "\n",
    "# Range 4 Informational:\n",
    "all_inf = df[(df['offer_id'].isin(inf_offers)) & (df['age_range'] == 4)]\n",
    "n_inf = all_inf.shape[0]\n",
    "all_inf1 = all_inf[all_inf['send_offer'] == 1]\n",
    "n_inf1 = all_inf1.shape[0]\n",
    "inf_comp = n_inf1 / n_inf\n",
    "\n",
    "# Data Visualization:\n",
    "sns.set_theme(style=\"whitegrid\")\n",
    "\n",
    "y = [bogo_comp, inf_comp, disc_comp]\n",
    "x = ['BOGO', 'Informational', 'Discount']\n",
    "colors = sns.color_palette('pastel')[0:4]\n",
    "\n",
    "sns.barplot(x=x, y=y, palette=colors)\n",
    "plt.ylabel('Completion Rates')\n",
    "plt.title('[80-101] Age Range Offer Completion for Each Offer Type', fontsize = 14)\n",
    "plt.xlabel('Type of Offer')\n",
    "\n",
    "for i,y in enumerate(y):\n",
    "    plt.text(i, y/2, f'{round(y*100,1)}%', ha = 'center')"
   ]
  },
  {
   "cell_type": "markdown",
   "id": "0cafb246",
   "metadata": {},
   "source": [
    "#### GENDER - Gender x Overall Completion Rate"
   ]
  },
  {
   "cell_type": "code",
   "execution_count": null,
   "id": "e4b6981a",
   "metadata": {},
   "outputs": [],
   "source": [
    "# Percentage of male users that completed an offer:\n",
    "cr_m = round(df[(df['M'] == 1)]['send_offer'].mean(), 3) * 100 # Completion rate for males\n",
    "print(cr_m)\n",
    "\n",
    "# Percentage of age 2 users that completed an offer:\n",
    "cr_f = round(df[(df['F'] == 1)]['send_offer'].mean(), 3) * 100 # Completion rate for females\n",
    "print(cr_f)\n",
    "\n",
    "# Percentage of age 3 users that completed an offer:\n",
    "cr_o = round(df[(df['O'] == 1)]['send_offer'].mean(), 2) * 100 # Completion rate for others\n",
    "print(cr_o)"
   ]
  },
  {
   "cell_type": "code",
   "execution_count": null,
   "id": "8962fec2",
   "metadata": {},
   "outputs": [],
   "source": [
    "# Data Visualization:\n",
    "sns.set_theme(style=\"whitegrid\")\n",
    "\n",
    "y = [cr_m, cr_f, cr_o]\n",
    "x = ['Males', 'Females', 'Others']\n",
    "colors = sns.color_palette('pastel')[0:4]\n",
    "\n",
    "sns.barplot(x=x, y=y, palette=colors)\n",
    "plt.ylabel('Overall Completion Rates')\n",
    "plt.title('Overall Completion Rate x Gender', fontsize = 14)\n",
    "\n",
    "for i,y in enumerate(y):\n",
    "    plt.text(i, y/2, f'{y}%', ha = 'center')"
   ]
  },
  {
   "cell_type": "code",
   "execution_count": null,
   "id": "6d577a81",
   "metadata": {},
   "outputs": [],
   "source": [
    "# Checking number of customers in each gender:\n",
    "\n",
    "males = profile[profile['M'] == 1].shape[0]\n",
    "females = profile[profile['F'] == 1].shape[0]\n",
    "others = profile[profile['O'] == 1].shape[0]\n",
    "\n",
    "sns.set_theme(style=\"whitegrid\")\n",
    "\n",
    "y = [males, females, others]\n",
    "x = ['n_Males', 'n_Females', 'n_Others']\n",
    "colors = sns.color_palette('pastel')[0:4]\n",
    "\n",
    "sns.barplot(x=x, y=y, palette=colors)\n",
    "plt.ylabel('Number of Individuals')\n",
    "# plt.title('', fontsize = 14)\n",
    "\n",
    "for i,y in enumerate(y):\n",
    "    plt.text(i, y/2, y, ha = 'center')"
   ]
  },
  {
   "cell_type": "markdown",
   "id": "aeb6ef1b",
   "metadata": {},
   "source": [
    "Since the number of customers that identify themselves as \"Other\" is considerabily smaller than the number of \"Males\" and \"Females\", the observations will be more focused on the results for \"Male\" and \"Female\".\n",
    "\n",
    "That said, the numbers related to \"Others\" will still be showed."
   ]
  },
  {
   "cell_type": "markdown",
   "id": "6d566e2c",
   "metadata": {},
   "source": [
    "#### GENDER - In the subset of people that responded to an offer, how is the percentage division for different genders:"
   ]
  },
  {
   "cell_type": "code",
   "execution_count": null,
   "id": "8f87fb18",
   "metadata": {},
   "outputs": [],
   "source": [
    "# General effectiveness of offers divided by gender:\n",
    "# Out of all the people who completed the offers, what's their gender? \n",
    "\n",
    "# Getting the number of \"completed\" by gender:\n",
    "n_m = df[(df['M'] == 1) & (df['send_offer'] == 1)].shape[0]\n",
    "n_f = df[(df['F'] == 1) & (df['send_offer'] == 1)].shape[0]\n",
    "n_o = df[(df['O'] == 1) & (df['send_offer'] == 1)].shape[0]\n",
    "\n",
    "perc_m = round(n_m/offers_1, 2) * 100\n",
    "perc_f = round(n_f/offers_1, 2) * 100\n",
    "perc_o = round(n_o/offers_1, 2) * 100\n",
    "\n",
    "\n",
    "print(perc_m, perc_f, perc_o)"
   ]
  },
  {
   "cell_type": "code",
   "execution_count": null,
   "id": "b1016fdb",
   "metadata": {},
   "outputs": [],
   "source": [
    "# Pie chart\n",
    "\n",
    "data = [perc_m, perc_f, perc_o]\n",
    "labels = ['Males', 'Females', 'Others']\n",
    "colors = sns.color_palette('pastel')[0:4]\n",
    "\n",
    "plt.pie(data, labels = labels, colors = colors, autopct='%.2f%%')\n",
    "plt.title('Customer gender division between offer completioners', fontsize = 14)\n",
    "plt.show()"
   ]
  },
  {
   "cell_type": "markdown",
   "id": "a71f185f",
   "metadata": {},
   "source": [
    "#### GENDER -  Most effective offer type within each gender"
   ]
  },
  {
   "cell_type": "code",
   "execution_count": null,
   "id": "ae3afa53",
   "metadata": {},
   "outputs": [],
   "source": [
    "# Effectiveness of offer types divided by age range:\n",
    "# Male:\n",
    "yes_m = df[(df['M'] == 1) & (df['send_offer'] == 1)]\n",
    "n_m = yes_m.shape[0]\n",
    "\n",
    "# BOGO offers\n",
    "bogo_m_perc = yes_m[yes_m['offer_id'].isin(bogo_offers)].shape[0]/n_m\n",
    "\n",
    "# Informational offers:\n",
    "inf_m_perc = yes_m[yes_m['offer_id'].isin(inf_offers)].shape[0]/n_m\n",
    "\n",
    "# Discount offers:\n",
    "disc_m_perc = yes_m[yes_m['offer_id'].isin(disc_offers)].shape[0]/n_m\n",
    "\n",
    "print(f'Out of all completed offers: {100*round(bogo_m_perc,3)}% are BOGO offers, \\\n",
    "{100*round(inf_m_perc,3)}% are informational offers and {100*round(disc_m_perc,3)}% are discount offers.')\n",
    "\n",
    "# Plotting pie chart:\n",
    "\n",
    "data = [bogo_m_perc, inf_m_perc, disc_m_perc]\n",
    "labels = ['BOGO offers', 'Informational offers', 'Discount offers']\n",
    "colors = sns.color_palette('pastel')[0:4]\n",
    "\n",
    "plt.pie(data, labels = labels, colors = colors, autopct='%.2f%%')\n",
    "plt.title('Offer effectiveness for male customers', fontsize = 14)\n",
    "plt.show()"
   ]
  },
  {
   "cell_type": "code",
   "execution_count": null,
   "id": "8afead21",
   "metadata": {},
   "outputs": [],
   "source": [
    "# Male BOGO:\n",
    "all_bogo_m = df[(df['offer_id'].isin(bogo_offers)) & (df['M'] == 1)]\n",
    "n_bogo_m = all_bogo_m.shape[0]\n",
    "all_bogo_m1 = all_bogo_m[all_bogo_m['send_offer'] == 1]\n",
    "n_bogo_m1 = all_bogo_m1.shape[0]\n",
    "bogo_comp_m = n_bogo_m1 / n_bogo_m\n",
    "\n",
    "# Male discount:\n",
    "all_disc_m = df[(df['offer_id'].isin(disc_offers)) & (df['M'] == 1)]\n",
    "n_disc_m = all_disc_m.shape[0]\n",
    "all_disc_m1 = all_disc_m[all_disc_m['send_offer'] == 1]\n",
    "n_disc_m1 = all_disc_m1.shape[0]\n",
    "disc_comp_m = n_disc_m1 / n_disc_m\n",
    "\n",
    "# Male Informational:\n",
    "all_inf_m = df[(df['offer_id'].isin(inf_offers)) & (df['M'] == 1)]\n",
    "n_inf_m = all_inf_m.shape[0]\n",
    "all_inf_m1 = all_inf_m[all_inf_m['send_offer'] == 1]\n",
    "n_inf_m1 = all_inf_m1.shape[0]\n",
    "inf_comp_m = n_inf_m1 / n_inf_m\n",
    "\n",
    "# Data Visualization:\n",
    "sns.set_theme(style=\"whitegrid\")\n",
    "\n",
    "y = [bogo_comp_m, inf_comp_m, disc_comp_m]\n",
    "x = ['BOGO', 'Informational', 'Discount']\n",
    "colors = sns.color_palette('pastel')[0:4]\n",
    "\n",
    "sns.barplot(x=x, y=y, palette=colors)\n",
    "plt.ylabel('Male - Completion Rates')\n",
    "plt.title('Male Offer Completion for Each Offer Type', fontsize = 14)\n",
    "plt.xlabel('Type of Offer')\n",
    "\n",
    "for i,y in enumerate(y):\n",
    "    plt.text(i, y/2, f'{round(y*100,1)}%', ha = 'center')"
   ]
  },
  {
   "cell_type": "code",
   "execution_count": null,
   "id": "5408c393",
   "metadata": {},
   "outputs": [],
   "source": [
    "# Female:\n",
    "yes_f = df[(df['F'] == 1) & (df['send_offer'] == 1)]\n",
    "n_f = yes_f.shape[0]\n",
    "\n",
    "# BOGO offers\n",
    "bogo_f_perc = yes_f[yes_f['offer_id'].isin(bogo_offers)].shape[0]/n_f\n",
    "\n",
    "# Informational offers:\n",
    "inf_f_perc = yes_f[yes_f['offer_id'].isin(inf_offers)].shape[0]/n_f\n",
    "\n",
    "# Discount offers:\n",
    "disc_f_perc = yes_f[yes_f['offer_id'].isin(disc_offers)].shape[0]/n_f\n",
    "\n",
    "print(f'Out of all completed offers: {100*round(bogo_f_perc,3)}% are BOGO offers, \\\n",
    "{100*round(inf_f_perc,3)}% are informational offers and {100*round(disc_f_perc,3)}% are discount offers.')\n",
    "\n",
    "# Plotting pie chart:\n",
    "\n",
    "data = [bogo_f_perc, inf_f_perc, disc_f_perc]\n",
    "labels = ['BOGO offers', 'Informational offers', 'Discount offers']\n",
    "colors = sns.color_palette('pastel')[0:4]\n",
    "\n",
    "plt.pie(data, labels = labels, colors = colors, autopct='%.2f%%')\n",
    "plt.title('Offer effectiveness for female customers', fontsize = 14)\n",
    "plt.show()"
   ]
  },
  {
   "cell_type": "code",
   "execution_count": null,
   "id": "6881c801",
   "metadata": {},
   "outputs": [],
   "source": [
    "# Female BOGO:\n",
    "all_bogo = df[(df['offer_id'].isin(bogo_offers)) & (df['F'] == 1)]\n",
    "n_bogo = all_bogo.shape[0]\n",
    "all_bogo1 = all_bogo[all_bogo['send_offer'] == 1]\n",
    "n_bogo1 = all_bogo1.shape[0]\n",
    "bogo_comp = n_bogo1 / n_bogo\n",
    "\n",
    "# Female discount:\n",
    "all_disc = df[(df['offer_id'].isin(disc_offers)) & (df['F'] == 1)]\n",
    "n_disc = all_disc.shape[0]\n",
    "all_disc1 = all_disc[all_disc['send_offer'] == 1]\n",
    "n_disc1 = all_disc1.shape[0]\n",
    "disc_comp = n_disc1 / n_disc\n",
    "\n",
    "# Female Informational:\n",
    "all_inf = df[(df['offer_id'].isin(inf_offers)) & (df['F'] == 1)]\n",
    "n_inf = all_inf.shape[0]\n",
    "all_inf1 = all_inf[all_inf['send_offer'] == 1]\n",
    "n_inf1 = all_inf1.shape[0]\n",
    "inf_comp = n_inf1 / n_inf\n",
    "\n",
    "# Data Visualization:\n",
    "sns.set_theme(style=\"whitegrid\")\n",
    "\n",
    "y = [bogo_comp, inf_comp, disc_comp]\n",
    "x = ['BOGO', 'Informational', 'Discount']\n",
    "colors = sns.color_palette('pastel')[0:4]\n",
    "\n",
    "sns.barplot(x=x, y=y, palette=colors)\n",
    "plt.ylabel('Female - Completion Rates')\n",
    "plt.title('Female Offer Completion for Each Offer Type', fontsize = 14)\n",
    "plt.xlabel('Type of Offer')\n",
    "\n",
    "for i,y in enumerate(y):\n",
    "    plt.text(i, y/2, f'{round(y*100,1)}%', ha = 'center')"
   ]
  },
  {
   "cell_type": "code",
   "execution_count": null,
   "id": "a13b5b53",
   "metadata": {},
   "outputs": [],
   "source": [
    "# Other (60-800):\n",
    "yes_o = df[(df['O'] == 1) & (df['send_offer'] == 1)]\n",
    "n_o = yes_o.shape[0]\n",
    "\n",
    "# BOGO offers\n",
    "bogo_o_perc = yes_o[yes_o['offer_id'].isin(bogo_offers)].shape[0]/n_o\n",
    "\n",
    "# Informational offers:\n",
    "inf_o_perc = yes_o[yes_o['offer_id'].isin(inf_offers)].shape[0]/n_o\n",
    "\n",
    "# Discount offers:\n",
    "disc_o_perc = yes_o[yes_o['offer_id'].isin(disc_offers)].shape[0]/n_o\n",
    "\n",
    "print(f'Out of all completed offers: {100*round(bogo_o_perc,3)}% are BOGO offers, \\\n",
    "{100*round(inf_o_perc,3)}% are informational offers and {100*round(disc_o_perc,3)}% are discount offers.')\n",
    "\n",
    "# Plotting pie chart:\n",
    "\n",
    "data = [bogo_o_perc, inf_o_perc, disc_o_perc]\n",
    "labels = ['BOGO offers', 'Informational offers', 'Discount offers']\n",
    "colors = sns.color_palette('pastel')[0:4]\n",
    "\n",
    "plt.pie(data, labels = labels, colors = colors, autopct='%.2f%%')\n",
    "plt.title('Offer effectiveness for \"Other\" customers', fontsize = 14)\n",
    "plt.show()"
   ]
  },
  {
   "cell_type": "code",
   "execution_count": null,
   "id": "3aa0747e",
   "metadata": {},
   "outputs": [],
   "source": [
    "# Other BOGO:\n",
    "all_bogo = df[(df['offer_id'].isin(bogo_offers)) & (df['O'] == 1)]\n",
    "n_bogo = all_bogo.shape[0]\n",
    "all_bogo1 = all_bogo[all_bogo['send_offer'] == 1]\n",
    "n_bogo1 = all_bogo1.shape[0]\n",
    "bogo_comp = n_bogo1 / n_bogo\n",
    "\n",
    "# Other discount:\n",
    "all_disc = df[(df['offer_id'].isin(disc_offers)) & (df['O'] == 1)]\n",
    "n_disc = all_disc.shape[0]\n",
    "all_disc1 = all_disc[all_disc['send_offer'] == 1]\n",
    "n_disc1 = all_disc1.shape[0]\n",
    "disc_comp = n_disc1 / n_disc\n",
    "\n",
    "# Other Informational:\n",
    "all_inf = df[(df['offer_id'].isin(inf_offers)) & (df['O'] == 1)]\n",
    "n_inf = all_inf.shape[0]\n",
    "all_inf1 = all_inf[all_inf['send_offer'] == 1]\n",
    "n_inf1 = all_inf1.shape[0]\n",
    "inf_comp = n_inf1 / n_inf\n",
    "\n",
    "# Data Visualization:\n",
    "sns.set_theme(style=\"whitegrid\")\n",
    "\n",
    "y = [bogo_comp, inf_comp, disc_comp]\n",
    "x = ['BOGO', 'Informational', 'Discount']\n",
    "colors = sns.color_palette('pastel')[0:4]\n",
    "\n",
    "sns.barplot(x=x, y=y, palette=colors)\n",
    "plt.ylabel('Other Gender - Completion Rates')\n",
    "plt.title('Other Gender Offer Completion for Each Offer Type', fontsize = 14)\n",
    "plt.xlabel('Type of Offer')\n",
    "\n",
    "for i,y in enumerate(y):\n",
    "    plt.text(i, y/2, f'{round(y*100,1)}%', ha = 'center')"
   ]
  },
  {
   "cell_type": "markdown",
   "id": "1a40affd",
   "metadata": {},
   "source": [
    "#### INCOME - Income x Overall Completion Rate"
   ]
  },
  {
   "cell_type": "code",
   "execution_count": null,
   "id": "833ea18a",
   "metadata": {},
   "outputs": [],
   "source": [
    "# Percentage of users with income_range = 1 that completed an offer:\n",
    "cr_inc1 = round(df[(df['income_range'] == 1)]['send_offer'].mean(), 2) * 100 # Completion rate for males\n",
    "print(cr_inc1)\n",
    "\n",
    "# Percentage of users with income_range = 2 that completed an offer:\n",
    "cr_inc2 = round(df[(df['income_range'] == 2)]['send_offer'].mean(), 2) * 100 # Completion rate for females\n",
    "print(cr_inc2)\n",
    "\n",
    "# Percentage of users with income_range = 3 that completed an offer:\n",
    "cr_inc3 = round(df[(df['income_range'] == 3)]['send_offer'].mean(), 2) * 100 # Completion rate for others\n",
    "print(cr_inc3)\n",
    "\n",
    "# Percentage of users with income_range = 4 that completed an offer:\n",
    "cr_inc4 = round(df[(df['income_range'] == 4)]['send_offer'].mean(), 2) * 100 # Completion rate for others\n",
    "print(cr_inc4)\n",
    "\n",
    "# Data Visualization:\n",
    "sns.set_theme(style=\"whitegrid\")\n",
    "\n",
    "y = [cr_inc1, cr_inc2, cr_inc3, cr_inc4]\n",
    "x = ['30,000 - 50,000', '50,000 - 70,000', '70,000 - 90,000', '90,000 - 120,000']\n",
    "colors = sns.color_palette('pastel')[0:4]\n",
    "\n",
    "sns.barplot(x=x, y=y, palette=colors)\n",
    "plt.ylabel('Overall Completion Rates')\n",
    "plt.title('Overall Completion Rate x Income Range', fontsize = 14)\n",
    "\n",
    "for i,y in enumerate(y):\n",
    "    plt.text(i, y/2, f'{y}%', ha = 'center')"
   ]
  },
  {
   "cell_type": "code",
   "execution_count": null,
   "id": "fb78c673",
   "metadata": {},
   "outputs": [],
   "source": [
    "# Checking number of customers in each income range:\n",
    "\n",
    "inc1 = profile[profile['income_range'] == 1].shape[0]\n",
    "inc2 = profile[profile['income_range'] == 2].shape[0]\n",
    "inc3 = profile[profile['income_range'] == 3].shape[0]\n",
    "inc4 = profile[profile['income_range'] == 4].shape[0]\n",
    "\n",
    "sns.set_theme(style=\"whitegrid\")\n",
    "\n",
    "y = [inc1, inc2, inc3, inc4]\n",
    "x = ['30k-50k', '50k-70k', '70k-90k', '90k-120k']\n",
    "colors = sns.color_palette('pastel')[0:4]\n",
    "\n",
    "sns.barplot(x=x, y=y, palette=colors)\n",
    "plt.ylabel('Number of Individuals')\n",
    "plt.xlabel('Income Ranges')\n",
    "# plt.title('', fontsize = 14)\n",
    "\n",
    "for i,y in enumerate(y):\n",
    "    plt.text(i, y/2, y, ha = 'center')"
   ]
  },
  {
   "cell_type": "markdown",
   "id": "d0543954",
   "metadata": {},
   "source": [
    "#### INCOME - In the subset of people that completed to an offer, how is the percentage division for different income ranges:"
   ]
  },
  {
   "cell_type": "code",
   "execution_count": null,
   "id": "4e09c176",
   "metadata": {},
   "outputs": [],
   "source": [
    "# General effectiveness of offers divided by income:\n",
    "# Out of all the people who completed the offers, what's their income range? \n",
    "\n",
    "# Getting the number of \"completed\" by income:\n",
    "n_inc1 = df[(df['income_range'] == 1) & (df['send_offer'] == 1)].shape[0]\n",
    "n_inc2 = df[(df['income_range'] == 2) & (df['send_offer'] == 1)].shape[0]\n",
    "n_inc3 = df[(df['income_range'] == 3) & (df['send_offer'] == 1)].shape[0]\n",
    "n_inc4 = df[(df['income_range'] == 4) & (df['send_offer'] == 1)].shape[0]\n",
    "\n",
    "perc_inc1 = round(n_inc1/offers_1, 2) * 100\n",
    "perc_inc2 = round(n_inc2/offers_1, 2) * 100\n",
    "perc_inc3 = round(n_inc3/offers_1, 2) * 100\n",
    "perc_inc4 = round(n_inc4/offers_1, 2) * 100\n",
    "\n",
    "print(perc_inc1, perc_inc2, perc_inc3, perc_inc4)\n",
    "\n",
    "# Pie chart\n",
    "\n",
    "data = [perc_inc1, perc_inc2, perc_inc3, perc_inc4]\n",
    "labels = ['30k-50k', '50k-70k', '70k-90k', '90k-120k']\n",
    "colors = sns.color_palette('pastel')[0:4]\n",
    "\n",
    "plt.pie(data, labels = labels, colors = colors, autopct='%.2f%%')\n",
    "plt.title('Customer income division amongst offer completioners', fontsize = 14)\n",
    "plt.show()"
   ]
  },
  {
   "cell_type": "markdown",
   "id": "4e7eb0d7",
   "metadata": {},
   "source": [
    "#### INCOME -  Most effective offer type within each income range"
   ]
  },
  {
   "cell_type": "code",
   "execution_count": null,
   "id": "5f4a7983",
   "metadata": {},
   "outputs": [],
   "source": [
    "# Effectiveness of offer types divided by income range:\n",
    "# Range1:\n",
    "yes_inc1 = df[(df['income_range'] == 1) & (df['send_offer'] == 1)]\n",
    "n_inc1 = yes_inc1.shape[0]\n",
    "\n",
    "# BOGO offers\n",
    "bogo_inc1_perc = yes_inc1[yes_inc1['offer_id'].isin(bogo_offers)].shape[0]/n_inc1\n",
    "\n",
    "# Informational offers:\n",
    "inf_inc1_perc = yes_inc1[yes_inc1['offer_id'].isin(inf_offers)].shape[0]/n_inc1\n",
    "\n",
    "# Discount offers:\n",
    "disc_inc1_perc = yes_inc1[yes_inc1['offer_id'].isin(disc_offers)].shape[0]/n_inc1\n",
    "\n",
    "print(f'Out of all completed offers: {100*round(bogo_inc1_perc,2)}% are BOGO offers, \\\n",
    "{100*round(inf_inc1_perc,2)}% are informational offers and {100*round(disc_inc1_perc,2)}% are discount offers.')\n",
    "\n",
    "# Plotting pie chart:\n",
    "\n",
    "data = [bogo_inc1_perc, inf_inc1_perc, disc_inc1_perc]\n",
    "labels = ['BOGO offers', 'Informational offers', 'Discount offers']\n",
    "colors = sns.color_palette('pastel')[0:4]\n",
    "\n",
    "plt.pie(data, labels = labels, colors = colors, autopct='%.2f%%')\n",
    "plt.title('Offer effectiveness for customers on income range level 1 (30k-50k)', fontsize = 14)\n",
    "plt.show()"
   ]
  },
  {
   "cell_type": "code",
   "execution_count": null,
   "id": "2d0ff282",
   "metadata": {},
   "outputs": [],
   "source": [
    "# Range 1 BOGO:\n",
    "all_bogo = df[(df['offer_id'].isin(bogo_offers)) & (df['income_range'] == 1)]\n",
    "n_bogo = all_bogo.shape[0]\n",
    "all_bogo1 = all_bogo[all_bogo['send_offer'] == 1]\n",
    "n_bogo1 = all_bogo1.shape[0]\n",
    "bogo_comp = n_bogo1 / n_bogo\n",
    "\n",
    "# Range 1 discount:\n",
    "all_disc = df[(df['offer_id'].isin(disc_offers)) & (df['income_range'] == 1)]\n",
    "n_disc = all_disc.shape[0]\n",
    "all_disc1 = all_disc[all_disc['send_offer'] == 1]\n",
    "n_disc1 = all_disc1.shape[0]\n",
    "disc_comp = n_disc1 / n_disc\n",
    "\n",
    "# Range 1 Informational:\n",
    "all_inf = df[(df['offer_id'].isin(inf_offers)) & (df['income_range'] == 1)]\n",
    "n_inf = all_inf.shape[0]\n",
    "all_inf1 = all_inf[all_inf['send_offer'] == 1]\n",
    "n_inf1 = all_inf1.shape[0]\n",
    "inf_comp = n_inf1 / n_inf\n",
    "\n",
    "# Data Visualization:\n",
    "sns.set_theme(style=\"whitegrid\")\n",
    "\n",
    "y = [bogo_comp, inf_comp, disc_comp]\n",
    "x = ['BOGO', 'Informational', 'Discount']\n",
    "colors = sns.color_palette('pastel')[0:4]\n",
    "\n",
    "sns.barplot(x=x, y=y, palette=colors)\n",
    "plt.ylabel('Completion Rates')\n",
    "plt.title('[30k-50k] Income Range Offer Completion for Each Offer Type', fontsize = 14)\n",
    "plt.xlabel('Type of Offer')\n",
    "\n",
    "for i,y in enumerate(y):\n",
    "    plt.text(i, y/2, f'{round(y*100,1)}%', ha = 'center')"
   ]
  },
  {
   "cell_type": "code",
   "execution_count": null,
   "id": "efb65ea4",
   "metadata": {},
   "outputs": [],
   "source": [
    "# Range 2:\n",
    "yes_inc2 = df[(df['income_range'] == 2) & (df['send_offer'] == 1)]\n",
    "n_inc2 = yes_inc2.shape[0]\n",
    "\n",
    "# BOGO offers\n",
    "bogo_inc2_perc = yes_inc2[yes_inc2['offer_id'].isin(bogo_offers)].shape[0]/n_inc2\n",
    "\n",
    "# Informational offers:\n",
    "inf_inc2_perc = yes_inc2[yes_inc2['offer_id'].isin(inf_offers)].shape[0]/n_inc2\n",
    "\n",
    "# Discount offers:\n",
    "disc_inc2_perc = yes_inc2[yes_inc2['offer_id'].isin(disc_offers)].shape[0]/n_inc2\n",
    "\n",
    "print(f'Out of all completed offers: {100*round(bogo_inc2_perc,2)}% are BOGO offers, \\\n",
    "{100*round(inf_inc2_perc,2)}% are informational offers and {100*round(disc_inc2_perc,2)}% are discount offers.')\n",
    "\n",
    "# Plotting pie chart:\n",
    "\n",
    "data = [bogo_inc2_perc, inf_inc2_perc, disc_inc2_perc]\n",
    "labels = ['BOGO offers', 'Informational offers', 'Discount offers']\n",
    "colors = sns.color_palette('pastel')[0:4]\n",
    "\n",
    "plt.pie(data, labels = labels, colors = colors, autopct='%.2f%%')\n",
    "plt.title('Offer effectiveness for customers on income range level 2 (50k-70k)', fontsize = 14)\n",
    "plt.show()"
   ]
  },
  {
   "cell_type": "code",
   "execution_count": null,
   "id": "613f2c9d",
   "metadata": {},
   "outputs": [],
   "source": [
    "# Range 2 BOGO:\n",
    "all_bogo = df[(df['offer_id'].isin(bogo_offers)) & (df['income_range'] == 2)]\n",
    "n_bogo = all_bogo.shape[0]\n",
    "all_bogo1 = all_bogo[all_bogo['send_offer'] == 1]\n",
    "n_bogo1 = all_bogo1.shape[0]\n",
    "bogo_comp = n_bogo1 / n_bogo\n",
    "\n",
    "# Range 2 discount:\n",
    "all_disc = df[(df['offer_id'].isin(disc_offers)) & (df['income_range'] == 2)]\n",
    "n_disc = all_disc.shape[0]\n",
    "all_disc1 = all_disc[all_disc['send_offer'] == 1]\n",
    "n_disc1 = all_disc1.shape[0]\n",
    "disc_comp = n_disc1 / n_disc\n",
    "\n",
    "# Range 2 Informational:\n",
    "all_inf = df[(df['offer_id'].isin(inf_offers)) & (df['income_range'] == 2)]\n",
    "n_inf = all_inf.shape[0]\n",
    "all_inf1 = all_inf[all_inf['send_offer'] == 1]\n",
    "n_inf1 = all_inf1.shape[0]\n",
    "inf_comp = n_inf1 / n_inf\n",
    "\n",
    "# Data Visualization:\n",
    "sns.set_theme(style=\"whitegrid\")\n",
    "\n",
    "y = [bogo_comp, inf_comp, disc_comp]\n",
    "x = ['BOGO', 'Informational', 'Discount']\n",
    "colors = sns.color_palette('pastel')[0:4]\n",
    "\n",
    "sns.barplot(x=x, y=y, palette=colors)\n",
    "plt.ylabel('Completion Rates')\n",
    "plt.title('[50k-70k] Income Range Offer Completion for Each Offer Type', fontsize = 14)\n",
    "plt.xlabel('Type of Offer')\n",
    "\n",
    "for i,y in enumerate(y):\n",
    "    plt.text(i, y/2, f'{round(y*100,1)}%', ha = 'center')"
   ]
  },
  {
   "cell_type": "code",
   "execution_count": null,
   "id": "87dc7236",
   "metadata": {},
   "outputs": [],
   "source": [
    "# Range 3:\n",
    "yes_inc3 = df[(df['income_range'] == 3) & (df['send_offer'] == 1)]\n",
    "n_inc3 = yes_inc3.shape[0]\n",
    "\n",
    "# BOGO offers\n",
    "bogo_inc3_perc = yes_inc3[yes_inc3['offer_id'].isin(bogo_offers)].shape[0]/n_inc3\n",
    "\n",
    "# Informational offers:\n",
    "inf_inc3_perc = yes_inc3[yes_inc3['offer_id'].isin(inf_offers)].shape[0]/n_inc3\n",
    "\n",
    "# Discount offers:\n",
    "disc_inc3_perc = yes_inc3[yes_inc3['offer_id'].isin(disc_offers)].shape[0]/n_inc3\n",
    "\n",
    "print(f'Out of all completed offers: {100*round(bogo_inc3_perc,2)}% are BOGO offers, \\\n",
    "{100*round(inf_inc3_perc,2)}% are informational offers and {100*round(disc_inc3_perc,2)}% are discount offers.')\n",
    "\n",
    "# Plotting pie chart:\n",
    "\n",
    "data = [bogo_inc3_perc, inf_inc3_perc, disc_inc3_perc]\n",
    "labels = ['BOGO offers', 'Informational offers', 'Discount offers']\n",
    "colors = sns.color_palette('pastel')[0:4]\n",
    "\n",
    "plt.pie(data, labels = labels, colors = colors, autopct='%.2f%%')\n",
    "plt.title('Offer effectiveness for customers on income range level 3 (70k-90k)', fontsize = 14)\n",
    "plt.show()"
   ]
  },
  {
   "cell_type": "code",
   "execution_count": null,
   "id": "686b5a88",
   "metadata": {},
   "outputs": [],
   "source": [
    "# Range 3 BOGO:\n",
    "all_bogo = df[(df['offer_id'].isin(bogo_offers)) & (df['income_range'] == 3)]\n",
    "n_bogo = all_bogo.shape[0]\n",
    "all_bogo1 = all_bogo[all_bogo['send_offer'] == 1]\n",
    "n_bogo1 = all_bogo1.shape[0]\n",
    "bogo_comp = n_bogo1 / n_bogo\n",
    "\n",
    "# Range 3 discount:\n",
    "all_disc = df[(df['offer_id'].isin(disc_offers)) & (df['income_range'] == 3)]\n",
    "n_disc = all_disc.shape[0]\n",
    "all_disc1 = all_disc[all_disc['send_offer'] == 1]\n",
    "n_disc1 = all_disc1.shape[0]\n",
    "disc_comp = n_disc1 / n_disc\n",
    "\n",
    "# Range 3 Informational:\n",
    "all_inf = df[(df['offer_id'].isin(inf_offers)) & (df['income_range'] == 3)]\n",
    "n_inf = all_inf.shape[0]\n",
    "all_inf1 = all_inf[all_inf['send_offer'] == 1]\n",
    "n_inf1 = all_inf1.shape[0]\n",
    "inf_comp = n_inf1 / n_inf\n",
    "\n",
    "# Data Visualization:\n",
    "sns.set_theme(style=\"whitegrid\")\n",
    "\n",
    "y = [bogo_comp, inf_comp, disc_comp]\n",
    "x = ['BOGO', 'Informational', 'Discount']\n",
    "colors = sns.color_palette('pastel')[0:4]\n",
    "\n",
    "sns.barplot(x=x, y=y, palette=colors)\n",
    "plt.ylabel('Completion Rates')\n",
    "plt.title('[70k-90k] Income Range Offer Completion for Each Offer Type', fontsize = 14)\n",
    "plt.xlabel('Type of Offer')\n",
    "\n",
    "for i,y in enumerate(y):\n",
    "    plt.text(i, y/2, f'{round(y*100,1)}%', ha = 'center')"
   ]
  },
  {
   "cell_type": "code",
   "execution_count": null,
   "id": "37fc4be4",
   "metadata": {},
   "outputs": [],
   "source": [
    "# Range 4:\n",
    "yes_inc4 = df[(df['income_range'] == 4) & (df['send_offer'] == 1)]\n",
    "n_inc4 = yes_inc4.shape[0]\n",
    "\n",
    "# BOGO offers\n",
    "bogo_inc4_perc = yes_inc4[yes_inc4['offer_id'].isin(bogo_offers)].shape[0]/n_inc4\n",
    "\n",
    "# Informational offers:\n",
    "inf_inc4_perc = yes_inc4[yes_inc4['offer_id'].isin(inf_offers)].shape[0]/n_inc4\n",
    "\n",
    "# Discount offers:\n",
    "disc_inc4_perc = yes_inc4[yes_inc4['offer_id'].isin(disc_offers)].shape[0]/n_inc4\n",
    "\n",
    "print(f'Out of all completed offers: {100*round(bogo_inc4_perc,2)}% are BOGO offers, \\\n",
    "{100*round(inf_inc4_perc,2)}% are informational offers and {100*round(disc_inc4_perc,2)}% are discount offers.')\n",
    "\n",
    "# Plotting pie chart:\n",
    "\n",
    "data = [bogo_inc4_perc, inf_inc4_perc, disc_inc4_perc]\n",
    "labels = ['BOGO offers', 'Informational offers', 'Discount offers']\n",
    "colors = sns.color_palette('pastel')[0:4]\n",
    "\n",
    "plt.pie(data, labels = labels, colors = colors, autopct='%.2f%%')\n",
    "plt.title('Offer effectiveness for customers on income range level 4 (90k-120k)', fontsize = 14)\n",
    "plt.show()"
   ]
  },
  {
   "cell_type": "code",
   "execution_count": null,
   "id": "2ca5e861",
   "metadata": {},
   "outputs": [],
   "source": [
    "# Range 4 BOGO:\n",
    "all_bogo = df[(df['offer_id'].isin(bogo_offers)) & (df['income_range'] == 4)]\n",
    "n_bogo = all_bogo.shape[0]\n",
    "all_bogo1 = all_bogo[all_bogo['send_offer'] == 1]\n",
    "n_bogo1 = all_bogo1.shape[0]\n",
    "bogo_comp = n_bogo1 / n_bogo\n",
    "\n",
    "# Range 4 discount:\n",
    "all_disc = df[(df['offer_id'].isin(disc_offers)) & (df['income_range'] == 4)]\n",
    "n_disc = all_disc.shape[0]\n",
    "all_disc1 = all_disc[all_disc['send_offer'] == 1]\n",
    "n_disc1 = all_disc1.shape[0]\n",
    "disc_comp = n_disc1 / n_disc\n",
    "\n",
    "# Range 4 Informational:\n",
    "all_inf = df[(df['offer_id'].isin(inf_offers)) & (df['income_range'] == 4)]\n",
    "n_inf = all_inf.shape[0]\n",
    "all_inf1 = all_inf[all_inf['send_offer'] == 1]\n",
    "n_inf1 = all_inf1.shape[0]\n",
    "inf_comp = n_inf1 / n_inf\n",
    "\n",
    "# Data Visualization:\n",
    "sns.set_theme(style=\"whitegrid\")\n",
    "\n",
    "y = [bogo_comp, inf_comp, disc_comp]\n",
    "x = ['BOGO', 'Informational', 'Discount']\n",
    "colors = sns.color_palette('pastel')[0:4]\n",
    "\n",
    "sns.barplot(x=x, y=y, palette=colors)\n",
    "plt.ylabel('Completion Rates')\n",
    "plt.title('[90k-120k] Income Range Offer Completion for Each Offer Type', fontsize = 14)\n",
    "plt.xlabel('Type of Offer')\n",
    "\n",
    "for i,y in enumerate(y):\n",
    "    plt.text(i, y/2, f'{round(y*100,1)}%', ha = 'center')"
   ]
  },
  {
   "cell_type": "markdown",
   "id": "cf2fe26b",
   "metadata": {},
   "source": [
    "#### FIDELITY - Fidelity Level x Overall Completion Rate"
   ]
  },
  {
   "cell_type": "code",
   "execution_count": null,
   "id": "c8d5f0bf",
   "metadata": {},
   "outputs": [],
   "source": [
    "# Percentage of users with fidelity = 1 that completed an offer (Between 29/07/2013 and 28/07/2014):\n",
    "cr_f1 = round(df[(df['fidelity'] == 1)]['send_offer'].mean(), 3) * 100 # Completion rate for fidelity=1\n",
    "print(cr_f1)\n",
    "\n",
    "# Percentage of users with fidelity = 2 that completed an offer (Between 29/07/2014 and 28/07/2015):\n",
    "cr_f2 = round(df[(df['fidelity'] == 2)]['send_offer'].mean(), 3) * 100 # Completion rate for fidelity=2\n",
    "print(cr_f2)\n",
    "\n",
    "# Percentage of users with fidelity = 3 that completed an offer (Between 29/07/2015 and 28/07/2016):\n",
    "cr_f3 = round(df[(df['fidelity'] == 3)]['send_offer'].mean(), 3) * 100 # Completion rate for fidelity=3\n",
    "print(cr_f3)\n",
    "\n",
    "# Percentage of users with fidelity = 4 that completed an offer (Between 29/07/2016 and 28/07/2017):\n",
    "cr_f4 = round(df[(df['fidelity'] == 4)]['send_offer'].mean(), 2) * 100 # Completion rate for fidelity=4\n",
    "print(cr_f4)\n",
    "\n",
    "# Percentage of users with fidelity = 4 that completed an offer (Between 29/07/2017 and 26/07/2018):\n",
    "cr_f5 = round(df[(df['fidelity'] == 5)]['send_offer'].mean(), 2) * 100 # Completion rate for fidelity=4\n",
    "print(cr_f5)\n",
    "\n",
    "# Data Visualization:\n",
    "sns.set_theme(style=\"whitegrid\")\n",
    "\n",
    "y = [cr_f1, cr_f2, cr_f3, cr_f4, cr_f5]\n",
    "x = ['Fidelity 1', 'Fidelity 2', 'Fidelity 3', 'Fidelity 4', 'Fidelity 5']\n",
    "colors = sns.color_palette('pastel')[0:6]\n",
    "\n",
    "sns.barplot(x=x, y=y, palette=colors)\n",
    "plt.ylabel('Overall Completion Rates')\n",
    "plt.title('Overall Completion Rate x Fidelity Level', fontsize = 14)\n",
    "\n",
    "for i,y in enumerate(y):\n",
    "    plt.text(i, y/2, f'{y}%', ha = 'center')"
   ]
  },
  {
   "cell_type": "code",
   "execution_count": null,
   "id": "e3fc09f0",
   "metadata": {},
   "outputs": [],
   "source": [
    "# Checking number of customers in each fidelity level:\n",
    "\n",
    "f1 = profile[profile['fidelity'] == 1].shape[0]\n",
    "f2 = profile[profile['fidelity'] == 2].shape[0]\n",
    "f3 = profile[profile['fidelity'] == 3].shape[0]\n",
    "f4 = profile[profile['fidelity'] == 4].shape[0]\n",
    "f5 = profile[profile['fidelity'] == 5].shape[0]\n",
    "\n",
    "sns.set_theme(style=\"whitegrid\")\n",
    "\n",
    "y = [f1, f2, f3, f4, f5]\n",
    "x = ['Fidelity 1', 'Fidelity 2', 'Fidelity 3', 'Fidelity 4', 'Fidelity 5']\n",
    "colors = sns.color_palette('pastel')[0:5]\n",
    "\n",
    "sns.barplot(x=x, y=y, palette=colors)\n",
    "plt.ylabel('Number of Individuals')\n",
    "plt.xlabel('Fidelity Levels')\n",
    "# plt.title('', fontsize = 14)\n",
    "\n",
    "for i,y in enumerate(y):\n",
    "    plt.text(i, y/2, y, ha = 'center')"
   ]
  },
  {
   "cell_type": "markdown",
   "id": "d79264d8",
   "metadata": {},
   "source": [
    "#### FIDELITY - In the subset of people that completed to an offer, how is the percentage division for different fidelity levels:"
   ]
  },
  {
   "cell_type": "code",
   "execution_count": null,
   "id": "9074ac4a",
   "metadata": {},
   "outputs": [],
   "source": [
    "# General effectiveness of offers divided by fidelity:\n",
    "# Out of all the people who completed the offers, what's their fidelity level? \n",
    "\n",
    "# Getting the number of \"completed\" by income:\n",
    "n_f1 = df[(df['fidelity'] == 1) & (df['send_offer'] == 1)].shape[0]\n",
    "n_f2 = df[(df['fidelity'] == 2) & (df['send_offer'] == 1)].shape[0]\n",
    "n_f3 = df[(df['fidelity'] == 3) & (df['send_offer'] == 1)].shape[0]\n",
    "n_f4 = df[(df['fidelity'] == 4) & (df['send_offer'] == 1)].shape[0]\n",
    "n_f5 = df[(df['fidelity'] == 5) & (df['send_offer'] == 1)].shape[0]\n",
    "\n",
    "perc_f1 = round(n_f1/offers_1, 2) * 100\n",
    "perc_f2 = round(n_f2/offers_1, 2) * 100\n",
    "perc_f3 = round(n_f3/offers_1, 2) * 100\n",
    "perc_f4 = round(n_f4/offers_1, 2) * 100\n",
    "perc_f5 = round(n_f5/offers_1, 2) * 100\n",
    "\n",
    "print(perc_f1, perc_f2, perc_f3, perc_f4,perc_f5)\n",
    "\n",
    "# Pie chart\n",
    "\n",
    "data = [perc_f1, perc_f2, perc_f3, perc_f4,perc_f5]\n",
    "labels = ['Fidelity 1', 'Fidelity 2', 'Fidelity 3', 'Fidelity 4', 'Fidelity 5']\n",
    "colors = sns.color_palette('pastel')[0:6]\n",
    "\n",
    "plt.pie(data, labels = labels, colors = colors, autopct='%.2f%%')\n",
    "plt.title('Customer fidelity division amongst offer completioners', fontsize = 14)\n",
    "plt.show()"
   ]
  },
  {
   "cell_type": "markdown",
   "id": "743d3840",
   "metadata": {},
   "source": [
    "#### FIDELITY -  Most effective offer type within each fidelity range"
   ]
  },
  {
   "cell_type": "code",
   "execution_count": null,
   "id": "40df65ba",
   "metadata": {},
   "outputs": [],
   "source": [
    "# Effectiveness of offer types divided by fidelity:\n",
    "# Level 1:\n",
    "yes_f1 = df[(df['fidelity'] == 1) & (df['send_offer'] == 1)]\n",
    "n_f1 = yes_f1.shape[0]\n",
    "\n",
    "# BOGO offers\n",
    "bogo_f1_perc = yes_f1[yes_f1['offer_id'].isin(bogo_offers)].shape[0]/n_f1\n",
    "\n",
    "# Informational offers:\n",
    "inf_f1_perc = yes_f1[yes_f1['offer_id'].isin(inf_offers)].shape[0]/n_f1\n",
    "\n",
    "# Discount offers:\n",
    "disc_f1_perc = yes_f1[yes_f1['offer_id'].isin(disc_offers)].shape[0]/n_f1\n",
    "\n",
    "print(f'Out of all completed offers: {100*round(bogo_f1_perc,2)}% are BOGO offers, \\\n",
    "{100*round(inf_f1_perc,2)}% are informational offers and {100*round(disc_f1_perc,2)}% are discount offers.')\n",
    "\n",
    "# Plotting pie chart:\n",
    "\n",
    "data = [bogo_f1_perc, inf_f1_perc, disc_f1_perc]\n",
    "labels = ['BOGO offers', 'Informational offers', 'Discount offers']\n",
    "colors = sns.color_palette('pastel')[0:4]\n",
    "\n",
    "plt.pie(data, labels = labels, colors = colors, autopct='%.2f%%')\n",
    "plt.title('Offer effectiveness for customers on fidelity level 1 (Between 29/07/2013 and 28/07/2014 )', fontsize = 14)\n",
    "plt.show()"
   ]
  },
  {
   "cell_type": "code",
   "execution_count": null,
   "id": "3a0a3a97",
   "metadata": {},
   "outputs": [],
   "source": [
    "# Range 1 BOGO:\n",
    "all_bogo = df[(df['offer_id'].isin(bogo_offers)) & (df['fidelity'] == 1)]\n",
    "n_bogo = all_bogo.shape[0]\n",
    "all_bogo1 = all_bogo[all_bogo['send_offer'] == 1]\n",
    "n_bogo1 = all_bogo1.shape[0]\n",
    "bogo_comp = n_bogo1 / n_bogo\n",
    "\n",
    "# Range 1 discount:\n",
    "all_disc = df[(df['offer_id'].isin(disc_offers)) & (df['fidelity'] == 1)]\n",
    "n_disc = all_disc.shape[0]\n",
    "all_disc1 = all_disc[all_disc['send_offer'] == 1]\n",
    "n_disc1 = all_disc1.shape[0]\n",
    "disc_comp = n_disc1 / n_disc\n",
    "\n",
    "# Range 1 Informational:\n",
    "all_inf = df[(df['offer_id'].isin(inf_offers)) & (df['fidelity'] == 1)]\n",
    "n_inf = all_inf.shape[0]\n",
    "all_inf1 = all_inf[all_inf['send_offer'] == 1]\n",
    "n_inf1 = all_inf1.shape[0]\n",
    "inf_comp = n_inf1 / n_inf\n",
    "\n",
    "# Data Visualization:\n",
    "sns.set_theme(style=\"whitegrid\")\n",
    "\n",
    "y = [bogo_comp, inf_comp, disc_comp]\n",
    "x = ['BOGO', 'Informational', 'Discount']\n",
    "colors = sns.color_palette('pastel')[0:4]\n",
    "\n",
    "sns.barplot(x=x, y=y, palette=colors)\n",
    "plt.ylabel('Completion Rates')\n",
    "plt.title('Level 1 Fidelity Offer Completion for Each Offer Type', fontsize = 14)\n",
    "plt.xlabel('Type of Offer')\n",
    "\n",
    "for i,y in enumerate(y):\n",
    "    plt.text(i, y/2, f'{round(y*100,1)}%', ha = 'center')"
   ]
  },
  {
   "cell_type": "code",
   "execution_count": null,
   "id": "d00322fb",
   "metadata": {},
   "outputs": [],
   "source": [
    "# Effectiveness of offer types divided by fidelity:\n",
    "# Level 2:\n",
    "yes_f2 = df[(df['fidelity'] == 2) & (df['send_offer'] == 1)]\n",
    "n_f2 = yes_f2.shape[0]\n",
    "\n",
    "# BOGO offers\n",
    "bogo_f2_perc = yes_f2[yes_f2['offer_id'].isin(bogo_offers)].shape[0]/n_f2\n",
    "\n",
    "# Informational offers:\n",
    "inf_f2_perc = yes_f2[yes_f2['offer_id'].isin(inf_offers)].shape[0]/n_f2\n",
    "\n",
    "# Discount offers:\n",
    "disc_f2_perc = yes_f2[yes_f2['offer_id'].isin(disc_offers)].shape[0]/n_f2\n",
    "\n",
    "print(f'Out of all completed offers: {100*round(bogo_f2_perc,2)}% are BOGO offers, \\\n",
    "{100*round(inf_f2_perc,2)}% are informational offers and {100*round(disc_f2_perc,2)}% are discount offers.')\n",
    "\n",
    "# Plotting pie chart:\n",
    "\n",
    "data = [bogo_f2_perc, inf_f2_perc, disc_f2_perc]\n",
    "labels = ['BOGO offers', 'Informational offers', 'Discount offers']\n",
    "colors = sns.color_palette('pastel')[0:4]\n",
    "\n",
    "plt.pie(data, labels = labels, colors = colors, autopct='%.2f%%',normalize=False)\n",
    "plt.title('Offer effectiveness for customers on fidelity level 2 (Between 29/07/2014 and 28/07/2015 )', fontsize = 14)\n",
    "plt.show()"
   ]
  },
  {
   "cell_type": "code",
   "execution_count": null,
   "id": "f23dc024",
   "metadata": {},
   "outputs": [],
   "source": [
    "# Range 2 BOGO:\n",
    "all_bogo = df[(df['offer_id'].isin(bogo_offers)) & (df['fidelity'] == 2)]\n",
    "n_bogo = all_bogo.shape[0]\n",
    "all_bogo1 = all_bogo[all_bogo['send_offer'] == 1]\n",
    "n_bogo1 = all_bogo1.shape[0]\n",
    "bogo_comp = n_bogo1 / n_bogo\n",
    "\n",
    "# Range 2 discount:\n",
    "all_disc = df[(df['offer_id'].isin(disc_offers)) & (df['fidelity'] == 2)]\n",
    "n_disc = all_disc.shape[0]\n",
    "all_disc1 = all_disc[all_disc['send_offer'] == 1]\n",
    "n_disc1 = all_disc1.shape[0]\n",
    "disc_comp = n_disc1 / n_disc\n",
    "\n",
    "# Range 2 Informational:\n",
    "all_inf = df[(df['offer_id'].isin(inf_offers)) & (df['fidelity'] == 2)]\n",
    "n_inf = all_inf.shape[0]\n",
    "all_inf1 = all_inf[all_inf['send_offer'] == 1]\n",
    "n_inf1 = all_inf1.shape[0]\n",
    "inf_comp = n_inf1 / n_inf\n",
    "\n",
    "# Data Visualization:\n",
    "sns.set_theme(style=\"whitegrid\")\n",
    "\n",
    "y = [bogo_comp, inf_comp, disc_comp]\n",
    "x = ['BOGO', 'Informational', 'Discount']\n",
    "colors = sns.color_palette('pastel')[0:4]\n",
    "\n",
    "sns.barplot(x=x, y=y, palette=colors)\n",
    "plt.ylabel('Completion Rates')\n",
    "plt.title('Level 2 Fidelity Offer Completion for Each Offer Type', fontsize = 14)\n",
    "plt.xlabel('Type of Offer')\n",
    "\n",
    "for i,y in enumerate(y):\n",
    "    plt.text(i, y/2, f'{round(y*100,1)}%', ha = 'center')"
   ]
  },
  {
   "cell_type": "code",
   "execution_count": null,
   "id": "3dc3a986",
   "metadata": {},
   "outputs": [],
   "source": [
    "# Effectiveness of offer types divided by fidelity:\n",
    "# Level 3:\n",
    "yes_f3 = df[(df['fidelity'] == 3) & (df['send_offer'] == 1)]\n",
    "n_f3 = yes_f3.shape[0]\n",
    "\n",
    "# BOGO offers\n",
    "bogo_f3_perc = yes_f3[yes_f3['offer_id'].isin(bogo_offers)].shape[0]/n_f3\n",
    "\n",
    "# Informational offers:\n",
    "inf_f3_perc = yes_f3[yes_f3['offer_id'].isin(inf_offers)].shape[0]/n_f3\n",
    "\n",
    "# Discount offers:\n",
    "disc_f3_perc = yes_f3[yes_f3['offer_id'].isin(disc_offers)].shape[0]/n_f3\n",
    "\n",
    "print(f'Out of all completed offers: {100*round(bogo_f3_perc,2)}% are BOGO offers, \\\n",
    "{100*round(inf_f3_perc,2)}% are informational offers and {100*round(disc_f3_perc,2)}% are discount offers.')\n",
    "\n",
    "# Plotting pie chart:\n",
    "\n",
    "data = [bogo_f3_perc, inf_f3_perc, disc_f3_perc]\n",
    "labels = ['BOGO offers', 'Informational offers', 'Discount offers']\n",
    "colors = sns.color_palette('pastel')[0:4]\n",
    "\n",
    "plt.pie(data, labels = labels, colors = colors, autopct='%.2f%%',normalize=False)\n",
    "plt.title('Offer effectiveness for customers on fidelity level 3 (Between 29/07/2015 and 28/07/2016 )', fontsize = 14)\n",
    "plt.show()"
   ]
  },
  {
   "cell_type": "code",
   "execution_count": null,
   "id": "9c9b4d2f",
   "metadata": {},
   "outputs": [],
   "source": [
    "# Range 3 BOGO:\n",
    "all_bogo = df[(df['offer_id'].isin(bogo_offers)) & (df['fidelity'] == 3)]\n",
    "n_bogo = all_bogo.shape[0]\n",
    "all_bogo1 = all_bogo[all_bogo['send_offer'] == 1]\n",
    "n_bogo1 = all_bogo1.shape[0]\n",
    "bogo_comp = n_bogo1 / n_bogo\n",
    "\n",
    "# Range 3 discount:\n",
    "all_disc = df[(df['offer_id'].isin(disc_offers)) & (df['fidelity'] == 3)]\n",
    "n_disc = all_disc.shape[0]\n",
    "all_disc1 = all_disc[all_disc['send_offer'] == 1]\n",
    "n_disc1 = all_disc1.shape[0]\n",
    "disc_comp = n_disc1 / n_disc\n",
    "\n",
    "# Range 3 Informational:\n",
    "all_inf = df[(df['offer_id'].isin(inf_offers)) & (df['fidelity'] == 3)]\n",
    "n_inf = all_inf.shape[0]\n",
    "all_inf1 = all_inf[all_inf['send_offer'] == 1]\n",
    "n_inf1 = all_inf1.shape[0]\n",
    "inf_comp = n_inf1 / n_inf\n",
    "\n",
    "# Data Visualization:\n",
    "sns.set_theme(style=\"whitegrid\")\n",
    "\n",
    "y = [bogo_comp, inf_comp, disc_comp]\n",
    "x = ['BOGO', 'Informational', 'Discount']\n",
    "colors = sns.color_palette('pastel')[0:4]\n",
    "\n",
    "sns.barplot(x=x, y=y, palette=colors)\n",
    "plt.ylabel('Completion Rates')\n",
    "plt.title('Level 3 Fidelity Offer Completion for Each Offer Type', fontsize = 14)\n",
    "plt.xlabel('Type of Offer')\n",
    "\n",
    "for i,y in enumerate(y):\n",
    "    plt.text(i, y/2, f'{round(y*100,1)}%', ha = 'center')"
   ]
  },
  {
   "cell_type": "code",
   "execution_count": null,
   "id": "7340a794",
   "metadata": {},
   "outputs": [],
   "source": [
    "# Effectiveness of offer types divided by fidelity:\n",
    "# Level 4:\n",
    "yes_f4 = df[(df['fidelity'] == 4) & (df['send_offer'] == 1)]\n",
    "n_f4 = yes_f4.shape[0]\n",
    "\n",
    "# BOGO offers\n",
    "bogo_f4_perc = yes_f4[yes_f4['offer_id'].isin(bogo_offers)].shape[0]/n_f4\n",
    "\n",
    "# Informational offers:\n",
    "inf_f4_perc = yes_f4[yes_f4['offer_id'].isin(inf_offers)].shape[0]/n_f4\n",
    "\n",
    "# Discount offers:\n",
    "disc_f4_perc = yes_f4[yes_f4['offer_id'].isin(disc_offers)].shape[0]/n_f4\n",
    "\n",
    "print(f'Out of all completed offers: {100*round(bogo_f4_perc,2)}% are BOGO offers, \\\n",
    "{100*round(inf_f4_perc,2)}% are informational offers and {100*round(disc_f4_perc,2)}% are discount offers.')\n",
    "\n",
    "# Plotting pie chart:\n",
    "\n",
    "data = [bogo_f4_perc, inf_f4_perc, disc_f4_perc]\n",
    "labels = ['BOGO offers', 'Informational offers', 'Discount offers']\n",
    "colors = sns.color_palette('pastel')[0:4]\n",
    "\n",
    "plt.pie(data, labels = labels, colors = colors, autopct='%.2f%%',normalize=False)\n",
    "plt.title('Offer effectiveness for customers on fidelity level 4 (Between 29/07/2016 and 28/07/2017)', fontsize = 14)\n",
    "plt.show()"
   ]
  },
  {
   "cell_type": "code",
   "execution_count": null,
   "id": "b385c377",
   "metadata": {},
   "outputs": [],
   "source": [
    "# Range 4 BOGO:\n",
    "all_bogo = df[(df['offer_id'].isin(bogo_offers)) & (df['fidelity'] == 4)]\n",
    "n_bogo = all_bogo.shape[0]\n",
    "all_bogo1 = all_bogo[all_bogo['send_offer'] == 1]\n",
    "n_bogo1 = all_bogo1.shape[0]\n",
    "bogo_comp = n_bogo1 / n_bogo\n",
    "\n",
    "# Range 4 discount:\n",
    "all_disc = df[(df['offer_id'].isin(disc_offers)) & (df['fidelity'] == 4)]\n",
    "n_disc = all_disc.shape[0]\n",
    "all_disc1 = all_disc[all_disc['send_offer'] == 1]\n",
    "n_disc1 = all_disc1.shape[0]\n",
    "disc_comp = n_disc1 / n_disc\n",
    "\n",
    "# Range 4 Informational:\n",
    "all_inf = df[(df['offer_id'].isin(inf_offers)) & (df['fidelity'] == 4)]\n",
    "n_inf = all_inf.shape[0]\n",
    "all_inf1 = all_inf[all_inf['send_offer'] == 1]\n",
    "n_inf1 = all_inf1.shape[0]\n",
    "inf_comp = n_inf1 / n_inf\n",
    "\n",
    "# Data Visualization:\n",
    "sns.set_theme(style=\"whitegrid\")\n",
    "\n",
    "y = [bogo_comp, inf_comp, disc_comp]\n",
    "x = ['BOGO', 'Informational', 'Discount']\n",
    "colors = sns.color_palette('pastel')[0:4]\n",
    "\n",
    "sns.barplot(x=x, y=y, palette=colors)\n",
    "plt.ylabel('Completion Rates')\n",
    "plt.title('Level 4 Fidelity Offer Completion for Each Offer Type', fontsize = 14)\n",
    "plt.xlabel('Type of Offer')\n",
    "\n",
    "for i,y in enumerate(y):\n",
    "    plt.text(i, y/2, f'{round(y*100,1)}%', ha = 'center')"
   ]
  },
  {
   "cell_type": "code",
   "execution_count": null,
   "id": "947cdca4",
   "metadata": {},
   "outputs": [],
   "source": [
    "# Effectiveness of offer types divided by fidelity:\n",
    "# Level 5:\n",
    "yes_f5 = df[(df['fidelity'] == 5) & (df['send_offer'] == 1)]\n",
    "n_f5 = yes_f5.shape[0]\n",
    "\n",
    "# BOGO offers\n",
    "bogo_f5_perc = yes_f5[yes_f5['offer_id'].isin(bogo_offers)].shape[0]/n_f5\n",
    "\n",
    "# Informational offers:\n",
    "inf_f5_perc = yes_f5[yes_f5['offer_id'].isin(inf_offers)].shape[0]/n_f5\n",
    "\n",
    "# Discount offers:\n",
    "disc_f5_perc = yes_f5[yes_f5['offer_id'].isin(disc_offers)].shape[0]/n_f5\n",
    "\n",
    "print(f'Out of all completed offers: {100*round(bogo_f5_perc,2)}% are BOGO offers, \\\n",
    "{100*round(inf_f5_perc,2)}% are informational offers and {100*round(disc_f5_perc,2)}% are discount offers.')\n",
    "\n",
    "# Plotting pie chart:\n",
    "\n",
    "data = [bogo_f5_perc, inf_f5_perc, disc_f5_perc]\n",
    "labels = ['BOGO offers', 'Informational offers', 'Discount offers']\n",
    "colors = sns.color_palette('pastel')[0:4]\n",
    "\n",
    "plt.pie(data, labels = labels, colors = colors, autopct='%.2f%%',normalize=False)\n",
    "plt.title('Offer effectiveness for customers on fidelity level 5 (Between 29/07/2017 and 26/07/2018)', fontsize = 14)\n",
    "plt.show()"
   ]
  },
  {
   "cell_type": "code",
   "execution_count": null,
   "id": "f6455b11",
   "metadata": {},
   "outputs": [],
   "source": [
    "# Range 5 BOGO:\n",
    "all_bogo = df[(df['offer_id'].isin(bogo_offers)) & (df['fidelity'] == 5)]\n",
    "n_bogo = all_bogo.shape[0]\n",
    "all_bogo1 = all_bogo[all_bogo['send_offer'] == 1]\n",
    "n_bogo1 = all_bogo1.shape[0]\n",
    "bogo_comp = n_bogo1 / n_bogo\n",
    "\n",
    "# Range 5 discount:\n",
    "all_disc = df[(df['offer_id'].isin(disc_offers)) & (df['fidelity'] == 5)]\n",
    "n_disc = all_disc.shape[0]\n",
    "all_disc1 = all_disc[all_disc['send_offer'] == 1]\n",
    "n_disc1 = all_disc1.shape[0]\n",
    "disc_comp = n_disc1 / n_disc\n",
    "\n",
    "# Range 5 Informational:\n",
    "all_inf = df[(df['offer_id'].isin(inf_offers)) & (df['fidelity'] == 5)]\n",
    "n_inf = all_inf.shape[0]\n",
    "all_inf1 = all_inf[all_inf['send_offer'] == 1]\n",
    "n_inf1 = all_inf1.shape[0]\n",
    "inf_comp = n_inf1 / n_inf\n",
    "\n",
    "# Data Visualization:\n",
    "sns.set_theme(style=\"whitegrid\")\n",
    "\n",
    "y = [bogo_comp, inf_comp, disc_comp]\n",
    "x = ['BOGO', 'Informational', 'Discount']\n",
    "colors = sns.color_palette('pastel')[0:4]\n",
    "\n",
    "sns.barplot(x=x, y=y, palette=colors)\n",
    "plt.ylabel('Completion Rates')\n",
    "plt.title('Level 5 Fidelity Offer Completion for Each Offer Type', fontsize = 14)\n",
    "plt.xlabel('Type of Offer')\n",
    "\n",
    "for i,y in enumerate(y):\n",
    "    plt.text(i, y/2, f'{round(y*100,1)}%', ha = 'center')"
   ]
  },
  {
   "cell_type": "markdown",
   "id": "6e87a0a5",
   "metadata": {},
   "source": [
    "## 3.3. Finding the best algorithm\n",
    "\n",
    "In this section, we will apply a number of supervised ML algorithms and check their performance for the desired results."
   ]
  },
  {
   "cell_type": "markdown",
   "id": "4d6fe521",
   "metadata": {},
   "source": [
    "### 3.3.1 Method\n",
    "\n",
    "**Method Description**\n",
    "\n",
    "The method to optimize the prediction model will be the utilization and evaluation of different classification methods on the sklearn library. Upon arrival at the methods with best results, the optimization of hyperparameters will be performed using GridSearchCV and a new evaluation phase will be carried.\n",
    "\n",
    "The selected initial methods for classification are:\n",
    "\n",
    "- LinearSVC\n",
    "- SVC\n",
    "- NuSVC\n",
    "- K-Neighbors\n",
    "- Random Forest\n",
    "- AdaBoost\n",
    "- Gradient Boosting\n",
    "- Decision Tree Classifier\n",
    "\n",
    "The variety of employed methods is explained by the exploratory nature of this project, where the main objective is to be familiarized with how each algorithm responds to classification problems like this.\n",
    "\n",
    "**Performance Metrics**\n",
    "\n",
    "The most common metrics for classification models are:\n",
    "\n",
    "- Accuracy\n",
    "- Precision and Recall\n",
    "- F1-score\n",
    "- AU-ROC\n",
    "\n",
    "For this project, accuracy and AU-ROC will be the main measures of performance, while precision will serve as a secondary/tie-breaker metric.\n",
    "\n",
    "_Explain the metrics on the blog._"
   ]
  },
  {
   "cell_type": "code",
   "execution_count": null,
   "id": "e36e7a19",
   "metadata": {},
   "outputs": [],
   "source": [
    "# Importing necessary libraries:\n",
    "\n",
    "import time\n",
    "\n",
    "from sklearn.model_selection import train_test_split, GridSearchCV\n",
    "from sklearn.metrics import confusion_matrix, precision_recall_fscore_support, accuracy_score, classification_report, roc_auc_score, precision_score\n",
    "from sklearn.metrics import ConfusionMatrixDisplay\n",
    "from sklearn.pipeline import Pipeline, FeatureUnion\n",
    "from sklearn.linear_model import LogisticRegression, Perceptron, PassiveAggressiveClassifier, LogisticRegressionCV\n",
    "from sklearn.svm import LinearSVC, SVC, NuSVC\n",
    "from sklearn.neighbors import KNeighborsClassifier\n",
    "from sklearn.ensemble import RandomForestClassifier, AdaBoostClassifier, GradientBoostingClassifier, BaggingClassifier\n",
    "from sklearn.tree import DecisionTreeClassifier, ExtraTreeClassifier\n"
   ]
  },
  {
   "cell_type": "code",
   "execution_count": null,
   "id": "90063ebd",
   "metadata": {},
   "outputs": [],
   "source": [
    "def display_results(y_test, y_pred):\n",
    "    '''\n",
    "    Description:\n",
    "        Function to display results of a classification model.\n",
    "    INPUT:\n",
    "        - y_test: True values for predictions for the data.\n",
    "        - y_pred: Predicted values for the data.\n",
    "    '''\n",
    "    labels = np.unique(y_pred)\n",
    "    confusion_mat = confusion_matrix(y_test, y_pred, labels=labels)\n",
    "    disp = ConfusionMatrixDisplay(confusion_matrix=confusion_mat, display_labels=labels)\n",
    "    accuracy = accuracy_score(y_test, y_pred)\n",
    "    au_roc = roc_auc_score(y_test, y_pred, average='macro')\n",
    "\n",
    "    print(\"Labels:\", labels)  \n",
    "    disp.plot()\n",
    "    print(\"Accuracy:\", accuracy)\n",
    "    print(\"AU-ROC:\", au_roc)\n",
    "    print(classification_report(y_test, y_pred))\n",
    "#     print(\"Confusion Matrix:\")"
   ]
  },
  {
   "cell_type": "code",
   "execution_count": null,
   "id": "40634e7f",
   "metadata": {},
   "outputs": [],
   "source": [
    "# Separation of input dataframe and output vector from ml_input:\n",
    "X = ml_input[['offer_id','age_range','income_range','M','F','O','fidelity']]\n",
    "y = ml_input.send_offer"
   ]
  },
  {
   "cell_type": "code",
   "execution_count": null,
   "id": "2c71d208",
   "metadata": {},
   "outputs": [],
   "source": [
    "X_train, X_test, y_train, y_test = train_test_split(X, y, test_size=0.2, random_state=42)"
   ]
  },
  {
   "cell_type": "code",
   "execution_count": null,
   "id": "7217cad1",
   "metadata": {},
   "outputs": [],
   "source": [
    "X_train.head()"
   ]
  },
  {
   "cell_type": "markdown",
   "id": "b42c3e62",
   "metadata": {},
   "source": [
    "**Method Testing**"
   ]
  },
  {
   "cell_type": "code",
   "execution_count": null,
   "id": "862e2fe7",
   "metadata": {},
   "outputs": [],
   "source": [
    "# Creation of records dictionaries:\n",
    "cols = defaultdict(list)"
   ]
  },
  {
   "cell_type": "code",
   "execution_count": null,
   "id": "531ff6ab",
   "metadata": {},
   "outputs": [],
   "source": [
    "# Testing for Logistic Regression:\n",
    "print('Logistic Regression')\n",
    "\n",
    "start = time.time()\n",
    "\n",
    "model_lrg = LogisticRegression()\n",
    "model_lrg.fit(X_train, y_train)\n",
    "y_pred_lrg = model_lrg.predict(X_test)\n",
    "display_results(y_test, y_pred_lrg)\n",
    "\n",
    "end = time.time()\n",
    "\n",
    "print('Time elapsed:',end - start,'s')\n",
    "\n",
    "cols['method'].append('Logistic Regression')\n",
    "cols['accuracy'].append(accuracy_score(y_test,y_pred_lrg))\n",
    "cols['auroc'].append(roc_auc_score(y_test, y_pred_lrg, average='macro'))\n",
    "cols['precision'].append(precision_score(y_test, y_pred_lrg, average='macro'))"
   ]
  },
  {
   "cell_type": "code",
   "execution_count": null,
   "id": "be54d7a1",
   "metadata": {},
   "outputs": [],
   "source": [
    "# Testing for Perceptron:\n",
    "print('Perceptron')\n",
    "\n",
    "start = time.time()\n",
    "\n",
    "model_per = Perceptron()\n",
    "model_per.fit(X_train, y_train)\n",
    "y_pred_per = model_per.predict(X_test)\n",
    "display_results(y_test, y_pred_per)\n",
    "\n",
    "end = time.time()\n",
    "\n",
    "print('Time elapsed:',end - start,'s')\n",
    "\n",
    "cols['method'].append('Perceptron')\n",
    "cols['accuracy'].append(accuracy_score(y_test,y_pred_per))\n",
    "cols['auroc'].append(roc_auc_score(y_test, y_pred_per, average='macro'))\n",
    "cols['precision'].append(precision_score(y_test, y_pred_per, average='macro'))"
   ]
  },
  {
   "cell_type": "code",
   "execution_count": null,
   "id": "94d77c90",
   "metadata": {},
   "outputs": [],
   "source": [
    "# Testing for Passive Aggressive Classifier:\n",
    "print('Passive Aggressive Classifier')\n",
    "\n",
    "start = time.time()\n",
    "\n",
    "model_pac = PassiveAggressiveClassifier()\n",
    "model_pac.fit(X_train, y_train)\n",
    "y_pred_pac = model_pac.predict(X_test)\n",
    "display_results(y_test, y_pred_pac)\n",
    "\n",
    "end = time.time()\n",
    "\n",
    "print('Time elapsed:',end - start,'s')\n",
    "\n",
    "cols['method'].append('Passive Agressive')\n",
    "cols['accuracy'].append(accuracy_score(y_test,y_pred_pac))\n",
    "cols['auroc'].append(roc_auc_score(y_test, y_pred_pac, average='macro'))\n",
    "cols['precision'].append(precision_score(y_test, y_pred_pac, average='macro'))"
   ]
  },
  {
   "cell_type": "code",
   "execution_count": null,
   "id": "10c93ccc",
   "metadata": {},
   "outputs": [],
   "source": [
    "# Testing for Logistic RegressionCV:\n",
    "print('Logistic RegressionCV')\n",
    "\n",
    "start = time.time()\n",
    "\n",
    "model_lrcv = LogisticRegressionCV()\n",
    "model_lrcv.fit(X_train, y_train)\n",
    "y_pred_lrcv = model_lrcv.predict(X_test)\n",
    "display_results(y_test, y_pred_lrcv)\n",
    "\n",
    "end = time.time()\n",
    "\n",
    "print('Time elapsed:',end - start,'s')\n",
    "\n",
    "cols['method'].append('Logistic Regression CV')\n",
    "cols['accuracy'].append(accuracy_score(y_test,y_pred_lrcv))\n",
    "cols['auroc'].append(roc_auc_score(y_test, y_pred_lrcv, average='macro'))\n",
    "cols['precision'].append(precision_score(y_test, y_pred_lrcv, average='macro'))"
   ]
  },
  {
   "cell_type": "code",
   "execution_count": null,
   "id": "8c1c5869",
   "metadata": {},
   "outputs": [],
   "source": [
    "# Testing for Linear SVC:\n",
    "print('Linear SVC')\n",
    "\n",
    "start = time.time()\n",
    "\n",
    "model_lsvc = LinearSVC()\n",
    "model_lsvc.fit(X_train, y_train)\n",
    "y_pred_lsvc = model_lsvc.predict(X_test)\n",
    "display_results(y_test, y_pred_lsvc)\n",
    "\n",
    "end = time.time()\n",
    "\n",
    "print('Time elapsed:',end - start,'s')\n",
    "\n",
    "cols['method'].append('Linear SVC')\n",
    "cols['accuracy'].append(accuracy_score(y_test,y_pred_lsvc))\n",
    "cols['auroc'].append(roc_auc_score(y_test, y_pred_lsvc, average='macro'))\n",
    "cols['precision'].append(precision_score(y_test, y_pred_lsvc, average='macro'))"
   ]
  },
  {
   "cell_type": "code",
   "execution_count": null,
   "id": "e6f5f9ab",
   "metadata": {},
   "outputs": [],
   "source": [
    "# Testing for SVC:\n",
    "print('SVC')\n",
    "\n",
    "start = time.time()\n",
    "\n",
    "model_svc = SVC()\n",
    "model_svc.fit(X_train, y_train)\n",
    "y_pred_svc = model_svc.predict(X_test)\n",
    "display_results(y_test, y_pred_svc)\n",
    "\n",
    "end = time.time()\n",
    "\n",
    "print('Time elapsed:',end - start,'s')\n",
    "\n",
    "cols['method'].append('SVC')\n",
    "cols['accuracy'].append(accuracy_score(y_test,y_pred_svc))\n",
    "cols['auroc'].append(roc_auc_score(y_test, y_pred_svc, average='macro'))\n",
    "cols['precision'].append(precision_score(y_test, y_pred_svc, average='macro'))"
   ]
  },
  {
   "cell_type": "code",
   "execution_count": null,
   "id": "ece9a908",
   "metadata": {},
   "outputs": [],
   "source": [
    "# Testing for NuSVC:\n",
    "print('NuSVC')\n",
    "\n",
    "start = time.time()\n",
    "\n",
    "model_nusvc = NuSVC()\n",
    "model_nusvc.fit(X_train, y_train)\n",
    "y_pred_nusvc = model_nusvc.predict(X_test)\n",
    "display_results(y_test, y_pred_nusvc)\n",
    "\n",
    "end = time.time()\n",
    "\n",
    "print('Time elapsed:',end - start,'s')\n",
    "\n",
    "cols['method'].append('NuSVC')\n",
    "cols['accuracy'].append(accuracy_score(y_test,y_pred_nusvc))\n",
    "cols['auroc'].append(roc_auc_score(y_test, y_pred_nusvc, average='macro'))\n",
    "cols['precision'].append(precision_score(y_test, y_pred_nusvc, average='macro'))"
   ]
  },
  {
   "cell_type": "code",
   "execution_count": null,
   "id": "cda5e203",
   "metadata": {},
   "outputs": [],
   "source": [
    "# Testing for K-Neighbors Classifier:\n",
    "print('K-Neighbors')\n",
    "\n",
    "start = time.time()\n",
    "\n",
    "model_knc = KNeighborsClassifier()\n",
    "model_knc.fit(X_train, y_train)\n",
    "y_pred_knc = model_knc.predict(X_test)\n",
    "display_results(y_test, y_pred_knc)\n",
    "\n",
    "end = time.time()\n",
    "\n",
    "print('Time elapsed:',end - start,'s')\n",
    "\n",
    "cols['method'].append('K-Neighbors')\n",
    "cols['accuracy'].append(accuracy_score(y_test,y_pred_knc))\n",
    "cols['auroc'].append(roc_auc_score(y_test, y_pred_knc, average='macro'))\n",
    "cols['precision'].append(precision_score(y_test, y_pred_knc, average='macro'))"
   ]
  },
  {
   "cell_type": "code",
   "execution_count": null,
   "id": "9d9c5d96",
   "metadata": {},
   "outputs": [],
   "source": [
    "# Testing for Random Forest Classifier:\n",
    "print('Random Forest')\n",
    "\n",
    "start = time.time()\n",
    "\n",
    "model_rfc = RandomForestClassifier()\n",
    "model_rfc.fit(X_train, y_train)\n",
    "y_pred_rfc = model_rfc.predict(X_test)\n",
    "display_results(y_test, y_pred_rfc)\n",
    "\n",
    "end = time.time()\n",
    "\n",
    "print('Time elapsed:',end - start,'s')\n",
    "\n",
    "cols['method'].append('Random Forest')\n",
    "cols['accuracy'].append(accuracy_score(y_test,y_pred_rfc))\n",
    "cols['auroc'].append(roc_auc_score(y_test, y_pred_rfc, average='macro'))\n",
    "cols['precision'].append(precision_score(y_test, y_pred_rfc, average='macro'))"
   ]
  },
  {
   "cell_type": "code",
   "execution_count": null,
   "id": "d8c883d8",
   "metadata": {},
   "outputs": [],
   "source": [
    "# Testing for AdaBoost:\n",
    "print('AdaBoost')\n",
    "\n",
    "start = time.time()\n",
    "\n",
    "model_ada = AdaBoostClassifier()\n",
    "model_ada.fit(X_train, y_train)\n",
    "y_pred_ada = model_ada.predict(X_test)\n",
    "display_results(y_test, y_pred_ada)\n",
    "\n",
    "end = time.time()\n",
    "\n",
    "print('Time elapsed:',end - start,'s')\n",
    "\n",
    "cols['method'].append('AdaBoost')\n",
    "cols['accuracy'].append(accuracy_score(y_test,y_pred_ada))\n",
    "cols['auroc'].append(roc_auc_score(y_test, y_pred_ada, average='macro'))\n",
    "cols['precision'].append(precision_score(y_test, y_pred_ada, average='macro'))"
   ]
  },
  {
   "cell_type": "code",
   "execution_count": null,
   "id": "450a1a81",
   "metadata": {},
   "outputs": [],
   "source": [
    "# Testing for Gradient Boosting:\n",
    "print('Gradient Boosting')\n",
    "\n",
    "start = time.time()\n",
    "\n",
    "model_gbc = GradientBoostingClassifier()\n",
    "model_gbc.fit(X_train, y_train)\n",
    "y_pred_gbc = model_gbc.predict(X_test)\n",
    "display_results(y_test, y_pred_gbc)\n",
    "\n",
    "end = time.time()\n",
    "\n",
    "print('Time elapsed:',end - start,'s')\n",
    "\n",
    "cols['method'].append('Gradient Boosting')\n",
    "cols['accuracy'].append(accuracy_score(y_test,y_pred_gbc))\n",
    "cols['auroc'].append(roc_auc_score(y_test, y_pred_gbc, average='macro'))\n",
    "cols['precision'].append(precision_score(y_test, y_pred_gbc, average='macro'))"
   ]
  },
  {
   "cell_type": "code",
   "execution_count": null,
   "id": "cde348c2",
   "metadata": {},
   "outputs": [],
   "source": [
    "# Testing for Bagging Classifier:\n",
    "print('Bagging Classifier')\n",
    "\n",
    "start = time.time()\n",
    "\n",
    "model_bag = BaggingClassifier()\n",
    "model_bag.fit(X_train, y_train)\n",
    "y_pred_bag = model_bag.predict(X_test)\n",
    "display_results(y_test, y_pred_bag)\n",
    "\n",
    "end = time.time()\n",
    "\n",
    "print('Time elapsed:',end - start,'s')\n",
    "\n",
    "cols['method'].append('Bagging')\n",
    "cols['accuracy'].append(accuracy_score(y_test,y_pred_bag))\n",
    "cols['auroc'].append(roc_auc_score(y_test, y_pred_bag, average='macro'))\n",
    "cols['precision'].append(precision_score(y_test, y_pred_bag, average='macro'))"
   ]
  },
  {
   "cell_type": "code",
   "execution_count": null,
   "id": "01d877b2",
   "metadata": {},
   "outputs": [],
   "source": [
    "# Testing for Decision Tree:\n",
    "print('Decision Tree')\n",
    "\n",
    "start = time.time()\n",
    "\n",
    "model_dtc = DecisionTreeClassifier()\n",
    "model_dtc.fit(X_train, y_train)\n",
    "y_pred_dtc = model_dtc.predict(X_test)\n",
    "display_results(y_test, y_pred_dtc)\n",
    "\n",
    "end = time.time()\n",
    "\n",
    "print('Time elapsed:',end - start,'s')\n",
    "\n",
    "cols['method'].append('Decision Trees')\n",
    "cols['accuracy'].append(accuracy_score(y_test,y_pred_dtc))\n",
    "cols['auroc'].append(roc_auc_score(y_test, y_pred_dtc, average='macro'))\n",
    "cols['precision'].append(precision_score(y_test, y_pred_dtc, average='macro'))"
   ]
  },
  {
   "cell_type": "code",
   "execution_count": null,
   "id": "d4de89f6",
   "metadata": {},
   "outputs": [],
   "source": [
    "# Testing for Extra Tree:\n",
    "print('Extra Tree')\n",
    "\n",
    "start = time.time()\n",
    "\n",
    "model_etc = ExtraTreeClassifier()\n",
    "model_etc.fit(X_train, y_train)\n",
    "y_pred_etc = model_etc.predict(X_test)\n",
    "display_results(y_test, y_pred_etc)\n",
    "\n",
    "end = time.time()\n",
    "\n",
    "print('Time elapsed:',end - start,'s')\n",
    "\n",
    "cols['method'].append('Extra Trees')\n",
    "cols['accuracy'].append(accuracy_score(y_test,y_pred_etc))\n",
    "cols['auroc'].append(roc_auc_score(y_test, y_pred_etc, average='macro'))\n",
    "cols['precision'].append(precision_score(y_test, y_pred_etc, average='macro'))"
   ]
  },
  {
   "cell_type": "code",
   "execution_count": null,
   "id": "ff0a175b",
   "metadata": {},
   "outputs": [],
   "source": [
    "cols"
   ]
  },
  {
   "cell_type": "code",
   "execution_count": null,
   "id": "4f96f997",
   "metadata": {},
   "outputs": [],
   "source": [
    "# Creation of metrics dataframe:\n",
    "metrics = pd.DataFrame(data=cols)"
   ]
  },
  {
   "cell_type": "code",
   "execution_count": null,
   "id": "e62c092b",
   "metadata": {},
   "outputs": [],
   "source": [
    "metrics.sort_values(by=['accuracy','auroc','precision'], ascending=False)"
   ]
  },
  {
   "cell_type": "markdown",
   "id": "d63c7287",
   "metadata": {},
   "source": [
    "Since many methods returned a value of AU-ROC of exactly 0.5, we can deduce that there is no difference between these methods and a constant value prediction. Therefore, as a filtering measure, we have decided to only compare methods where this metric was greater than 0.5."
   ]
  },
  {
   "cell_type": "code",
   "execution_count": null,
   "id": "424fece5",
   "metadata": {},
   "outputs": [],
   "source": [
    "metrics.sort_values(by=['accuracy','auroc','precision'], ascending=False)[metrics['precision'] > 0.5]"
   ]
  },
  {
   "cell_type": "code",
   "execution_count": null,
   "id": "d0b597c2",
   "metadata": {},
   "outputs": [],
   "source": [
    "%store cols"
   ]
  },
  {
   "cell_type": "markdown",
   "id": "f63ae820",
   "metadata": {},
   "source": [
    "From the dataframe visualization, it is clear that the best classifiers were Gradient Boosting, Bagging and Random Forest. Now, for the optimization process, we will use GridSearchCV to increase the parameter metrics through parameter tunning."
   ]
  },
  {
   "cell_type": "code",
   "execution_count": null,
   "id": "ea568609",
   "metadata": {},
   "outputs": [],
   "source": [
    "# Gradient Boosting method tuning:\n",
    "model_gbc.get_params()"
   ]
  },
  {
   "cell_type": "code",
   "execution_count": null,
   "id": "abdd965f",
   "metadata": {},
   "outputs": [],
   "source": [
    "# Testing for Gradient Boosting with Grid Search:\n",
    "print('Gradient Boosting GridSearch')\n",
    "\n",
    "start = time.time()\n",
    "\n",
    "gbc = GradientBoostingClassifier()\n",
    "parameters = {'learning_rate': [0.5, 0.2, 0.1],\n",
    "              'n_estimators': [100, 250, 500],\n",
    "              'max_depth': [3,5,7],\n",
    "              'min_samples_split': [2,4,6],              \n",
    "            }\n",
    "\n",
    "gbcgs = GridSearchCV(estimator=gbc, param_grid=parameters)\n",
    "gbcgs.fit(X_train, y_train)\n",
    "y_pred_gbcgs = gbcgs.predict(X_test)\n",
    "\n",
    "display_results(y_test, y_pred_gbcgs)\n",
    "\n",
    "end = time.time()\n",
    "\n",
    "print('Time elapsed:',end - start,'s')\n",
    "\n",
    "cols['method'].append('Gradient Boosting GridSearch')\n",
    "cols['accuracy'].append(accuracy_score(y_test,y_pred_gbcgs))\n",
    "cols['auroc'].append(roc_auc_score(y_test, y_pred_gbcgs, average='macro'))\n",
    "cols['precision'].append(precision_score(y_test, y_pred_gbcgs, average='macro'))"
   ]
  },
  {
   "cell_type": "code",
   "execution_count": null,
   "id": "de29d0a2",
   "metadata": {},
   "outputs": [],
   "source": [
    "metrics = pd.DataFrame(data=cols)\n",
    "metrics.sort_values(by='accuracy',ascending=False)"
   ]
  },
  {
   "cell_type": "code",
   "execution_count": null,
   "id": "684ef707",
   "metadata": {},
   "outputs": [],
   "source": [
    "# Decison Tree Classifier method tuning:\n",
    "model_dtc.get_params()"
   ]
  },
  {
   "cell_type": "code",
   "execution_count": null,
   "id": "0b9eed2b",
   "metadata": {},
   "outputs": [],
   "source": [
    "# Testing for Extra Decision Classifier with Grid Search:\n",
    "print('Decision Tree Classifier GridSearch')\n",
    "\n",
    "start = time.time()\n",
    "\n",
    "dtc = DecisionTreeClassifier()\n",
    "parameters = {'criterion': ['gini', 'entropy'],\n",
    "              'min_samples_leaf': [1,2],\n",
    "              'min_samples_split': [2, 3],\n",
    "              'splitter': ['random', 'best'],\n",
    "            }\n",
    "\n",
    "dtcgs = GridSearchCV(estimator=dtc, param_grid=parameters)\n",
    "dtcgs.fit(X_train, y_train)\n",
    "y_pred_dtcgs = dtcgs.predict(X_test)\n",
    "\n",
    "display_results(y_test, y_pred_etcgs)\n",
    "\n",
    "end = time.time()\n",
    "\n",
    "print('Time elapsed:',end - start,'s')\n",
    "\n",
    "cols['method'].append('Decision Tree Classifier GridSearch')\n",
    "cols['accuracy'].append(accuracy_score(y_test,y_pred_dtcgs))\n",
    "cols['auroc'].append(roc_auc_score(y_test, y_pred_dtcgs, average='macro'))\n",
    "cols['precision'].append(precision_score(y_test, y_pred_dtcgs, average='macro'))"
   ]
  },
  {
   "cell_type": "code",
   "execution_count": null,
   "id": "3d696aac",
   "metadata": {},
   "outputs": [],
   "source": [
    "# Random Forest method tuning:\n",
    "model_rfc.get_params()"
   ]
  },
  {
   "cell_type": "code",
   "execution_count": null,
   "id": "77c8f872",
   "metadata": {},
   "outputs": [],
   "source": [
    "# Testing for Random Forest Classifier with Grid Search:\n",
    "print('Random Forest GridSearch')\n",
    "\n",
    "start = time.time()\n",
    "\n",
    "rfc = RandomForestClassifier()\n",
    "parameters = {'n_estimators': [100, 200, 400],\n",
    "              'criterion': ['entropy', 'gini'],\n",
    "            }\n",
    "\n",
    "rfcgs = GridSearchCV(estimator=rfc, param_grid=parameters)\n",
    "rfcgs.fit(X_train, y_train)\n",
    "y_pred_rfcgs = rfcgs.predict(X_test)\n",
    "\n",
    "display_results(y_test, y_pred_rfcgs)\n",
    "\n",
    "end = time.time()\n",
    "\n",
    "print('Time elapsed:',end - start,'s')\n",
    "\n",
    "cols['method'].append('Random Forest GridSearch')\n",
    "cols['accuracy'].append(accuracy_score(y_test,y_pred_rfcgs))\n",
    "cols['auroc'].append(roc_auc_score(y_test, y_pred_rfcgs, average='macro'))\n",
    "cols['precision'].append(precision_score(y_test, y_pred_rfcgs, average='macro'))"
   ]
  },
  {
   "cell_type": "code",
   "execution_count": null,
   "id": "8cc9c8a7",
   "metadata": {},
   "outputs": [],
   "source": [
    "%store cols"
   ]
  },
  {
   "cell_type": "code",
   "execution_count": null,
   "id": "ef7bfb4a",
   "metadata": {},
   "outputs": [],
   "source": [
    "metrics = pd.DataFrame(data=cols)\n",
    "metrics.sort_values(by=['accuracy','auroc','precision'], ascending=False)[metrics['auroc'] > 0.5].head(8)"
   ]
  },
  {
   "cell_type": "code",
   "execution_count": null,
   "id": "b03fabde",
   "metadata": {},
   "outputs": [],
   "source": [
    "# Updating dataframe and removing possible duplicates:\n",
    "metrics = pd.DataFrame(data=cols)\n",
    "try:\n",
    "    metrics.drop_duplicates(inplace=True,subset='method')\n",
    "except:\n",
    "    pass"
   ]
  },
  {
   "cell_type": "code",
   "execution_count": null,
   "id": "6411663b",
   "metadata": {},
   "outputs": [],
   "source": [
    "# Displaying results:\n",
    "metrics.sort_values(by=['accuracy','auroc','precision'], ascending=False)[metrics['auroc'] > 0.5].head(8)"
   ]
  },
  {
   "cell_type": "markdown",
   "id": "3ee7675c",
   "metadata": {},
   "source": [
    "Selected method:\n",
    "**Gradient Boosting**"
   ]
  },
  {
   "cell_type": "code",
   "execution_count": null,
   "id": "c729e160",
   "metadata": {},
   "outputs": [],
   "source": [
    "# Presenting parameters:\n",
    "gbcgs.best_estimator_.get_params()"
   ]
  },
  {
   "cell_type": "code",
   "execution_count": null,
   "id": "41eec39d",
   "metadata": {},
   "outputs": [],
   "source": [
    "# Saving model to pickle file:\n",
    "filename = 'data/final_model.sav'\n",
    "pickle.dump(gbcgs, open(filename,'wb'))"
   ]
  },
  {
   "cell_type": "code",
   "execution_count": null,
   "id": "8281de84",
   "metadata": {},
   "outputs": [],
   "source": [
    "# Loading model in pickle file:\n",
    "filename = 'data/final_model.sav'\n",
    "gbcgs = pickle.load(open(filename, 'rb'))"
   ]
  },
  {
   "cell_type": "markdown",
   "id": "b4c6bd51",
   "metadata": {},
   "source": [
    "## 3.4. Application of ML Model\n",
    "\n",
    "In this subsection, we will finally apply the optimized model for preparing a function that receives the information of a customer and returns which offers we should send to this customer, if any."
   ]
  },
  {
   "cell_type": "markdown",
   "id": "185d2f95",
   "metadata": {},
   "source": [
    "If no customer information is provided, we will use the modes for the customers features (age, income and sex)."
   ]
  },
  {
   "cell_type": "code",
   "execution_count": null,
   "id": "6291e5d6",
   "metadata": {},
   "outputs": [],
   "source": [
    "# Getting mode values:\n",
    "mode_age = ml_input.age_range.mode()[0]\n",
    "mode_income = ml_input.income_range.mode()[0]\n",
    "mode_sex = ml_input[['M','F','O']].sum().sort_values(ascending=False).index[0]\n",
    "mode_fidelity =  ml_input.fidelity.mode()[0]\n"
   ]
  },
  {
   "cell_type": "code",
   "execution_count": null,
   "id": "89036eb3",
   "metadata": {},
   "outputs": [],
   "source": [
    "def recommend_offer(customer_age=mode_age, customer_income=mode_income, customer_sex=mode_sex,\\\n",
    "                    customer_fidelity=mode_fidelity, df=ml_input, model=gbcgs):\n",
    "    '''\n",
    "    Description:\n",
    "        - This function receives customer information and return which offers are most effective for this specific \n",
    "        customer.\n",
    "    Input:\n",
    "        - customer_age: (int) Customer age range, must be an integer.\n",
    "        - customer_income: (float) Customer income range, must be a float.\n",
    "        - customer_sex: (str) Customer sex, must be 'M'(male), 'F'(female) or 'O'(other).\n",
    "        - customer_fidelity: (int) Customer fidelity level.\n",
    "        - df: (pandas dataframe)dataframe with the information for the ML model training and testing.\n",
    "        - model: (Sklearn ML model) Machine Learning model to be used for prediction. \n",
    "    Output:\n",
    "        - offers: (array) A list of 10 itens of 0s (do not send offer) and 1s (send offer),\n",
    "            where each index corresponds to an offer_id as listen on the portfolio dataframe.\n",
    "    '''\n",
    "    \n",
    "    # Creating input dataframe:\n",
    "    df_input = pd.DataFrame(columns=['offer_id','age_range','income_range','M','F','O','fidelity'])\n",
    "    df_input.offer_id = np.sort(ml_input.offer_id.unique())\n",
    "    for i, offer_id in enumerate(np.sort(ml_input.offer_id.unique())):\n",
    "        df_input['age_range'].iloc[i] = customer_age\n",
    "        df_input['income_range'].iloc[i] = customer_income\n",
    "        df_input['fidelity'].iloc[i] = customer_fidelity\n",
    "        if customer_sex == 'M':\n",
    "            df_input['M'].iloc[i] = 1\n",
    "            df_input['F'].iloc[i] = 0\n",
    "            df_input['O'].iloc[i] = 0\n",
    "        if customer_sex == 'F':\n",
    "            df_input['M'].iloc[i] = 0\n",
    "            df_input['F'].iloc[i] = 1\n",
    "            df_input['O'].iloc[i] = 0\n",
    "        if customer_sex == 'O':\n",
    "            df_input['M'].iloc[i] = 0\n",
    "            df_input['F'].iloc[i] = 0\n",
    "            df_input['O'].iloc[i] = 1\n",
    "    \n",
    "    offers = model.predict(df_input)\n",
    "    \n",
    "    return offers\n",
    "\n",
    "test = recommend_offer(customer_age=2, customer_income=3, customer_sex='M',customer_fidelity=4)"
   ]
  },
  {
   "cell_type": "code",
   "execution_count": null,
   "id": "a6392002",
   "metadata": {},
   "outputs": [],
   "source": [
    "# Creating 'O' prediction dataframe:\n",
    "gender = ['O']\n",
    "n_age = profile.age_range.unique().shape[0]\n",
    "n_income = profile.income_range.unique().shape[0]\n",
    "n_fidelity = profile.fidelity.unique().shape[0]\n",
    "n_offer = portfolio.offer_id.unique().shape[0]\n",
    "n_rows = n_age * n_income * n_fidelity * n_offer\n",
    "i = 0\n",
    "\n",
    "offer_list = list(np.sort(portfolio.offer_id.unique()))\n",
    "offer_col = offer_list * int(n_rows / n_offer)\n",
    "gender_col = gender * int(n_rows)\n",
    "\n",
    "df_other = pd.DataFrame(columns=['offer_id','age_range','income_range','fidelity','gender','prediction'])\n",
    "df_other['offer_id'] = offer_col\n",
    "df_other['gender'] = gender_col\n",
    "\n",
    "for age in np.sort(profile.age_range.unique()):\n",
    "    for income in np.sort(profile.income_range.unique()):\n",
    "        for fidelity in np.sort(profile.fidelity.unique()):\n",
    "\n",
    "            ages = list()\n",
    "            ages.append(age)\n",
    "            ages = ages * n_offer\n",
    "            \n",
    "            incomes = list()\n",
    "            incomes.append(income)\n",
    "            incomes = incomes * n_offer\n",
    "            \n",
    "            fidelities = list()\n",
    "            fidelities.append(fidelity)\n",
    "            fidelities = fidelities * n_offer\n",
    "\n",
    "            recommendations = recommend_offer(customer_age=age, customer_income=income, customer_sex=gender[0],customer_fidelity=fidelity)\n",
    "\n",
    "            df_other['age_range'].iloc[i:i+10] = ages\n",
    "            df_other['income_range'].iloc[i:i+10] = incomes\n",
    "            df_other['fidelity'].iloc[i:i+10] = fidelities\n",
    "            df_other['prediction'].iloc[i:i+10] = recommendations\n",
    "\n",
    "            i += 10\n",
    "            "
   ]
  },
  {
   "cell_type": "code",
   "execution_count": null,
   "id": "032cc672",
   "metadata": {},
   "outputs": [],
   "source": [
    "# Creating 'F' prediction dataframe:\n",
    "gender = ['F']\n",
    "n_age = profile.age_range.unique().shape[0]\n",
    "n_income = profile.income_range.unique().shape[0]\n",
    "n_fidelity = profile.fidelity.unique().shape[0]\n",
    "n_offer = portfolio.offer_id.unique().shape[0]\n",
    "n_rows = n_age * n_income * n_fidelity * n_offer\n",
    "i = 0\n",
    "\n",
    "offer_list = list(np.sort(portfolio.offer_id.unique()))\n",
    "offer_col = offer_list * int(n_rows / n_offer)\n",
    "gender_col = gender * int(n_rows)\n",
    "\n",
    "df_fem = pd.DataFrame(columns=['offer_id','age_range','income_range','fidelity','gender','prediction'])\n",
    "df_fem['offer_id'] = offer_col\n",
    "df_fem['gender'] = gender_col\n",
    "\n",
    "for age in np.sort(profile.age_range.unique()):\n",
    "    for income in np.sort(profile.income_range.unique()):\n",
    "        for fidelity in np.sort(profile.fidelity.unique()):\n",
    "\n",
    "            ages = list()\n",
    "            ages.append(age)\n",
    "            ages = ages * n_offer\n",
    "            \n",
    "            incomes = list()\n",
    "            incomes.append(income)\n",
    "            incomes = incomes * n_offer\n",
    "            \n",
    "            fidelities = list()\n",
    "            fidelities.append(fidelity)\n",
    "            fidelities = fidelities * n_offer\n",
    "\n",
    "            recommendations = recommend_offer(customer_age=age, customer_income=income, customer_sex=gender[0],customer_fidelity=fidelity)\n",
    "\n",
    "            df_fem['age_range'].iloc[i:i+10] = ages\n",
    "            df_fem['income_range'].iloc[i:i+10] = incomes\n",
    "            df_fem['fidelity'].iloc[i:i+10] = fidelities\n",
    "            df_fem['prediction'].iloc[i:i+10] = recommendations\n",
    "\n",
    "            i += 10\n",
    "            "
   ]
  },
  {
   "cell_type": "code",
   "execution_count": null,
   "id": "7107686a",
   "metadata": {},
   "outputs": [],
   "source": [
    "# Creating 'M' prediction dataframe:\n",
    "gender = ['M']\n",
    "n_age = profile.age_range.unique().shape[0]\n",
    "n_income = profile.income_range.unique().shape[0]\n",
    "n_fidelity = profile.fidelity.unique().shape[0]\n",
    "n_offer = portfolio.offer_id.unique().shape[0]\n",
    "n_rows = n_age * n_income * n_fidelity * n_offer\n",
    "i = 0\n",
    "\n",
    "offer_list = list(np.sort(portfolio.offer_id.unique()))\n",
    "offer_col = offer_list * int(n_rows / n_offer)\n",
    "gender_col = gender * int(n_rows)\n",
    "\n",
    "df_male = pd.DataFrame(columns=['offer_id','age_range','income_range','fidelity','gender','prediction'])\n",
    "df_male['offer_id'] = offer_col\n",
    "df_male['gender'] = gender_col\n",
    "\n",
    "for age in np.sort(profile.age_range.unique()):\n",
    "    for income in np.sort(profile.income_range.unique()):\n",
    "        for fidelity in np.sort(profile.fidelity.unique()):\n",
    "\n",
    "            ages = list()\n",
    "            ages.append(age)\n",
    "            ages = ages * n_offer\n",
    "            \n",
    "            incomes = list()\n",
    "            incomes.append(income)\n",
    "            incomes = incomes * n_offer\n",
    "            \n",
    "            fidelities = list()\n",
    "            fidelities.append(fidelity)\n",
    "            fidelities = fidelities * n_offer\n",
    "\n",
    "            recommendations = recommend_offer(customer_age=age, customer_income=income, customer_sex=gender[0],customer_fidelity=fidelity)\n",
    "\n",
    "            df_male['age_range'].iloc[i:i+10] = ages\n",
    "            df_male['income_range'].iloc[i:i+10] = incomes\n",
    "            df_male['fidelity'].iloc[i:i+10] = fidelities\n",
    "            df_male['prediction'].iloc[i:i+10] = recommendations\n",
    "\n",
    "            i += 10\n",
    "            "
   ]
  },
  {
   "cell_type": "code",
   "execution_count": null,
   "id": "a129ae16",
   "metadata": {},
   "outputs": [],
   "source": [
    "#Checking dataframe\n",
    "df_male"
   ]
  },
  {
   "cell_type": "code",
   "execution_count": null,
   "id": "56753451",
   "metadata": {},
   "outputs": [],
   "source": [
    "#Checking dataframe\n",
    "df_fem"
   ]
  },
  {
   "cell_type": "code",
   "execution_count": null,
   "id": "ac5fa046",
   "metadata": {},
   "outputs": [],
   "source": [
    "#Checking dataframe\n",
    "df_other"
   ]
  },
  {
   "cell_type": "code",
   "execution_count": null,
   "id": "cb1ea270",
   "metadata": {},
   "outputs": [],
   "source": [
    "# Saving dataframes:\n",
    "\n",
    "df_other.to_csv('data/df_other_v0.csv')\n",
    "df_male.to_csv('data/df_male_v0.csv')\n",
    "df_fem.to_csv('data/df_fem_v0.csv')"
   ]
  },
  {
   "cell_type": "code",
   "execution_count": null,
   "id": "4349dcc7",
   "metadata": {},
   "outputs": [],
   "source": [
    "# Loading dataframes:\n",
    "df_other = pd.read_csv('data/df_other_v0.csv', index_col=0)\n",
    "df_fem = pd.read_csv('data/df_fem_v0.csv', index_col=0)\n",
    "df_male = pd.read_csv('data/df_male_V0.csv', index_col=0)"
   ]
  }
 ],
 "metadata": {
  "kernelspec": {
   "display_name": "Python 3 (ipykernel)",
   "language": "python",
   "name": "python3"
  },
  "language_info": {
   "codemirror_mode": {
    "name": "ipython",
    "version": 3
   },
   "file_extension": ".py",
   "mimetype": "text/x-python",
   "name": "python",
   "nbconvert_exporter": "python",
   "pygments_lexer": "ipython3",
   "version": "3.9.1"
  }
 },
 "nbformat": 4,
 "nbformat_minor": 5
}
